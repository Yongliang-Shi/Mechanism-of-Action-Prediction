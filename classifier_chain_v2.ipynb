{
 "cells": [
  {
   "cell_type": "code",
   "execution_count": 1,
   "metadata": {},
   "outputs": [],
   "source": [
    "import warnings\n",
    "warnings.filterwarnings(\"ignore\")\n",
    "\n",
    "import pandas as pd\n",
    "import numpy as np\n",
    "import matplotlib.pyplot as plt\n",
    "import seaborn as sns\n",
    "\n",
    "from sklearn.model_selection import train_test_split, KFold\n",
    "from sklearn.preprocessing import StandardScaler, MinMaxScaler\n",
    "\n",
    "from sklearn.multiclass import OneVsRestClassifier\n",
    "from sklearn.neural_network import MLPClassifier\n",
    "from sklearn.multioutput import ClassifierChain\n",
    "\n",
    "from sklearn.metrics import classification_report, confusion_matrix, jaccard_score, log_loss\n",
    "\n",
    "import prepare, model"
   ]
  },
  {
   "cell_type": "markdown",
   "metadata": {},
   "source": [
    "### Preprocess"
   ]
  },
  {
   "cell_type": "code",
   "execution_count": 2,
   "metadata": {},
   "outputs": [],
   "source": [
    "# Load train, target and test datasets\n",
    "\n",
    "X_train = pd.read_csv('train_features.csv', index_col=0)\n",
    "Y_train = pd.read_csv('train_targets_scored.csv', index_col=0)\n",
    "X_test = pd.read_csv('test_features.csv', index_col=0)"
   ]
  },
  {
   "cell_type": "code",
   "execution_count": 3,
   "metadata": {},
   "outputs": [
    {
     "data": {
      "text/plain": [
       "((23814, 875), (23814, 206), (3982, 875))"
      ]
     },
     "execution_count": 3,
     "metadata": {},
     "output_type": "execute_result"
    }
   ],
   "source": [
    "# Print their shapes\n",
    "X_train.shape, Y_train.shape, X_test.shape # Correct"
   ]
  },
  {
   "cell_type": "code",
   "execution_count": 4,
   "metadata": {},
   "outputs": [
    {
     "data": {
      "text/plain": [
       "(MinMaxScaler(), (17145, 876), (4287, 876), (2382, 876))"
      ]
     },
     "execution_count": 4,
     "metadata": {},
     "output_type": "execute_result"
    }
   ],
   "source": [
    "# Preprocess X_train to X_train_scaled, X_validate_scaled and X_test_scaled\n",
    "# encoding, splitting, and scaling\n",
    "\n",
    "scaler, X_train_scaled, X_validate_scaled, X_test_scaled = prepare.prep_moa_v2(X_train)\n",
    "\n",
    "# Print the shapes\n",
    "scaler, X_train_scaled.shape, X_validate_scaled.shape, X_test_scaled.shape"
   ]
  },
  {
   "cell_type": "code",
   "execution_count": 5,
   "metadata": {},
   "outputs": [],
   "source": [
    "# Preprocess Y_train to Y_train_scaled, Y_validate_scaled and Y_test_scaled\n",
    "# Y has not been scaled but just for matching X's names\n",
    "\n",
    "Y_train_scaled = Y_train.loc[X_train_scaled.index, :]\n",
    "Y_validate_scaled = Y_train.loc[X_validate_scaled.index, :]\n",
    "Y_test_scaled = Y_train.loc[X_test_scaled.index, :]"
   ]
  },
  {
   "cell_type": "code",
   "execution_count": 6,
   "metadata": {},
   "outputs": [
    {
     "data": {
      "text/plain": [
       "17145"
      ]
     },
     "execution_count": 6,
     "metadata": {},
     "output_type": "execute_result"
    }
   ],
   "source": [
    "# Check if index of Y matches index of X\n",
    "(X_train_scaled.index == Y_train_scaled.index).sum() # Match"
   ]
  },
  {
   "cell_type": "code",
   "execution_count": 7,
   "metadata": {},
   "outputs": [
    {
     "data": {
      "text/plain": [
       "4287"
      ]
     },
     "execution_count": 7,
     "metadata": {},
     "output_type": "execute_result"
    }
   ],
   "source": [
    "# Check if index of Y matches index of X\n",
    "(X_validate_scaled.index == Y_validate_scaled.index).sum() # Match"
   ]
  },
  {
   "cell_type": "code",
   "execution_count": 8,
   "metadata": {},
   "outputs": [
    {
     "data": {
      "text/plain": [
       "2382"
      ]
     },
     "execution_count": 8,
     "metadata": {},
     "output_type": "execute_result"
    }
   ],
   "source": [
    "# Check if index of Y matches index of X\n",
    "(X_test_scaled.index == Y_test_scaled.index).sum() # Match"
   ]
  },
  {
   "cell_type": "code",
   "execution_count": 9,
   "metadata": {},
   "outputs": [
    {
     "data": {
      "text/plain": [
       "[82, 34, 75, 125, 33]"
      ]
     },
     "execution_count": 9,
     "metadata": {},
     "output_type": "execute_result"
    }
   ],
   "source": [
    "# Create a optimal order\n",
    "# Integer column index and text colum index\n",
    "\n",
    "col_index = pd.DataFrame(Y_train.columns, columns=['target'])\n",
    "\n",
    "# Load the target_dep_counts.csv\n",
    "target_dep_counts = pd.read_csv('target_dep_counts.csv')\n",
    "\n",
    "# Merge two dfs together\n",
    "col_index_dep_counts = pd.merge(col_index, target_dep_counts, left_on='target', right_on='target')\n",
    "\n",
    "# Rank by dep_counts and the index is the order\n",
    "order = col_index_dep_counts.sort_values(by='dep_counts', ascending=False).index.to_list()\n",
    "\n",
    "order[:5]"
   ]
  },
  {
   "cell_type": "markdown",
   "metadata": {},
   "source": [
    "### Classifier Chain\n",
    "### Model on Train"
   ]
  },
  {
   "cell_type": "code",
   "execution_count": 10,
   "metadata": {},
   "outputs": [],
   "source": [
    "# Create estimator\n",
    "clf = MLPClassifier(random_state=123)"
   ]
  },
  {
   "cell_type": "code",
   "execution_count": 13,
   "metadata": {},
   "outputs": [],
   "source": [
    "# Create Classifier chain object\n",
    "chain = ClassifierChain(clf, order=order, random_state=123)"
   ]
  },
  {
   "cell_type": "code",
   "execution_count": 14,
   "metadata": {},
   "outputs": [
    {
     "data": {
      "text/plain": [
       "ClassifierChain(base_estimator=MLPClassifier(random_state=123),\n",
       "                order=[82, 34, 75, 125, 33, 39, 81, 141, 165, 22, 172, 137, 53,\n",
       "                       185, 201, 69, 196, 120, 121, 12, 192, 46, 139, 14, 26, 8,\n",
       "                       24, 15, 170, 60, ...],\n",
       "                random_state=123)"
      ]
     },
     "execution_count": 14,
     "metadata": {},
     "output_type": "execute_result"
    }
   ],
   "source": [
    "# Take a peek at the chain object\n",
    "chain"
   ]
  },
  {
   "cell_type": "code",
   "execution_count": 15,
   "metadata": {},
   "outputs": [
    {
     "data": {
      "text/plain": [
       "ClassifierChain(base_estimator=MLPClassifier(random_state=123),\n",
       "                order=[82, 34, 75, 125, 33, 39, 81, 141, 165, 22, 172, 137, 53,\n",
       "                       185, 201, 69, 196, 120, 121, 12, 192, 46, 139, 14, 26, 8,\n",
       "                       24, 15, 170, 60, ...],\n",
       "                random_state=123)"
      ]
     },
     "execution_count": 15,
     "metadata": {},
     "output_type": "execute_result"
    }
   ],
   "source": [
    "# Fit on Train\n",
    "chain.fit(X_train_scaled, Y_train_scaled) # Took 2 hours and 50 mins"
   ]
  },
  {
   "cell_type": "code",
   "execution_count": 57,
   "metadata": {},
   "outputs": [
    {
     "data": {
      "text/plain": [
       "[82, 34, 75, 125, 33]"
      ]
     },
     "execution_count": 57,
     "metadata": {},
     "output_type": "execute_result"
    }
   ],
   "source": [
    "# Print the first 5 elements in the order\n",
    "chain.order_[:5]"
   ]
  },
  {
   "cell_type": "code",
   "execution_count": 17,
   "metadata": {},
   "outputs": [],
   "source": [
    "# Predcit the labels of Y\n",
    "Y_pred = chain.predict(X_train_scaled)\n",
    "\n",
    "# Predcit the probability of Y\n",
    "Y_proba = chain.predict_proba(X_train_scaled) # About 4 mins"
   ]
  },
  {
   "cell_type": "code",
   "execution_count": 18,
   "metadata": {},
   "outputs": [
    {
     "data": {
      "text/plain": [
       "0.5126275882181394"
      ]
     },
     "execution_count": 18,
     "metadata": {},
     "output_type": "execute_result"
    }
   ],
   "source": [
    "# Calculate score\n",
    "chain.score(X_train_scaled, Y_train_scaled)"
   ]
  },
  {
   "cell_type": "code",
   "execution_count": 19,
   "metadata": {},
   "outputs": [
    {
     "name": "stdout",
     "output_type": "stream",
     "text": [
      "3531870\n"
     ]
    },
    {
     "data": {
      "text/plain": [
       "array([[0., 0., 0., ..., 0., 0., 0.],\n",
       "       [0., 0., 0., ..., 0., 0., 0.],\n",
       "       [0., 0., 0., ..., 0., 0., 0.],\n",
       "       ...,\n",
       "       [0., 0., 0., ..., 0., 0., 0.],\n",
       "       [0., 0., 0., ..., 0., 0., 0.],\n",
       "       [0., 0., 0., ..., 0., 0., 0.]])"
      ]
     },
     "execution_count": 19,
     "metadata": {},
     "output_type": "execute_result"
    }
   ],
   "source": [
    "# Take a look at Y_pred\n",
    "# Print the size of Y_pred\n",
    "\n",
    "print(Y_pred.size)\n",
    "Y_pred"
   ]
  },
  {
   "cell_type": "code",
   "execution_count": 20,
   "metadata": {},
   "outputs": [
    {
     "name": "stdout",
     "output_type": "stream",
     "text": [
      "3531870\n"
     ]
    },
    {
     "data": {
      "text/plain": [
       "array([[0, 0, 0, ..., 0, 0, 0],\n",
       "       [0, 0, 0, ..., 0, 0, 0],\n",
       "       [0, 0, 0, ..., 0, 0, 0],\n",
       "       ...,\n",
       "       [0, 0, 0, ..., 0, 0, 0],\n",
       "       [0, 0, 0, ..., 0, 0, 0],\n",
       "       [0, 0, 0, ..., 0, 0, 0]], dtype=int64)"
      ]
     },
     "execution_count": 20,
     "metadata": {},
     "output_type": "execute_result"
    }
   ],
   "source": [
    "# Take a look at Y_train\n",
    "# Print the size of Y_train\n",
    "\n",
    "print(Y_train_scaled.values.size)\n",
    "Y_train_scaled.values"
   ]
  },
  {
   "cell_type": "code",
   "execution_count": 21,
   "metadata": {},
   "outputs": [
    {
     "data": {
      "text/plain": [
       "0.127888597258676"
      ]
     },
     "execution_count": 21,
     "metadata": {},
     "output_type": "execute_result"
    }
   ],
   "source": [
    "# Compute jaccard score\n",
    "jaccard_score = jaccard_score(Y_train_scaled, Y_pred, average='samples')\n",
    "jaccard_score"
   ]
  },
  {
   "cell_type": "code",
   "execution_count": 22,
   "metadata": {
    "scrolled": true
   },
   "outputs": [
    {
     "data": {
      "text/plain": [
       "2.4134392680465564"
      ]
     },
     "execution_count": 22,
     "metadata": {},
     "output_type": "execute_result"
    }
   ],
   "source": [
    "# Compute log loss\n",
    "log_loss = log_loss(Y_train_scaled, Y_proba)\n",
    "log_loss"
   ]
  },
  {
   "cell_type": "code",
   "execution_count": 23,
   "metadata": {},
   "outputs": [
    {
     "data": {
      "text/plain": [
       "array([[ True,  True,  True, ...,  True,  True,  True],\n",
       "       [ True,  True,  True, ...,  True,  True,  True],\n",
       "       [ True,  True,  True, ...,  True,  True,  True],\n",
       "       ...,\n",
       "       [ True,  True,  True, ...,  True,  True,  True],\n",
       "       [ True,  True,  True, ...,  True,  True,  True],\n",
       "       [ True,  True,  True, ...,  True,  True,  True]])"
      ]
     },
     "execution_count": 23,
     "metadata": {},
     "output_type": "execute_result"
    }
   ],
   "source": [
    "# Compare predicted Y_train ith Y_train\n",
    "(Y_train_scaled.values == Y_pred)"
   ]
  },
  {
   "cell_type": "code",
   "execution_count": 24,
   "metadata": {},
   "outputs": [
    {
     "data": {
      "text/plain": [
       "3522589"
      ]
     },
     "execution_count": 24,
     "metadata": {},
     "output_type": "execute_result"
    }
   ],
   "source": [
    "# How many labels the model predicing right\n",
    "(Y_train_scaled.values == Y_pred).sum()"
   ]
  },
  {
   "cell_type": "code",
   "execution_count": 29,
   "metadata": {
    "scrolled": false
   },
   "outputs": [
    {
     "name": "stdout",
     "output_type": "stream",
     "text": [
      "The total count of targets in Y_train: 12157\n"
     ]
    },
    {
     "data": {
      "text/plain": [
       "nfkb_inhibitor                  597\n",
       "proteasome_inhibitor            517\n",
       "cyclooxygenase_inhibitor        315\n",
       "dopamine_receptor_antagonist    302\n",
       "dna_inhibitor                   291\n",
       "dtype: int64"
      ]
     },
     "execution_count": 29,
     "metadata": {},
     "output_type": "execute_result"
    }
   ],
   "source": [
    "# Summarize Y_train\n",
    "\n",
    "features_train = Y_train_scaled.sum(axis=0).sort_values(ascending=False)\n",
    "print('The total count of targets in Y_train:', features_train.sum())\n",
    "features_train.head()"
   ]
  },
  {
   "cell_type": "code",
   "execution_count": 26,
   "metadata": {
    "scrolled": false
   },
   "outputs": [
    {
     "name": "stdout",
     "output_type": "stream",
     "text": [
      "The total count of targets: 3412.0\n"
     ]
    },
    {
     "data": {
      "text/plain": [
       "nfkb_inhibitor          527.0\n",
       "proteasome_inhibitor    519.0\n",
       "egfr_inhibitor          245.0\n",
       "tubulin_inhibitor       211.0\n",
       "cdk_inhibitor           189.0\n",
       "dtype: float64"
      ]
     },
     "execution_count": 26,
     "metadata": {},
     "output_type": "execute_result"
    }
   ],
   "source": [
    "# Summarize Y_pred\n",
    "\n",
    "features_chain = pd.DataFrame(Y_pred, columns=Y_train_scaled.columns).sum(axis=0).sort_values(ascending=False)\n",
    "print('The total count of targets:', features_chain.sum())\n",
    "features_chain.head()"
   ]
  },
  {
   "cell_type": "code",
   "execution_count": 30,
   "metadata": {},
   "outputs": [
    {
     "data": {
      "text/html": [
       "<div>\n",
       "<style scoped>\n",
       "    .dataframe tbody tr th:only-of-type {\n",
       "        vertical-align: middle;\n",
       "    }\n",
       "\n",
       "    .dataframe tbody tr th {\n",
       "        vertical-align: top;\n",
       "    }\n",
       "\n",
       "    .dataframe thead th {\n",
       "        text-align: right;\n",
       "    }\n",
       "</style>\n",
       "<table border=\"1\" class=\"dataframe\">\n",
       "  <thead>\n",
       "    <tr style=\"text-align: right;\">\n",
       "      <th></th>\n",
       "      <th>0</th>\n",
       "      <th>1</th>\n",
       "    </tr>\n",
       "  </thead>\n",
       "  <tbody>\n",
       "    <tr>\n",
       "      <th>nfkb_inhibitor</th>\n",
       "      <td>597</td>\n",
       "      <td>527.0</td>\n",
       "    </tr>\n",
       "    <tr>\n",
       "      <th>proteasome_inhibitor</th>\n",
       "      <td>517</td>\n",
       "      <td>519.0</td>\n",
       "    </tr>\n",
       "    <tr>\n",
       "      <th>cyclooxygenase_inhibitor</th>\n",
       "      <td>315</td>\n",
       "      <td>1.0</td>\n",
       "    </tr>\n",
       "    <tr>\n",
       "      <th>dopamine_receptor_antagonist</th>\n",
       "      <td>302</td>\n",
       "      <td>0.0</td>\n",
       "    </tr>\n",
       "    <tr>\n",
       "      <th>dna_inhibitor</th>\n",
       "      <td>291</td>\n",
       "      <td>13.0</td>\n",
       "    </tr>\n",
       "  </tbody>\n",
       "</table>\n",
       "</div>"
      ],
      "text/plain": [
       "                                0      1\n",
       "nfkb_inhibitor                597  527.0\n",
       "proteasome_inhibitor          517  519.0\n",
       "cyclooxygenase_inhibitor      315    1.0\n",
       "dopamine_receptor_antagonist  302    0.0\n",
       "dna_inhibitor                 291   13.0"
      ]
     },
     "execution_count": 30,
     "metadata": {},
     "output_type": "execute_result"
    }
   ],
   "source": [
    "# Concat features_train, features_baseline and features_chain\n",
    "\n",
    "features_sum = pd.concat([features_train, features_chain], axis=1)\n",
    "features_sum.head()"
   ]
  },
  {
   "cell_type": "markdown",
   "metadata": {},
   "source": [
    "### Model on Validate"
   ]
  },
  {
   "cell_type": "code",
   "execution_count": 32,
   "metadata": {},
   "outputs": [],
   "source": [
    "# Predict the labels of Y_validate\n",
    "Y_pred_v = chain.predict(X_validate_scaled)\n",
    "\n",
    "# Predcit the probability of Y\n",
    "Y_proba_v = chain.predict_proba(X_validate_scaled) # About 4 mins"
   ]
  },
  {
   "cell_type": "code",
   "execution_count": 55,
   "metadata": {},
   "outputs": [
    {
     "data": {
      "text/plain": [
       "0.49615115465360393"
      ]
     },
     "execution_count": 55,
     "metadata": {},
     "output_type": "execute_result"
    }
   ],
   "source": [
    "# Calculate score\n",
    "chain.score(X_validate_scaled, Y_validate_scaled)"
   ]
  },
  {
   "cell_type": "code",
   "execution_count": 33,
   "metadata": {},
   "outputs": [
    {
     "name": "stdout",
     "output_type": "stream",
     "text": [
      "883122\n"
     ]
    },
    {
     "data": {
      "text/plain": [
       "array([[0., 0., 0., ..., 0., 0., 0.],\n",
       "       [0., 0., 0., ..., 0., 0., 0.],\n",
       "       [0., 0., 0., ..., 0., 0., 0.],\n",
       "       ...,\n",
       "       [0., 0., 0., ..., 0., 0., 0.],\n",
       "       [0., 0., 0., ..., 0., 0., 0.],\n",
       "       [0., 0., 0., ..., 0., 0., 0.]])"
      ]
     },
     "execution_count": 33,
     "metadata": {},
     "output_type": "execute_result"
    }
   ],
   "source": [
    "# Take a look at Y_pred_v\n",
    "# Print the size of Y_pred_v\n",
    "\n",
    "print(Y_pred_v.size)\n",
    "Y_pred_v"
   ]
  },
  {
   "cell_type": "code",
   "execution_count": 34,
   "metadata": {},
   "outputs": [
    {
     "name": "stdout",
     "output_type": "stream",
     "text": [
      "883122\n"
     ]
    },
    {
     "data": {
      "text/plain": [
       "array([[0, 0, 0, ..., 0, 0, 0],\n",
       "       [0, 0, 0, ..., 0, 0, 0],\n",
       "       [0, 0, 0, ..., 0, 0, 0],\n",
       "       ...,\n",
       "       [0, 0, 0, ..., 0, 0, 0],\n",
       "       [0, 0, 0, ..., 0, 0, 0],\n",
       "       [0, 0, 0, ..., 0, 0, 0]], dtype=int64)"
      ]
     },
     "execution_count": 34,
     "metadata": {},
     "output_type": "execute_result"
    }
   ],
   "source": [
    "# Take a look at Y_validate\n",
    "# Print the size of Y_validate\n",
    "\n",
    "print(Y_validate_scaled.values.size)\n",
    "Y_validate_scaled.values"
   ]
  },
  {
   "cell_type": "code",
   "execution_count": 37,
   "metadata": {},
   "outputs": [
    {
     "data": {
      "text/plain": [
       "0.11474613171604074"
      ]
     },
     "execution_count": 37,
     "metadata": {},
     "output_type": "execute_result"
    }
   ],
   "source": [
    "# Compute jaccard score for validate\n",
    "\n",
    "jaccard_score_v = jaccard_score(Y_validate_scaled, Y_pred_v, average='samples')\n",
    "jaccard_score_v"
   ]
  },
  {
   "cell_type": "code",
   "execution_count": 38,
   "metadata": {},
   "outputs": [
    {
     "data": {
      "text/plain": [
       "2.799741345974077"
      ]
     },
     "execution_count": 38,
     "metadata": {},
     "output_type": "execute_result"
    }
   ],
   "source": [
    "# Compute log loss for validate\n",
    "\n",
    "log_loss_v = log_loss(Y_validate_scaled, Y_proba_v)\n",
    "log_loss_v"
   ]
  },
  {
   "cell_type": "code",
   "execution_count": 39,
   "metadata": {},
   "outputs": [
    {
     "data": {
      "text/plain": [
       "array([[ True,  True,  True, ...,  True,  True,  True],\n",
       "       [ True,  True,  True, ...,  True,  True,  True],\n",
       "       [ True,  True,  True, ...,  True,  True,  True],\n",
       "       ...,\n",
       "       [ True,  True,  True, ...,  True,  True,  True],\n",
       "       [ True,  True,  True, ...,  True,  True,  True],\n",
       "       [ True,  True,  True, ...,  True,  True,  True]])"
      ]
     },
     "execution_count": 39,
     "metadata": {},
     "output_type": "execute_result"
    }
   ],
   "source": [
    "# Compare Y_validate and Y_pred_v\n",
    "(Y_validate_scaled.values == Y_pred_v)"
   ]
  },
  {
   "cell_type": "code",
   "execution_count": 40,
   "metadata": {
    "scrolled": true
   },
   "outputs": [
    {
     "data": {
      "text/plain": [
       "880648"
      ]
     },
     "execution_count": 40,
     "metadata": {},
     "output_type": "execute_result"
    }
   ],
   "source": [
    "# How many labels are predicted right\n",
    "(Y_validate_scaled.values == Y_pred_v).sum()"
   ]
  },
  {
   "cell_type": "code",
   "execution_count": 41,
   "metadata": {},
   "outputs": [
    {
     "name": "stdout",
     "output_type": "stream",
     "text": [
      "The total count of targets in Y_validate: 3049\n"
     ]
    },
    {
     "data": {
      "text/plain": [
       "nfkb_inhibitor                   153\n",
       "proteasome_inhibitor             137\n",
       "serotonin_receptor_antagonist     85\n",
       "cyclooxygenase_inhibitor          83\n",
       "dopamine_receptor_antagonist      82\n",
       "dtype: int64"
      ]
     },
     "execution_count": 41,
     "metadata": {},
     "output_type": "execute_result"
    }
   ],
   "source": [
    "# Summarize Y_validate\n",
    "\n",
    "features_validate = Y_validate_scaled.sum(axis=0).sort_values(ascending=False)\n",
    "print('The total count of targets in Y_validate:', features_validate.sum())\n",
    "features_validate.head()"
   ]
  },
  {
   "cell_type": "code",
   "execution_count": 42,
   "metadata": {},
   "outputs": [
    {
     "name": "stdout",
     "output_type": "stream",
     "text": [
      "The total count of targets: 845.0\n"
     ]
    },
    {
     "data": {
      "text/plain": [
       "proteasome_inhibitor               140.0\n",
       "nfkb_inhibitor                     138.0\n",
       "egfr_inhibitor                      62.0\n",
       "glucocorticoid_receptor_agonist     53.0\n",
       "flt3_inhibitor                      45.0\n",
       "dtype: float64"
      ]
     },
     "execution_count": 42,
     "metadata": {},
     "output_type": "execute_result"
    }
   ],
   "source": [
    "# Summarize Y_pred_v\n",
    "\n",
    "features_chain_v = pd.DataFrame(Y_pred_v, columns=Y_validate_scaled.columns).sum(axis=0).sort_values(ascending=False)\n",
    "print('The total count of targets:', features_chain_v.sum())\n",
    "features_chain_v.head()"
   ]
  },
  {
   "cell_type": "code",
   "execution_count": 43,
   "metadata": {},
   "outputs": [
    {
     "data": {
      "text/html": [
       "<div>\n",
       "<style scoped>\n",
       "    .dataframe tbody tr th:only-of-type {\n",
       "        vertical-align: middle;\n",
       "    }\n",
       "\n",
       "    .dataframe tbody tr th {\n",
       "        vertical-align: top;\n",
       "    }\n",
       "\n",
       "    .dataframe thead th {\n",
       "        text-align: right;\n",
       "    }\n",
       "</style>\n",
       "<table border=\"1\" class=\"dataframe\">\n",
       "  <thead>\n",
       "    <tr style=\"text-align: right;\">\n",
       "      <th></th>\n",
       "      <th>0</th>\n",
       "      <th>1</th>\n",
       "      <th>0</th>\n",
       "      <th>1</th>\n",
       "    </tr>\n",
       "  </thead>\n",
       "  <tbody>\n",
       "    <tr>\n",
       "      <th>nfkb_inhibitor</th>\n",
       "      <td>597</td>\n",
       "      <td>527.0</td>\n",
       "      <td>153</td>\n",
       "      <td>138.0</td>\n",
       "    </tr>\n",
       "    <tr>\n",
       "      <th>proteasome_inhibitor</th>\n",
       "      <td>517</td>\n",
       "      <td>519.0</td>\n",
       "      <td>137</td>\n",
       "      <td>140.0</td>\n",
       "    </tr>\n",
       "    <tr>\n",
       "      <th>cyclooxygenase_inhibitor</th>\n",
       "      <td>315</td>\n",
       "      <td>1.0</td>\n",
       "      <td>83</td>\n",
       "      <td>0.0</td>\n",
       "    </tr>\n",
       "    <tr>\n",
       "      <th>dopamine_receptor_antagonist</th>\n",
       "      <td>302</td>\n",
       "      <td>0.0</td>\n",
       "      <td>82</td>\n",
       "      <td>0.0</td>\n",
       "    </tr>\n",
       "    <tr>\n",
       "      <th>dna_inhibitor</th>\n",
       "      <td>291</td>\n",
       "      <td>13.0</td>\n",
       "      <td>75</td>\n",
       "      <td>2.0</td>\n",
       "    </tr>\n",
       "  </tbody>\n",
       "</table>\n",
       "</div>"
      ],
      "text/plain": [
       "                                0      1    0      1\n",
       "nfkb_inhibitor                597  527.0  153  138.0\n",
       "proteasome_inhibitor          517  519.0  137  140.0\n",
       "cyclooxygenase_inhibitor      315    1.0   83    0.0\n",
       "dopamine_receptor_antagonist  302    0.0   82    0.0\n",
       "dna_inhibitor                 291   13.0   75    2.0"
      ]
     },
     "execution_count": 43,
     "metadata": {},
     "output_type": "execute_result"
    }
   ],
   "source": [
    "# Add features_validate and features_chain_v to feature_sum\n",
    "\n",
    "features_sum = pd.concat([features_sum, features_validate, features_chain_v], axis=1)\n",
    "features_sum.head()"
   ]
  },
  {
   "cell_type": "markdown",
   "metadata": {},
   "source": [
    "### Model on Test"
   ]
  },
  {
   "cell_type": "code",
   "execution_count": 44,
   "metadata": {},
   "outputs": [],
   "source": [
    "# Predict the labels of Y_test\n",
    "Y_pred_t = chain.predict(X_test_scaled)\n",
    "\n",
    "# Predcit the probability of Y_test\n",
    "Y_proba_t = chain.predict_proba(X_test_scaled) # About 4 mins"
   ]
  },
  {
   "cell_type": "code",
   "execution_count": 56,
   "metadata": {},
   "outputs": [
    {
     "data": {
      "text/plain": [
       "0.5037783375314862"
      ]
     },
     "execution_count": 56,
     "metadata": {},
     "output_type": "execute_result"
    }
   ],
   "source": [
    "# Calculate score\n",
    "chain.score(X_test_scaled, Y_test_scaled)"
   ]
  },
  {
   "cell_type": "code",
   "execution_count": 45,
   "metadata": {},
   "outputs": [
    {
     "name": "stdout",
     "output_type": "stream",
     "text": [
      "490692\n"
     ]
    },
    {
     "data": {
      "text/plain": [
       "array([[0., 0., 0., ..., 0., 0., 0.],\n",
       "       [0., 0., 0., ..., 0., 0., 0.],\n",
       "       [0., 0., 0., ..., 0., 0., 0.],\n",
       "       ...,\n",
       "       [0., 0., 0., ..., 0., 0., 0.],\n",
       "       [0., 0., 0., ..., 0., 0., 0.],\n",
       "       [0., 0., 0., ..., 0., 0., 0.]])"
      ]
     },
     "execution_count": 45,
     "metadata": {},
     "output_type": "execute_result"
    }
   ],
   "source": [
    "# Take a look at Y_pred_t\n",
    "\n",
    "print(Y_pred_t.size)\n",
    "Y_pred_t"
   ]
  },
  {
   "cell_type": "code",
   "execution_count": 46,
   "metadata": {},
   "outputs": [
    {
     "name": "stdout",
     "output_type": "stream",
     "text": [
      "490692\n"
     ]
    },
    {
     "data": {
      "text/plain": [
       "array([[0, 0, 0, ..., 0, 0, 0],\n",
       "       [0, 0, 0, ..., 0, 0, 0],\n",
       "       [0, 0, 0, ..., 0, 0, 0],\n",
       "       ...,\n",
       "       [0, 0, 0, ..., 0, 0, 0],\n",
       "       [0, 0, 0, ..., 0, 0, 0],\n",
       "       [0, 0, 0, ..., 0, 0, 0]], dtype=int64)"
      ]
     },
     "execution_count": 46,
     "metadata": {},
     "output_type": "execute_result"
    }
   ],
   "source": [
    "# Take a look at Y_test\n",
    "# Print the size of Y_test\n",
    "\n",
    "print(Y_test_scaled.values.size)\n",
    "Y_test_scaled.values"
   ]
  },
  {
   "cell_type": "code",
   "execution_count": 47,
   "metadata": {},
   "outputs": [
    {
     "data": {
      "text/plain": [
       "0.10498180800447802"
      ]
     },
     "execution_count": 47,
     "metadata": {},
     "output_type": "execute_result"
    }
   ],
   "source": [
    "# Compute jaccard score for test\n",
    "\n",
    "jaccard_score_t = jaccard_score(Y_test_scaled, Y_pred_t, average='samples')\n",
    "jaccard_score_t"
   ]
  },
  {
   "cell_type": "code",
   "execution_count": 48,
   "metadata": {},
   "outputs": [
    {
     "data": {
      "text/plain": [
       "2.7239517391467976"
      ]
     },
     "execution_count": 48,
     "metadata": {},
     "output_type": "execute_result"
    }
   ],
   "source": [
    "# Compute log loss for test\n",
    "\n",
    "log_loss_t = log_loss(Y_test_scaled, Y_proba_t)\n",
    "log_loss_t"
   ]
  },
  {
   "cell_type": "code",
   "execution_count": 49,
   "metadata": {},
   "outputs": [
    {
     "data": {
      "text/plain": [
       "array([[ True,  True,  True, ...,  True,  True,  True],\n",
       "       [ True,  True,  True, ...,  True,  True,  True],\n",
       "       [ True,  True,  True, ...,  True,  True,  True],\n",
       "       ...,\n",
       "       [ True,  True,  True, ...,  True,  True,  True],\n",
       "       [ True,  True,  True, ...,  True,  True,  True],\n",
       "       [ True,  True,  True, ...,  True,  True,  True]])"
      ]
     },
     "execution_count": 49,
     "metadata": {},
     "output_type": "execute_result"
    }
   ],
   "source": [
    "# Compare predicted test and Y_test\n",
    "(Y_test_scaled.values == Y_pred_t)"
   ]
  },
  {
   "cell_type": "code",
   "execution_count": 50,
   "metadata": {},
   "outputs": [
    {
     "data": {
      "text/plain": [
       "489365"
      ]
     },
     "execution_count": 50,
     "metadata": {},
     "output_type": "execute_result"
    }
   ],
   "source": [
    "# How many labels are predicted right\n",
    "(Y_test_scaled.values == Y_pred_t).sum()"
   ]
  },
  {
   "cell_type": "code",
   "execution_count": 51,
   "metadata": {},
   "outputs": [
    {
     "name": "stdout",
     "output_type": "stream",
     "text": [
      "The total count of targets in Y_test: 1638\n"
     ]
    },
    {
     "data": {
      "text/plain": [
       "nfkb_inhibitor                    82\n",
       "proteasome_inhibitor              72\n",
       "dopamine_receptor_antagonist      40\n",
       "adrenergic_receptor_antagonist    40\n",
       "serotonin_receptor_antagonist     39\n",
       "dtype: int64"
      ]
     },
     "execution_count": 51,
     "metadata": {},
     "output_type": "execute_result"
    }
   ],
   "source": [
    "# Summarize Y_test\n",
    "\n",
    "features_test = Y_test_scaled.sum(axis=0).sort_values(ascending=False)\n",
    "print('The total count of targets in Y_test:', features_test.sum())\n",
    "features_test.head()"
   ]
  },
  {
   "cell_type": "code",
   "execution_count": 52,
   "metadata": {},
   "outputs": [
    {
     "name": "stdout",
     "output_type": "stream",
     "text": [
      "The total count of predicted targets: 405.0\n"
     ]
    },
    {
     "data": {
      "text/plain": [
       "nfkb_inhibitor          73.0\n",
       "proteasome_inhibitor    73.0\n",
       "egfr_inhibitor          31.0\n",
       "raf_inhibitor           25.0\n",
       "tubulin_inhibitor       23.0\n",
       "dtype: float64"
      ]
     },
     "execution_count": 52,
     "metadata": {},
     "output_type": "execute_result"
    }
   ],
   "source": [
    "# Summarize Y_pred_t\n",
    "\n",
    "features_chain_t = pd.DataFrame(Y_pred_t, columns=Y_test_scaled.columns).sum(axis=0).sort_values(ascending=False)\n",
    "print('The total count of predicted targets:', features_chain_t.sum())\n",
    "features_chain_t.head()"
   ]
  },
  {
   "cell_type": "code",
   "execution_count": 53,
   "metadata": {},
   "outputs": [
    {
     "data": {
      "text/html": [
       "<div>\n",
       "<style scoped>\n",
       "    .dataframe tbody tr th:only-of-type {\n",
       "        vertical-align: middle;\n",
       "    }\n",
       "\n",
       "    .dataframe tbody tr th {\n",
       "        vertical-align: top;\n",
       "    }\n",
       "\n",
       "    .dataframe thead th {\n",
       "        text-align: right;\n",
       "    }\n",
       "</style>\n",
       "<table border=\"1\" class=\"dataframe\">\n",
       "  <thead>\n",
       "    <tr style=\"text-align: right;\">\n",
       "      <th></th>\n",
       "      <th>0</th>\n",
       "      <th>1</th>\n",
       "      <th>0</th>\n",
       "      <th>1</th>\n",
       "      <th>0</th>\n",
       "      <th>1</th>\n",
       "    </tr>\n",
       "  </thead>\n",
       "  <tbody>\n",
       "    <tr>\n",
       "      <th>nfkb_inhibitor</th>\n",
       "      <td>597</td>\n",
       "      <td>527.0</td>\n",
       "      <td>153</td>\n",
       "      <td>138.0</td>\n",
       "      <td>82</td>\n",
       "      <td>73.0</td>\n",
       "    </tr>\n",
       "    <tr>\n",
       "      <th>proteasome_inhibitor</th>\n",
       "      <td>517</td>\n",
       "      <td>519.0</td>\n",
       "      <td>137</td>\n",
       "      <td>140.0</td>\n",
       "      <td>72</td>\n",
       "      <td>73.0</td>\n",
       "    </tr>\n",
       "    <tr>\n",
       "      <th>cyclooxygenase_inhibitor</th>\n",
       "      <td>315</td>\n",
       "      <td>1.0</td>\n",
       "      <td>83</td>\n",
       "      <td>0.0</td>\n",
       "      <td>37</td>\n",
       "      <td>0.0</td>\n",
       "    </tr>\n",
       "    <tr>\n",
       "      <th>dopamine_receptor_antagonist</th>\n",
       "      <td>302</td>\n",
       "      <td>0.0</td>\n",
       "      <td>82</td>\n",
       "      <td>0.0</td>\n",
       "      <td>40</td>\n",
       "      <td>0.0</td>\n",
       "    </tr>\n",
       "    <tr>\n",
       "      <th>dna_inhibitor</th>\n",
       "      <td>291</td>\n",
       "      <td>13.0</td>\n",
       "      <td>75</td>\n",
       "      <td>2.0</td>\n",
       "      <td>36</td>\n",
       "      <td>0.0</td>\n",
       "    </tr>\n",
       "  </tbody>\n",
       "</table>\n",
       "</div>"
      ],
      "text/plain": [
       "                                0      1    0      1   0     1\n",
       "nfkb_inhibitor                597  527.0  153  138.0  82  73.0\n",
       "proteasome_inhibitor          517  519.0  137  140.0  72  73.0\n",
       "cyclooxygenase_inhibitor      315    1.0   83    0.0  37   0.0\n",
       "dopamine_receptor_antagonist  302    0.0   82    0.0  40   0.0\n",
       "dna_inhibitor                 291   13.0   75    2.0  36   0.0"
      ]
     },
     "execution_count": 53,
     "metadata": {},
     "output_type": "execute_result"
    }
   ],
   "source": [
    "# Add features_test and _chain_t to features_sum\n",
    "\n",
    "features_sum = pd.concat([features_sum, features_test, features_chain_t], axis=1)\n",
    "features_sum.head()"
   ]
  },
  {
   "cell_type": "code",
   "execution_count": 54,
   "metadata": {},
   "outputs": [],
   "source": [
    "# # Conver to csv\n",
    "# features_sum.to_csv('error_analysis_v2.csv')"
   ]
  }
 ],
 "metadata": {
  "kernelspec": {
   "display_name": "Python 3",
   "language": "python",
   "name": "python3"
  },
  "language_info": {
   "codemirror_mode": {
    "name": "ipython",
    "version": 3
   },
   "file_extension": ".py",
   "mimetype": "text/x-python",
   "name": "python",
   "nbconvert_exporter": "python",
   "pygments_lexer": "ipython3",
   "version": "3.7.6"
  }
 },
 "nbformat": 4,
 "nbformat_minor": 4
}
