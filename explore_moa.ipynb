{
 "cells": [
  {
   "cell_type": "code",
   "execution_count": 1,
   "metadata": {},
   "outputs": [],
   "source": [
    "import warnings\n",
    "warnings.filterwarnings(\"ignore\")\n",
    "\n",
    "import numpy as np\n",
    "import pandas as pd\n",
    "\n",
    "import matplotlib.pyplot as plt\n",
    "import seaborn as sns\n",
    "\n",
    "import scipy.stats as stats"
   ]
  },
  {
   "cell_type": "markdown",
   "metadata": {},
   "source": [
    "# Initial Thoughs & Hypothesis\n",
    "## Are gene expressions in controls with dose D2 different over the time?\n",
    "### Take g-0 for example: \n",
    "**Is the g-0 expression in control with dose 2 different for 24 vs. 48 hours?**<br>\n",
    "$H_0$: The average g-0 expressions in control with dose 2 are the same for 24 vs. 48 hours.<br>\n",
    "$H_a$: The average g-0 expressions in control with dose 2 are significantly different for 24 vs. 48 hours."
   ]
  },
  {
   "cell_type": "code",
   "execution_count": 2,
   "metadata": {},
   "outputs": [],
   "source": [
    "# Read csv files to dataframe\n",
    "\n",
    "df_ctrl_d2_24 = pd.read_csv('df_ctrl_d2_24.csv', index_col=0)\n",
    "df_ctrl_d2_48 = pd.read_csv('df_ctrl_d2_48.csv', index_col=0)\n",
    "df_ctrl_d2_72 = pd.read_csv('df_ctrl_d2_72.csv', index_col=0)"
   ]
  },
  {
   "cell_type": "code",
   "execution_count": 3,
   "metadata": {},
   "outputs": [
    {
     "data": {
      "text/plain": [
       "LeveneResult(statistic=3.0660366167455915, pvalue=0.0804484376816337)"
      ]
     },
     "execution_count": 3,
     "metadata": {},
     "output_type": "execute_result"
    }
   ],
   "source": [
    "# Test the assumption of equal variance by Levene's test\n",
    "\n",
    "stats.levene(df_ctrl_d2_24['g-0'], df_ctrl_d2_48['g-0'])\n",
    "\n",
    "# since p > 0.05, we can say that the variances are not significantly different\n",
    "# set the argument in ttest_ind of equal_var to be true"
   ]
  },
  {
   "cell_type": "code",
   "execution_count": 5,
   "metadata": {},
   "outputs": [
    {
     "data": {
      "text/plain": [
       "(305, 305)"
      ]
     },
     "execution_count": 5,
     "metadata": {},
     "output_type": "execute_result"
    }
   ],
   "source": [
    "df_ctrl_d2_24['g-0'].size, df_ctrl_d2_48['g-0'].size"
   ]
  },
  {
   "cell_type": "code",
   "execution_count": 11,
   "metadata": {},
   "outputs": [
    {
     "data": {
      "text/plain": [
       "Text(0.5, 1.0, 'Compare g-0 expression at 24 and 48 hrs')"
      ]
     },
     "execution_count": 11,
     "metadata": {},
     "output_type": "execute_result"
    },
    {
     "data": {
      "image/png": "[encoded data removed]",
      "text/plain": [
       "<Figure size 432x288 with 1 Axes>"
      ]
     },
     "metadata": {
      "needs_background": "light"
     },
     "output_type": "display_data"
    }
   ],
   "source": [
    "# Scatter plot the 2 g-0 data. \n",
    "\n",
    "plt.scatter(x=df_ctrl_d2_24['g-0'], y=df_ctrl_d2_48['g-0'])\n",
    "plt.title(\"Compare g-0 expression at 24 and 48 hrs\")"
   ]
  },
  {
   "cell_type": "code",
   "execution_count": 15,
   "metadata": {},
   "outputs": [
    {
     "data": {
      "text/plain": [
       "<seaborn.axisgrid.JointGrid at 0x7fe5ca0047d0>"
      ]
     },
     "execution_count": 15,
     "metadata": {},
     "output_type": "execute_result"
    },
    {
     "data": {
      "image/png": "[encoded data removed]",
      "text/plain": [
       "<Figure size 432x432 with 3 Axes>"
      ]
     },
     "metadata": {
      "needs_background": "light"
     },
     "output_type": "display_data"
    }
   ],
   "source": [
    "# Jointplot the 2 g-0 data\n",
    "\n",
    "sns.jointplot(x=df_ctrl_d2_24['g-0'], y=df_ctrl_d2_48['g-0'])\n",
    "# plt.title(\"Compare g-0 expression at 24 and 48 hrs\")"
   ]
  },
  {
   "cell_type": "code",
   "execution_count": 16,
   "metadata": {},
   "outputs": [
    {
     "data": {
      "text/plain": [
       "Ttest_indResult(statistic=-0.03571110005597076, pvalue=0.9715244406896814)"
      ]
     },
     "execution_count": 16,
     "metadata": {},
     "output_type": "execute_result"
    }
   ],
   "source": [
    "# variances are equal\n",
    "# t-test\n",
    "\n",
    "stats.ttest_ind(df_ctrl_d2_24['g-0'], df_ctrl_d2_48['g-0'], equal_var=True)\n",
    "\n",
    "# Since p > 0.05, it is fail to reject the H0."
   ]
  },
  {
   "cell_type": "code",
   "execution_count": 22,
   "metadata": {},
   "outputs": [
    {
     "data": {
      "text/plain": [
       "772"
      ]
     },
     "execution_count": 22,
     "metadata": {},
     "output_type": "execute_result"
    }
   ],
   "source": [
    "# Iterate the rest of the gene expression data\n",
    "\n",
    "output = {}\n",
    "\n",
    "for i in range(0, 772):\n",
    "    gene = 'g-' + str(i)\n",
    "    s, p = stats.levene(df_ctrl_d2_24[gene], df_ctrl_d2_48[gene])\n",
    "    if p < 0.05:\n",
    "        s1, p1 = stats.ttest_ind(df_ctrl_d2_24[gene], df_ctrl_d2_48[gene], equal_var=False)\n",
    "    else:\n",
    "        s1, p1 = stats.ttest_ind(df_ctrl_d2_24[gene], df_ctrl_d2_48[gene], equal_var=True)\n",
    "    output[gene] = p1\n",
    "\n",
    "ctrl_24_48 = pd.Series(output)\n",
    "ctrl_24_48.size"
   ]
  },
  {
   "cell_type": "code",
   "execution_count": 23,
   "metadata": {},
   "outputs": [
    {
     "data": {
      "text/plain": [
       "290"
      ]
     },
     "execution_count": 23,
     "metadata": {},
     "output_type": "execute_result"
    }
   ],
   "source": [
    "# Count how many genes are expressed differently for control group treated with does D2 \n",
    "# at 24 hours vs. 48 hours\n",
    "# set the alpha = 0.05\n",
    "\n",
    "mask = (ctrl_24_48 < 0.05)\n",
    "mask.sum()"
   ]
  },
  {
   "cell_type": "markdown",
   "metadata": {},
   "source": [
    "**Takeaways**\n",
    "- Do I need to address the outliers in gene expression data?\n",
    "- How to plot 2 numerical variables from two datasets?\n",
    "- The average g-0 expressions in control with dose 2 are the same for 24 vs. 48 hours.\n",
    "- 290 gene expressions in control with dose 2 are significantly different at 24 hours vs. 48 hours.\n",
    "    - caused by controls\n",
    "    - caused by outliers\n",
    "    - natural process, caused by cell proliferation"
   ]
  },
  {
   "cell_type": "code",
   "execution_count": null,
   "metadata": {},
   "outputs": [],
   "source": []
  }
 ],
 "metadata": {
  "kernelspec": {
   "display_name": "Python 3",
   "language": "python",
   "name": "python3"
  },
  "language_info": {
   "codemirror_mode": {
    "name": "ipython",
    "version": 3
   },
   "file_extension": ".py",
   "mimetype": "text/x-python",
   "name": "python",
   "nbconvert_exporter": "python",
   "pygments_lexer": "ipython3",
   "version": "3.7.6"
  }
 },
 "nbformat": 4,
 "nbformat_minor": 4
}
