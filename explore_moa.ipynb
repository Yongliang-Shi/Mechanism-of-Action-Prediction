{
 "cells": [
  {
   "cell_type": "code",
   "execution_count": 1,
   "metadata": {},
   "outputs": [],
   "source": [
    "import warnings\n",
    "warnings.filterwarnings(\"ignore\")\n",
    "\n",
    "import numpy as np\n",
    "import pandas as pd\n",
    "import matplotlib.pyplot as plt\n",
    "import seaborn as sns\n",
    "\n",
    "import scipy.stats as stats\n",
    "\n",
    "import summarize"
   ]
  },
  {
   "cell_type": "code",
   "execution_count": 2,
   "metadata": {},
   "outputs": [],
   "source": [
    "# Load controls_D2 data from csv\n",
    "\n",
    "df_ctrl_d2_24 = pd.read_csv('df_ctrl_d2_24.csv', index_col=0)\n",
    "df_ctrl_d2_48 = pd.read_csv('df_ctrl_d2_48.csv', index_col=0)\n",
    "df_ctrl_d2_72 = pd.read_csv('df_ctrl_d2_72.csv', index_col=0)"
   ]
  },
  {
   "cell_type": "markdown",
   "metadata": {},
   "source": [
    "## <div class=\"alert alert-block alert-info\">Thoughts and Hypothesis Test</div>"
   ]
  },
  {
   "cell_type": "markdown",
   "metadata": {},
   "source": [
    "### Question-1: According to my experience, the treated C and G data need to substract the controls before the analysis. Do I need to do the same process in this scenario?  \n",
    "    No. \n",
    "\n",
    "### Question-2: How to deal with cp_type, cp_time, and cp_dose?\n",
    "    Dummy varibales"
   ]
  },
  {
   "cell_type": "code",
   "execution_count": 3,
   "metadata": {},
   "outputs": [
    {
     "data": {
      "text/html": [
       "<div>\n",
       "<style scoped>\n",
       "    .dataframe tbody tr th:only-of-type {\n",
       "        vertical-align: middle;\n",
       "    }\n",
       "\n",
       "    .dataframe tbody tr th {\n",
       "        vertical-align: top;\n",
       "    }\n",
       "\n",
       "    .dataframe thead th {\n",
       "        text-align: right;\n",
       "    }\n",
       "</style>\n",
       "<table border=\"1\" class=\"dataframe\">\n",
       "  <thead>\n",
       "    <tr style=\"text-align: right;\">\n",
       "      <th></th>\n",
       "      <th>cp_type</th>\n",
       "      <th>cp_time</th>\n",
       "      <th>cp_dose</th>\n",
       "      <th>g-0</th>\n",
       "      <th>g-1</th>\n",
       "      <th>g-2</th>\n",
       "      <th>g-3</th>\n",
       "      <th>g-4</th>\n",
       "      <th>g-5</th>\n",
       "      <th>g-6</th>\n",
       "      <th>...</th>\n",
       "      <th>c-90</th>\n",
       "      <th>c-91</th>\n",
       "      <th>c-92</th>\n",
       "      <th>c-93</th>\n",
       "      <th>c-94</th>\n",
       "      <th>c-95</th>\n",
       "      <th>c-96</th>\n",
       "      <th>c-97</th>\n",
       "      <th>c-98</th>\n",
       "      <th>c-99</th>\n",
       "    </tr>\n",
       "    <tr>\n",
       "      <th>sig_id</th>\n",
       "      <th></th>\n",
       "      <th></th>\n",
       "      <th></th>\n",
       "      <th></th>\n",
       "      <th></th>\n",
       "      <th></th>\n",
       "      <th></th>\n",
       "      <th></th>\n",
       "      <th></th>\n",
       "      <th></th>\n",
       "      <th></th>\n",
       "      <th></th>\n",
       "      <th></th>\n",
       "      <th></th>\n",
       "      <th></th>\n",
       "      <th></th>\n",
       "      <th></th>\n",
       "      <th></th>\n",
       "      <th></th>\n",
       "      <th></th>\n",
       "      <th></th>\n",
       "    </tr>\n",
       "  </thead>\n",
       "  <tbody>\n",
       "    <tr>\n",
       "      <th>id_007bfbb91</th>\n",
       "      <td>ctl_vehicle</td>\n",
       "      <td>24</td>\n",
       "      <td>D2</td>\n",
       "      <td>-1.3200</td>\n",
       "      <td>-1.7340</td>\n",
       "      <td>-0.0741</td>\n",
       "      <td>1.5440</td>\n",
       "      <td>-1.8290</td>\n",
       "      <td>-0.0951</td>\n",
       "      <td>0.3829</td>\n",
       "      <td>...</td>\n",
       "      <td>0.7412</td>\n",
       "      <td>1.0340</td>\n",
       "      <td>0.7393</td>\n",
       "      <td>1.1020</td>\n",
       "      <td>0.3786</td>\n",
       "      <td>0.2636</td>\n",
       "      <td>-0.5751</td>\n",
       "      <td>0.3362</td>\n",
       "      <td>0.8543</td>\n",
       "      <td>0.9180</td>\n",
       "    </tr>\n",
       "    <tr>\n",
       "      <th>id_009d8340f</th>\n",
       "      <td>ctl_vehicle</td>\n",
       "      <td>24</td>\n",
       "      <td>D2</td>\n",
       "      <td>0.4471</td>\n",
       "      <td>-0.0839</td>\n",
       "      <td>-0.3864</td>\n",
       "      <td>0.3196</td>\n",
       "      <td>0.2584</td>\n",
       "      <td>-0.3156</td>\n",
       "      <td>-0.1187</td>\n",
       "      <td>...</td>\n",
       "      <td>0.4795</td>\n",
       "      <td>0.3939</td>\n",
       "      <td>0.7665</td>\n",
       "      <td>0.7932</td>\n",
       "      <td>-0.6804</td>\n",
       "      <td>-0.0435</td>\n",
       "      <td>0.0949</td>\n",
       "      <td>0.2000</td>\n",
       "      <td>-0.4326</td>\n",
       "      <td>0.9364</td>\n",
       "    </tr>\n",
       "    <tr>\n",
       "      <th>id_010629f4f</th>\n",
       "      <td>ctl_vehicle</td>\n",
       "      <td>24</td>\n",
       "      <td>D2</td>\n",
       "      <td>1.7470</td>\n",
       "      <td>0.8486</td>\n",
       "      <td>-0.8951</td>\n",
       "      <td>-0.2527</td>\n",
       "      <td>0.8395</td>\n",
       "      <td>-1.8240</td>\n",
       "      <td>0.7343</td>\n",
       "      <td>...</td>\n",
       "      <td>0.1143</td>\n",
       "      <td>-1.4060</td>\n",
       "      <td>-1.0940</td>\n",
       "      <td>0.3996</td>\n",
       "      <td>-0.2615</td>\n",
       "      <td>1.4650</td>\n",
       "      <td>-1.2790</td>\n",
       "      <td>-0.0619</td>\n",
       "      <td>0.5689</td>\n",
       "      <td>0.0263</td>\n",
       "    </tr>\n",
       "    <tr>\n",
       "      <th>id_018492dbc</th>\n",
       "      <td>ctl_vehicle</td>\n",
       "      <td>24</td>\n",
       "      <td>D2</td>\n",
       "      <td>0.3005</td>\n",
       "      <td>-0.8478</td>\n",
       "      <td>-0.2077</td>\n",
       "      <td>-0.7008</td>\n",
       "      <td>-2.3650</td>\n",
       "      <td>2.5120</td>\n",
       "      <td>3.4770</td>\n",
       "      <td>...</td>\n",
       "      <td>-0.0912</td>\n",
       "      <td>-0.2713</td>\n",
       "      <td>-0.0003</td>\n",
       "      <td>0.8811</td>\n",
       "      <td>0.1678</td>\n",
       "      <td>1.5990</td>\n",
       "      <td>0.6527</td>\n",
       "      <td>1.1550</td>\n",
       "      <td>0.3270</td>\n",
       "      <td>-0.5111</td>\n",
       "    </tr>\n",
       "    <tr>\n",
       "      <th>id_01c65d875</th>\n",
       "      <td>ctl_vehicle</td>\n",
       "      <td>24</td>\n",
       "      <td>D2</td>\n",
       "      <td>0.2039</td>\n",
       "      <td>-0.5514</td>\n",
       "      <td>0.4358</td>\n",
       "      <td>0.9672</td>\n",
       "      <td>-2.6010</td>\n",
       "      <td>-1.2680</td>\n",
       "      <td>0.1969</td>\n",
       "      <td>...</td>\n",
       "      <td>0.3399</td>\n",
       "      <td>-0.8408</td>\n",
       "      <td>-1.9690</td>\n",
       "      <td>0.3267</td>\n",
       "      <td>-0.4286</td>\n",
       "      <td>0.9430</td>\n",
       "      <td>-0.1098</td>\n",
       "      <td>0.9718</td>\n",
       "      <td>0.1334</td>\n",
       "      <td>-1.2490</td>\n",
       "    </tr>\n",
       "  </tbody>\n",
       "</table>\n",
       "<p>5 rows × 875 columns</p>\n",
       "</div>"
      ],
      "text/plain": [
       "                  cp_type  cp_time cp_dose     g-0     g-1     g-2     g-3  \\\n",
       "sig_id                                                                       \n",
       "id_007bfbb91  ctl_vehicle       24      D2 -1.3200 -1.7340 -0.0741  1.5440   \n",
       "id_009d8340f  ctl_vehicle       24      D2  0.4471 -0.0839 -0.3864  0.3196   \n",
       "id_010629f4f  ctl_vehicle       24      D2  1.7470  0.8486 -0.8951 -0.2527   \n",
       "id_018492dbc  ctl_vehicle       24      D2  0.3005 -0.8478 -0.2077 -0.7008   \n",
       "id_01c65d875  ctl_vehicle       24      D2  0.2039 -0.5514  0.4358  0.9672   \n",
       "\n",
       "                 g-4     g-5     g-6  ...    c-90    c-91    c-92    c-93  \\\n",
       "sig_id                                ...                                   \n",
       "id_007bfbb91 -1.8290 -0.0951  0.3829  ...  0.7412  1.0340  0.7393  1.1020   \n",
       "id_009d8340f  0.2584 -0.3156 -0.1187  ...  0.4795  0.3939  0.7665  0.7932   \n",
       "id_010629f4f  0.8395 -1.8240  0.7343  ...  0.1143 -1.4060 -1.0940  0.3996   \n",
       "id_018492dbc -2.3650  2.5120  3.4770  ... -0.0912 -0.2713 -0.0003  0.8811   \n",
       "id_01c65d875 -2.6010 -1.2680  0.1969  ...  0.3399 -0.8408 -1.9690  0.3267   \n",
       "\n",
       "                c-94    c-95    c-96    c-97    c-98    c-99  \n",
       "sig_id                                                        \n",
       "id_007bfbb91  0.3786  0.2636 -0.5751  0.3362  0.8543  0.9180  \n",
       "id_009d8340f -0.6804 -0.0435  0.0949  0.2000 -0.4326  0.9364  \n",
       "id_010629f4f -0.2615  1.4650 -1.2790 -0.0619  0.5689  0.0263  \n",
       "id_018492dbc  0.1678  1.5990  0.6527  1.1550  0.3270 -0.5111  \n",
       "id_01c65d875 -0.4286  0.9430 -0.1098  0.9718  0.1334 -1.2490  \n",
       "\n",
       "[5 rows x 875 columns]"
      ]
     },
     "execution_count": 3,
     "metadata": {},
     "output_type": "execute_result"
    }
   ],
   "source": [
    "# Quick view of the controls treated with D2 for 24 hours\n",
    "df_ctrl_d2_24.head()"
   ]
  },
  {
   "cell_type": "code",
   "execution_count": 20,
   "metadata": {
    "scrolled": false
   },
   "outputs": [
    {
     "data": {
      "image/png": "[encoded data removed]",
      "text/plain": [
       "<Figure size 936x504 with 4 Axes>"
      ]
     },
     "metadata": {
      "needs_background": "light"
     },
     "output_type": "display_data"
    }
   ],
   "source": [
    "# Take cell line # 0 for example\n",
    "\n",
    "fig, (ax1, ax2, ax3, ax4) = plt.subplots(1, 4, figsize=(13,7), sharey=True)\n",
    "df_ctrl_d2_24.loc[:, 'c-0'].hist(ax=ax1)\n",
    "df_ctrl_d2_48.loc[:, 'c-0'].hist(ax=ax2)\n",
    "df_ctrl_d2_72.loc[:, 'c-0'].hist(ax=ax3)\n",
    "df_ctrl_d2_24.loc[:, 'c-0'].hist(ax=ax4, alpha=0.4)\n",
    "df_ctrl_d2_48.loc[:, 'c-0'].hist(ax=ax4, alpha=0.4)\n",
    "df_ctrl_d2_72.loc[:, 'c-0'].hist(ax=ax4, alpha=0.4)\n",
    "\n",
    "plt.tight_layout()"
   ]
  },
  {
   "cell_type": "code",
   "execution_count": 19,
   "metadata": {},
   "outputs": [
    {
     "data": {
      "image/png": "[encoded data removed]",
      "text/plain": [
       "<Figure size 936x504 with 4 Axes>"
      ]
     },
     "metadata": {
      "needs_background": "light"
     },
     "output_type": "display_data"
    }
   ],
   "source": [
    "# Take cell line # 0 for example\n",
    "\n",
    "fig, (ax1, ax2, ax3, ax4) = plt.subplots(1, 4, figsize=(13,7), sharey=True)\n",
    "df_ctrl_d2_24.loc[:, 'c-42'].hist(ax=ax1)\n",
    "df_ctrl_d2_48.loc[:, 'c-42'].hist(ax=ax2)\n",
    "df_ctrl_d2_72.loc[:, 'c-42'].hist(ax=ax3)\n",
    "df_ctrl_d2_24.loc[:, 'c-42'].hist(ax=ax4, alpha=0.5)\n",
    "df_ctrl_d2_48.loc[:, 'c-42'].hist(ax=ax4, alpha=0.5)\n",
    "df_ctrl_d2_72.loc[:, 'c-42'].hist(ax=ax4, alpha=0.5)\n",
    "\n",
    "plt.tight_layout()"
   ]
  },
  {
   "cell_type": "markdown",
   "metadata": {},
   "source": [
    "**Takeaways**: Under the same condition for the same cell lines, "
   ]
  },
  {
   "cell_type": "markdown",
   "metadata": {},
   "source": [
    "### Are gene expressions in controls with dose D2 different over the time? Take g-0 for example: Is the g-0 expression in control with dose 2 different at 24 vs. 48 hours?\n",
    "$H_0$: The average g-0 expressions in control with dose 2 are the same at 24 vs. 48 hours.<br>\n",
    "$H_a$: The average g-0 expressions in control with dose 2 are significantly different at 24 vs. 48 hours."
   ]
  },
  {
   "cell_type": "code",
   "execution_count": 3,
   "metadata": {},
   "outputs": [
    {
     "data": {
      "text/plain": [
       "LeveneResult(statistic=3.0660366167455915, pvalue=0.0804484376816337)"
      ]
     },
     "execution_count": 3,
     "metadata": {},
     "output_type": "execute_result"
    }
   ],
   "source": [
    "# Test the assumption of equal variance by Levene's test\n",
    "\n",
    "stats.levene(df_ctrl_d2_24['g-0'], df_ctrl_d2_48['g-0'])\n",
    "\n",
    "# since p > 0.05, we can say that the variances are not significantly different\n",
    "# set the argument in ttest_ind of equal_var to be true"
   ]
  },
  {
   "cell_type": "code",
   "execution_count": 5,
   "metadata": {},
   "outputs": [
    {
     "data": {
      "text/plain": [
       "(305, 305)"
      ]
     },
     "execution_count": 5,
     "metadata": {},
     "output_type": "execute_result"
    }
   ],
   "source": [
    "df_ctrl_d2_24['g-0'].size, df_ctrl_d2_48['g-0'].size"
   ]
  },
  {
   "cell_type": "code",
   "execution_count": 20,
   "metadata": {},
   "outputs": [
    {
     "data": {
      "text/plain": [
       "Text(0.5, 1.0, 'Compare g-0 expressions at 24 and 48 hrs')"
      ]
     },
     "execution_count": 20,
     "metadata": {},
     "output_type": "execute_result"
    },
    {
     "data": {
      "image/png": "[encoded data removed]",
      "text/plain": [
       "<Figure size 432x288 with 1 Axes>"
      ]
     },
     "metadata": {
      "needs_background": "light"
     },
     "output_type": "display_data"
    }
   ],
   "source": [
    "# Compare the histograms of the g-0 data at 24 vs. 48 hours. \n",
    "\n",
    "df_ctrl_d2_24['g-0'].hist(alpha=0.5)\n",
    "df_ctrl_d2_48['g-0'].hist(alpha=0.5)\n",
    "plt.title(\"Compare g-0 expressions at 24 and 48 hrs\")\n",
    "\n",
    "# The data between the 2 g-0s binned differently "
   ]
  },
  {
   "cell_type": "code",
   "execution_count": 11,
   "metadata": {},
   "outputs": [
    {
     "data": {
      "text/plain": [
       "Text(0.5, 1.0, 'Compare g-0 expression at 24 and 48 hrs')"
      ]
     },
     "execution_count": 11,
     "metadata": {},
     "output_type": "execute_result"
    },
    {
     "data": {
      "image/png": "[encoded data removed]",
      "text/plain": [
       "<Figure size 432x288 with 1 Axes>"
      ]
     },
     "metadata": {
      "needs_background": "light"
     },
     "output_type": "display_data"
    }
   ],
   "source": [
    "# Scatter plot the 2 g-0 data. \n",
    "\n",
    "plt.scatter(x=df_ctrl_d2_24['g-0'], y=df_ctrl_d2_48['g-0'])\n",
    "plt.title(\"Compare g-0 expression at 24 and 48 hrs\")"
   ]
  },
  {
   "cell_type": "code",
   "execution_count": 18,
   "metadata": {},
   "outputs": [
    {
     "data": {
      "text/plain": [
       "<seaborn.axisgrid.JointGrid at 0x7fc07d447a90>"
      ]
     },
     "execution_count": 18,
     "metadata": {},
     "output_type": "execute_result"
    },
    {
     "data": {
      "image/png": "[encoded data removed]",
      "text/plain": [
       "<Figure size 432x432 with 3 Axes>"
      ]
     },
     "metadata": {
      "needs_background": "light"
     },
     "output_type": "display_data"
    }
   ],
   "source": [
    "# Jointplot the 2 g-0 data\n",
    "\n",
    "sns.jointplot(x=df_ctrl_d2_24['g-0'], y=df_ctrl_d2_48['g-0'])\n",
    "# plt.title(\"Compare g-0 expression at 24 and 48 hrs\")"
   ]
  },
  {
   "cell_type": "code",
   "execution_count": 16,
   "metadata": {},
   "outputs": [
    {
     "data": {
      "text/plain": [
       "Ttest_indResult(statistic=-0.03571110005597076, pvalue=0.9715244406896814)"
      ]
     },
     "execution_count": 16,
     "metadata": {},
     "output_type": "execute_result"
    }
   ],
   "source": [
    "# variances are equal\n",
    "# t-test\n",
    "\n",
    "stats.ttest_ind(df_ctrl_d2_24['g-0'], df_ctrl_d2_48['g-0'], equal_var=True)\n",
    "\n",
    "# Since p > 0.05, it is fail to reject the H0."
   ]
  },
  {
   "cell_type": "markdown",
   "metadata": {},
   "source": [
    "### Expand to all gene expression in control with dose 2 different at 24 vs. 48 hours?\n",
    "$H_0$: The average gene expressions in control with dose 2 are the same at 24 vs. 48 hours.<br>\n",
    "$H_a$: The average gene expressions in control with dose 2 are significantly different at 24 vs. 48 hours."
   ]
  },
  {
   "cell_type": "code",
   "execution_count": 22,
   "metadata": {},
   "outputs": [
    {
     "data": {
      "text/plain": [
       "772"
      ]
     },
     "execution_count": 22,
     "metadata": {},
     "output_type": "execute_result"
    }
   ],
   "source": [
    "# Iterate the rest of the gene expression data\n",
    "\n",
    "output = {}\n",
    "\n",
    "for i in range(0, 772):\n",
    "    gene = 'g-' + str(i)\n",
    "    s, p = stats.levene(df_ctrl_d2_24[gene], df_ctrl_d2_48[gene])\n",
    "    if p < 0.05:\n",
    "        s1, p1 = stats.ttest_ind(df_ctrl_d2_24[gene], df_ctrl_d2_48[gene], equal_var=False)\n",
    "    else:\n",
    "        s1, p1 = stats.ttest_ind(df_ctrl_d2_24[gene], df_ctrl_d2_48[gene], equal_var=True)\n",
    "    output[gene] = p1\n",
    "\n",
    "ctrl_24_48 = pd.Series(output)\n",
    "ctrl_24_48.size"
   ]
  },
  {
   "cell_type": "code",
   "execution_count": 64,
   "metadata": {},
   "outputs": [
    {
     "data": {
      "text/plain": [
       "290"
      ]
     },
     "execution_count": 64,
     "metadata": {},
     "output_type": "execute_result"
    }
   ],
   "source": [
    "# Count how many genes are expressed differently for control group treated with does D2 \n",
    "# at 24 hours vs. 48 hours\n",
    "# set the alpha = 0.05\n",
    "\n",
    "mask = (ctrl_24_48 < 0.05)\n",
    "diff_g_24_48 = ctrl_24_48[mask]\n",
    "diff_g_24_48.size"
   ]
  },
  {
   "cell_type": "markdown",
   "metadata": {},
   "source": [
    "### Expand to all gene expression in control with dose 2 different at 48 vs. 72 hours?\n",
    "$H_0$: The average gene expressions in control with dose 2 are the same at 48 vs. 72 hours.<br>\n",
    "$H_a$: The average gene expressions in control with dose 2 are significantly different at 48 vs. 72 hours."
   ]
  },
  {
   "cell_type": "code",
   "execution_count": 30,
   "metadata": {},
   "outputs": [
    {
     "data": {
      "text/plain": [
       "772"
      ]
     },
     "execution_count": 30,
     "metadata": {},
     "output_type": "execute_result"
    }
   ],
   "source": [
    "output = {}\n",
    "\n",
    "for i in range(0, 772):\n",
    "    gene = 'g-' + str(i)\n",
    "    s, p = stats.levene(df_ctrl_d2_48[gene], df_ctrl_d2_72[gene])\n",
    "    if p < 0.05:\n",
    "        s1, p1 = stats.ttest_ind(df_ctrl_d2_48[gene], df_ctrl_d2_72[gene], equal_var=False)\n",
    "    else:\n",
    "        s1, p1 = stats.ttest_ind(df_ctrl_d2_48[gene], df_ctrl_d2_72[gene], equal_var=True)\n",
    "    output[gene] = p1\n",
    "\n",
    "ctrl_48_72 = pd.Series(output)\n",
    "ctrl_48_72.size"
   ]
  },
  {
   "cell_type": "code",
   "execution_count": 63,
   "metadata": {},
   "outputs": [
    {
     "data": {
      "text/plain": [
       "261"
      ]
     },
     "execution_count": 63,
     "metadata": {},
     "output_type": "execute_result"
    }
   ],
   "source": [
    "# Count how many genes are expressed differently for control group treated with does D2 \n",
    "# at 48 hours vs. 72 hours\n",
    "# set the alpha = 0.05\n",
    "\n",
    "mask = (ctrl_48_72 < 0.05)\n",
    "diff_g_48_72 = ctrl_48_72[mask]\n",
    "diff_g_48_72.size"
   ]
  },
  {
   "cell_type": "code",
   "execution_count": 56,
   "metadata": {},
   "outputs": [
    {
     "data": {
      "text/plain": [
       "g-1     2.135088e-03\n",
       "g-2     2.410092e-09\n",
       "g-4     4.173489e-03\n",
       "g-5     1.330103e-02\n",
       "g-10    8.116233e-03\n",
       "dtype: float64"
      ]
     },
     "execution_count": 56,
     "metadata": {},
     "output_type": "execute_result"
    }
   ],
   "source": [
    "diff_g_24_48.head()"
   ]
  },
  {
   "cell_type": "code",
   "execution_count": 57,
   "metadata": {},
   "outputs": [
    {
     "data": {
      "text/plain": [
       "g-2     1.313885e-02\n",
       "g-4     9.986158e-07\n",
       "g-6     1.029790e-04\n",
       "g-18    4.836402e-04\n",
       "g-19    2.758921e-03\n",
       "dtype: float64"
      ]
     },
     "execution_count": 57,
     "metadata": {},
     "output_type": "execute_result"
    }
   ],
   "source": [
    "diff_g_48_72.head()"
   ]
  },
  {
   "cell_type": "code",
   "execution_count": 65,
   "metadata": {},
   "outputs": [
    {
     "data": {
      "text/plain": [
       "107"
      ]
     },
     "execution_count": 65,
     "metadata": {},
     "output_type": "execute_result"
    }
   ],
   "source": [
    "# Convert the g-# that expressed differently to set\n",
    "\n",
    "set_diff_g_24_48 = set(diff_g_24_48.index.tolist())\n",
    "set_diff_g_48_72 = set(diff_g_48_72.index.tolist())\n",
    "\n",
    "# Find out the intersection between the two sets\n",
    "\n",
    "len(set_diff_g_24_48 & set_diff_g_48_72)"
   ]
  },
  {
   "cell_type": "markdown",
   "metadata": {},
   "source": [
    "**Takeaways**<br>\n",
    "- Do I need to address the outliers in gene expression data? In MVP, No.<br>\n",
    "- The average g-0 expressions in control with dose 2 are the same for 24 vs. 48 hours.<br>\n",
    "- In controls treated with dose 2 at 24 vs. 48 hours:<br> \n",
    "    - 290 genes expressed significantly different.<br>\n",
    "        - caused by controls<br>\n",
    "        - caused by outliers<br>\n",
    "        - natural process, caused by cell proliferation<br>\n",
    "- In controls treated with dose 2 at 48 vs. 72 hours:<br>\n",
    "    - 261 genes expressed significantly different.<br>\n",
    "    - Compare with previous 24 vs. 48, 107 genes are in common."
   ]
  },
  {
   "cell_type": "markdown",
   "metadata": {},
   "source": [
    "# Explore Cell Viability Data\n",
    "## Visualize the entire cell viability data"
   ]
  },
  {
   "cell_type": "code",
   "execution_count": 4,
   "metadata": {},
   "outputs": [
    {
     "data": {
      "text/plain": [
       "(23814, 100)"
      ]
     },
     "execution_count": 4,
     "metadata": {},
     "output_type": "execute_result"
    }
   ],
   "source": [
    "# Read data frame with c-# columns only \n",
    "\n",
    "df_cv = pd.read_csv('df_cell_viability.csv', index_col=0)\n",
    "df_cv.shape"
   ]
  },
  {
   "cell_type": "code",
   "execution_count": 5,
   "metadata": {},
   "outputs": [
    {
     "data": {
      "text/html": [
       "<div>\n",
       "<style scoped>\n",
       "    .dataframe tbody tr th:only-of-type {\n",
       "        vertical-align: middle;\n",
       "    }\n",
       "\n",
       "    .dataframe tbody tr th {\n",
       "        vertical-align: top;\n",
       "    }\n",
       "\n",
       "    .dataframe thead th {\n",
       "        text-align: right;\n",
       "    }\n",
       "</style>\n",
       "<table border=\"1\" class=\"dataframe\">\n",
       "  <thead>\n",
       "    <tr style=\"text-align: right;\">\n",
       "      <th></th>\n",
       "      <th>c-0</th>\n",
       "      <th>c-1</th>\n",
       "      <th>c-2</th>\n",
       "      <th>c-3</th>\n",
       "      <th>c-4</th>\n",
       "      <th>c-5</th>\n",
       "      <th>c-6</th>\n",
       "      <th>c-7</th>\n",
       "      <th>c-8</th>\n",
       "      <th>c-9</th>\n",
       "      <th>...</th>\n",
       "      <th>c-90</th>\n",
       "      <th>c-91</th>\n",
       "      <th>c-92</th>\n",
       "      <th>c-93</th>\n",
       "      <th>c-94</th>\n",
       "      <th>c-95</th>\n",
       "      <th>c-96</th>\n",
       "      <th>c-97</th>\n",
       "      <th>c-98</th>\n",
       "      <th>c-99</th>\n",
       "    </tr>\n",
       "    <tr>\n",
       "      <th>sig_id</th>\n",
       "      <th></th>\n",
       "      <th></th>\n",
       "      <th></th>\n",
       "      <th></th>\n",
       "      <th></th>\n",
       "      <th></th>\n",
       "      <th></th>\n",
       "      <th></th>\n",
       "      <th></th>\n",
       "      <th></th>\n",
       "      <th></th>\n",
       "      <th></th>\n",
       "      <th></th>\n",
       "      <th></th>\n",
       "      <th></th>\n",
       "      <th></th>\n",
       "      <th></th>\n",
       "      <th></th>\n",
       "      <th></th>\n",
       "      <th></th>\n",
       "      <th></th>\n",
       "    </tr>\n",
       "  </thead>\n",
       "  <tbody>\n",
       "    <tr>\n",
       "      <th>id_000644bb2</th>\n",
       "      <td>-0.0600</td>\n",
       "      <td>0.1083</td>\n",
       "      <td>0.6864</td>\n",
       "      <td>0.4043</td>\n",
       "      <td>0.4213</td>\n",
       "      <td>-0.6797</td>\n",
       "      <td>0.2888</td>\n",
       "      <td>0.4323</td>\n",
       "      <td>-0.3381</td>\n",
       "      <td>0.3407</td>\n",
       "      <td>...</td>\n",
       "      <td>0.2862</td>\n",
       "      <td>0.2584</td>\n",
       "      <td>0.8076</td>\n",
       "      <td>0.5523</td>\n",
       "      <td>-0.1912</td>\n",
       "      <td>0.6584</td>\n",
       "      <td>-0.3981</td>\n",
       "      <td>0.2139</td>\n",
       "      <td>0.3801</td>\n",
       "      <td>0.4176</td>\n",
       "    </tr>\n",
       "    <tr>\n",
       "      <th>id_000779bfc</th>\n",
       "      <td>0.0927</td>\n",
       "      <td>0.2723</td>\n",
       "      <td>0.2772</td>\n",
       "      <td>0.7776</td>\n",
       "      <td>0.3679</td>\n",
       "      <td>0.5696</td>\n",
       "      <td>0.2835</td>\n",
       "      <td>1.4080</td>\n",
       "      <td>0.3745</td>\n",
       "      <td>0.6775</td>\n",
       "      <td>...</td>\n",
       "      <td>-0.4265</td>\n",
       "      <td>0.7543</td>\n",
       "      <td>0.4708</td>\n",
       "      <td>0.0230</td>\n",
       "      <td>0.2957</td>\n",
       "      <td>0.4899</td>\n",
       "      <td>0.1522</td>\n",
       "      <td>0.1241</td>\n",
       "      <td>0.6077</td>\n",
       "      <td>0.7371</td>\n",
       "    </tr>\n",
       "    <tr>\n",
       "      <th>id_000a6266a</th>\n",
       "      <td>-0.1312</td>\n",
       "      <td>-1.4640</td>\n",
       "      <td>0.3394</td>\n",
       "      <td>-1.7790</td>\n",
       "      <td>0.2188</td>\n",
       "      <td>0.5826</td>\n",
       "      <td>-0.7513</td>\n",
       "      <td>0.0543</td>\n",
       "      <td>0.7182</td>\n",
       "      <td>-0.4159</td>\n",
       "      <td>...</td>\n",
       "      <td>-0.7250</td>\n",
       "      <td>-0.6297</td>\n",
       "      <td>0.6103</td>\n",
       "      <td>0.0223</td>\n",
       "      <td>-1.3240</td>\n",
       "      <td>-0.3174</td>\n",
       "      <td>-0.6417</td>\n",
       "      <td>-0.2187</td>\n",
       "      <td>-1.4080</td>\n",
       "      <td>0.6931</td>\n",
       "    </tr>\n",
       "    <tr>\n",
       "      <th>id_0015fd391</th>\n",
       "      <td>-0.3998</td>\n",
       "      <td>-4.5520</td>\n",
       "      <td>-2.7350</td>\n",
       "      <td>-1.9630</td>\n",
       "      <td>-2.8610</td>\n",
       "      <td>-1.2670</td>\n",
       "      <td>-2.5830</td>\n",
       "      <td>-0.5036</td>\n",
       "      <td>-3.1590</td>\n",
       "      <td>-1.8510</td>\n",
       "      <td>...</td>\n",
       "      <td>-2.0990</td>\n",
       "      <td>-0.6441</td>\n",
       "      <td>-5.6300</td>\n",
       "      <td>-1.3780</td>\n",
       "      <td>-0.8632</td>\n",
       "      <td>-1.2880</td>\n",
       "      <td>-1.6210</td>\n",
       "      <td>-0.8784</td>\n",
       "      <td>-0.3876</td>\n",
       "      <td>-0.8154</td>\n",
       "    </tr>\n",
       "    <tr>\n",
       "      <th>id_001626bd3</th>\n",
       "      <td>-0.3774</td>\n",
       "      <td>0.7364</td>\n",
       "      <td>-0.1659</td>\n",
       "      <td>0.2341</td>\n",
       "      <td>1.0060</td>\n",
       "      <td>0.3204</td>\n",
       "      <td>-0.0852</td>\n",
       "      <td>-0.2284</td>\n",
       "      <td>-0.2533</td>\n",
       "      <td>-0.3174</td>\n",
       "      <td>...</td>\n",
       "      <td>0.0042</td>\n",
       "      <td>0.0048</td>\n",
       "      <td>0.6670</td>\n",
       "      <td>1.0690</td>\n",
       "      <td>0.5523</td>\n",
       "      <td>-0.3031</td>\n",
       "      <td>0.1094</td>\n",
       "      <td>0.2885</td>\n",
       "      <td>-0.3786</td>\n",
       "      <td>0.7125</td>\n",
       "    </tr>\n",
       "  </tbody>\n",
       "</table>\n",
       "<p>5 rows × 100 columns</p>\n",
       "</div>"
      ],
      "text/plain": [
       "                 c-0     c-1     c-2     c-3     c-4     c-5     c-6     c-7  \\\n",
       "sig_id                                                                         \n",
       "id_000644bb2 -0.0600  0.1083  0.6864  0.4043  0.4213 -0.6797  0.2888  0.4323   \n",
       "id_000779bfc  0.0927  0.2723  0.2772  0.7776  0.3679  0.5696  0.2835  1.4080   \n",
       "id_000a6266a -0.1312 -1.4640  0.3394 -1.7790  0.2188  0.5826 -0.7513  0.0543   \n",
       "id_0015fd391 -0.3998 -4.5520 -2.7350 -1.9630 -2.8610 -1.2670 -2.5830 -0.5036   \n",
       "id_001626bd3 -0.3774  0.7364 -0.1659  0.2341  1.0060  0.3204 -0.0852 -0.2284   \n",
       "\n",
       "                 c-8     c-9  ...    c-90    c-91    c-92    c-93    c-94  \\\n",
       "sig_id                        ...                                           \n",
       "id_000644bb2 -0.3381  0.3407  ...  0.2862  0.2584  0.8076  0.5523 -0.1912   \n",
       "id_000779bfc  0.3745  0.6775  ... -0.4265  0.7543  0.4708  0.0230  0.2957   \n",
       "id_000a6266a  0.7182 -0.4159  ... -0.7250 -0.6297  0.6103  0.0223 -1.3240   \n",
       "id_0015fd391 -3.1590 -1.8510  ... -2.0990 -0.6441 -5.6300 -1.3780 -0.8632   \n",
       "id_001626bd3 -0.2533 -0.3174  ...  0.0042  0.0048  0.6670  1.0690  0.5523   \n",
       "\n",
       "                c-95    c-96    c-97    c-98    c-99  \n",
       "sig_id                                                \n",
       "id_000644bb2  0.6584 -0.3981  0.2139  0.3801  0.4176  \n",
       "id_000779bfc  0.4899  0.1522  0.1241  0.6077  0.7371  \n",
       "id_000a6266a -0.3174 -0.6417 -0.2187 -1.4080  0.6931  \n",
       "id_0015fd391 -1.2880 -1.6210 -0.8784 -0.3876 -0.8154  \n",
       "id_001626bd3 -0.3031  0.1094  0.2885 -0.3786  0.7125  \n",
       "\n",
       "[5 rows x 100 columns]"
      ]
     },
     "execution_count": 5,
     "metadata": {},
     "output_type": "execute_result"
    }
   ],
   "source": [
    "df_cv.head()"
   ]
  },
  {
   "cell_type": "code",
   "execution_count": 6,
   "metadata": {},
   "outputs": [
    {
     "data": {
      "text/plain": [
       "(2381400, 1)"
      ]
     },
     "execution_count": 6,
     "metadata": {},
     "output_type": "execute_result"
    }
   ],
   "source": [
    "# Melt cell viability data into a single column\n",
    "\n",
    "df_cv_1col = df_cv.melt(var_name='cell_line').set_index('cell_line')\n",
    "df_cv_1col.shape"
   ]
  },
  {
   "cell_type": "code",
   "execution_count": 12,
   "metadata": {
    "scrolled": false
   },
   "outputs": [
    {
     "data": {
      "text/html": [
       "<div>\n",
       "<style scoped>\n",
       "    .dataframe tbody tr th:only-of-type {\n",
       "        vertical-align: middle;\n",
       "    }\n",
       "\n",
       "    .dataframe tbody tr th {\n",
       "        vertical-align: top;\n",
       "    }\n",
       "\n",
       "    .dataframe thead th {\n",
       "        text-align: right;\n",
       "    }\n",
       "</style>\n",
       "<table border=\"1\" class=\"dataframe\">\n",
       "  <thead>\n",
       "    <tr style=\"text-align: right;\">\n",
       "      <th></th>\n",
       "      <th>value</th>\n",
       "    </tr>\n",
       "  </thead>\n",
       "  <tbody>\n",
       "    <tr>\n",
       "      <th>count</th>\n",
       "      <td>2381400.000</td>\n",
       "    </tr>\n",
       "    <tr>\n",
       "      <th>mean</th>\n",
       "      <td>-0.432</td>\n",
       "    </tr>\n",
       "    <tr>\n",
       "      <th>std</th>\n",
       "      <td>1.905</td>\n",
       "    </tr>\n",
       "    <tr>\n",
       "      <th>min</th>\n",
       "      <td>-10.000</td>\n",
       "    </tr>\n",
       "    <tr>\n",
       "      <th>10%</th>\n",
       "      <td>-1.439</td>\n",
       "    </tr>\n",
       "    <tr>\n",
       "      <th>20%</th>\n",
       "      <td>-0.734</td>\n",
       "    </tr>\n",
       "    <tr>\n",
       "      <th>30%</th>\n",
       "      <td>-0.423</td>\n",
       "    </tr>\n",
       "    <tr>\n",
       "      <th>40%</th>\n",
       "      <td>-0.198</td>\n",
       "    </tr>\n",
       "    <tr>\n",
       "      <th>50%</th>\n",
       "      <td>-0.005</td>\n",
       "    </tr>\n",
       "    <tr>\n",
       "      <th>60%</th>\n",
       "      <td>0.175</td>\n",
       "    </tr>\n",
       "    <tr>\n",
       "      <th>70%</th>\n",
       "      <td>0.358</td>\n",
       "    </tr>\n",
       "    <tr>\n",
       "      <th>80%</th>\n",
       "      <td>0.564</td>\n",
       "    </tr>\n",
       "    <tr>\n",
       "      <th>90%</th>\n",
       "      <td>0.839</td>\n",
       "    </tr>\n",
       "    <tr>\n",
       "      <th>max</th>\n",
       "      <td>6.412</td>\n",
       "    </tr>\n",
       "  </tbody>\n",
       "</table>\n",
       "</div>"
      ],
      "text/plain": [
       "             value\n",
       "count  2381400.000\n",
       "mean        -0.432\n",
       "std          1.905\n",
       "min        -10.000\n",
       "10%         -1.439\n",
       "20%         -0.734\n",
       "30%         -0.423\n",
       "40%         -0.198\n",
       "50%         -0.005\n",
       "60%          0.175\n",
       "70%          0.358\n",
       "80%          0.564\n",
       "90%          0.839\n",
       "max          6.412"
      ]
     },
     "execution_count": 12,
     "metadata": {},
     "output_type": "execute_result"
    }
   ],
   "source": [
    "# Print the descriptive statistics of the entire cell viability dataset\n",
    "\n",
    "percentiles = [0.1, 0.2, 0.3, 0.4, 0.5, 0.6, 0.7, 0.8, 0.9]\n",
    "\n",
    "df_cv_1col.describe(percentiles).round(3)"
   ]
  },
  {
   "cell_type": "code",
   "execution_count": 15,
   "metadata": {},
   "outputs": [
    {
     "data": {
      "text/plain": [
       "[Text(0.5, 0, '')]"
      ]
     },
     "execution_count": 15,
     "metadata": {},
     "output_type": "execute_result"
    },
    {
     "data": {
      "image/png": "[encoded data removed]",
      "text/plain": [
       "<Figure size 936x504 with 2 Axes>"
      ]
     },
     "metadata": {
      "needs_background": "light"
     },
     "output_type": "display_data"
    }
   ],
   "source": [
    "# Plot the entire cell viability data\n",
    "\n",
    "# Cut the window into 2 parts\n",
    "fig, (ax_box, ax_hist) = plt.subplots(2, sharex=True, figsize=(13,7),  \n",
    "                                      gridspec_kw={\"height_ratios\": (0.15, 0.85)})\n",
    "\n",
    "# Add a graph in each part\n",
    "sns.boxplot(df_cv_1col, ax=ax_box)\n",
    "sns.distplot(df_cv_1col, kde=True, ax=ax_hist)\n",
    "\n",
    "\n",
    "# Add title\n",
    "ax_box.set_title('Distribution of the entire cell viability data')\n",
    "\n",
    "# Remove x axis name for the boxplot\n",
    "ax_box.set(xlabel='')"
   ]
  },
  {
   "cell_type": "markdown",
   "metadata": {},
   "source": [
    "**Takeaways**\n",
    "- The mean is -0.432 and the median -0.005, close to zero. \n",
    "- 80% of the data are between -1.439 and 0.839.\n",
    "- A small bump was observed at -10. "
   ]
  },
  {
   "cell_type": "markdown",
   "metadata": {},
   "source": [
    "## Visualize the control cell viability data"
   ]
  },
  {
   "cell_type": "code",
   "execution_count": 16,
   "metadata": {},
   "outputs": [
    {
     "data": {
      "text/plain": [
       "(1866, 875)"
      ]
     },
     "execution_count": 16,
     "metadata": {},
     "output_type": "execute_result"
    }
   ],
   "source": [
    "# Read control dataset\n",
    "\n",
    "df_ctrl = pd.read_csv('df_ctrl.csv', index_col=0)\n",
    "df_ctrl.shape"
   ]
  },
  {
   "cell_type": "code",
   "execution_count": 17,
   "metadata": {},
   "outputs": [
    {
     "data": {
      "text/plain": [
       "(1866, 100)"
      ]
     },
     "execution_count": 17,
     "metadata": {},
     "output_type": "execute_result"
    }
   ],
   "source": [
    "# Extract cell viability data only \n",
    "\n",
    "mask_c = df_ctrl.columns.str.contains('c-')\n",
    "df_ctrl_c = df_ctrl.iloc[:, mask_c]\n",
    "df_ctrl_c.shape"
   ]
  },
  {
   "cell_type": "code",
   "execution_count": 18,
   "metadata": {},
   "outputs": [
    {
     "data": {
      "text/plain": [
       "(186600, 1)"
      ]
     },
     "execution_count": 18,
     "metadata": {},
     "output_type": "execute_result"
    }
   ],
   "source": [
    "# Melt control cell viability data into a single columna\n",
    "\n",
    "df_ctrl_c_1col = df_ctrl_c.melt(var_name='cell_line').set_index('cell_line')\n",
    "df_ctrl_c_1col.shape"
   ]
  },
  {
   "cell_type": "code",
   "execution_count": 19,
   "metadata": {},
   "outputs": [
    {
     "data": {
      "text/html": [
       "<div>\n",
       "<style scoped>\n",
       "    .dataframe tbody tr th:only-of-type {\n",
       "        vertical-align: middle;\n",
       "    }\n",
       "\n",
       "    .dataframe tbody tr th {\n",
       "        vertical-align: top;\n",
       "    }\n",
       "\n",
       "    .dataframe thead th {\n",
       "        text-align: right;\n",
       "    }\n",
       "</style>\n",
       "<table border=\"1\" class=\"dataframe\">\n",
       "  <thead>\n",
       "    <tr style=\"text-align: right;\">\n",
       "      <th></th>\n",
       "      <th>value</th>\n",
       "    </tr>\n",
       "  </thead>\n",
       "  <tbody>\n",
       "    <tr>\n",
       "      <th>count</th>\n",
       "      <td>186600.000</td>\n",
       "    </tr>\n",
       "    <tr>\n",
       "      <th>mean</th>\n",
       "      <td>0.168</td>\n",
       "    </tr>\n",
       "    <tr>\n",
       "      <th>std</th>\n",
       "      <td>0.740</td>\n",
       "    </tr>\n",
       "    <tr>\n",
       "      <th>min</th>\n",
       "      <td>-10.000</td>\n",
       "    </tr>\n",
       "    <tr>\n",
       "      <th>10%</th>\n",
       "      <td>-0.705</td>\n",
       "    </tr>\n",
       "    <tr>\n",
       "      <th>20%</th>\n",
       "      <td>-0.369</td>\n",
       "    </tr>\n",
       "    <tr>\n",
       "      <th>30%</th>\n",
       "      <td>-0.142</td>\n",
       "    </tr>\n",
       "    <tr>\n",
       "      <th>40%</th>\n",
       "      <td>0.046</td>\n",
       "    </tr>\n",
       "    <tr>\n",
       "      <th>50%</th>\n",
       "      <td>0.218</td>\n",
       "    </tr>\n",
       "    <tr>\n",
       "      <th>60%</th>\n",
       "      <td>0.382</td>\n",
       "    </tr>\n",
       "    <tr>\n",
       "      <th>70%</th>\n",
       "      <td>0.553</td>\n",
       "    </tr>\n",
       "    <tr>\n",
       "      <th>80%</th>\n",
       "      <td>0.748</td>\n",
       "    </tr>\n",
       "    <tr>\n",
       "      <th>90%</th>\n",
       "      <td>1.014</td>\n",
       "    </tr>\n",
       "    <tr>\n",
       "      <th>max</th>\n",
       "      <td>3.888</td>\n",
       "    </tr>\n",
       "  </tbody>\n",
       "</table>\n",
       "</div>"
      ],
      "text/plain": [
       "            value\n",
       "count  186600.000\n",
       "mean        0.168\n",
       "std         0.740\n",
       "min       -10.000\n",
       "10%        -0.705\n",
       "20%        -0.369\n",
       "30%        -0.142\n",
       "40%         0.046\n",
       "50%         0.218\n",
       "60%         0.382\n",
       "70%         0.553\n",
       "80%         0.748\n",
       "90%         1.014\n",
       "max         3.888"
      ]
     },
     "execution_count": 19,
     "metadata": {},
     "output_type": "execute_result"
    }
   ],
   "source": [
    "# Print the descriptive statistics of the control cell viability dataset\n",
    "\n",
    "percentiles = [0.1, 0.2, 0.3, 0.4, 0.5, 0.6, 0.7, 0.8, 0.9]\n",
    "\n",
    "df_ctrl_c_1col.describe(percentiles).round(3)"
   ]
  },
  {
   "cell_type": "code",
   "execution_count": 20,
   "metadata": {
    "scrolled": false
   },
   "outputs": [
    {
     "data": {
      "text/plain": [
       "[Text(0.5, 0, '')]"
      ]
     },
     "execution_count": 20,
     "metadata": {},
     "output_type": "execute_result"
    },
    {
     "data": {
      "image/png": "[encoded data removed]",
      "text/plain": [
       "<Figure size 936x504 with 2 Axes>"
      ]
     },
     "metadata": {
      "needs_background": "light"
     },
     "output_type": "display_data"
    }
   ],
   "source": [
    "# Plot cell viability data as a whole\n",
    "\n",
    "# Cut the window into 2 parts\n",
    "fig, (ax_box, ax_hist) = plt.subplots(2, sharex=True, figsize=(13,7),  \n",
    "                                      gridspec_kw={\"height_ratios\": (0.15, 0.85)})\n",
    "\n",
    "# Add a graph in each part\n",
    "sns.boxplot(df_ctrl_c_1col, ax=ax_box)\n",
    "sns.distplot(df_ctrl_c_1col, kde=True, ax=ax_hist)\n",
    "\n",
    "# Add title\n",
    "ax_box.set_title('Distribution of the control cell viability data')\n",
    "\n",
    "# Remove x axis name for the boxplot\n",
    "ax_box.set(xlabel='')"
   ]
  },
  {
   "cell_type": "markdown",
   "metadata": {},
   "source": [
    "**Takeaways**\n",
    "- The mean is 0.168 and the median is 0.218.\n",
    "- 80% of the data are between -0.705 and 1.014."
   ]
  },
  {
   "cell_type": "markdown",
   "metadata": {},
   "source": [
    "## Visualize the trt cell viability data"
   ]
  },
  {
   "cell_type": "code",
   "execution_count": 22,
   "metadata": {},
   "outputs": [
    {
     "data": {
      "text/plain": [
       "(21948, 875)"
      ]
     },
     "execution_count": 22,
     "metadata": {},
     "output_type": "execute_result"
    }
   ],
   "source": [
    "# Read trt dataset\n",
    "\n",
    "df_trt = pd.read_csv('df_trt.csv', index_col=0)\n",
    "df_trt.shape"
   ]
  },
  {
   "cell_type": "code",
   "execution_count": 23,
   "metadata": {},
   "outputs": [
    {
     "data": {
      "text/plain": [
       "(21948, 100)"
      ]
     },
     "execution_count": 23,
     "metadata": {},
     "output_type": "execute_result"
    }
   ],
   "source": [
    "# Extract cell viability data only \n",
    "\n",
    "mask_c = df_trt.columns.str.contains('c-')\n",
    "df_trt_c = df_trt.iloc[:, mask_c]\n",
    "df_trt_c.shape"
   ]
  },
  {
   "cell_type": "code",
   "execution_count": 24,
   "metadata": {},
   "outputs": [
    {
     "data": {
      "text/plain": [
       "(2194800, 1)"
      ]
     },
     "execution_count": 24,
     "metadata": {},
     "output_type": "execute_result"
    }
   ],
   "source": [
    "# Melt trt cell viability data into a single columna\n",
    "\n",
    "df_trt_c_1col = df_trt_c.melt(var_name='cell_line').set_index('cell_line')\n",
    "df_trt_c_1col.shape"
   ]
  },
  {
   "cell_type": "code",
   "execution_count": 26,
   "metadata": {},
   "outputs": [
    {
     "data": {
      "text/html": [
       "<div>\n",
       "<style scoped>\n",
       "    .dataframe tbody tr th:only-of-type {\n",
       "        vertical-align: middle;\n",
       "    }\n",
       "\n",
       "    .dataframe tbody tr th {\n",
       "        vertical-align: top;\n",
       "    }\n",
       "\n",
       "    .dataframe thead th {\n",
       "        text-align: right;\n",
       "    }\n",
       "</style>\n",
       "<table border=\"1\" class=\"dataframe\">\n",
       "  <thead>\n",
       "    <tr style=\"text-align: right;\">\n",
       "      <th></th>\n",
       "      <th>value</th>\n",
       "    </tr>\n",
       "  </thead>\n",
       "  <tbody>\n",
       "    <tr>\n",
       "      <th>count</th>\n",
       "      <td>2194800.000</td>\n",
       "    </tr>\n",
       "    <tr>\n",
       "      <th>mean</th>\n",
       "      <td>-0.483</td>\n",
       "    </tr>\n",
       "    <tr>\n",
       "      <th>std</th>\n",
       "      <td>1.964</td>\n",
       "    </tr>\n",
       "    <tr>\n",
       "      <th>min</th>\n",
       "      <td>-10.000</td>\n",
       "    </tr>\n",
       "    <tr>\n",
       "      <th>10%</th>\n",
       "      <td>-1.552</td>\n",
       "    </tr>\n",
       "    <tr>\n",
       "      <th>20%</th>\n",
       "      <td>-0.770</td>\n",
       "    </tr>\n",
       "    <tr>\n",
       "      <th>30%</th>\n",
       "      <td>-0.449</td>\n",
       "    </tr>\n",
       "    <tr>\n",
       "      <th>40%</th>\n",
       "      <td>-0.220</td>\n",
       "    </tr>\n",
       "    <tr>\n",
       "      <th>50%</th>\n",
       "      <td>-0.026</td>\n",
       "    </tr>\n",
       "    <tr>\n",
       "      <th>60%</th>\n",
       "      <td>0.156</td>\n",
       "    </tr>\n",
       "    <tr>\n",
       "      <th>70%</th>\n",
       "      <td>0.340</td>\n",
       "    </tr>\n",
       "    <tr>\n",
       "      <th>80%</th>\n",
       "      <td>0.546</td>\n",
       "    </tr>\n",
       "    <tr>\n",
       "      <th>90%</th>\n",
       "      <td>0.821</td>\n",
       "    </tr>\n",
       "    <tr>\n",
       "      <th>max</th>\n",
       "      <td>6.412</td>\n",
       "    </tr>\n",
       "  </tbody>\n",
       "</table>\n",
       "</div>"
      ],
      "text/plain": [
       "             value\n",
       "count  2194800.000\n",
       "mean        -0.483\n",
       "std          1.964\n",
       "min        -10.000\n",
       "10%         -1.552\n",
       "20%         -0.770\n",
       "30%         -0.449\n",
       "40%         -0.220\n",
       "50%         -0.026\n",
       "60%          0.156\n",
       "70%          0.340\n",
       "80%          0.546\n",
       "90%          0.821\n",
       "max          6.412"
      ]
     },
     "execution_count": 26,
     "metadata": {},
     "output_type": "execute_result"
    }
   ],
   "source": [
    "# Print the descriptive statistics of the trt cell viability dataset\n",
    "\n",
    "percentiles = [0.1, 0.2, 0.3, 0.4, 0.5, 0.6, 0.7, 0.8, 0.9]\n",
    "\n",
    "df_trt_c_1col.describe(percentiles).round(3)"
   ]
  },
  {
   "cell_type": "code",
   "execution_count": 25,
   "metadata": {},
   "outputs": [
    {
     "data": {
      "text/plain": [
       "[Text(0.5, 0, '')]"
      ]
     },
     "execution_count": 25,
     "metadata": {},
     "output_type": "execute_result"
    },
    {
     "data": {
      "image/png": "[encoded data removed]",
      "text/plain": [
       "<Figure size 936x504 with 2 Axes>"
      ]
     },
     "metadata": {
      "needs_background": "light"
     },
     "output_type": "display_data"
    }
   ],
   "source": [
    "# Plot of the viability of c-0 in the controls treated with D2 for 24 hours\n",
    "\n",
    "# Cut the window into 2 parts\n",
    "fig, (ax_box, ax_hist) = plt.subplots(2, sharex=True, figsize=(13,7),  \n",
    "                                      gridspec_kw={\"height_ratios\": (0.15, 0.85)})\n",
    "\n",
    "# Add a graph in each part\n",
    "sns.boxplot(df_trt_c_1col, ax=ax_box)\n",
    "sns.distplot(df_trt_c_1col, kde=True, ax=ax_hist)\n",
    "\n",
    "# Add title\n",
    "ax_box.set_title('Distribution of the trt cell viability data')\n",
    "\n",
    "# Remove x axis name for the boxplot\n",
    "ax_box.set(xlabel='')"
   ]
  },
  {
   "cell_type": "markdown",
   "metadata": {},
   "source": [
    "**Takeaways**\n",
    "- the mean is -0.483 and the median is -0.026.\n",
    "- 80% of the data are between -1.552 and 0.821."
   ]
  },
  {
   "cell_type": "code",
   "execution_count": 27,
   "metadata": {},
   "outputs": [
    {
     "data": {
      "text/plain": [
       "<matplotlib.legend.Legend at 0x7ff8b06b2790>"
      ]
     },
     "execution_count": 27,
     "metadata": {},
     "output_type": "execute_result"
    },
    {
     "data": {
      "image/png": "[encoded data removed]",
      "text/plain": [
       "<Figure size 936x504 with 1 Axes>"
      ]
     },
     "metadata": {
      "needs_background": "light"
     },
     "output_type": "display_data"
    }
   ],
   "source": [
    "# Compare control vs. trt cell viability distribution\n",
    "\n",
    "plt.figure(figsize=(13,7))\n",
    "sns.distplot(df_ctrl_c_1col, color='skyblue', label='control')\n",
    "sns.distplot(df_trt_c_1col, kde=True, color='red', label='trt')\n",
    "plt.title('Compare the distribution of control vs. trt cell viability data')\n",
    "plt.legend()"
   ]
  },
  {
   "cell_type": "markdown",
   "metadata": {},
   "source": [
    "**Takeaways**\n",
    "\n",
    "- Have cell viability data be normalized? \n",
    "- How to deal with the outliers?\n",
    "- What level of data this is? "
   ]
  },
  {
   "cell_type": "code",
   "execution_count": 30,
   "metadata": {
    "scrolled": false
   },
   "outputs": [
    {
     "name": "stdout",
     "output_type": "stream",
     "text": [
      "mean      0.041709\n",
      "median    0.083800\n",
      "Name: c-0, dtype: float64\n"
     ]
    },
    {
     "data": {
      "text/plain": [
       "[Text(0.5, 0, '')]"
      ]
     },
     "execution_count": 30,
     "metadata": {},
     "output_type": "execute_result"
    },
    {
     "data": {
      "image/png": "[encoded data removed]",
      "text/plain": [
       "<Figure size 936x504 with 2 Axes>"
      ]
     },
     "metadata": {
      "needs_background": "light"
     },
     "output_type": "display_data"
    }
   ],
   "source": [
    "# Plot of the viability of c-0 in the controls treated with D2 for 24 hours\n",
    "\n",
    "print(df_ctrl_d2_24['c-0'].agg(['mean', 'median']))\n",
    "\n",
    "# Cut the window i 2 parts\n",
    "fig, (ax_box, ax_hist) = plt.subplots(2, sharex=True, figsize=(13,7),  \n",
    "                                      gridspec_kw={\"height_ratios\": (0.15, 0.85)})\n",
    "\n",
    "# Add a graph in each part\n",
    "sns.boxplot(df_ctrl_d2_24['c-0'], ax=ax_box)\n",
    "sns.distplot(df_ctrl_d2_24['c-0'], kde=False, ax=ax_hist)\n",
    "\n",
    "# Remove x axis name for the boxplot\n",
    "ax_box.set(xlabel='')"
   ]
  },
  {
   "cell_type": "markdown",
   "metadata": {},
   "source": [
    "## Are the viabilities in controlled cell lines treated with dose D2 sigfinicantly different over time?\n",
    "### Take cell line #0 for example\n",
    "### Under dose 2, doees the viability sigfinicantly change at 24 vs. 48 hours?\n",
    "$H_0$: The average c-0 viablity data in controls with dose 2 are the same at 24 vs. 48 hours.<br>\n",
    "$H_a$: The average c-0 viablity data in controls with dose 2 are significantly different at 24 vs. 48 hours."
   ]
  },
  {
   "cell_type": "code",
   "execution_count": 6,
   "metadata": {},
   "outputs": [
    {
     "data": {
      "text/plain": [
       "(305, 305)"
      ]
     },
     "execution_count": 6,
     "metadata": {},
     "output_type": "execute_result"
    }
   ],
   "source": [
    "# Check: the viability data of df_ctrl_d2 should have 305 rows. \n",
    "\n",
    "df_ctrl_d2_24['c-0'].size, df_ctrl_d2_48['c-0'].size"
   ]
  },
  {
   "cell_type": "code",
   "execution_count": 32,
   "metadata": {},
   "outputs": [
    {
     "data": {
      "text/plain": [
       "575"
      ]
     },
     "execution_count": 32,
     "metadata": {},
     "output_type": "execute_result"
    }
   ],
   "source": [
    "25*23"
   ]
  },
  {
   "cell_type": "code",
   "execution_count": 10,
   "metadata": {
    "scrolled": true
   },
   "outputs": [
    {
     "data": {
      "text/plain": [
       "Text(0.5, 1.0, 'Compare c-0 viability at 24 and 48 hrs')"
      ]
     },
     "execution_count": 10,
     "metadata": {},
     "output_type": "execute_result"
    },
    {
     "data": {
      "image/png": "[encoded data removed]",
      "text/plain": [
       "<Figure size 432x288 with 1 Axes>"
      ]
     },
     "metadata": {
      "needs_background": "light"
     },
     "output_type": "display_data"
    }
   ],
   "source": [
    "# Compare the distribution of the c-0 data at 24 vs. 48 hours. \n",
    "\n",
    "df_ctrl_d2_24['c-0'].hist()\n",
    "df_ctrl_d2_48['c-0'].hist()\n",
    "plt.title(\"Compare c-0 viability at 24 and 48 hrs\")"
   ]
  },
  {
   "cell_type": "code",
   "execution_count": 11,
   "metadata": {},
   "outputs": [
    {
     "data": {
      "text/plain": [
       "LeveneResult(statistic=0.17198316441562886, pvalue=0.6785015699903569)"
      ]
     },
     "execution_count": 11,
     "metadata": {},
     "output_type": "execute_result"
    }
   ],
   "source": [
    "# Test the assumption of equal variance by Levene's test\n",
    "\n",
    "stats.levene(df_ctrl_d2_24['c-0'], df_ctrl_d2_48['c-0'])\n",
    "\n",
    "# since p > 0.05, we can say that the variances are not significantly different\n",
    "# set the argument in ttest_ind of equal_var to be true"
   ]
  },
  {
   "cell_type": "code",
   "execution_count": 12,
   "metadata": {},
   "outputs": [
    {
     "data": {
      "text/plain": [
       "Ttest_indResult(statistic=-1.833376733131924, pvalue=0.06723527624790276)"
      ]
     },
     "execution_count": 12,
     "metadata": {},
     "output_type": "execute_result"
    }
   ],
   "source": [
    "# variances are equal\n",
    "# t-test\n",
    "\n",
    "stats.ttest_ind(df_ctrl_d2_24['c-0'], df_ctrl_d2_48['c-0'], equal_var=True)\n",
    "\n",
    "# Since p > 0.05, it is fail to reject the H0. Hence, no sigfinicant difference has been found in c-0"
   ]
  },
  {
   "cell_type": "markdown",
   "metadata": {},
   "source": [
    "### Expand to all cell viability data in controls with dose 2 different at 24 vs. 48 hours?\n",
    "$H_0$: The average viability in all cell lines in control with dose 2 are the same at 24 vs. 48 hours.<br>\n",
    "$H_a$: The average viability in all cell lines in control with dose 2 are significantly different at 24 vs. 48 hours."
   ]
  },
  {
   "cell_type": "code",
   "execution_count": 26,
   "metadata": {},
   "outputs": [
    {
     "data": {
      "text/plain": [
       "100"
      ]
     },
     "execution_count": 26,
     "metadata": {},
     "output_type": "execute_result"
    }
   ],
   "source": [
    "# Iterate the rest of the gene expression data\n",
    "\n",
    "output_s = {}\n",
    "output_p = {}\n",
    "\n",
    "for i in range(0, 100):\n",
    "    cell = 'c-' + str(i)\n",
    "    s, p = stats.levene(df_ctrl_d2_24[cell], df_ctrl_d2_48[cell])\n",
    "    if p < 0.05:\n",
    "        s1, p1 = stats.ttest_ind(df_ctrl_d2_24[cell], df_ctrl_d2_48[cell], equal_var=False)\n",
    "    else:\n",
    "        s1, p1 = stats.ttest_ind(df_ctrl_d2_24[cell], df_ctrl_d2_48[cell], equal_var=True)\n",
    "    output_s[cell] = s1\n",
    "    output_p[cell] = p1\n",
    "\n",
    "ctrl_24_48_c = pd.Series(output_p)\n",
    "ctrl_24_48_c.size"
   ]
  },
  {
   "cell_type": "code",
   "execution_count": 16,
   "metadata": {},
   "outputs": [
    {
     "data": {
      "text/plain": [
       "36"
      ]
     },
     "execution_count": 16,
     "metadata": {},
     "output_type": "execute_result"
    }
   ],
   "source": [
    "# Count how many genes are expressed differently for control group treated with does D2 \n",
    "# at 24 hours vs. 48 hours\n",
    "# set the alpha = 0.05\n",
    "\n",
    "mask = (ctrl_24_48_c < 0.05)\n",
    "diff_c_24_48 = ctrl_24_48_c[mask]\n",
    "diff_c_24_48.size"
   ]
  },
  {
   "cell_type": "markdown",
   "metadata": {},
   "source": [
    "<div class=\"alert alert-block alert-success\">\n",
    "<b>Takeways:<br> \n",
    "    1. 36 cell lines have significalty different viability in controls treated with dose 2 at 24 vs. 48 hours.<br>\n",
    "    2. Waht does this indicate? Indicate those 36 cell lines have shorter doubling times.<br>\n",
    "    3. Healthy vs. Cancer, for example (No, they shold all be cancer cell lines)</b></div>"
   ]
  },
  {
   "cell_type": "code",
   "execution_count": 37,
   "metadata": {},
   "outputs": [
    {
     "data": {
      "text/plain": [
       "4.3580138827153873e-07"
      ]
     },
     "execution_count": 37,
     "metadata": {},
     "output_type": "execute_result"
    }
   ],
   "source": [
    "# By observation, cell line 42 has the smalllest value of p-value\n",
    "\n",
    "diff_c_24_48.loc['c-42']"
   ]
  },
  {
   "cell_type": "code",
   "execution_count": 36,
   "metadata": {},
   "outputs": [
    {
     "data": {
      "text/plain": [
       "Text(0.5, 1.0, 'Compare c-42 viability at 24 and 48 hrs')"
      ]
     },
     "execution_count": 36,
     "metadata": {},
     "output_type": "execute_result"
    },
    {
     "data": {
      "image/png": "[encoded data removed]",
      "text/plain": [
       "<Figure size 432x288 with 1 Axes>"
      ]
     },
     "metadata": {
      "needs_background": "light"
     },
     "output_type": "display_data"
    }
   ],
   "source": [
    "# Compare the distribution of the c-42 data at 24 vs. 48 hours. \n",
    "\n",
    "df_ctrl_d2_24['c-42'].hist(alpha=0.5)\n",
    "df_ctrl_d2_48['c-42'].hist(alpha=0.5)\n",
    "plt.title(\"Compare c-42 viability at 24 and 48 hrs\")"
   ]
  },
  {
   "cell_type": "markdown",
   "metadata": {},
   "source": [
    "## Are genes' expression in one observation normalized?\n",
    "According to the literature, they are. "
   ]
  },
  {
   "cell_type": "code",
   "execution_count": 84,
   "metadata": {
    "scrolled": false
   },
   "outputs": [
    {
     "name": "stdout",
     "output_type": "stream",
     "text": [
      "mean      0.167008\n",
      "median    0.227750\n",
      "Name: id_90a774a1a, dtype: float64\n"
     ]
    },
    {
     "data": {
      "text/plain": [
       "<matplotlib.axes._subplots.AxesSubplot at 0x7fc0805791d0>"
      ]
     },
     "execution_count": 84,
     "metadata": {},
     "output_type": "execute_result"
    },
    {
     "data": {
      "image/png": "[encoded data removed]",
      "text/plain": [
       "<Figure size 936x504 with 2 Axes>"
      ]
     },
     "metadata": {
      "needs_background": "light"
     },
     "output_type": "display_data"
    }
   ],
   "source": [
    "# Visualize gene expression data in one random sample\n",
    "\n",
    "id_random = df_ctrl_d2_24.sample(1)\n",
    "\n",
    "# subset the gene expression data only\n",
    "\n",
    "mask_g = id_random.columns.str.contains('g-')\n",
    "id_random_g = id_random.T[mask_g].iloc[:, 0]\n",
    "\n",
    "# Print out mean, median and mode of the dataset\n",
    "\n",
    "print(id_random_g.agg(['mean', 'median']))\n",
    "\n",
    "# Visualize the distribution and boxplot of the gene expression\n",
    "\n",
    "plt.figure(figsize=(13,7))\n",
    "\n",
    "plt.subplot(121)\n",
    "id_random_g.hist()\n",
    "\n",
    "plt.subplot(122)\n",
    "sns.boxplot(id_random_g)"
   ]
  },
  {
   "cell_type": "markdown",
   "metadata": {},
   "source": [
    "## <div class=\"alert alert-block alert-info\">Explore Target Varibles</div>"
   ]
  },
  {
   "cell_type": "code",
   "execution_count": 2,
   "metadata": {},
   "outputs": [
    {
     "name": "stdout",
     "output_type": "stream",
     "text": [
      "<class 'pandas.core.frame.DataFrame'>\n",
      "Index: 23814 entries, id_000644bb2 to id_ffffdd77b\n",
      "Columns: 206 entries, 5-alpha_reductase_inhibitor to wnt_inhibitor\n",
      "dtypes: int64(206)\n",
      "memory usage: 37.6+ MB\n"
     ]
    }
   ],
   "source": [
    "# Read file train_targets_socred\n",
    "\n",
    "targets = pd.read_csv('train_targets_scored.csv', index_col=0)\n",
    "targets.info()"
   ]
  },
  {
   "cell_type": "markdown",
   "metadata": {},
   "source": [
    "### How many types of drugs out there?"
   ]
  },
  {
   "cell_type": "code",
   "execution_count": 58,
   "metadata": {},
   "outputs": [
    {
     "data": {
      "text/html": [
       "<div>\n",
       "<style scoped>\n",
       "    .dataframe tbody tr th:only-of-type {\n",
       "        vertical-align: middle;\n",
       "    }\n",
       "\n",
       "    .dataframe tbody tr th {\n",
       "        vertical-align: top;\n",
       "    }\n",
       "\n",
       "    .dataframe thead th {\n",
       "        text-align: right;\n",
       "    }\n",
       "</style>\n",
       "<table border=\"1\" class=\"dataframe\">\n",
       "  <thead>\n",
       "    <tr style=\"text-align: right;\">\n",
       "      <th></th>\n",
       "      <th>drug_type</th>\n",
       "      <th>total</th>\n",
       "    </tr>\n",
       "  </thead>\n",
       "  <tbody>\n",
       "    <tr>\n",
       "      <th>0</th>\n",
       "      <td>nfkb_inhibitor</td>\n",
       "      <td>832</td>\n",
       "    </tr>\n",
       "    <tr>\n",
       "      <th>1</th>\n",
       "      <td>proteasome_inhibitor</td>\n",
       "      <td>726</td>\n",
       "    </tr>\n",
       "    <tr>\n",
       "      <th>2</th>\n",
       "      <td>cyclooxygenase_inhibitor</td>\n",
       "      <td>435</td>\n",
       "    </tr>\n",
       "    <tr>\n",
       "      <th>3</th>\n",
       "      <td>dopamine_receptor_antagonist</td>\n",
       "      <td>424</td>\n",
       "    </tr>\n",
       "    <tr>\n",
       "      <th>4</th>\n",
       "      <td>serotonin_receptor_antagonist</td>\n",
       "      <td>404</td>\n",
       "    </tr>\n",
       "  </tbody>\n",
       "</table>\n",
       "</div>"
      ],
      "text/plain": [
       "                       drug_type  total\n",
       "0                 nfkb_inhibitor    832\n",
       "1           proteasome_inhibitor    726\n",
       "2       cyclooxygenase_inhibitor    435\n",
       "3   dopamine_receptor_antagonist    424\n",
       "4  serotonin_receptor_antagonist    404"
      ]
     },
     "execution_count": 58,
     "metadata": {},
     "output_type": "execute_result"
    }
   ],
   "source": [
    "# Count the number of ids for the drug type and summarize them in dataframe\n",
    "sum_drug = pd.DataFrame(targets.sum(axis=0).sort_values(ascending=False)).reset_index()\n",
    "\n",
    "# Rename the column names\n",
    "sum_drug.rename(columns={'index': 'drug_type', 0: 'total'}, inplace=True)\n",
    "\n",
    "# Show top 5 rows of sum_tars\n",
    "sum_drug.head()"
   ]
  },
  {
   "cell_type": "code",
   "execution_count": 59,
   "metadata": {},
   "outputs": [
    {
     "data": {
      "text/html": [
       "<div>\n",
       "<style scoped>\n",
       "    .dataframe tbody tr th:only-of-type {\n",
       "        vertical-align: middle;\n",
       "    }\n",
       "\n",
       "    .dataframe tbody tr th {\n",
       "        vertical-align: top;\n",
       "    }\n",
       "\n",
       "    .dataframe thead th {\n",
       "        text-align: right;\n",
       "    }\n",
       "</style>\n",
       "<table border=\"1\" class=\"dataframe\">\n",
       "  <thead>\n",
       "    <tr style=\"text-align: right;\">\n",
       "      <th></th>\n",
       "      <th>binding_site</th>\n",
       "      <th>action</th>\n",
       "    </tr>\n",
       "  </thead>\n",
       "  <tbody>\n",
       "    <tr>\n",
       "      <th>0</th>\n",
       "      <td>nfkb</td>\n",
       "      <td>inhibitor</td>\n",
       "    </tr>\n",
       "    <tr>\n",
       "      <th>1</th>\n",
       "      <td>proteasome</td>\n",
       "      <td>inhibitor</td>\n",
       "    </tr>\n",
       "    <tr>\n",
       "      <th>2</th>\n",
       "      <td>cyclooxygenase</td>\n",
       "      <td>inhibitor</td>\n",
       "    </tr>\n",
       "    <tr>\n",
       "      <th>3</th>\n",
       "      <td>dopamine_receptor</td>\n",
       "      <td>antagonist</td>\n",
       "    </tr>\n",
       "    <tr>\n",
       "      <th>4</th>\n",
       "      <td>serotonin_receptor</td>\n",
       "      <td>antagonist</td>\n",
       "    </tr>\n",
       "  </tbody>\n",
       "</table>\n",
       "</div>"
      ],
      "text/plain": [
       "         binding_site      action\n",
       "0                nfkb   inhibitor\n",
       "1          proteasome   inhibitor\n",
       "2      cyclooxygenase   inhibitor\n",
       "3   dopamine_receptor  antagonist\n",
       "4  serotonin_receptor  antagonist"
      ]
     },
     "execution_count": 59,
     "metadata": {},
     "output_type": "execute_result"
    }
   ],
   "source": [
    "# Split the type into binding site and the type of action\n",
    "sum_drug_break = sum_drug.drug_type.str.rsplit(pat='_', n=1, expand=True)\n",
    "\n",
    "# Rename the columns in the sum_subtype\n",
    "sum_drug_break.rename(columns={0: 'binding_site', 1: 'action'}, inplace=True)\n",
    "\n",
    "# Print the first 5 rows in the sum_function\n",
    "sum_drug_break.head()"
   ]
  },
  {
   "cell_type": "code",
   "execution_count": 60,
   "metadata": {},
   "outputs": [
    {
     "data": {
      "text/html": [
       "<div>\n",
       "<style scoped>\n",
       "    .dataframe tbody tr th:only-of-type {\n",
       "        vertical-align: middle;\n",
       "    }\n",
       "\n",
       "    .dataframe tbody tr th {\n",
       "        vertical-align: top;\n",
       "    }\n",
       "\n",
       "    .dataframe thead th {\n",
       "        text-align: right;\n",
       "    }\n",
       "</style>\n",
       "<table border=\"1\" class=\"dataframe\">\n",
       "  <thead>\n",
       "    <tr style=\"text-align: right;\">\n",
       "      <th></th>\n",
       "      <th>binding_site</th>\n",
       "      <th>action</th>\n",
       "      <th>drug_type</th>\n",
       "      <th>total</th>\n",
       "    </tr>\n",
       "  </thead>\n",
       "  <tbody>\n",
       "    <tr>\n",
       "      <th>0</th>\n",
       "      <td>nfkb</td>\n",
       "      <td>inhibitor</td>\n",
       "      <td>nfkb_inhibitor</td>\n",
       "      <td>832</td>\n",
       "    </tr>\n",
       "    <tr>\n",
       "      <th>1</th>\n",
       "      <td>proteasome</td>\n",
       "      <td>inhibitor</td>\n",
       "      <td>proteasome_inhibitor</td>\n",
       "      <td>726</td>\n",
       "    </tr>\n",
       "    <tr>\n",
       "      <th>2</th>\n",
       "      <td>cyclooxygenase</td>\n",
       "      <td>inhibitor</td>\n",
       "      <td>cyclooxygenase_inhibitor</td>\n",
       "      <td>435</td>\n",
       "    </tr>\n",
       "    <tr>\n",
       "      <th>3</th>\n",
       "      <td>dopamine_receptor</td>\n",
       "      <td>antagonist</td>\n",
       "      <td>dopamine_receptor_antagonist</td>\n",
       "      <td>424</td>\n",
       "    </tr>\n",
       "    <tr>\n",
       "      <th>4</th>\n",
       "      <td>serotonin_receptor</td>\n",
       "      <td>antagonist</td>\n",
       "      <td>serotonin_receptor_antagonist</td>\n",
       "      <td>404</td>\n",
       "    </tr>\n",
       "  </tbody>\n",
       "</table>\n",
       "</div>"
      ],
      "text/plain": [
       "         binding_site      action                      drug_type  total\n",
       "0                nfkb   inhibitor                 nfkb_inhibitor    832\n",
       "1          proteasome   inhibitor           proteasome_inhibitor    726\n",
       "2      cyclooxygenase   inhibitor       cyclooxygenase_inhibitor    435\n",
       "3   dopamine_receptor  antagonist   dopamine_receptor_antagonist    424\n",
       "4  serotonin_receptor  antagonist  serotonin_receptor_antagonist    404"
      ]
     },
     "execution_count": 60,
     "metadata": {},
     "output_type": "execute_result"
    }
   ],
   "source": [
    "# Concat sum_function with sum_drug\n",
    "sum_drug = pd.concat([sum_drug_break, sum_drug], axis=1)\n",
    "\n",
    "# Print the first 5 rows of the new sum_drug\n",
    "sum_drug.head()"
   ]
  },
  {
   "cell_type": "code",
   "execution_count": 61,
   "metadata": {},
   "outputs": [
    {
     "data": {
      "text/html": [
       "<div>\n",
       "<style scoped>\n",
       "    .dataframe tbody tr th:only-of-type {\n",
       "        vertical-align: middle;\n",
       "    }\n",
       "\n",
       "    .dataframe tbody tr th {\n",
       "        vertical-align: top;\n",
       "    }\n",
       "\n",
       "    .dataframe thead th {\n",
       "        text-align: right;\n",
       "    }\n",
       "</style>\n",
       "<table border=\"1\" class=\"dataframe\">\n",
       "  <thead>\n",
       "    <tr style=\"text-align: right;\">\n",
       "      <th></th>\n",
       "      <th>binding_site</th>\n",
       "      <th>action</th>\n",
       "      <th>drug_type</th>\n",
       "      <th>total</th>\n",
       "    </tr>\n",
       "  </thead>\n",
       "  <tbody>\n",
       "    <tr>\n",
       "      <th>205</th>\n",
       "      <td>atp-sensitive_potassium_channel</td>\n",
       "      <td>antagonist</td>\n",
       "      <td>atp-sensitive_potassium_channel_antagonist</td>\n",
       "      <td>1</td>\n",
       "    </tr>\n",
       "    <tr>\n",
       "      <th>4</th>\n",
       "      <td>serotonin_receptor</td>\n",
       "      <td>antagonist</td>\n",
       "      <td>serotonin_receptor_antagonist</td>\n",
       "      <td>404</td>\n",
       "    </tr>\n",
       "    <tr>\n",
       "      <th>85</th>\n",
       "      <td>insulin</td>\n",
       "      <td>sensitizer</td>\n",
       "      <td>insulin_sensitizer</td>\n",
       "      <td>51</td>\n",
       "    </tr>\n",
       "    <tr>\n",
       "      <th>149</th>\n",
       "      <td>beta_amyloid</td>\n",
       "      <td>inhibitor</td>\n",
       "      <td>beta_amyloid_inhibitor</td>\n",
       "      <td>24</td>\n",
       "    </tr>\n",
       "    <tr>\n",
       "      <th>66</th>\n",
       "      <td>retinoid_receptor</td>\n",
       "      <td>agonist</td>\n",
       "      <td>retinoid_receptor_agonist</td>\n",
       "      <td>67</td>\n",
       "    </tr>\n",
       "    <tr>\n",
       "      <th>163</th>\n",
       "      <td>farnesyltransferase</td>\n",
       "      <td>inhibitor</td>\n",
       "      <td>farnesyltransferase_inhibitor</td>\n",
       "      <td>18</td>\n",
       "    </tr>\n",
       "    <tr>\n",
       "      <th>185</th>\n",
       "      <td>aldehyde_dehydrogenase</td>\n",
       "      <td>inhibitor</td>\n",
       "      <td>aldehyde_dehydrogenase_inhibitor</td>\n",
       "      <td>7</td>\n",
       "    </tr>\n",
       "    <tr>\n",
       "      <th>195</th>\n",
       "      <td>lxr</td>\n",
       "      <td>agonist</td>\n",
       "      <td>lxr_agonist</td>\n",
       "      <td>6</td>\n",
       "    </tr>\n",
       "    <tr>\n",
       "      <th>83</th>\n",
       "      <td>chelating</td>\n",
       "      <td>agent</td>\n",
       "      <td>chelating_agent</td>\n",
       "      <td>54</td>\n",
       "    </tr>\n",
       "    <tr>\n",
       "      <th>89</th>\n",
       "      <td>dna_alkylating</td>\n",
       "      <td>agent</td>\n",
       "      <td>dna_alkylating_agent</td>\n",
       "      <td>48</td>\n",
       "    </tr>\n",
       "  </tbody>\n",
       "</table>\n",
       "</div>"
      ],
      "text/plain": [
       "                        binding_site      action  \\\n",
       "205  atp-sensitive_potassium_channel  antagonist   \n",
       "4                 serotonin_receptor  antagonist   \n",
       "85                           insulin  sensitizer   \n",
       "149                     beta_amyloid   inhibitor   \n",
       "66                 retinoid_receptor     agonist   \n",
       "163              farnesyltransferase   inhibitor   \n",
       "185           aldehyde_dehydrogenase   inhibitor   \n",
       "195                              lxr     agonist   \n",
       "83                         chelating       agent   \n",
       "89                    dna_alkylating       agent   \n",
       "\n",
       "                                      drug_type  total  \n",
       "205  atp-sensitive_potassium_channel_antagonist      1  \n",
       "4                 serotonin_receptor_antagonist    404  \n",
       "85                           insulin_sensitizer     51  \n",
       "149                      beta_amyloid_inhibitor     24  \n",
       "66                    retinoid_receptor_agonist     67  \n",
       "163               farnesyltransferase_inhibitor     18  \n",
       "185            aldehyde_dehydrogenase_inhibitor      7  \n",
       "195                                 lxr_agonist      6  \n",
       "83                              chelating_agent     54  \n",
       "89                         dna_alkylating_agent     48  "
      ]
     },
     "execution_count": 61,
     "metadata": {},
     "output_type": "execute_result"
    }
   ],
   "source": [
    "sum_drug.sample(10)"
   ]
  },
  {
   "cell_type": "code",
   "execution_count": 96,
   "metadata": {},
   "outputs": [
    {
     "data": {
      "text/plain": [
       "action\n",
       "inhibitor       9693\n",
       "antagonist      3449\n",
       "agonist         2330\n",
       "blocker          323\n",
       "agent            150\n",
       "activator        115\n",
       "local             80\n",
       "medium            56\n",
       "sensitizer        51\n",
       "stimulant         49\n",
       "antifolate        36\n",
       "secretagogue      30\n",
       "donor             26\n",
       "b                 26\n",
       "scavenger         18\n",
       "Name: total, dtype: int64"
      ]
     },
     "execution_count": 96,
     "metadata": {},
     "output_type": "execute_result"
    }
   ],
   "source": [
    "# Count the ids by drug action\n",
    "\n",
    "sum_action = sum_drug.groupby(by='action').total.sum()\n",
    "sum_action.sort_values(ascending=False)"
   ]
  },
  {
   "cell_type": "code",
   "execution_count": 116,
   "metadata": {},
   "outputs": [
    {
     "data": {
      "text/plain": [
       "<matplotlib.axes._subplots.AxesSubplot at 0x7fe91a45e050>"
      ]
     },
     "execution_count": 116,
     "metadata": {},
     "output_type": "execute_result"
    },
    {
     "data": {
      "image/png": "[encoded data removed]",
      "text/plain": [
       "<Figure size 648x432 with 1 Axes>"
      ]
     },
     "metadata": {
      "needs_background": "light"
     },
     "output_type": "display_data"
    }
   ],
   "source": [
    "# Visualize the top 6 with most counts\n",
    "\n",
    "plt.figure(figsize=(9,6))\n",
    "sum_action.sort_values(ascending=False).head(6).plot.bar()"
   ]
  },
  {
   "cell_type": "markdown",
   "metadata": {},
   "source": [
    "**Takeaways**: the top 6 drug types are:\n",
    "- inhibitor\n",
    "- antagonist\n",
    "- agonist\n",
    "- blocker\n",
    "- agent\n",
    "- activator"
   ]
  },
  {
   "cell_type": "markdown",
   "metadata": {
    "scrolled": true
   },
   "source": [
    "### What are the targets that the drugs act on one at a time? "
   ]
  },
  {
   "cell_type": "code",
   "execution_count": 70,
   "metadata": {},
   "outputs": [
    {
     "data": {
      "text/plain": [
       "(12532, 206)"
      ]
     },
     "execution_count": 70,
     "metadata": {},
     "output_type": "execute_result"
    }
   ],
   "source": [
    "# Sum how many targets one id has\n",
    "\n",
    "targets.sum(axis=1)\n",
    "\n",
    "# Create a mask for id binding one target only\n",
    "\n",
    "mask = (targets.sum(axis=1) == 1)\n",
    "mask.size # 23814\n",
    "\n",
    "# Select all the ids with two targets\n",
    "\n",
    "one_tar = targets.loc[mask, :]\n",
    "one_tar.shape # 12532 drugs only act on one target only"
   ]
  },
  {
   "cell_type": "code",
   "execution_count": 93,
   "metadata": {
    "scrolled": true
   },
   "outputs": [
    {
     "data": {
      "text/plain": [
       "cyclooxygenase_inhibitor             374\n",
       "glutamate_receptor_antagonist        337\n",
       "adrenergic_receptor_antagonist       335\n",
       "dna_inhibitor                        330\n",
       "cdk_inhibitor                        316\n",
       "dopamine_receptor_antagonist         310\n",
       "egfr_inhibitor                       299\n",
       "tubulin_inhibitor                    298\n",
       "acetylcholine_receptor_antagonist    295\n",
       "serotonin_receptor_antagonist        294\n",
       "dtype: int64"
      ]
     },
     "execution_count": 93,
     "metadata": {},
     "output_type": "execute_result"
    }
   ],
   "source": [
    "# Compute the counts of each target\n",
    "count_one_tar = one_tar.sum(axis=0)\n",
    "\n",
    "# Put the targets in dscending order by count and show top 10\n",
    "count_one_tar.sort_values(ascending=False).head(10)"
   ]
  },
  {
   "cell_type": "code",
   "execution_count": 115,
   "metadata": {},
   "outputs": [
    {
     "data": {
      "text/plain": [
       "<matplotlib.axes._subplots.AxesSubplot at 0x7fe91a329c90>"
      ]
     },
     "execution_count": 115,
     "metadata": {},
     "output_type": "execute_result"
    },
    {
     "data": {
      "image/png": "[encoded data removed]",
      "text/plain": [
       "<Figure size 648x432 with 1 Axes>"
      ]
     },
     "metadata": {
      "needs_background": "light"
     },
     "output_type": "display_data"
    }
   ],
   "source": [
    "# Plot the distriubtion the top 10 targets with highest counts\n",
    "\n",
    "plt.figure(figsize=(9,6))\n",
    "count_one_tar.sort_values(ascending=False).head(10).plot.bar()"
   ]
  },
  {
   "cell_type": "markdown",
   "metadata": {},
   "source": [
    "### What are the targets that the drugs act on two at a time?"
   ]
  },
  {
   "cell_type": "code",
   "execution_count": 33,
   "metadata": {},
   "outputs": [
    {
     "data": {
      "text/plain": [
       "(1538, 206)"
      ]
     },
     "execution_count": 33,
     "metadata": {},
     "output_type": "execute_result"
    }
   ],
   "source": [
    "# Sum how many targets one id has\n",
    "\n",
    "targets.sum(axis=1)\n",
    "\n",
    "# Create a mask for id with two targets only\n",
    "\n",
    "mask = (targets.sum(axis=1) == 2)\n",
    "mask.size # 23814\n",
    "\n",
    "# Select all the ids with two targets\n",
    "\n",
    "two_tars = targets.loc[mask, :]\n",
    "two_tars.shape #(1538, 206)"
   ]
  },
  {
   "cell_type": "code",
   "execution_count": 34,
   "metadata": {},
   "outputs": [
    {
     "data": {
      "text/plain": [
       "nfkb_inhibitor                   736\n",
       "proteasome_inhibitor             718\n",
       "dopamine_receptor_antagonist     114\n",
       "serotonin_receptor_antagonist    103\n",
       "dna_inhibitor                     60\n",
       "dtype: int64"
      ]
     },
     "execution_count": 34,
     "metadata": {},
     "output_type": "execute_result"
    }
   ],
   "source": [
    "# Count the number of each target\n",
    "count_two_tars = two_tars.sum(axis=0)\n",
    "\n",
    "# Put the targets in desceding order by counts\n",
    "count_two_tars.sort_values(ascending=False).head()"
   ]
  },
  {
   "cell_type": "code",
   "execution_count": 35,
   "metadata": {},
   "outputs": [
    {
     "data": {
      "text/plain": [
       "<matplotlib.axes._subplots.AxesSubplot at 0x7fa285072f90>"
      ]
     },
     "execution_count": 35,
     "metadata": {},
     "output_type": "execute_result"
    },
    {
     "data": {
      "image/png": "[encoded data removed]",
      "text/plain": [
       "<Figure size 648x432 with 1 Axes>"
      ]
     },
     "metadata": {
      "needs_background": "light"
     },
     "output_type": "display_data"
    }
   ],
   "source": [
    "# Visualize the coutnt of each targets\n",
    "\n",
    "plt.figure(figsize=(9, 6))\n",
    "count_two_tars.hist(bins=[0, 100, 200, 300, 400, 500, 600, 700, 800])"
   ]
  },
  {
   "cell_type": "code",
   "execution_count": 43,
   "metadata": {},
   "outputs": [
    {
     "data": {
      "text/html": [
       "<div>\n",
       "<style scoped>\n",
       "    .dataframe tbody tr th:only-of-type {\n",
       "        vertical-align: middle;\n",
       "    }\n",
       "\n",
       "    .dataframe tbody tr th {\n",
       "        vertical-align: top;\n",
       "    }\n",
       "\n",
       "    .dataframe thead th {\n",
       "        text-align: right;\n",
       "    }\n",
       "</style>\n",
       "<table border=\"1\" class=\"dataframe\">\n",
       "  <thead>\n",
       "    <tr style=\"text-align: right;\">\n",
       "      <th>proteasome_inhibitor</th>\n",
       "      <th>0</th>\n",
       "      <th>1</th>\n",
       "    </tr>\n",
       "    <tr>\n",
       "      <th>nfkb_inhibitor</th>\n",
       "      <th></th>\n",
       "      <th></th>\n",
       "    </tr>\n",
       "  </thead>\n",
       "  <tbody>\n",
       "    <tr>\n",
       "      <th>0</th>\n",
       "      <td>802</td>\n",
       "      <td>0</td>\n",
       "    </tr>\n",
       "    <tr>\n",
       "      <th>1</th>\n",
       "      <td>18</td>\n",
       "      <td>718</td>\n",
       "    </tr>\n",
       "  </tbody>\n",
       "</table>\n",
       "</div>"
      ],
      "text/plain": [
       "proteasome_inhibitor    0    1\n",
       "nfkb_inhibitor                \n",
       "0                     802    0\n",
       "1                      18  718"
      ]
     },
     "execution_count": 43,
     "metadata": {},
     "output_type": "execute_result"
    }
   ],
   "source": [
    "# Displays frequency distribution of the top 2 targets: nfkb_inhibitor and proteasome inhibitor. \n",
    "contingency_table = pd.crosstab(two_tars.nfkb_inhibitor, two_tars.proteasome_inhibitor)\n",
    "contingency_table"
   ]
  },
  {
   "cell_type": "code",
   "execution_count": 44,
   "metadata": {},
   "outputs": [
    {
     "data": {
      "text/plain": [
       "(1463.5337743002926,\n",
       " 0.0,\n",
       " 1,\n",
       " array([[427.59427828, 374.40572172],\n",
       "        [392.40572172, 343.59427828]]))"
      ]
     },
     "execution_count": 44,
     "metadata": {},
     "output_type": "execute_result"
    }
   ],
   "source": [
    "# Conduct chi2 test\n",
    "test_results = stats.chi2_contingency(contingency_table)\n",
    "test_results # Since p < 0.05, nfkb_inhibitor and proteasome_inhibitor are dependent. "
   ]
  },
  {
   "cell_type": "markdown",
   "metadata": {},
   "source": [
    "**Takeaways**\n",
    "1. 802 ids target neigher proteasome inhibitor nor nfkb inhibitor.\n",
    "2. 718 ids target both proteasome inhibitor and nfkb inhibor.\n",
    "3. 18 ids target nfkb inhibitor but not proteasome inhbitor.\n",
    "4. 0 ids target proteasome inhibitor but not nfkb inhibitor. \n",
    "\n",
    "Reference: Proteasome inhibitors are currently used as chemotherapeutic drugs because of their ability to block NF-kB, a transcription factor constitutively activated in many different types of human cancer."
   ]
  },
  {
   "cell_type": "code",
   "execution_count": 69,
   "metadata": {},
   "outputs": [
    {
     "data": {
      "text/html": [
       "<div>\n",
       "<style scoped>\n",
       "    .dataframe tbody tr th:only-of-type {\n",
       "        vertical-align: middle;\n",
       "    }\n",
       "\n",
       "    .dataframe tbody tr th {\n",
       "        vertical-align: top;\n",
       "    }\n",
       "\n",
       "    .dataframe thead th {\n",
       "        text-align: right;\n",
       "    }\n",
       "</style>\n",
       "<table border=\"1\" class=\"dataframe\">\n",
       "  <thead>\n",
       "    <tr style=\"text-align: right;\">\n",
       "      <th>serotonin_receptor_antagonist</th>\n",
       "      <th>0</th>\n",
       "      <th>1</th>\n",
       "    </tr>\n",
       "    <tr>\n",
       "      <th>dopamine_receptor_antagonist</th>\n",
       "      <th></th>\n",
       "      <th></th>\n",
       "    </tr>\n",
       "  </thead>\n",
       "  <tbody>\n",
       "    <tr>\n",
       "      <th>0</th>\n",
       "      <td>1392</td>\n",
       "      <td>32</td>\n",
       "    </tr>\n",
       "    <tr>\n",
       "      <th>1</th>\n",
       "      <td>43</td>\n",
       "      <td>71</td>\n",
       "    </tr>\n",
       "  </tbody>\n",
       "</table>\n",
       "</div>"
      ],
      "text/plain": [
       "serotonin_receptor_antagonist     0   1\n",
       "dopamine_receptor_antagonist           \n",
       "0                              1392  32\n",
       "1                                43  71"
      ]
     },
     "execution_count": 69,
     "metadata": {},
     "output_type": "execute_result"
    }
   ],
   "source": [
    "# Display frequency distribution of the next 2 targets: \n",
    "# dopamine_receptor_antagonist and serotonin_receptor_antagonist\n",
    "\n",
    "contingency_table  = pd.crosstab(two_tars.dopamine_receptor_antagonist, two_tars.serotonin_receptor_antagonist)\n",
    "contingency_table "
   ]
  },
  {
   "cell_type": "code",
   "execution_count": 46,
   "metadata": {},
   "outputs": [
    {
     "data": {
      "text/plain": [
       "(599.2230894653862,\n",
       " 2.470491912087283e-132,\n",
       " 1,\n",
       " array([[1328.63459038,   95.36540962],\n",
       "        [ 106.36540962,    7.63459038]]))"
      ]
     },
     "execution_count": 46,
     "metadata": {},
     "output_type": "execute_result"
    }
   ],
   "source": [
    "# Conduct Chi2 test\n",
    "\n",
    "test_results = stats.chi2_contingency(contingency_table)\n",
    "test_results # Since p < 0.05, the pair are dependent. "
   ]
  },
  {
   "cell_type": "markdown",
   "metadata": {},
   "source": [
    "**Takeaways**\n",
    "1. 1392 ids target neigher dopamine_receptor_antagonist nor serotonin_receptor_antagonist.\n",
    "2. 71 ids target both dopamine_receptor_antagonist and serotonin_receptor_antagonist.\n",
    "3. 43 ids target dopamine_receptor_antagonist only. \n",
    "4. 32 ids target serotonin_receptor_antagonist only. "
   ]
  },
  {
   "cell_type": "code",
   "execution_count": 79,
   "metadata": {},
   "outputs": [
    {
     "data": {
      "text/plain": [
       "11-beta-hsd1_inhibitor                    12\n",
       "5-alpha_reductase_inhibitor               17\n",
       "acat_inhibitor                            24\n",
       "acetylcholine_receptor_agonist           184\n",
       "acetylcholine_receptor_antagonist        295\n",
       "                                        ... \n",
       "ubiquitin_specific_protease_inhibitor      6\n",
       "vegfr_inhibitor                           60\n",
       "vitamin_b                                 26\n",
       "vitamin_d_receptor_agonist                39\n",
       "wnt_inhibitor                             30\n",
       "Length: 206, dtype: int64"
      ]
     },
     "execution_count": 79,
     "metadata": {},
     "output_type": "execute_result"
    }
   ],
   "source": [
    "# Sort the index of count_one_tar\n",
    "count_one_tar.sort_index()"
   ]
  },
  {
   "cell_type": "code",
   "execution_count": 80,
   "metadata": {},
   "outputs": [
    {
     "data": {
      "text/plain": [
       "11-beta-hsd1_inhibitor                    0\n",
       "5-alpha_reductase_inhibitor               0\n",
       "acat_inhibitor                            0\n",
       "acetylcholine_receptor_agonist            6\n",
       "acetylcholine_receptor_antagonist         6\n",
       "                                         ..\n",
       "ubiquitin_specific_protease_inhibitor     0\n",
       "vegfr_inhibitor                          54\n",
       "vitamin_b                                 0\n",
       "vitamin_d_receptor_agonist                0\n",
       "wnt_inhibitor                             0\n",
       "Length: 206, dtype: int64"
      ]
     },
     "execution_count": 80,
     "metadata": {},
     "output_type": "execute_result"
    }
   ],
   "source": [
    "# Sort the index of count_two_tars\n",
    "count_two_tars.sort_index()"
   ]
  },
  {
   "cell_type": "code",
   "execution_count": 101,
   "metadata": {},
   "outputs": [
    {
     "data": {
      "text/html": [
       "<div>\n",
       "<style scoped>\n",
       "    .dataframe tbody tr th:only-of-type {\n",
       "        vertical-align: middle;\n",
       "    }\n",
       "\n",
       "    .dataframe tbody tr th {\n",
       "        vertical-align: top;\n",
       "    }\n",
       "\n",
       "    .dataframe thead th {\n",
       "        text-align: right;\n",
       "    }\n",
       "</style>\n",
       "<table border=\"1\" class=\"dataframe\">\n",
       "  <thead>\n",
       "    <tr style=\"text-align: right;\">\n",
       "      <th></th>\n",
       "      <th>0</th>\n",
       "      <th>1</th>\n",
       "    </tr>\n",
       "  </thead>\n",
       "  <tbody>\n",
       "    <tr>\n",
       "      <th>5-alpha_reductase_inhibitor</th>\n",
       "      <td>17</td>\n",
       "      <td>0</td>\n",
       "    </tr>\n",
       "    <tr>\n",
       "      <th>11-beta-hsd1_inhibitor</th>\n",
       "      <td>12</td>\n",
       "      <td>0</td>\n",
       "    </tr>\n",
       "    <tr>\n",
       "      <th>acat_inhibitor</th>\n",
       "      <td>24</td>\n",
       "      <td>0</td>\n",
       "    </tr>\n",
       "    <tr>\n",
       "      <th>acetylcholine_receptor_agonist</th>\n",
       "      <td>184</td>\n",
       "      <td>6</td>\n",
       "    </tr>\n",
       "    <tr>\n",
       "      <th>acetylcholine_receptor_antagonist</th>\n",
       "      <td>295</td>\n",
       "      <td>6</td>\n",
       "    </tr>\n",
       "  </tbody>\n",
       "</table>\n",
       "</div>"
      ],
      "text/plain": [
       "                                     0  1\n",
       "5-alpha_reductase_inhibitor         17  0\n",
       "11-beta-hsd1_inhibitor              12  0\n",
       "acat_inhibitor                      24  0\n",
       "acetylcholine_receptor_agonist     184  6\n",
       "acetylcholine_receptor_antagonist  295  6"
      ]
     },
     "execution_count": 101,
     "metadata": {},
     "output_type": "execute_result"
    }
   ],
   "source": [
    "# Concat the Series count_one_tar and count_two_tars\n",
    "\n",
    "join_one_two = pd.concat([count_one_tar, count_two_tars], axis=1)\n",
    "join_one_two.head(5)"
   ]
  },
  {
   "cell_type": "markdown",
   "metadata": {},
   "source": [
    "### What are the targets that the drugs act on three at a time?"
   ]
  },
  {
   "cell_type": "code",
   "execution_count": 105,
   "metadata": {},
   "outputs": [
    {
     "data": {
      "text/plain": [
       "(303, 206)"
      ]
     },
     "execution_count": 105,
     "metadata": {},
     "output_type": "execute_result"
    }
   ],
   "source": [
    "# Sum how many targets one id has\n",
    "targets.sum(axis=1)\n",
    "\n",
    "# Create a mask for id with three targets only\n",
    "mask = (targets.sum(axis=1) == 3)\n",
    "mask.size # 23814\n",
    "\n",
    "# Select all the ids with two targets\n",
    "three_tars = targets.loc[mask, :]\n",
    "three_tars.shape #(303, 206)"
   ]
  },
  {
   "cell_type": "code",
   "execution_count": 106,
   "metadata": {},
   "outputs": [
    {
     "data": {
      "text/plain": [
       "kit_inhibitor                   236\n",
       "pdgfr_inhibitor                 230\n",
       "flt3_inhibitor                  210\n",
       "vegfr_inhibitor                  31\n",
       "corticosteroid_agonist           18\n",
       "                               ... \n",
       "membrane_integrity_inhibitor      0\n",
       "mek_inhibitor                     0\n",
       "mdm_inhibitor                     0\n",
       "lxr_agonist                       0\n",
       "5-alpha_reductase_inhibitor       0\n",
       "Length: 206, dtype: int64"
      ]
     },
     "execution_count": 106,
     "metadata": {},
     "output_type": "execute_result"
    }
   ],
   "source": [
    "# Count the number of each target\n",
    "count_three_tars = three_tars.sum(axis=0)\n",
    "\n",
    "# Put the targets in desceding order by counts\n",
    "count_three_tars.sort_values(ascending=False)"
   ]
  },
  {
   "cell_type": "code",
   "execution_count": 107,
   "metadata": {},
   "outputs": [
    {
     "data": {
      "text/plain": [
       "11-beta-hsd1_inhibitor                    0\n",
       "5-alpha_reductase_inhibitor               0\n",
       "acat_inhibitor                            0\n",
       "acetylcholine_receptor_agonist            0\n",
       "acetylcholine_receptor_antagonist         0\n",
       "                                         ..\n",
       "ubiquitin_specific_protease_inhibitor     0\n",
       "vegfr_inhibitor                          31\n",
       "vitamin_b                                 0\n",
       "vitamin_d_receptor_agonist                0\n",
       "wnt_inhibitor                             0\n",
       "Length: 206, dtype: int64"
      ]
     },
     "execution_count": 107,
     "metadata": {},
     "output_type": "execute_result"
    }
   ],
   "source": [
    "# Sort the index of the count_three_tars\n",
    "count_three_tars.sort_index()"
   ]
  },
  {
   "cell_type": "code",
   "execution_count": 110,
   "metadata": {},
   "outputs": [
    {
     "data": {
      "text/html": [
       "<div>\n",
       "<style scoped>\n",
       "    .dataframe tbody tr th:only-of-type {\n",
       "        vertical-align: middle;\n",
       "    }\n",
       "\n",
       "    .dataframe tbody tr th {\n",
       "        vertical-align: top;\n",
       "    }\n",
       "\n",
       "    .dataframe thead th {\n",
       "        text-align: right;\n",
       "    }\n",
       "</style>\n",
       "<table border=\"1\" class=\"dataframe\">\n",
       "  <thead>\n",
       "    <tr style=\"text-align: right;\">\n",
       "      <th></th>\n",
       "      <th>0</th>\n",
       "      <th>1</th>\n",
       "      <th>0</th>\n",
       "    </tr>\n",
       "  </thead>\n",
       "  <tbody>\n",
       "    <tr>\n",
       "      <th>5-alpha_reductase_inhibitor</th>\n",
       "      <td>17</td>\n",
       "      <td>0</td>\n",
       "      <td>0</td>\n",
       "    </tr>\n",
       "    <tr>\n",
       "      <th>11-beta-hsd1_inhibitor</th>\n",
       "      <td>12</td>\n",
       "      <td>0</td>\n",
       "      <td>0</td>\n",
       "    </tr>\n",
       "    <tr>\n",
       "      <th>acat_inhibitor</th>\n",
       "      <td>24</td>\n",
       "      <td>0</td>\n",
       "      <td>0</td>\n",
       "    </tr>\n",
       "    <tr>\n",
       "      <th>acetylcholine_receptor_agonist</th>\n",
       "      <td>184</td>\n",
       "      <td>6</td>\n",
       "      <td>0</td>\n",
       "    </tr>\n",
       "    <tr>\n",
       "      <th>acetylcholine_receptor_antagonist</th>\n",
       "      <td>295</td>\n",
       "      <td>6</td>\n",
       "      <td>0</td>\n",
       "    </tr>\n",
       "  </tbody>\n",
       "</table>\n",
       "</div>"
      ],
      "text/plain": [
       "                                     0  1  0\n",
       "5-alpha_reductase_inhibitor         17  0  0\n",
       "11-beta-hsd1_inhibitor              12  0  0\n",
       "acat_inhibitor                      24  0  0\n",
       "acetylcholine_receptor_agonist     184  6  0\n",
       "acetylcholine_receptor_antagonist  295  6  0"
      ]
     },
     "execution_count": 110,
     "metadata": {},
     "output_type": "execute_result"
    }
   ],
   "source": [
    "# Concat join_one_two and count_three_tars\n",
    "\n",
    "join_one_two_three = pd.concat([join_one_two, count_three_tars], axis=1)\n",
    "join_one_two_three.head()"
   ]
  },
  {
   "cell_type": "markdown",
   "metadata": {},
   "source": [
    "### How many paired targets are related? \n",
    "- Targets matrix\n",
    "- two_tars matrix"
   ]
  },
  {
   "cell_type": "code",
   "execution_count": 101,
   "metadata": {},
   "outputs": [],
   "source": [
    "# Import library\n",
    "from itertools import combinations"
   ]
  },
  {
   "cell_type": "markdown",
   "metadata": {},
   "source": [
    "#### targets matrix"
   ]
  },
  {
   "cell_type": "code",
   "execution_count": 103,
   "metadata": {
    "scrolled": false
   },
   "outputs": [
    {
     "data": {
      "text/plain": [
       "(206, 21115)"
      ]
     },
     "execution_count": 103,
     "metadata": {},
     "output_type": "execute_result"
    }
   ],
   "source": [
    "# Put all MoA annotations into a list\n",
    "annotation_list = targets.columns.to_list()\n",
    "\n",
    "# Create a list of the combination of two annotations out of all\n",
    "two_annotations = list(combinations(annotation_list, 2))\n",
    "\n",
    "# Print their length\n",
    "len(annotation_list), len(two_annotations) # 206 annotations and 21115 groups of two"
   ]
  },
  {
   "cell_type": "code",
   "execution_count": 105,
   "metadata": {},
   "outputs": [
    {
     "data": {
      "text/plain": [
       "[('5-alpha_reductase_inhibitor', '11-beta-hsd1_inhibitor'),\n",
       " ('5-alpha_reductase_inhibitor', 'acat_inhibitor'),\n",
       " ('5-alpha_reductase_inhibitor', 'acetylcholine_receptor_agonist'),\n",
       " ('5-alpha_reductase_inhibitor', 'acetylcholine_receptor_antagonist'),\n",
       " ('5-alpha_reductase_inhibitor', 'acetylcholinesterase_inhibitor')]"
      ]
     },
     "execution_count": 105,
     "metadata": {},
     "output_type": "execute_result"
    }
   ],
   "source": [
    "# Take a quick look at the combinations\n",
    "two_annotations[:5]"
   ]
  },
  {
   "cell_type": "code",
   "execution_count": 113,
   "metadata": {},
   "outputs": [],
   "source": [
    "# For Loop to compute the conduct the Chi2 Test for each pair\n",
    "\n",
    "# Empty list to hold the p-value\n",
    "p = []\n",
    "\n",
    "for pair in two_annotations:\n",
    "    contingency_table = pd.crosstab(targets[pair[0]], targets[pair[1]]) # Create the contingency table\n",
    "    test_results = stats.chi2_contingency(contingency_table) # conduct chi2 test\n",
    "    p.append(test_results[1]) # collec the p-values"
   ]
  },
  {
   "cell_type": "code",
   "execution_count": 114,
   "metadata": {},
   "outputs": [
    {
     "data": {
      "text/plain": [
       "21115"
      ]
     },
     "execution_count": 114,
     "metadata": {},
     "output_type": "execute_result"
    }
   ],
   "source": [
    "# Check the lenth p\n",
    "len(p) # match 21115"
   ]
  },
  {
   "cell_type": "code",
   "execution_count": 115,
   "metadata": {},
   "outputs": [
    {
     "data": {
      "text/plain": [
       "(21115, 3)"
      ]
     },
     "execution_count": 115,
     "metadata": {},
     "output_type": "execute_result"
    }
   ],
   "source": [
    "# Turn the resutls into a dataframe\n",
    "\n",
    "targets_chi2 = pd.DataFrame(two_annotations, columns=['target1', 'target2']).assign(p_chi2 = p)\n",
    "targets_chi2.shape"
   ]
  },
  {
   "cell_type": "code",
   "execution_count": 142,
   "metadata": {},
   "outputs": [
    {
     "data": {
      "text/html": [
       "<div>\n",
       "<style scoped>\n",
       "    .dataframe tbody tr th:only-of-type {\n",
       "        vertical-align: middle;\n",
       "    }\n",
       "\n",
       "    .dataframe tbody tr th {\n",
       "        vertical-align: top;\n",
       "    }\n",
       "\n",
       "    .dataframe thead th {\n",
       "        text-align: right;\n",
       "    }\n",
       "</style>\n",
       "<table border=\"1\" class=\"dataframe\">\n",
       "  <thead>\n",
       "    <tr style=\"text-align: right;\">\n",
       "      <th></th>\n",
       "      <th>target1</th>\n",
       "      <th>target2</th>\n",
       "      <th>p_chi2</th>\n",
       "    </tr>\n",
       "  </thead>\n",
       "  <tbody>\n",
       "    <tr>\n",
       "      <th>0</th>\n",
       "      <td>5-alpha_reductase_inhibitor</td>\n",
       "      <td>11-beta-hsd1_inhibitor</td>\n",
       "      <td>0.000017</td>\n",
       "    </tr>\n",
       "    <tr>\n",
       "      <th>1</th>\n",
       "      <td>5-alpha_reductase_inhibitor</td>\n",
       "      <td>acat_inhibitor</td>\n",
       "      <td>0.000222</td>\n",
       "    </tr>\n",
       "    <tr>\n",
       "      <th>2</th>\n",
       "      <td>5-alpha_reductase_inhibitor</td>\n",
       "      <td>acetylcholine_receptor_agonist</td>\n",
       "      <td>0.320379</td>\n",
       "    </tr>\n",
       "    <tr>\n",
       "      <th>3</th>\n",
       "      <td>5-alpha_reductase_inhibitor</td>\n",
       "      <td>acetylcholine_receptor_antagonist</td>\n",
       "      <td>0.535754</td>\n",
       "    </tr>\n",
       "    <tr>\n",
       "      <th>4</th>\n",
       "      <td>5-alpha_reductase_inhibitor</td>\n",
       "      <td>acetylcholinesterase_inhibitor</td>\n",
       "      <td>0.049331</td>\n",
       "    </tr>\n",
       "  </tbody>\n",
       "</table>\n",
       "</div>"
      ],
      "text/plain": [
       "                       target1                            target2    p_chi2\n",
       "0  5-alpha_reductase_inhibitor             11-beta-hsd1_inhibitor  0.000017\n",
       "1  5-alpha_reductase_inhibitor                     acat_inhibitor  0.000222\n",
       "2  5-alpha_reductase_inhibitor     acetylcholine_receptor_agonist  0.320379\n",
       "3  5-alpha_reductase_inhibitor  acetylcholine_receptor_antagonist  0.535754\n",
       "4  5-alpha_reductase_inhibitor     acetylcholinesterase_inhibitor  0.049331"
      ]
     },
     "execution_count": 142,
     "metadata": {},
     "output_type": "execute_result"
    }
   ],
   "source": [
    "# Take a look at targets_chi2\n",
    "targets_chi2.head()"
   ]
  },
  {
   "cell_type": "code",
   "execution_count": 124,
   "metadata": {},
   "outputs": [
    {
     "data": {
      "text/plain": [
       "8906"
      ]
     },
     "execution_count": 124,
     "metadata": {},
     "output_type": "execute_result"
    }
   ],
   "source": [
    "# Compute how many pairs are related\n",
    "# Set alpha = 0.05\n",
    "\n",
    "mask = targets_chi2.p_chi2 < 0.05  \n",
    "mask.sum() # 8906 pairs are dependent"
   ]
  },
  {
   "cell_type": "code",
   "execution_count": 126,
   "metadata": {
    "scrolled": false
   },
   "outputs": [],
   "source": [
    "# # Convert the dependent pairs to .csv\n",
    "# targets_chi2.to_csv('targets_chi2.csv')\n",
    "# targets_chi2[mask].to_csv('targets_chi2_dependent.csv')"
   ]
  },
  {
   "cell_type": "markdown",
   "metadata": {},
   "source": [
    "#### two_tars matrix"
   ]
  },
  {
   "cell_type": "code",
   "execution_count": 159,
   "metadata": {},
   "outputs": [],
   "source": [
    "# List all the MoA annotations from dataframe two_tars\n",
    "annotations = two_tars.columns.to_list()\n",
    "\n",
    "# Pick 2 annotations of all despite of order\n",
    "two_annotatioins  = list(combinations(annotations, 2))"
   ]
  },
  {
   "cell_type": "code",
   "execution_count": 160,
   "metadata": {},
   "outputs": [
    {
     "data": {
      "text/plain": [
       "[('5-alpha_reductase_inhibitor', '11-beta-hsd1_inhibitor'),\n",
       " ('5-alpha_reductase_inhibitor', 'acat_inhibitor'),\n",
       " ('5-alpha_reductase_inhibitor', 'acetylcholine_receptor_agonist'),\n",
       " ('5-alpha_reductase_inhibitor', 'acetylcholine_receptor_antagonist'),\n",
       " ('5-alpha_reductase_inhibitor', 'acetylcholinesterase_inhibitor')]"
      ]
     },
     "execution_count": 160,
     "metadata": {},
     "output_type": "execute_result"
    }
   ],
   "source": [
    "# Take a quick look at the paired annotations\n",
    "two_annotatioins[:5]"
   ]
  },
  {
   "cell_type": "code",
   "execution_count": 161,
   "metadata": {},
   "outputs": [],
   "source": [
    "# For Loop to compute the p-values of Chi2 test\n",
    "\n",
    "# Empty list to hold the p-value\n",
    "p = []\n",
    "\n",
    "for pair in two_annotations:\n",
    "    contingency_table = pd.crosstab(two_tars[pair[0]], two_tars[pair[1]]) # Create the contingency table\n",
    "    test_results = stats.chi2_contingency(contingency_table) # conduct chi2 test\n",
    "    p.append(test_results[1]) # collec the p-values"
   ]
  },
  {
   "cell_type": "code",
   "execution_count": 163,
   "metadata": {},
   "outputs": [
    {
     "data": {
      "text/plain": [
       "(21115, 3)"
      ]
     },
     "execution_count": 163,
     "metadata": {},
     "output_type": "execute_result"
    }
   ],
   "source": [
    "# Turn the resutls into a dataframe\n",
    "\n",
    "two_tars_chi2 = pd.DataFrame(two_annotatioins, columns=['target1', 'target2']).assign(p_chi2 = p)\n",
    "two_tars_chi2.shape"
   ]
  },
  {
   "cell_type": "code",
   "execution_count": 166,
   "metadata": {},
   "outputs": [
    {
     "data": {
      "text/plain": [
       "1883"
      ]
     },
     "execution_count": 166,
     "metadata": {},
     "output_type": "execute_result"
    }
   ],
   "source": [
    "mask = two_tars_chi2.p_chi2 < 0.05\n",
    "mask.sum() # 1883 dependent pairs"
   ]
  },
  {
   "cell_type": "code",
   "execution_count": 153,
   "metadata": {},
   "outputs": [],
   "source": [
    "# # Convert the dependent pairs to .csv\n",
    "# df_two_chi2.to_csv('two_tars_chi2.csv')\n",
    "# two_tars_chi2[(two_tars_chi2.p_chi2 < 0.05)].to_csv('two_tars_chi2_dependent.csv')"
   ]
  },
  {
   "cell_type": "code",
   "execution_count": 172,
   "metadata": {
    "scrolled": true
   },
   "outputs": [
    {
     "data": {
      "text/html": [
       "<div>\n",
       "<style scoped>\n",
       "    .dataframe tbody tr th:only-of-type {\n",
       "        vertical-align: middle;\n",
       "    }\n",
       "\n",
       "    .dataframe tbody tr th {\n",
       "        vertical-align: top;\n",
       "    }\n",
       "\n",
       "    .dataframe thead th {\n",
       "        text-align: right;\n",
       "    }\n",
       "</style>\n",
       "<table border=\"1\" class=\"dataframe\">\n",
       "  <thead>\n",
       "    <tr style=\"text-align: right;\">\n",
       "      <th>pi3k_inhibitor</th>\n",
       "      <th>0</th>\n",
       "      <th>1</th>\n",
       "    </tr>\n",
       "    <tr>\n",
       "      <th>mtor_inhibitor</th>\n",
       "      <th></th>\n",
       "      <th></th>\n",
       "    </tr>\n",
       "  </thead>\n",
       "  <tbody>\n",
       "    <tr>\n",
       "      <th>0</th>\n",
       "      <td>23575</td>\n",
       "      <td>109</td>\n",
       "    </tr>\n",
       "    <tr>\n",
       "      <th>1</th>\n",
       "      <td>88</td>\n",
       "      <td>42</td>\n",
       "    </tr>\n",
       "  </tbody>\n",
       "</table>\n",
       "</div>"
      ],
      "text/plain": [
       "pi3k_inhibitor      0    1\n",
       "mtor_inhibitor            \n",
       "0               23575  109\n",
       "1                  88   42"
      ]
     },
     "execution_count": 172,
     "metadata": {},
     "output_type": "execute_result"
    }
   ],
   "source": [
    "# Take a dependent pair for example\n",
    "pd.crosstab(targets['mtor_inhibitor'], targets['pi3k_inhibitor'])\n",
    "\n",
    "# The takeaway is that most of the drugs don't affect both at the same time. "
   ]
  },
  {
   "cell_type": "code",
   "execution_count": 173,
   "metadata": {},
   "outputs": [
    {
     "data": {
      "text/html": [
       "<div>\n",
       "<style scoped>\n",
       "    .dataframe tbody tr th:only-of-type {\n",
       "        vertical-align: middle;\n",
       "    }\n",
       "\n",
       "    .dataframe tbody tr th {\n",
       "        vertical-align: top;\n",
       "    }\n",
       "\n",
       "    .dataframe thead th {\n",
       "        text-align: right;\n",
       "    }\n",
       "</style>\n",
       "<table border=\"1\" class=\"dataframe\">\n",
       "  <thead>\n",
       "    <tr style=\"text-align: right;\">\n",
       "      <th>ikk_inhibitor</th>\n",
       "      <th>0</th>\n",
       "    </tr>\n",
       "    <tr>\n",
       "      <th>dna_inhibitor</th>\n",
       "      <th></th>\n",
       "    </tr>\n",
       "  </thead>\n",
       "  <tbody>\n",
       "    <tr>\n",
       "      <th>0</th>\n",
       "      <td>1478</td>\n",
       "    </tr>\n",
       "    <tr>\n",
       "      <th>1</th>\n",
       "      <td>60</td>\n",
       "    </tr>\n",
       "  </tbody>\n",
       "</table>\n",
       "</div>"
      ],
      "text/plain": [
       "ikk_inhibitor     0\n",
       "dna_inhibitor      \n",
       "0              1478\n",
       "1                60"
      ]
     },
     "execution_count": 173,
     "metadata": {},
     "output_type": "execute_result"
    }
   ],
   "source": [
    "# Take an independent pair for example\n",
    "\n",
    "pd.crosstab(two_tars['dna_inhibitor'], two_tars['ikk_inhibitor'])"
   ]
  }
 ],
 "metadata": {
  "kernelspec": {
   "display_name": "Python 3",
   "language": "python",
   "name": "python3"
  },
  "language_info": {
   "codemirror_mode": {
    "name": "ipython",
    "version": 3
   },
   "file_extension": ".py",
   "mimetype": "text/x-python",
   "name": "python",
   "nbconvert_exporter": "python",
   "pygments_lexer": "ipython3",
   "version": "3.7.6"
  }
 },
 "nbformat": 4,
 "nbformat_minor": 4
}
