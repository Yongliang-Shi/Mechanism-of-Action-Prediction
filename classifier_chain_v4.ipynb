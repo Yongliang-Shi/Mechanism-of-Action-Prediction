{
 "cells": [
  {
   "cell_type": "code",
   "execution_count": 35,
   "metadata": {},
   "outputs": [],
   "source": [
    "import warnings\n",
    "warnings.filterwarnings(\"ignore\")\n",
    "\n",
    "import pandas as pd\n",
    "import numpy as np\n",
    "import matplotlib.pyplot as plt\n",
    "import seaborn as sns\n",
    "\n",
    "from itertools import permutations\n",
    "\n",
    "from sklearn.model_selection import train_test_split, KFold\n",
    "from sklearn.preprocessing import StandardScaler, MinMaxScaler\n",
    "\n",
    "from sklearn.multiclass import OneVsRestClassifier\n",
    "from sklearn.neural_network import MLPClassifier\n",
    "from sklearn.multioutput import ClassifierChain\n",
    "\n",
    "from sklearn.metrics import classification_report, confusion_matrix, jaccard_score, log_loss\n",
    "\n",
    "import prepare, model"
   ]
  },
  {
   "cell_type": "markdown",
   "metadata": {},
   "source": [
    "### Preprocess"
   ]
  },
  {
   "cell_type": "code",
   "execution_count": 2,
   "metadata": {},
   "outputs": [],
   "source": [
    "# Load train, target and test datasets\n",
    "\n",
    "X_train = pd.read_csv('train_features.csv', index_col=0)\n",
    "Y_train = pd.read_csv('train_targets_scored.csv', index_col=0)\n",
    "X_test = pd.read_csv('test_features.csv', index_col=0)"
   ]
  },
  {
   "cell_type": "code",
   "execution_count": 3,
   "metadata": {},
   "outputs": [
    {
     "data": {
      "text/plain": [
       "((23814, 875), (23814, 206), (3982, 875))"
      ]
     },
     "execution_count": 3,
     "metadata": {},
     "output_type": "execute_result"
    }
   ],
   "source": [
    "# Print their shapes\n",
    "X_train.shape, Y_train.shape, X_test.shape # Correct"
   ]
  },
  {
   "cell_type": "code",
   "execution_count": 4,
   "metadata": {},
   "outputs": [
    {
     "name": "stdout",
     "output_type": "stream",
     "text": [
      "<class 'pandas.core.frame.DataFrame'>\n",
      "Index: 23814 entries, id_000644bb2 to id_ffffdd77b\n",
      "Data columns (total 5 columns):\n",
      " #   Column                        Non-Null Count  Dtype\n",
      "---  ------                        --------------  -----\n",
      " 0   nfkb_inhibitor                23814 non-null  int64\n",
      " 1   proteasome_inhibitor          23814 non-null  int64\n",
      " 2   cyclooxygenase_inhibitor      23814 non-null  int64\n",
      " 3   dopamine_receptor_antagonist  23814 non-null  int64\n",
      " 4   dna_inhibitor                 23814 non-null  int64\n",
      "dtypes: int64(5)\n",
      "memory usage: 1.1+ MB\n"
     ]
    }
   ],
   "source": [
    "# Take the top 5 labels from Y_train\n",
    "\n",
    "screen_order = Y_train.loc[:, ['nfkb_inhibitor', 'proteasome_inhibitor', 'cyclooxygenase_inhibitor', \n",
    "                               'dopamine_receptor_antagonist', 'dna_inhibitor']]\n",
    "screen_order.info()"
   ]
  },
  {
   "cell_type": "code",
   "execution_count": 5,
   "metadata": {
    "scrolled": true
   },
   "outputs": [
    {
     "data": {
      "text/html": [
       "<div>\n",
       "<style scoped>\n",
       "    .dataframe tbody tr th:only-of-type {\n",
       "        vertical-align: middle;\n",
       "    }\n",
       "\n",
       "    .dataframe tbody tr th {\n",
       "        vertical-align: top;\n",
       "    }\n",
       "\n",
       "    .dataframe thead th {\n",
       "        text-align: right;\n",
       "    }\n",
       "</style>\n",
       "<table border=\"1\" class=\"dataframe\">\n",
       "  <thead>\n",
       "    <tr style=\"text-align: right;\">\n",
       "      <th></th>\n",
       "      <th>cp_type</th>\n",
       "      <th>cp_time</th>\n",
       "      <th>cp_dose</th>\n",
       "      <th>g-0</th>\n",
       "      <th>g-1</th>\n",
       "      <th>g-2</th>\n",
       "      <th>g-3</th>\n",
       "      <th>g-4</th>\n",
       "      <th>g-5</th>\n",
       "      <th>g-6</th>\n",
       "      <th>...</th>\n",
       "      <th>c-95</th>\n",
       "      <th>c-96</th>\n",
       "      <th>c-97</th>\n",
       "      <th>c-98</th>\n",
       "      <th>c-99</th>\n",
       "      <th>nfkb_inhibitor</th>\n",
       "      <th>proteasome_inhibitor</th>\n",
       "      <th>cyclooxygenase_inhibitor</th>\n",
       "      <th>dopamine_receptor_antagonist</th>\n",
       "      <th>dna_inhibitor</th>\n",
       "    </tr>\n",
       "    <tr>\n",
       "      <th>sig_id</th>\n",
       "      <th></th>\n",
       "      <th></th>\n",
       "      <th></th>\n",
       "      <th></th>\n",
       "      <th></th>\n",
       "      <th></th>\n",
       "      <th></th>\n",
       "      <th></th>\n",
       "      <th></th>\n",
       "      <th></th>\n",
       "      <th></th>\n",
       "      <th></th>\n",
       "      <th></th>\n",
       "      <th></th>\n",
       "      <th></th>\n",
       "      <th></th>\n",
       "      <th></th>\n",
       "      <th></th>\n",
       "      <th></th>\n",
       "      <th></th>\n",
       "      <th></th>\n",
       "    </tr>\n",
       "  </thead>\n",
       "  <tbody>\n",
       "    <tr>\n",
       "      <th>id_000644bb2</th>\n",
       "      <td>trt_cp</td>\n",
       "      <td>24</td>\n",
       "      <td>D1</td>\n",
       "      <td>1.0620</td>\n",
       "      <td>0.5577</td>\n",
       "      <td>-0.2479</td>\n",
       "      <td>-0.6208</td>\n",
       "      <td>-0.1944</td>\n",
       "      <td>-1.0120</td>\n",
       "      <td>-1.0220</td>\n",
       "      <td>...</td>\n",
       "      <td>0.6584</td>\n",
       "      <td>-0.3981</td>\n",
       "      <td>0.2139</td>\n",
       "      <td>0.3801</td>\n",
       "      <td>0.4176</td>\n",
       "      <td>0</td>\n",
       "      <td>0</td>\n",
       "      <td>0</td>\n",
       "      <td>0</td>\n",
       "      <td>0</td>\n",
       "    </tr>\n",
       "    <tr>\n",
       "      <th>id_000779bfc</th>\n",
       "      <td>trt_cp</td>\n",
       "      <td>72</td>\n",
       "      <td>D1</td>\n",
       "      <td>0.0743</td>\n",
       "      <td>0.4087</td>\n",
       "      <td>0.2991</td>\n",
       "      <td>0.0604</td>\n",
       "      <td>1.0190</td>\n",
       "      <td>0.5207</td>\n",
       "      <td>0.2341</td>\n",
       "      <td>...</td>\n",
       "      <td>0.4899</td>\n",
       "      <td>0.1522</td>\n",
       "      <td>0.1241</td>\n",
       "      <td>0.6077</td>\n",
       "      <td>0.7371</td>\n",
       "      <td>0</td>\n",
       "      <td>0</td>\n",
       "      <td>0</td>\n",
       "      <td>0</td>\n",
       "      <td>0</td>\n",
       "    </tr>\n",
       "    <tr>\n",
       "      <th>id_000a6266a</th>\n",
       "      <td>trt_cp</td>\n",
       "      <td>48</td>\n",
       "      <td>D1</td>\n",
       "      <td>0.6280</td>\n",
       "      <td>0.5817</td>\n",
       "      <td>1.5540</td>\n",
       "      <td>-0.0764</td>\n",
       "      <td>-0.0323</td>\n",
       "      <td>1.2390</td>\n",
       "      <td>0.1715</td>\n",
       "      <td>...</td>\n",
       "      <td>-0.3174</td>\n",
       "      <td>-0.6417</td>\n",
       "      <td>-0.2187</td>\n",
       "      <td>-1.4080</td>\n",
       "      <td>0.6931</td>\n",
       "      <td>0</td>\n",
       "      <td>0</td>\n",
       "      <td>0</td>\n",
       "      <td>0</td>\n",
       "      <td>0</td>\n",
       "    </tr>\n",
       "    <tr>\n",
       "      <th>id_0015fd391</th>\n",
       "      <td>trt_cp</td>\n",
       "      <td>48</td>\n",
       "      <td>D1</td>\n",
       "      <td>-0.5138</td>\n",
       "      <td>-0.2491</td>\n",
       "      <td>-0.2656</td>\n",
       "      <td>0.5288</td>\n",
       "      <td>4.0620</td>\n",
       "      <td>-0.8095</td>\n",
       "      <td>-1.9590</td>\n",
       "      <td>...</td>\n",
       "      <td>-1.2880</td>\n",
       "      <td>-1.6210</td>\n",
       "      <td>-0.8784</td>\n",
       "      <td>-0.3876</td>\n",
       "      <td>-0.8154</td>\n",
       "      <td>0</td>\n",
       "      <td>0</td>\n",
       "      <td>0</td>\n",
       "      <td>0</td>\n",
       "      <td>0</td>\n",
       "    </tr>\n",
       "    <tr>\n",
       "      <th>id_001626bd3</th>\n",
       "      <td>trt_cp</td>\n",
       "      <td>72</td>\n",
       "      <td>D2</td>\n",
       "      <td>-0.3254</td>\n",
       "      <td>-0.4009</td>\n",
       "      <td>0.9700</td>\n",
       "      <td>0.6919</td>\n",
       "      <td>1.4180</td>\n",
       "      <td>-0.8244</td>\n",
       "      <td>-0.2800</td>\n",
       "      <td>...</td>\n",
       "      <td>-0.3031</td>\n",
       "      <td>0.1094</td>\n",
       "      <td>0.2885</td>\n",
       "      <td>-0.3786</td>\n",
       "      <td>0.7125</td>\n",
       "      <td>0</td>\n",
       "      <td>0</td>\n",
       "      <td>0</td>\n",
       "      <td>0</td>\n",
       "      <td>0</td>\n",
       "    </tr>\n",
       "  </tbody>\n",
       "</table>\n",
       "<p>5 rows × 880 columns</p>\n",
       "</div>"
      ],
      "text/plain": [
       "             cp_type  cp_time cp_dose     g-0     g-1     g-2     g-3     g-4  \\\n",
       "sig_id                                                                          \n",
       "id_000644bb2  trt_cp       24      D1  1.0620  0.5577 -0.2479 -0.6208 -0.1944   \n",
       "id_000779bfc  trt_cp       72      D1  0.0743  0.4087  0.2991  0.0604  1.0190   \n",
       "id_000a6266a  trt_cp       48      D1  0.6280  0.5817  1.5540 -0.0764 -0.0323   \n",
       "id_0015fd391  trt_cp       48      D1 -0.5138 -0.2491 -0.2656  0.5288  4.0620   \n",
       "id_001626bd3  trt_cp       72      D2 -0.3254 -0.4009  0.9700  0.6919  1.4180   \n",
       "\n",
       "                 g-5     g-6  ...    c-95    c-96    c-97    c-98    c-99  \\\n",
       "sig_id                        ...                                           \n",
       "id_000644bb2 -1.0120 -1.0220  ...  0.6584 -0.3981  0.2139  0.3801  0.4176   \n",
       "id_000779bfc  0.5207  0.2341  ...  0.4899  0.1522  0.1241  0.6077  0.7371   \n",
       "id_000a6266a  1.2390  0.1715  ... -0.3174 -0.6417 -0.2187 -1.4080  0.6931   \n",
       "id_0015fd391 -0.8095 -1.9590  ... -1.2880 -1.6210 -0.8784 -0.3876 -0.8154   \n",
       "id_001626bd3 -0.8244 -0.2800  ... -0.3031  0.1094  0.2885 -0.3786  0.7125   \n",
       "\n",
       "              nfkb_inhibitor  proteasome_inhibitor  cyclooxygenase_inhibitor  \\\n",
       "sig_id                                                                         \n",
       "id_000644bb2               0                     0                         0   \n",
       "id_000779bfc               0                     0                         0   \n",
       "id_000a6266a               0                     0                         0   \n",
       "id_0015fd391               0                     0                         0   \n",
       "id_001626bd3               0                     0                         0   \n",
       "\n",
       "              dopamine_receptor_antagonist  dna_inhibitor  \n",
       "sig_id                                                     \n",
       "id_000644bb2                             0              0  \n",
       "id_000779bfc                             0              0  \n",
       "id_000a6266a                             0              0  \n",
       "id_0015fd391                             0              0  \n",
       "id_001626bd3                             0              0  \n",
       "\n",
       "[5 rows x 880 columns]"
      ]
     },
     "execution_count": 5,
     "metadata": {},
     "output_type": "execute_result"
    }
   ],
   "source": [
    "# Concat to X_train\n",
    "\n",
    "train = pd.concat([X_train, screen_order], axis=1)\n",
    "train.head() # Success"
   ]
  },
  {
   "cell_type": "code",
   "execution_count": 6,
   "metadata": {},
   "outputs": [],
   "source": [
    "# train.to_csv('screen_order.csv')"
   ]
  },
  {
   "cell_type": "code",
   "execution_count": 6,
   "metadata": {},
   "outputs": [
    {
     "data": {
      "text/plain": [
       "(MinMaxScaler(), (17145, 881), (4287, 881), (2382, 881))"
      ]
     },
     "execution_count": 6,
     "metadata": {},
     "output_type": "execute_result"
    }
   ],
   "source": [
    "# Preprocess X_train to X_train_scaled, X_validate_scaled and X_test_scaled\n",
    "# encoding, splitting, and scaling\n",
    "\n",
    "scaler, train_scaled, validate_scaled, test_scaled = prepare.prep_moa_v2(train)\n",
    "\n",
    "# Print the shapes\n",
    "scaler, train_scaled.shape, validate_scaled.shape, test_scaled.shape"
   ]
  },
  {
   "cell_type": "code",
   "execution_count": 7,
   "metadata": {},
   "outputs": [],
   "source": [
    "# Create X\n",
    "\n",
    "X_train_scaled = train_scaled.iloc[:, 5:]\n",
    "X_validate_scaled = validate_scaled.iloc[:, 5:]\n",
    "X_test_scaled = test_scaled.iloc[:, 5:]"
   ]
  },
  {
   "cell_type": "code",
   "execution_count": 8,
   "metadata": {},
   "outputs": [],
   "source": [
    "# Create Y\n",
    "\n",
    "Y_train_scaled = train_scaled.iloc[:, 0:5]\n",
    "Y_validate_scaled = validate_scaled.iloc[:, 0:5]\n",
    "Y_test_scaled = test_scaled.iloc[:, 0:5]"
   ]
  },
  {
   "cell_type": "code",
   "execution_count": 9,
   "metadata": {},
   "outputs": [
    {
     "data": {
      "text/plain": [
       "17145"
      ]
     },
     "execution_count": 9,
     "metadata": {},
     "output_type": "execute_result"
    }
   ],
   "source": [
    "# Check if index of Y matches index of X\n",
    "(X_train_scaled.index == Y_train_scaled.index).sum() # Match"
   ]
  },
  {
   "cell_type": "code",
   "execution_count": 10,
   "metadata": {},
   "outputs": [
    {
     "data": {
      "text/plain": [
       "4287"
      ]
     },
     "execution_count": 10,
     "metadata": {},
     "output_type": "execute_result"
    }
   ],
   "source": [
    "# Check if index of Y matches index of X\n",
    "(X_validate_scaled.index == Y_validate_scaled.index).sum() # Match"
   ]
  },
  {
   "cell_type": "code",
   "execution_count": 11,
   "metadata": {},
   "outputs": [
    {
     "data": {
      "text/plain": [
       "2382"
      ]
     },
     "execution_count": 11,
     "metadata": {},
     "output_type": "execute_result"
    }
   ],
   "source": [
    "# Check if index of Y matches index of X\n",
    "(X_test_scaled.index == Y_test_scaled.index).sum() # Match"
   ]
  },
  {
   "cell_type": "code",
   "execution_count": 12,
   "metadata": {},
   "outputs": [
    {
     "data": {
      "text/html": [
       "<div>\n",
       "<style scoped>\n",
       "    .dataframe tbody tr th:only-of-type {\n",
       "        vertical-align: middle;\n",
       "    }\n",
       "\n",
       "    .dataframe tbody tr th {\n",
       "        vertical-align: top;\n",
       "    }\n",
       "\n",
       "    .dataframe thead th {\n",
       "        text-align: right;\n",
       "    }\n",
       "</style>\n",
       "<table border=\"1\" class=\"dataframe\">\n",
       "  <thead>\n",
       "    <tr style=\"text-align: right;\">\n",
       "      <th></th>\n",
       "      <th>cp_type_trt_cp</th>\n",
       "      <th>cp_time_48</th>\n",
       "      <th>cp_time_72</th>\n",
       "      <th>cp_dose_D2</th>\n",
       "      <th>g-0_scaled</th>\n",
       "      <th>g-1_scaled</th>\n",
       "      <th>g-2_scaled</th>\n",
       "      <th>g-3_scaled</th>\n",
       "      <th>g-4_scaled</th>\n",
       "      <th>g-5_scaled</th>\n",
       "      <th>...</th>\n",
       "      <th>c-90_scaled</th>\n",
       "      <th>c-91_scaled</th>\n",
       "      <th>c-92_scaled</th>\n",
       "      <th>c-93_scaled</th>\n",
       "      <th>c-94_scaled</th>\n",
       "      <th>c-95_scaled</th>\n",
       "      <th>c-96_scaled</th>\n",
       "      <th>c-97_scaled</th>\n",
       "      <th>c-98_scaled</th>\n",
       "      <th>c-99_scaled</th>\n",
       "    </tr>\n",
       "    <tr>\n",
       "      <th>sig_id</th>\n",
       "      <th></th>\n",
       "      <th></th>\n",
       "      <th></th>\n",
       "      <th></th>\n",
       "      <th></th>\n",
       "      <th></th>\n",
       "      <th></th>\n",
       "      <th></th>\n",
       "      <th></th>\n",
       "      <th></th>\n",
       "      <th></th>\n",
       "      <th></th>\n",
       "      <th></th>\n",
       "      <th></th>\n",
       "      <th></th>\n",
       "      <th></th>\n",
       "      <th></th>\n",
       "      <th></th>\n",
       "      <th></th>\n",
       "      <th></th>\n",
       "      <th></th>\n",
       "    </tr>\n",
       "  </thead>\n",
       "  <tbody>\n",
       "    <tr>\n",
       "      <th>id_5c0fbdb9b</th>\n",
       "      <td>1</td>\n",
       "      <td>0</td>\n",
       "      <td>0</td>\n",
       "      <td>1</td>\n",
       "      <td>0.299741</td>\n",
       "      <td>0.492758</td>\n",
       "      <td>0.505973</td>\n",
       "      <td>0.351994</td>\n",
       "      <td>0.363954</td>\n",
       "      <td>0.608909</td>\n",
       "      <td>...</td>\n",
       "      <td>0.744161</td>\n",
       "      <td>0.741918</td>\n",
       "      <td>0.718058</td>\n",
       "      <td>0.709238</td>\n",
       "      <td>0.711884</td>\n",
       "      <td>0.766857</td>\n",
       "      <td>0.739467</td>\n",
       "      <td>0.798042</td>\n",
       "      <td>0.774442</td>\n",
       "      <td>0.750025</td>\n",
       "    </tr>\n",
       "    <tr>\n",
       "      <th>id_c92a6fd38</th>\n",
       "      <td>1</td>\n",
       "      <td>1</td>\n",
       "      <td>0</td>\n",
       "      <td>1</td>\n",
       "      <td>0.323171</td>\n",
       "      <td>0.502637</td>\n",
       "      <td>0.576781</td>\n",
       "      <td>0.309164</td>\n",
       "      <td>0.338914</td>\n",
       "      <td>0.650012</td>\n",
       "      <td>...</td>\n",
       "      <td>0.780873</td>\n",
       "      <td>0.764288</td>\n",
       "      <td>0.740569</td>\n",
       "      <td>0.775235</td>\n",
       "      <td>0.779463</td>\n",
       "      <td>0.854768</td>\n",
       "      <td>0.819474</td>\n",
       "      <td>0.816636</td>\n",
       "      <td>0.803919</td>\n",
       "      <td>0.775393</td>\n",
       "    </tr>\n",
       "    <tr>\n",
       "      <th>id_d2330add2</th>\n",
       "      <td>1</td>\n",
       "      <td>0</td>\n",
       "      <td>0</td>\n",
       "      <td>0</td>\n",
       "      <td>0.295927</td>\n",
       "      <td>0.522906</td>\n",
       "      <td>0.506693</td>\n",
       "      <td>0.374041</td>\n",
       "      <td>0.379288</td>\n",
       "      <td>0.590328</td>\n",
       "      <td>...</td>\n",
       "      <td>0.746421</td>\n",
       "      <td>0.728843</td>\n",
       "      <td>0.709500</td>\n",
       "      <td>0.702324</td>\n",
       "      <td>0.752156</td>\n",
       "      <td>0.800289</td>\n",
       "      <td>0.772484</td>\n",
       "      <td>0.816102</td>\n",
       "      <td>0.743364</td>\n",
       "      <td>0.781260</td>\n",
       "    </tr>\n",
       "    <tr>\n",
       "      <th>id_d41fa7215</th>\n",
       "      <td>1</td>\n",
       "      <td>0</td>\n",
       "      <td>1</td>\n",
       "      <td>1</td>\n",
       "      <td>0.366381</td>\n",
       "      <td>0.537196</td>\n",
       "      <td>0.528213</td>\n",
       "      <td>0.437242</td>\n",
       "      <td>0.433703</td>\n",
       "      <td>0.626875</td>\n",
       "      <td>...</td>\n",
       "      <td>0.756102</td>\n",
       "      <td>0.776880</td>\n",
       "      <td>0.526675</td>\n",
       "      <td>0.811047</td>\n",
       "      <td>0.728781</td>\n",
       "      <td>0.486655</td>\n",
       "      <td>0.659237</td>\n",
       "      <td>0.791396</td>\n",
       "      <td>0.438768</td>\n",
       "      <td>0.713756</td>\n",
       "    </tr>\n",
       "    <tr>\n",
       "      <th>id_f529f3643</th>\n",
       "      <td>1</td>\n",
       "      <td>0</td>\n",
       "      <td>1</td>\n",
       "      <td>1</td>\n",
       "      <td>0.388768</td>\n",
       "      <td>0.556370</td>\n",
       "      <td>0.500968</td>\n",
       "      <td>0.397568</td>\n",
       "      <td>0.456466</td>\n",
       "      <td>0.597125</td>\n",
       "      <td>...</td>\n",
       "      <td>0.719212</td>\n",
       "      <td>0.653875</td>\n",
       "      <td>0.632656</td>\n",
       "      <td>0.785297</td>\n",
       "      <td>0.781053</td>\n",
       "      <td>0.785313</td>\n",
       "      <td>0.702073</td>\n",
       "      <td>0.797470</td>\n",
       "      <td>0.818303</td>\n",
       "      <td>0.718435</td>\n",
       "    </tr>\n",
       "  </tbody>\n",
       "</table>\n",
       "<p>5 rows × 876 columns</p>\n",
       "</div>"
      ],
      "text/plain": [
       "              cp_type_trt_cp  cp_time_48  cp_time_72  cp_dose_D2  g-0_scaled  \\\n",
       "sig_id                                                                         \n",
       "id_5c0fbdb9b               1           0           0           1    0.299741   \n",
       "id_c92a6fd38               1           1           0           1    0.323171   \n",
       "id_d2330add2               1           0           0           0    0.295927   \n",
       "id_d41fa7215               1           0           1           1    0.366381   \n",
       "id_f529f3643               1           0           1           1    0.388768   \n",
       "\n",
       "              g-1_scaled  g-2_scaled  g-3_scaled  g-4_scaled  g-5_scaled  ...  \\\n",
       "sig_id                                                                    ...   \n",
       "id_5c0fbdb9b    0.492758    0.505973    0.351994    0.363954    0.608909  ...   \n",
       "id_c92a6fd38    0.502637    0.576781    0.309164    0.338914    0.650012  ...   \n",
       "id_d2330add2    0.522906    0.506693    0.374041    0.379288    0.590328  ...   \n",
       "id_d41fa7215    0.537196    0.528213    0.437242    0.433703    0.626875  ...   \n",
       "id_f529f3643    0.556370    0.500968    0.397568    0.456466    0.597125  ...   \n",
       "\n",
       "              c-90_scaled  c-91_scaled  c-92_scaled  c-93_scaled  c-94_scaled  \\\n",
       "sig_id                                                                          \n",
       "id_5c0fbdb9b     0.744161     0.741918     0.718058     0.709238     0.711884   \n",
       "id_c92a6fd38     0.780873     0.764288     0.740569     0.775235     0.779463   \n",
       "id_d2330add2     0.746421     0.728843     0.709500     0.702324     0.752156   \n",
       "id_d41fa7215     0.756102     0.776880     0.526675     0.811047     0.728781   \n",
       "id_f529f3643     0.719212     0.653875     0.632656     0.785297     0.781053   \n",
       "\n",
       "              c-95_scaled  c-96_scaled  c-97_scaled  c-98_scaled  c-99_scaled  \n",
       "sig_id                                                                         \n",
       "id_5c0fbdb9b     0.766857     0.739467     0.798042     0.774442     0.750025  \n",
       "id_c92a6fd38     0.854768     0.819474     0.816636     0.803919     0.775393  \n",
       "id_d2330add2     0.800289     0.772484     0.816102     0.743364     0.781260  \n",
       "id_d41fa7215     0.486655     0.659237     0.791396     0.438768     0.713756  \n",
       "id_f529f3643     0.785313     0.702073     0.797470     0.818303     0.718435  \n",
       "\n",
       "[5 rows x 876 columns]"
      ]
     },
     "execution_count": 12,
     "metadata": {},
     "output_type": "execute_result"
    }
   ],
   "source": [
    "X_train_scaled.head()"
   ]
  },
  {
   "cell_type": "code",
   "execution_count": 13,
   "metadata": {},
   "outputs": [
    {
     "data": {
      "text/html": [
       "<div>\n",
       "<style scoped>\n",
       "    .dataframe tbody tr th:only-of-type {\n",
       "        vertical-align: middle;\n",
       "    }\n",
       "\n",
       "    .dataframe tbody tr th {\n",
       "        vertical-align: top;\n",
       "    }\n",
       "\n",
       "    .dataframe thead th {\n",
       "        text-align: right;\n",
       "    }\n",
       "</style>\n",
       "<table border=\"1\" class=\"dataframe\">\n",
       "  <thead>\n",
       "    <tr style=\"text-align: right;\">\n",
       "      <th></th>\n",
       "      <th>nfkb_inhibitor</th>\n",
       "      <th>proteasome_inhibitor</th>\n",
       "      <th>cyclooxygenase_inhibitor</th>\n",
       "      <th>dopamine_receptor_antagonist</th>\n",
       "      <th>dna_inhibitor</th>\n",
       "    </tr>\n",
       "    <tr>\n",
       "      <th>sig_id</th>\n",
       "      <th></th>\n",
       "      <th></th>\n",
       "      <th></th>\n",
       "      <th></th>\n",
       "      <th></th>\n",
       "    </tr>\n",
       "  </thead>\n",
       "  <tbody>\n",
       "    <tr>\n",
       "      <th>id_5c0fbdb9b</th>\n",
       "      <td>0</td>\n",
       "      <td>0</td>\n",
       "      <td>0</td>\n",
       "      <td>0</td>\n",
       "      <td>0</td>\n",
       "    </tr>\n",
       "    <tr>\n",
       "      <th>id_c92a6fd38</th>\n",
       "      <td>0</td>\n",
       "      <td>0</td>\n",
       "      <td>0</td>\n",
       "      <td>0</td>\n",
       "      <td>0</td>\n",
       "    </tr>\n",
       "    <tr>\n",
       "      <th>id_d2330add2</th>\n",
       "      <td>0</td>\n",
       "      <td>0</td>\n",
       "      <td>0</td>\n",
       "      <td>0</td>\n",
       "      <td>0</td>\n",
       "    </tr>\n",
       "    <tr>\n",
       "      <th>id_d41fa7215</th>\n",
       "      <td>0</td>\n",
       "      <td>0</td>\n",
       "      <td>0</td>\n",
       "      <td>0</td>\n",
       "      <td>0</td>\n",
       "    </tr>\n",
       "    <tr>\n",
       "      <th>id_f529f3643</th>\n",
       "      <td>0</td>\n",
       "      <td>0</td>\n",
       "      <td>0</td>\n",
       "      <td>0</td>\n",
       "      <td>0</td>\n",
       "    </tr>\n",
       "  </tbody>\n",
       "</table>\n",
       "</div>"
      ],
      "text/plain": [
       "              nfkb_inhibitor  proteasome_inhibitor  cyclooxygenase_inhibitor  \\\n",
       "sig_id                                                                         \n",
       "id_5c0fbdb9b               0                     0                         0   \n",
       "id_c92a6fd38               0                     0                         0   \n",
       "id_d2330add2               0                     0                         0   \n",
       "id_d41fa7215               0                     0                         0   \n",
       "id_f529f3643               0                     0                         0   \n",
       "\n",
       "              dopamine_receptor_antagonist  dna_inhibitor  \n",
       "sig_id                                                     \n",
       "id_5c0fbdb9b                             0              0  \n",
       "id_c92a6fd38                             0              0  \n",
       "id_d2330add2                             0              0  \n",
       "id_d41fa7215                             0              0  \n",
       "id_f529f3643                             0              0  "
      ]
     },
     "execution_count": 13,
     "metadata": {},
     "output_type": "execute_result"
    }
   ],
   "source": [
    "Y_train_scaled.head()"
   ]
  },
  {
   "cell_type": "code",
   "execution_count": 14,
   "metadata": {
    "scrolled": false
   },
   "outputs": [],
   "source": [
    "# Create all possible orders for the 5 labels\n",
    "\n",
    "order= [2,3,4,0,1]"
   ]
  },
  {
   "cell_type": "markdown",
   "metadata": {},
   "source": [
    "### Classifier Chain"
   ]
  },
  {
   "cell_type": "code",
   "execution_count": 15,
   "metadata": {},
   "outputs": [],
   "source": [
    "# Create estimator\n",
    "clf = MLPClassifier(random_state=123)"
   ]
  },
  {
   "cell_type": "code",
   "execution_count": 16,
   "metadata": {},
   "outputs": [
    {
     "data": {
      "text/plain": [
       "ClassifierChain(base_estimator=MLPClassifier(random_state=123),\n",
       "                order=[2, 3, 4, 0, 1], random_state=123)"
      ]
     },
     "execution_count": 16,
     "metadata": {},
     "output_type": "execute_result"
    }
   ],
   "source": [
    "# Create Classifier Chain Object\n",
    "chain = ClassifierChain(clf, order=order, random_state=123)\n",
    "chain"
   ]
  },
  {
   "cell_type": "markdown",
   "metadata": {},
   "source": [
    "### Model on Train"
   ]
  },
  {
   "cell_type": "code",
   "execution_count": 17,
   "metadata": {},
   "outputs": [
    {
     "data": {
      "text/plain": [
       "ClassifierChain(base_estimator=MLPClassifier(random_state=123),\n",
       "                order=[2, 3, 4, 0, 1], random_state=123)"
      ]
     },
     "execution_count": 17,
     "metadata": {},
     "output_type": "execute_result"
    }
   ],
   "source": [
    "# Fit the chain on train\n",
    "chain.fit(X_train_scaled, Y_train_scaled) # Took 4.0 mins"
   ]
  },
  {
   "cell_type": "code",
   "execution_count": 18,
   "metadata": {},
   "outputs": [
    {
     "data": {
      "text/plain": [
       "[2, 3, 4, 0, 1]"
      ]
     },
     "execution_count": 18,
     "metadata": {},
     "output_type": "execute_result"
    }
   ],
   "source": [
    "# Print out the order\n",
    "chain.order_"
   ]
  },
  {
   "cell_type": "code",
   "execution_count": 19,
   "metadata": {},
   "outputs": [],
   "source": [
    "# Use chain_r to make a prediction\n",
    "\n",
    "Y_pred = chain.predict(X_train_scaled)\n",
    "Y_proba = chain.predict_proba(X_train_scaled)"
   ]
  },
  {
   "cell_type": "code",
   "execution_count": 20,
   "metadata": {},
   "outputs": [
    {
     "name": "stdout",
     "output_type": "stream",
     "text": [
      "85725\n"
     ]
    },
    {
     "data": {
      "text/plain": [
       "array([[0., 0., 0., 0., 0.],\n",
       "       [0., 0., 0., 0., 0.],\n",
       "       [0., 0., 0., 0., 0.],\n",
       "       ...,\n",
       "       [0., 0., 0., 0., 0.],\n",
       "       [0., 0., 0., 0., 0.],\n",
       "       [0., 0., 0., 0., 0.]])"
      ]
     },
     "execution_count": 20,
     "metadata": {},
     "output_type": "execute_result"
    }
   ],
   "source": [
    "# Take a look at Y_pred\n",
    "# Print the size of Y_pred\n",
    "\n",
    "print(Y_pred.size)\n",
    "Y_pred"
   ]
  },
  {
   "cell_type": "code",
   "execution_count": 21,
   "metadata": {},
   "outputs": [
    {
     "name": "stdout",
     "output_type": "stream",
     "text": [
      "85725\n"
     ]
    },
    {
     "data": {
      "text/plain": [
       "array([[2.02562938e-03, 6.26366711e-08, 3.70351979e-02, 5.83633508e-02,\n",
       "        1.17760973e-02],\n",
       "       [1.02375468e-03, 9.39225251e-09, 3.54529467e-02, 4.53328134e-02,\n",
       "        1.18520546e-02],\n",
       "       [1.25216842e-03, 1.19988485e-08, 3.17464731e-02, 1.91179580e-02,\n",
       "        7.50318001e-03],\n",
       "       ...,\n",
       "       [2.07363806e-03, 4.71412030e-08, 2.78261728e-02, 2.43456735e-02,\n",
       "        9.94205636e-03],\n",
       "       [1.92180744e-03, 1.52459759e-08, 3.03575624e-02, 4.71829009e-02,\n",
       "        6.83465714e-03],\n",
       "       [2.02170874e-04, 1.64556081e-08, 4.59123165e-03, 7.64342197e-04,\n",
       "        8.15491428e-04]])"
      ]
     },
     "execution_count": 21,
     "metadata": {},
     "output_type": "execute_result"
    }
   ],
   "source": [
    "# Take a look at Y_proba\n",
    "# Print the size of Y_proba\n",
    "\n",
    "print(Y_proba.size)\n",
    "Y_proba"
   ]
  },
  {
   "cell_type": "code",
   "execution_count": 22,
   "metadata": {},
   "outputs": [
    {
     "name": "stdout",
     "output_type": "stream",
     "text": [
      "85725\n"
     ]
    },
    {
     "data": {
      "text/plain": [
       "array([[0, 0, 0, 0, 0],\n",
       "       [0, 0, 0, 0, 0],\n",
       "       [0, 0, 0, 0, 0],\n",
       "       ...,\n",
       "       [0, 0, 0, 0, 0],\n",
       "       [0, 0, 0, 0, 0],\n",
       "       [0, 0, 0, 0, 0]], dtype=int64)"
      ]
     },
     "execution_count": 22,
     "metadata": {},
     "output_type": "execute_result"
    }
   ],
   "source": [
    "# Take a look at Y_train\n",
    "# Print the size of Y_train\n",
    "\n",
    "print(Y_train_scaled.values.size)\n",
    "Y_train_scaled.values"
   ]
  },
  {
   "cell_type": "code",
   "execution_count": 23,
   "metadata": {},
   "outputs": [
    {
     "data": {
      "text/plain": [
       "0.030212890055409742"
      ]
     },
     "execution_count": 23,
     "metadata": {},
     "output_type": "execute_result"
    }
   ],
   "source": [
    "# Compute jaccard score\n",
    "jaccard_score = jaccard_score(Y_train_scaled, Y_pred, average='samples')\n",
    "jaccard_score"
   ]
  },
  {
   "cell_type": "code",
   "execution_count": 24,
   "metadata": {
    "scrolled": true
   },
   "outputs": [
    {
     "data": {
      "text/plain": [
       "0.11236622350079215"
      ]
     },
     "execution_count": 24,
     "metadata": {},
     "output_type": "execute_result"
    }
   ],
   "source": [
    "# Compute log loss\n",
    "log_loss = log_loss(Y_train_scaled, Y_proba)\n",
    "log_loss"
   ]
  },
  {
   "cell_type": "code",
   "execution_count": 25,
   "metadata": {},
   "outputs": [
    {
     "data": {
      "text/plain": [
       "array([[ True,  True,  True,  True,  True],\n",
       "       [ True,  True,  True,  True,  True],\n",
       "       [ True,  True,  True,  True,  True],\n",
       "       ...,\n",
       "       [ True,  True,  True,  True,  True],\n",
       "       [ True,  True,  True,  True,  True],\n",
       "       [ True,  True,  True,  True,  True]])"
      ]
     },
     "execution_count": 25,
     "metadata": {},
     "output_type": "execute_result"
    }
   ],
   "source": [
    "# Compare predicted Y_train ith Y_train\n",
    "(Y_train_scaled.values == Y_pred)"
   ]
  },
  {
   "cell_type": "code",
   "execution_count": 26,
   "metadata": {},
   "outputs": [
    {
     "data": {
      "text/plain": [
       "84732"
      ]
     },
     "execution_count": 26,
     "metadata": {},
     "output_type": "execute_result"
    }
   ],
   "source": [
    "# How many labels the model predicing right\n",
    "(Y_train_scaled.values == Y_pred).sum()"
   ]
  },
  {
   "cell_type": "code",
   "execution_count": 27,
   "metadata": {
    "scrolled": false
   },
   "outputs": [
    {
     "name": "stdout",
     "output_type": "stream",
     "text": [
      "The total count of targets in Y_train: 2022\n"
     ]
    },
    {
     "data": {
      "text/plain": [
       "nfkb_inhibitor                  597\n",
       "proteasome_inhibitor            517\n",
       "cyclooxygenase_inhibitor        315\n",
       "dopamine_receptor_antagonist    302\n",
       "dna_inhibitor                   291\n",
       "dtype: int64"
      ]
     },
     "execution_count": 27,
     "metadata": {},
     "output_type": "execute_result"
    }
   ],
   "source": [
    "# Summarize Y_train\n",
    "\n",
    "features_train = Y_train_scaled.sum(axis=0).sort_values(ascending=False)\n",
    "print('The total count of targets in Y_train:', features_train.sum())\n",
    "features_train.head()"
   ]
  },
  {
   "cell_type": "code",
   "execution_count": 28,
   "metadata": {
    "scrolled": false
   },
   "outputs": [
    {
     "name": "stdout",
     "output_type": "stream",
     "text": [
      "The total count of targets: 1033.0\n"
     ]
    },
    {
     "data": {
      "text/plain": [
       "proteasome_inhibitor            517.0\n",
       "nfkb_inhibitor                  516.0\n",
       "dna_inhibitor                     0.0\n",
       "dopamine_receptor_antagonist      0.0\n",
       "cyclooxygenase_inhibitor          0.0\n",
       "dtype: float64"
      ]
     },
     "execution_count": 28,
     "metadata": {},
     "output_type": "execute_result"
    }
   ],
   "source": [
    "# Summarize Y_pred\n",
    "\n",
    "features_chain = pd.DataFrame(Y_pred, columns=Y_train_scaled.columns).sum(axis=0).sort_values(ascending=False)\n",
    "print('The total count of targets:', features_chain.sum())\n",
    "features_chain.head()"
   ]
  },
  {
   "cell_type": "code",
   "execution_count": 29,
   "metadata": {},
   "outputs": [
    {
     "data": {
      "text/html": [
       "<div>\n",
       "<style scoped>\n",
       "    .dataframe tbody tr th:only-of-type {\n",
       "        vertical-align: middle;\n",
       "    }\n",
       "\n",
       "    .dataframe tbody tr th {\n",
       "        vertical-align: top;\n",
       "    }\n",
       "\n",
       "    .dataframe thead th {\n",
       "        text-align: right;\n",
       "    }\n",
       "</style>\n",
       "<table border=\"1\" class=\"dataframe\">\n",
       "  <thead>\n",
       "    <tr style=\"text-align: right;\">\n",
       "      <th></th>\n",
       "      <th>0</th>\n",
       "      <th>1</th>\n",
       "    </tr>\n",
       "  </thead>\n",
       "  <tbody>\n",
       "    <tr>\n",
       "      <th>nfkb_inhibitor</th>\n",
       "      <td>597</td>\n",
       "      <td>516.0</td>\n",
       "    </tr>\n",
       "    <tr>\n",
       "      <th>proteasome_inhibitor</th>\n",
       "      <td>517</td>\n",
       "      <td>517.0</td>\n",
       "    </tr>\n",
       "    <tr>\n",
       "      <th>cyclooxygenase_inhibitor</th>\n",
       "      <td>315</td>\n",
       "      <td>0.0</td>\n",
       "    </tr>\n",
       "    <tr>\n",
       "      <th>dopamine_receptor_antagonist</th>\n",
       "      <td>302</td>\n",
       "      <td>0.0</td>\n",
       "    </tr>\n",
       "    <tr>\n",
       "      <th>dna_inhibitor</th>\n",
       "      <td>291</td>\n",
       "      <td>0.0</td>\n",
       "    </tr>\n",
       "  </tbody>\n",
       "</table>\n",
       "</div>"
      ],
      "text/plain": [
       "                                0      1\n",
       "nfkb_inhibitor                597  516.0\n",
       "proteasome_inhibitor          517  517.0\n",
       "cyclooxygenase_inhibitor      315    0.0\n",
       "dopamine_receptor_antagonist  302    0.0\n",
       "dna_inhibitor                 291    0.0"
      ]
     },
     "execution_count": 29,
     "metadata": {},
     "output_type": "execute_result"
    }
   ],
   "source": [
    "# Concat features_train, features_baseline and features_chain\n",
    "\n",
    "features_sum = pd.concat([features_train, features_chain], axis=1)\n",
    "features_sum.head()"
   ]
  },
  {
   "cell_type": "markdown",
   "metadata": {},
   "source": [
    "### Model on Validate"
   ]
  },
  {
   "cell_type": "code",
   "execution_count": 30,
   "metadata": {},
   "outputs": [],
   "source": [
    "# Predict the labels of Y_validate\n",
    "Y_pred_v = chain.predict(X_validate_scaled)\n",
    "\n",
    "# Predcit the probability of Y\n",
    "Y_proba_v = chain.predict_proba(X_validate_scaled) "
   ]
  },
  {
   "cell_type": "code",
   "execution_count": 31,
   "metadata": {},
   "outputs": [
    {
     "name": "stdout",
     "output_type": "stream",
     "text": [
      "21435\n"
     ]
    },
    {
     "data": {
      "text/plain": [
       "array([[0., 0., 0., 0., 0.],\n",
       "       [0., 0., 0., 0., 0.],\n",
       "       [1., 1., 0., 0., 0.],\n",
       "       ...,\n",
       "       [0., 0., 0., 0., 0.],\n",
       "       [0., 0., 0., 0., 0.],\n",
       "       [0., 0., 0., 0., 0.]])"
      ]
     },
     "execution_count": 31,
     "metadata": {},
     "output_type": "execute_result"
    }
   ],
   "source": [
    "# Take a look at Y_pred_v\n",
    "# Print the size of Y_pred_v\n",
    "\n",
    "print(Y_pred_v.size)\n",
    "Y_pred_v"
   ]
  },
  {
   "cell_type": "code",
   "execution_count": 32,
   "metadata": {},
   "outputs": [
    {
     "name": "stdout",
     "output_type": "stream",
     "text": [
      "21435\n"
     ]
    },
    {
     "data": {
      "text/plain": [
       "array([[1.99436375e-03, 1.15146355e-08, 3.66049652e-02, 4.95106528e-02,\n",
       "        1.02401151e-02],\n",
       "       [1.58781961e-03, 2.63961301e-08, 3.14979219e-02, 2.63569142e-02,\n",
       "        5.73716988e-03],\n",
       "       [9.99733190e-01, 9.99999515e-01, 1.97646412e-03, 1.23693726e-05,\n",
       "        3.57742708e-04],\n",
       "       ...,\n",
       "       [2.37929516e-03, 6.24812045e-09, 3.63847201e-02, 1.24564278e-01,\n",
       "        6.68258364e-03],\n",
       "       [2.27633587e-03, 8.01497506e-08, 2.33929351e-02, 1.29661002e-02,\n",
       "        8.47169428e-03],\n",
       "       [2.75104476e-03, 6.91228536e-08, 2.85786682e-02, 3.24666759e-02,\n",
       "        8.43623454e-03]])"
      ]
     },
     "execution_count": 32,
     "metadata": {},
     "output_type": "execute_result"
    }
   ],
   "source": [
    "# Take a look at Y_proba_v\n",
    "# Print the size of Y_proba_v\n",
    "\n",
    "print(Y_proba_v.size)\n",
    "Y_proba_v"
   ]
  },
  {
   "cell_type": "code",
   "execution_count": 33,
   "metadata": {},
   "outputs": [
    {
     "name": "stdout",
     "output_type": "stream",
     "text": [
      "21435\n"
     ]
    },
    {
     "data": {
      "text/plain": [
       "array([[0, 0, 0, 0, 0],\n",
       "       [0, 0, 0, 0, 0],\n",
       "       [1, 1, 0, 0, 0],\n",
       "       ...,\n",
       "       [0, 0, 0, 0, 0],\n",
       "       [0, 0, 0, 0, 0],\n",
       "       [0, 0, 0, 0, 0]], dtype=int64)"
      ]
     },
     "execution_count": 33,
     "metadata": {},
     "output_type": "execute_result"
    }
   ],
   "source": [
    "# Take a look at Y_validate\n",
    "# Print the size of Y_validate\n",
    "\n",
    "print(Y_validate_scaled.values.size)\n",
    "Y_validate_scaled.values"
   ]
  },
  {
   "cell_type": "code",
   "execution_count": 36,
   "metadata": {},
   "outputs": [
    {
     "data": {
      "text/plain": [
       "0.03184044786564031"
      ]
     },
     "execution_count": 36,
     "metadata": {},
     "output_type": "execute_result"
    }
   ],
   "source": [
    "# Compute jaccard score for validate\n",
    "\n",
    "jaccard_score_v = jaccard_score(Y_validate_scaled, Y_pred_v, average='samples')\n",
    "jaccard_score_v"
   ]
  },
  {
   "cell_type": "code",
   "execution_count": 37,
   "metadata": {},
   "outputs": [
    {
     "data": {
      "text/plain": [
       "0.11817462650170078"
      ]
     },
     "execution_count": 37,
     "metadata": {},
     "output_type": "execute_result"
    }
   ],
   "source": [
    "# Compute log loss for validate\n",
    "\n",
    "log_loss_v = log_loss(Y_validate_scaled, Y_proba_v)\n",
    "log_loss_v"
   ]
  },
  {
   "cell_type": "code",
   "execution_count": 38,
   "metadata": {},
   "outputs": [
    {
     "data": {
      "text/plain": [
       "array([[ True,  True,  True,  True,  True],\n",
       "       [ True,  True,  True,  True,  True],\n",
       "       [ True,  True,  True,  True,  True],\n",
       "       ...,\n",
       "       [ True,  True,  True,  True,  True],\n",
       "       [ True,  True,  True,  True,  True],\n",
       "       [ True,  True,  True,  True,  True]])"
      ]
     },
     "execution_count": 38,
     "metadata": {},
     "output_type": "execute_result"
    }
   ],
   "source": [
    "# Compare Y_validate and Y_pred_v\n",
    "(Y_validate_scaled.values == Y_pred_v)"
   ]
  },
  {
   "cell_type": "code",
   "execution_count": 39,
   "metadata": {
    "scrolled": true
   },
   "outputs": [
    {
     "data": {
      "text/plain": [
       "21171"
      ]
     },
     "execution_count": 39,
     "metadata": {},
     "output_type": "execute_result"
    }
   ],
   "source": [
    "# How many labels are predicted right\n",
    "(Y_validate_scaled.values == Y_pred_v).sum()"
   ]
  },
  {
   "cell_type": "code",
   "execution_count": 40,
   "metadata": {},
   "outputs": [
    {
     "name": "stdout",
     "output_type": "stream",
     "text": [
      "The total count of targets in Y_validate: 530\n"
     ]
    },
    {
     "data": {
      "text/plain": [
       "nfkb_inhibitor                  153\n",
       "proteasome_inhibitor            137\n",
       "cyclooxygenase_inhibitor         83\n",
       "dopamine_receptor_antagonist     82\n",
       "dna_inhibitor                    75\n",
       "dtype: int64"
      ]
     },
     "execution_count": 40,
     "metadata": {},
     "output_type": "execute_result"
    }
   ],
   "source": [
    "# Summarize Y_validate\n",
    "\n",
    "features_validate = Y_validate_scaled.sum(axis=0).sort_values(ascending=False)\n",
    "print('The total count of targets in Y_validate:', features_validate.sum())\n",
    "features_validate.head()"
   ]
  },
  {
   "cell_type": "code",
   "execution_count": 41,
   "metadata": {},
   "outputs": [
    {
     "name": "stdout",
     "output_type": "stream",
     "text": [
      "The total count of targets: 280.0\n"
     ]
    },
    {
     "data": {
      "text/plain": [
       "proteasome_inhibitor            140.0\n",
       "nfkb_inhibitor                  140.0\n",
       "dna_inhibitor                     0.0\n",
       "dopamine_receptor_antagonist      0.0\n",
       "cyclooxygenase_inhibitor          0.0\n",
       "dtype: float64"
      ]
     },
     "execution_count": 41,
     "metadata": {},
     "output_type": "execute_result"
    }
   ],
   "source": [
    "# Summarize Y_pred_v\n",
    "\n",
    "features_chain_v = pd.DataFrame(Y_pred_v, columns=Y_validate_scaled.columns).sum(axis=0).sort_values(ascending=False)\n",
    "print('The total count of targets:', features_chain_v.sum())\n",
    "features_chain_v.head()"
   ]
  },
  {
   "cell_type": "code",
   "execution_count": 42,
   "metadata": {},
   "outputs": [
    {
     "data": {
      "text/html": [
       "<div>\n",
       "<style scoped>\n",
       "    .dataframe tbody tr th:only-of-type {\n",
       "        vertical-align: middle;\n",
       "    }\n",
       "\n",
       "    .dataframe tbody tr th {\n",
       "        vertical-align: top;\n",
       "    }\n",
       "\n",
       "    .dataframe thead th {\n",
       "        text-align: right;\n",
       "    }\n",
       "</style>\n",
       "<table border=\"1\" class=\"dataframe\">\n",
       "  <thead>\n",
       "    <tr style=\"text-align: right;\">\n",
       "      <th></th>\n",
       "      <th>0</th>\n",
       "      <th>1</th>\n",
       "      <th>0</th>\n",
       "      <th>1</th>\n",
       "    </tr>\n",
       "  </thead>\n",
       "  <tbody>\n",
       "    <tr>\n",
       "      <th>nfkb_inhibitor</th>\n",
       "      <td>597</td>\n",
       "      <td>516.0</td>\n",
       "      <td>153</td>\n",
       "      <td>140.0</td>\n",
       "    </tr>\n",
       "    <tr>\n",
       "      <th>proteasome_inhibitor</th>\n",
       "      <td>517</td>\n",
       "      <td>517.0</td>\n",
       "      <td>137</td>\n",
       "      <td>140.0</td>\n",
       "    </tr>\n",
       "    <tr>\n",
       "      <th>cyclooxygenase_inhibitor</th>\n",
       "      <td>315</td>\n",
       "      <td>0.0</td>\n",
       "      <td>83</td>\n",
       "      <td>0.0</td>\n",
       "    </tr>\n",
       "    <tr>\n",
       "      <th>dopamine_receptor_antagonist</th>\n",
       "      <td>302</td>\n",
       "      <td>0.0</td>\n",
       "      <td>82</td>\n",
       "      <td>0.0</td>\n",
       "    </tr>\n",
       "    <tr>\n",
       "      <th>dna_inhibitor</th>\n",
       "      <td>291</td>\n",
       "      <td>0.0</td>\n",
       "      <td>75</td>\n",
       "      <td>0.0</td>\n",
       "    </tr>\n",
       "  </tbody>\n",
       "</table>\n",
       "</div>"
      ],
      "text/plain": [
       "                                0      1    0      1\n",
       "nfkb_inhibitor                597  516.0  153  140.0\n",
       "proteasome_inhibitor          517  517.0  137  140.0\n",
       "cyclooxygenase_inhibitor      315    0.0   83    0.0\n",
       "dopamine_receptor_antagonist  302    0.0   82    0.0\n",
       "dna_inhibitor                 291    0.0   75    0.0"
      ]
     },
     "execution_count": 42,
     "metadata": {},
     "output_type": "execute_result"
    }
   ],
   "source": [
    "# Add features_validate and features_chain_v to feature_sum\n",
    "\n",
    "features_sum = pd.concat([features_sum, features_validate, features_chain_v], axis=1)\n",
    "features_sum.head()"
   ]
  },
  {
   "cell_type": "markdown",
   "metadata": {},
   "source": [
    "### Model on Test"
   ]
  },
  {
   "cell_type": "code",
   "execution_count": 43,
   "metadata": {},
   "outputs": [],
   "source": [
    "# Predict the labels of Y_test\n",
    "Y_pred_t = chain.predict(X_test_scaled)\n",
    "\n",
    "# Predcit the probability of Y_test\n",
    "Y_proba_t = chain.predict_proba(X_test_scaled) "
   ]
  },
  {
   "cell_type": "code",
   "execution_count": 44,
   "metadata": {},
   "outputs": [
    {
     "name": "stdout",
     "output_type": "stream",
     "text": [
      "11910\n"
     ]
    },
    {
     "data": {
      "text/plain": [
       "array([[0., 0., 0., 0., 0.],\n",
       "       [0., 0., 0., 0., 0.],\n",
       "       [0., 0., 0., 0., 0.],\n",
       "       ...,\n",
       "       [0., 0., 0., 0., 0.],\n",
       "       [0., 0., 0., 0., 0.],\n",
       "       [0., 0., 0., 0., 0.]])"
      ]
     },
     "execution_count": 44,
     "metadata": {},
     "output_type": "execute_result"
    }
   ],
   "source": [
    "# Take a look at Y_pred_t\n",
    "\n",
    "print(Y_pred_t.size)\n",
    "Y_pred_t"
   ]
  },
  {
   "cell_type": "code",
   "execution_count": 45,
   "metadata": {},
   "outputs": [
    {
     "name": "stdout",
     "output_type": "stream",
     "text": [
      "11910\n"
     ]
    },
    {
     "data": {
      "text/plain": [
       "array([[8.39234330e-04, 3.18925501e-08, 1.72952067e-02, 1.07155256e-02,\n",
       "        2.50697358e-03],\n",
       "       [2.54721533e-03, 2.15705525e-08, 3.09936882e-02, 4.19231246e-02,\n",
       "        6.24185428e-03],\n",
       "       [1.00329653e-03, 1.30664807e-08, 2.29674556e-02, 1.79768151e-03,\n",
       "        2.29204515e-02],\n",
       "       ...,\n",
       "       [3.02966210e-03, 4.37416069e-08, 1.27301417e-02, 1.04128829e-02,\n",
       "        3.06809369e-02],\n",
       "       [2.43376673e-03, 3.70091865e-08, 4.20924203e-02, 5.47910437e-02,\n",
       "        6.80082336e-03],\n",
       "       [1.87298486e-03, 7.36979137e-08, 3.27919202e-02, 2.25978254e-02,\n",
       "        9.28717505e-03]])"
      ]
     },
     "execution_count": 45,
     "metadata": {},
     "output_type": "execute_result"
    }
   ],
   "source": [
    "# Take a look at Y_proba_t\n",
    "\n",
    "print(Y_proba_t.size)\n",
    "Y_proba_t"
   ]
  },
  {
   "cell_type": "code",
   "execution_count": 46,
   "metadata": {},
   "outputs": [
    {
     "name": "stdout",
     "output_type": "stream",
     "text": [
      "11910\n"
     ]
    },
    {
     "data": {
      "text/plain": [
       "array([[0, 0, 0, 0, 0],\n",
       "       [0, 0, 0, 0, 0],\n",
       "       [0, 0, 0, 0, 1],\n",
       "       ...,\n",
       "       [0, 0, 0, 0, 0],\n",
       "       [0, 0, 0, 0, 0],\n",
       "       [0, 0, 0, 0, 0]], dtype=int64)"
      ]
     },
     "execution_count": 46,
     "metadata": {},
     "output_type": "execute_result"
    }
   ],
   "source": [
    "# Take a look at Y_test\n",
    "# Print the size of Y_test\n",
    "\n",
    "print(Y_test_scaled.values.size)\n",
    "Y_test_scaled.values"
   ]
  },
  {
   "cell_type": "code",
   "execution_count": 47,
   "metadata": {},
   "outputs": [
    {
     "data": {
      "text/plain": [
       "0.030226700251889168"
      ]
     },
     "execution_count": 47,
     "metadata": {},
     "output_type": "execute_result"
    }
   ],
   "source": [
    "# Compute jaccard score for test\n",
    "\n",
    "jaccard_score_t = jaccard_score(Y_test_scaled, Y_pred_t, average='samples')\n",
    "jaccard_score_t"
   ]
  },
  {
   "cell_type": "code",
   "execution_count": 48,
   "metadata": {},
   "outputs": [
    {
     "data": {
      "text/plain": [
       "0.11346444950312891"
      ]
     },
     "execution_count": 48,
     "metadata": {},
     "output_type": "execute_result"
    }
   ],
   "source": [
    "# Compute log loss for test\n",
    "\n",
    "log_loss_t = log_loss(Y_test_scaled, Y_proba_t)\n",
    "log_loss_t"
   ]
  },
  {
   "cell_type": "code",
   "execution_count": 49,
   "metadata": {},
   "outputs": [
    {
     "data": {
      "text/plain": [
       "array([[ True,  True,  True,  True,  True],\n",
       "       [ True,  True,  True,  True,  True],\n",
       "       [ True,  True,  True,  True, False],\n",
       "       ...,\n",
       "       [ True,  True,  True,  True,  True],\n",
       "       [ True,  True,  True,  True,  True],\n",
       "       [ True,  True,  True,  True,  True]])"
      ]
     },
     "execution_count": 49,
     "metadata": {},
     "output_type": "execute_result"
    }
   ],
   "source": [
    "# Compare predicted test and Y_test\n",
    "(Y_test_scaled.values == Y_pred_t)"
   ]
  },
  {
   "cell_type": "code",
   "execution_count": 50,
   "metadata": {},
   "outputs": [
    {
     "data": {
      "text/plain": [
       "11785"
      ]
     },
     "execution_count": 50,
     "metadata": {},
     "output_type": "execute_result"
    }
   ],
   "source": [
    "# How many labels are predicted right\n",
    "(Y_test_scaled.values == Y_pred_t).sum()"
   ]
  },
  {
   "cell_type": "code",
   "execution_count": 51,
   "metadata": {},
   "outputs": [
    {
     "name": "stdout",
     "output_type": "stream",
     "text": [
      "The total count of targets in Y_test: 267\n"
     ]
    },
    {
     "data": {
      "text/plain": [
       "nfkb_inhibitor                  82\n",
       "proteasome_inhibitor            72\n",
       "dopamine_receptor_antagonist    40\n",
       "cyclooxygenase_inhibitor        37\n",
       "dna_inhibitor                   36\n",
       "dtype: int64"
      ]
     },
     "execution_count": 51,
     "metadata": {},
     "output_type": "execute_result"
    }
   ],
   "source": [
    "# Summarize Y_test\n",
    "\n",
    "features_test = Y_test_scaled.sum(axis=0).sort_values(ascending=False)\n",
    "print('The total count of targets in Y_test:', features_test.sum())\n",
    "features_test.head()"
   ]
  },
  {
   "cell_type": "code",
   "execution_count": 52,
   "metadata": {},
   "outputs": [
    {
     "name": "stdout",
     "output_type": "stream",
     "text": [
      "The total count of predicted targets: 146.0\n"
     ]
    },
    {
     "data": {
      "text/plain": [
       "proteasome_inhibitor            73.0\n",
       "nfkb_inhibitor                  73.0\n",
       "dna_inhibitor                    0.0\n",
       "dopamine_receptor_antagonist     0.0\n",
       "cyclooxygenase_inhibitor         0.0\n",
       "dtype: float64"
      ]
     },
     "execution_count": 52,
     "metadata": {},
     "output_type": "execute_result"
    }
   ],
   "source": [
    "# Summarize Y_pred_t\n",
    "\n",
    "features_chain_t = pd.DataFrame(Y_pred_t, columns=Y_test_scaled.columns).sum(axis=0).sort_values(ascending=False)\n",
    "print('The total count of predicted targets:', features_chain_t.sum())\n",
    "features_chain_t.head()"
   ]
  },
  {
   "cell_type": "code",
   "execution_count": 53,
   "metadata": {},
   "outputs": [
    {
     "data": {
      "text/html": [
       "<div>\n",
       "<style scoped>\n",
       "    .dataframe tbody tr th:only-of-type {\n",
       "        vertical-align: middle;\n",
       "    }\n",
       "\n",
       "    .dataframe tbody tr th {\n",
       "        vertical-align: top;\n",
       "    }\n",
       "\n",
       "    .dataframe thead th {\n",
       "        text-align: right;\n",
       "    }\n",
       "</style>\n",
       "<table border=\"1\" class=\"dataframe\">\n",
       "  <thead>\n",
       "    <tr style=\"text-align: right;\">\n",
       "      <th></th>\n",
       "      <th>0</th>\n",
       "      <th>1</th>\n",
       "      <th>0</th>\n",
       "      <th>1</th>\n",
       "      <th>0</th>\n",
       "      <th>1</th>\n",
       "    </tr>\n",
       "  </thead>\n",
       "  <tbody>\n",
       "    <tr>\n",
       "      <th>nfkb_inhibitor</th>\n",
       "      <td>597</td>\n",
       "      <td>516.0</td>\n",
       "      <td>153</td>\n",
       "      <td>140.0</td>\n",
       "      <td>82</td>\n",
       "      <td>73.0</td>\n",
       "    </tr>\n",
       "    <tr>\n",
       "      <th>proteasome_inhibitor</th>\n",
       "      <td>517</td>\n",
       "      <td>517.0</td>\n",
       "      <td>137</td>\n",
       "      <td>140.0</td>\n",
       "      <td>72</td>\n",
       "      <td>73.0</td>\n",
       "    </tr>\n",
       "    <tr>\n",
       "      <th>cyclooxygenase_inhibitor</th>\n",
       "      <td>315</td>\n",
       "      <td>0.0</td>\n",
       "      <td>83</td>\n",
       "      <td>0.0</td>\n",
       "      <td>37</td>\n",
       "      <td>0.0</td>\n",
       "    </tr>\n",
       "    <tr>\n",
       "      <th>dopamine_receptor_antagonist</th>\n",
       "      <td>302</td>\n",
       "      <td>0.0</td>\n",
       "      <td>82</td>\n",
       "      <td>0.0</td>\n",
       "      <td>40</td>\n",
       "      <td>0.0</td>\n",
       "    </tr>\n",
       "    <tr>\n",
       "      <th>dna_inhibitor</th>\n",
       "      <td>291</td>\n",
       "      <td>0.0</td>\n",
       "      <td>75</td>\n",
       "      <td>0.0</td>\n",
       "      <td>36</td>\n",
       "      <td>0.0</td>\n",
       "    </tr>\n",
       "  </tbody>\n",
       "</table>\n",
       "</div>"
      ],
      "text/plain": [
       "                                0      1    0      1   0     1\n",
       "nfkb_inhibitor                597  516.0  153  140.0  82  73.0\n",
       "proteasome_inhibitor          517  517.0  137  140.0  72  73.0\n",
       "cyclooxygenase_inhibitor      315    0.0   83    0.0  37   0.0\n",
       "dopamine_receptor_antagonist  302    0.0   82    0.0  40   0.0\n",
       "dna_inhibitor                 291    0.0   75    0.0  36   0.0"
      ]
     },
     "execution_count": 53,
     "metadata": {},
     "output_type": "execute_result"
    }
   ],
   "source": [
    "# Add features_test and _chain_t to features_sum\n",
    "\n",
    "features_sum = pd.concat([features_sum, features_test, features_chain_t], axis=1)\n",
    "features_sum.head()"
   ]
  },
  {
   "cell_type": "code",
   "execution_count": 54,
   "metadata": {},
   "outputs": [
    {
     "data": {
      "text/plain": [
       "ClassifierChain(base_estimator=MLPClassifier(random_state=123),\n",
       "                order=[2, 3, 4, 0, 1], random_state=123)"
      ]
     },
     "execution_count": 54,
     "metadata": {},
     "output_type": "execute_result"
    }
   ],
   "source": [
    "# Print chain object to double check\n",
    "chain"
   ]
  },
  {
   "cell_type": "code",
   "execution_count": 55,
   "metadata": {},
   "outputs": [],
   "source": [
    "# # Conver to csv\n",
    "# features_sum.to_csv('error_analysis_v4.csv')"
   ]
  }
 ],
 "metadata": {
  "kernelspec": {
   "display_name": "Python 3",
   "language": "python",
   "name": "python3"
  },
  "language_info": {
   "codemirror_mode": {
    "name": "ipython",
    "version": 3
   },
   "file_extension": ".py",
   "mimetype": "text/x-python",
   "name": "python",
   "nbconvert_exporter": "python",
   "pygments_lexer": "ipython3",
   "version": "3.7.6"
  }
 },
 "nbformat": 4,
 "nbformat_minor": 4
}
