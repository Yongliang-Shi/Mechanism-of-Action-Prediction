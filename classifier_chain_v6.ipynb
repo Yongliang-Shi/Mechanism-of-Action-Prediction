{
 "cells": [
  {
   "cell_type": "code",
   "execution_count": 30,
   "metadata": {},
   "outputs": [],
   "source": [
    "import warnings\n",
    "warnings.filterwarnings(\"ignore\")\n",
    "\n",
    "import pandas as pd\n",
    "import numpy as np\n",
    "import matplotlib.pyplot as plt\n",
    "import seaborn as sns\n",
    "\n",
    "from sklearn.neural_network import MLPClassifier\n",
    "from sklearn.multioutput import ClassifierChain\n",
    "\n",
    "from sklearn.metrics import classification_report, confusion_matrix, jaccard_score, log_loss"
   ]
  },
  {
   "cell_type": "markdown",
   "metadata": {},
   "source": [
    "### Preprocess"
   ]
  },
  {
   "cell_type": "code",
   "execution_count": 2,
   "metadata": {},
   "outputs": [
    {
     "data": {
      "text/plain": [
       "((15802, 50), (15802, 206), (3951, 50), (3951, 206), (2195, 50), (2195, 206))"
      ]
     },
     "execution_count": 2,
     "metadata": {},
     "output_type": "execute_result"
    }
   ],
   "source": [
    "# Load train, validate and test\n",
    "\n",
    "X_train_cos = pd.read_csv('X_train_cos.csv', index_col=0)\n",
    "Y_train = pd.read_csv('Y_train.csv', index_col=0)\n",
    "\n",
    "X_validate_cos = pd.read_csv('X_validate_cos.csv', index_col=0)\n",
    "Y_validate = pd.read_csv('Y_validate.csv', index_col=0)\n",
    "\n",
    "X_test_cos = pd.read_csv('X_test_cos.csv', index_col=0)\n",
    "Y_test = pd.read_csv('Y_test.csv', index_col=0)\n",
    "\n",
    "# Print their shapes\n",
    "X_train_cos.shape, Y_train.shape, X_validate_cos.shape, Y_validate.shape, X_test_cos.shape, Y_test.shape"
   ]
  },
  {
   "cell_type": "code",
   "execution_count": 3,
   "metadata": {},
   "outputs": [],
   "source": [
    "# Take the top 5 labels from Y_train\n",
    "\n",
    "Y_train = Y_train.loc[:, ['nfkb_inhibitor', 'proteasome_inhibitor', 'cyclooxygenase_inhibitor', \n",
    "                               'dopamine_receptor_antagonist', 'dna_inhibitor']]\n",
    "\n",
    "Y_validate = Y_validate.loc[:, ['nfkb_inhibitor', 'proteasome_inhibitor', 'cyclooxygenase_inhibitor', \n",
    "                               'dopamine_receptor_antagonist', 'dna_inhibitor']]\n",
    "\n",
    "Y_test = Y_test.loc[:, ['nfkb_inhibitor', 'proteasome_inhibitor', 'cyclooxygenase_inhibitor', \n",
    "                               'dopamine_receptor_antagonist', 'dna_inhibitor']]"
   ]
  },
  {
   "cell_type": "code",
   "execution_count": 4,
   "metadata": {},
   "outputs": [
    {
     "data": {
      "text/plain": [
       "((15802, 5), (3951, 5), (2195, 5))"
      ]
     },
     "execution_count": 4,
     "metadata": {},
     "output_type": "execute_result"
    }
   ],
   "source": [
    "# Print the shapes\n",
    "Y_train.shape, Y_validate.shape, Y_test.shape"
   ]
  },
  {
   "cell_type": "code",
   "execution_count": 5,
   "metadata": {},
   "outputs": [
    {
     "data": {
      "text/plain": [
       "15802"
      ]
     },
     "execution_count": 5,
     "metadata": {},
     "output_type": "execute_result"
    }
   ],
   "source": [
    "# Check if index of Y matches index of X\n",
    "(X_train_cos.index == Y_train.index).sum() # Match"
   ]
  },
  {
   "cell_type": "code",
   "execution_count": 6,
   "metadata": {},
   "outputs": [
    {
     "data": {
      "text/plain": [
       "3951"
      ]
     },
     "execution_count": 6,
     "metadata": {},
     "output_type": "execute_result"
    }
   ],
   "source": [
    "# Check if index of Y matches index of X\n",
    "(X_validate_cos.index == Y_validate.index).sum() # Match"
   ]
  },
  {
   "cell_type": "code",
   "execution_count": 7,
   "metadata": {},
   "outputs": [
    {
     "data": {
      "text/plain": [
       "2195"
      ]
     },
     "execution_count": 7,
     "metadata": {},
     "output_type": "execute_result"
    }
   ],
   "source": [
    "# Check if index of Y matches index of X\n",
    "(X_test_cos.index == Y_test.index).sum() # Match"
   ]
  },
  {
   "cell_type": "code",
   "execution_count": 8,
   "metadata": {},
   "outputs": [
    {
     "data": {
      "text/html": [
       "<div>\n",
       "<style scoped>\n",
       "    .dataframe tbody tr th:only-of-type {\n",
       "        vertical-align: middle;\n",
       "    }\n",
       "\n",
       "    .dataframe tbody tr th {\n",
       "        vertical-align: top;\n",
       "    }\n",
       "\n",
       "    .dataframe thead th {\n",
       "        text-align: right;\n",
       "    }\n",
       "</style>\n",
       "<table border=\"1\" class=\"dataframe\">\n",
       "  <thead>\n",
       "    <tr style=\"text-align: right;\">\n",
       "      <th></th>\n",
       "      <th>0</th>\n",
       "      <th>1</th>\n",
       "      <th>2</th>\n",
       "      <th>3</th>\n",
       "      <th>4</th>\n",
       "      <th>5</th>\n",
       "      <th>6</th>\n",
       "      <th>7</th>\n",
       "      <th>8</th>\n",
       "      <th>9</th>\n",
       "      <th>...</th>\n",
       "      <th>40</th>\n",
       "      <th>41</th>\n",
       "      <th>42</th>\n",
       "      <th>43</th>\n",
       "      <th>44</th>\n",
       "      <th>45</th>\n",
       "      <th>46</th>\n",
       "      <th>47</th>\n",
       "      <th>48</th>\n",
       "      <th>49</th>\n",
       "    </tr>\n",
       "  </thead>\n",
       "  <tbody>\n",
       "    <tr>\n",
       "      <th>id_887911684</th>\n",
       "      <td>-0.113079</td>\n",
       "      <td>-0.126488</td>\n",
       "      <td>-0.045746</td>\n",
       "      <td>-0.065418</td>\n",
       "      <td>0.009277</td>\n",
       "      <td>0.058472</td>\n",
       "      <td>-0.015255</td>\n",
       "      <td>0.286149</td>\n",
       "      <td>-0.071498</td>\n",
       "      <td>0.029081</td>\n",
       "      <td>...</td>\n",
       "      <td>-0.004725</td>\n",
       "      <td>-0.046098</td>\n",
       "      <td>-0.000499</td>\n",
       "      <td>0.032700</td>\n",
       "      <td>-0.090504</td>\n",
       "      <td>0.031419</td>\n",
       "      <td>-0.122123</td>\n",
       "      <td>0.024048</td>\n",
       "      <td>-0.122287</td>\n",
       "      <td>-0.012305</td>\n",
       "    </tr>\n",
       "    <tr>\n",
       "      <th>id_294d38ce4</th>\n",
       "      <td>-0.239770</td>\n",
       "      <td>-0.242513</td>\n",
       "      <td>0.469707</td>\n",
       "      <td>0.132345</td>\n",
       "      <td>-0.079247</td>\n",
       "      <td>0.053615</td>\n",
       "      <td>-0.062062</td>\n",
       "      <td>0.159616</td>\n",
       "      <td>-0.169681</td>\n",
       "      <td>0.026081</td>\n",
       "      <td>...</td>\n",
       "      <td>-0.023376</td>\n",
       "      <td>0.004647</td>\n",
       "      <td>0.002614</td>\n",
       "      <td>0.044699</td>\n",
       "      <td>0.061037</td>\n",
       "      <td>-0.002453</td>\n",
       "      <td>-0.014456</td>\n",
       "      <td>-0.020474</td>\n",
       "      <td>0.008282</td>\n",
       "      <td>0.037586</td>\n",
       "    </tr>\n",
       "    <tr>\n",
       "      <th>id_b12cf3d9c</th>\n",
       "      <td>-0.116704</td>\n",
       "      <td>-0.175076</td>\n",
       "      <td>-0.216695</td>\n",
       "      <td>0.093239</td>\n",
       "      <td>0.098658</td>\n",
       "      <td>-0.023396</td>\n",
       "      <td>-0.040551</td>\n",
       "      <td>-0.069963</td>\n",
       "      <td>0.081209</td>\n",
       "      <td>-0.049178</td>\n",
       "      <td>...</td>\n",
       "      <td>0.071413</td>\n",
       "      <td>-0.054937</td>\n",
       "      <td>0.077372</td>\n",
       "      <td>-0.072166</td>\n",
       "      <td>-0.020397</td>\n",
       "      <td>-0.001381</td>\n",
       "      <td>-0.006411</td>\n",
       "      <td>-0.014820</td>\n",
       "      <td>-0.020163</td>\n",
       "      <td>0.062042</td>\n",
       "    </tr>\n",
       "    <tr>\n",
       "      <th>id_d8f5ca938</th>\n",
       "      <td>-0.108337</td>\n",
       "      <td>0.198954</td>\n",
       "      <td>-0.001508</td>\n",
       "      <td>0.331887</td>\n",
       "      <td>-0.138065</td>\n",
       "      <td>-0.079667</td>\n",
       "      <td>-0.033503</td>\n",
       "      <td>-0.174493</td>\n",
       "      <td>-0.137442</td>\n",
       "      <td>0.065832</td>\n",
       "      <td>...</td>\n",
       "      <td>-0.014569</td>\n",
       "      <td>0.025528</td>\n",
       "      <td>0.022390</td>\n",
       "      <td>-0.048285</td>\n",
       "      <td>0.023898</td>\n",
       "      <td>0.037983</td>\n",
       "      <td>-0.026742</td>\n",
       "      <td>0.069053</td>\n",
       "      <td>0.004214</td>\n",
       "      <td>0.062170</td>\n",
       "    </tr>\n",
       "    <tr>\n",
       "      <th>id_c4eaa645d</th>\n",
       "      <td>0.113585</td>\n",
       "      <td>-0.318411</td>\n",
       "      <td>0.101633</td>\n",
       "      <td>-0.034343</td>\n",
       "      <td>0.128269</td>\n",
       "      <td>-0.208788</td>\n",
       "      <td>-0.105685</td>\n",
       "      <td>0.149461</td>\n",
       "      <td>-0.098587</td>\n",
       "      <td>0.329119</td>\n",
       "      <td>...</td>\n",
       "      <td>0.014009</td>\n",
       "      <td>-0.024623</td>\n",
       "      <td>0.016682</td>\n",
       "      <td>0.044054</td>\n",
       "      <td>0.003013</td>\n",
       "      <td>-0.019702</td>\n",
       "      <td>-0.029526</td>\n",
       "      <td>0.003733</td>\n",
       "      <td>-0.052697</td>\n",
       "      <td>0.008851</td>\n",
       "    </tr>\n",
       "  </tbody>\n",
       "</table>\n",
       "<p>5 rows × 50 columns</p>\n",
       "</div>"
      ],
      "text/plain": [
       "                     0         1         2         3         4         5  \\\n",
       "id_887911684 -0.113079 -0.126488 -0.045746 -0.065418  0.009277  0.058472   \n",
       "id_294d38ce4 -0.239770 -0.242513  0.469707  0.132345 -0.079247  0.053615   \n",
       "id_b12cf3d9c -0.116704 -0.175076 -0.216695  0.093239  0.098658 -0.023396   \n",
       "id_d8f5ca938 -0.108337  0.198954 -0.001508  0.331887 -0.138065 -0.079667   \n",
       "id_c4eaa645d  0.113585 -0.318411  0.101633 -0.034343  0.128269 -0.208788   \n",
       "\n",
       "                     6         7         8         9  ...        40        41  \\\n",
       "id_887911684 -0.015255  0.286149 -0.071498  0.029081  ... -0.004725 -0.046098   \n",
       "id_294d38ce4 -0.062062  0.159616 -0.169681  0.026081  ... -0.023376  0.004647   \n",
       "id_b12cf3d9c -0.040551 -0.069963  0.081209 -0.049178  ...  0.071413 -0.054937   \n",
       "id_d8f5ca938 -0.033503 -0.174493 -0.137442  0.065832  ... -0.014569  0.025528   \n",
       "id_c4eaa645d -0.105685  0.149461 -0.098587  0.329119  ...  0.014009 -0.024623   \n",
       "\n",
       "                    42        43        44        45        46        47  \\\n",
       "id_887911684 -0.000499  0.032700 -0.090504  0.031419 -0.122123  0.024048   \n",
       "id_294d38ce4  0.002614  0.044699  0.061037 -0.002453 -0.014456 -0.020474   \n",
       "id_b12cf3d9c  0.077372 -0.072166 -0.020397 -0.001381 -0.006411 -0.014820   \n",
       "id_d8f5ca938  0.022390 -0.048285  0.023898  0.037983 -0.026742  0.069053   \n",
       "id_c4eaa645d  0.016682  0.044054  0.003013 -0.019702 -0.029526  0.003733   \n",
       "\n",
       "                    48        49  \n",
       "id_887911684 -0.122287 -0.012305  \n",
       "id_294d38ce4  0.008282  0.037586  \n",
       "id_b12cf3d9c -0.020163  0.062042  \n",
       "id_d8f5ca938  0.004214  0.062170  \n",
       "id_c4eaa645d -0.052697  0.008851  \n",
       "\n",
       "[5 rows x 50 columns]"
      ]
     },
     "execution_count": 8,
     "metadata": {},
     "output_type": "execute_result"
    }
   ],
   "source": [
    "# Take a peek at X_train_cos\n",
    "X_train_cos.head()"
   ]
  },
  {
   "cell_type": "code",
   "execution_count": 9,
   "metadata": {},
   "outputs": [
    {
     "data": {
      "text/html": [
       "<div>\n",
       "<style scoped>\n",
       "    .dataframe tbody tr th:only-of-type {\n",
       "        vertical-align: middle;\n",
       "    }\n",
       "\n",
       "    .dataframe tbody tr th {\n",
       "        vertical-align: top;\n",
       "    }\n",
       "\n",
       "    .dataframe thead th {\n",
       "        text-align: right;\n",
       "    }\n",
       "</style>\n",
       "<table border=\"1\" class=\"dataframe\">\n",
       "  <thead>\n",
       "    <tr style=\"text-align: right;\">\n",
       "      <th></th>\n",
       "      <th>nfkb_inhibitor</th>\n",
       "      <th>proteasome_inhibitor</th>\n",
       "      <th>cyclooxygenase_inhibitor</th>\n",
       "      <th>dopamine_receptor_antagonist</th>\n",
       "      <th>dna_inhibitor</th>\n",
       "    </tr>\n",
       "    <tr>\n",
       "      <th>sig_id</th>\n",
       "      <th></th>\n",
       "      <th></th>\n",
       "      <th></th>\n",
       "      <th></th>\n",
       "      <th></th>\n",
       "    </tr>\n",
       "  </thead>\n",
       "  <tbody>\n",
       "    <tr>\n",
       "      <th>id_887911684</th>\n",
       "      <td>0</td>\n",
       "      <td>0</td>\n",
       "      <td>0</td>\n",
       "      <td>0</td>\n",
       "      <td>0</td>\n",
       "    </tr>\n",
       "    <tr>\n",
       "      <th>id_294d38ce4</th>\n",
       "      <td>0</td>\n",
       "      <td>0</td>\n",
       "      <td>0</td>\n",
       "      <td>0</td>\n",
       "      <td>0</td>\n",
       "    </tr>\n",
       "    <tr>\n",
       "      <th>id_b12cf3d9c</th>\n",
       "      <td>0</td>\n",
       "      <td>0</td>\n",
       "      <td>0</td>\n",
       "      <td>0</td>\n",
       "      <td>0</td>\n",
       "    </tr>\n",
       "    <tr>\n",
       "      <th>id_d8f5ca938</th>\n",
       "      <td>0</td>\n",
       "      <td>0</td>\n",
       "      <td>0</td>\n",
       "      <td>0</td>\n",
       "      <td>0</td>\n",
       "    </tr>\n",
       "    <tr>\n",
       "      <th>id_c4eaa645d</th>\n",
       "      <td>0</td>\n",
       "      <td>0</td>\n",
       "      <td>0</td>\n",
       "      <td>0</td>\n",
       "      <td>0</td>\n",
       "    </tr>\n",
       "  </tbody>\n",
       "</table>\n",
       "</div>"
      ],
      "text/plain": [
       "              nfkb_inhibitor  proteasome_inhibitor  cyclooxygenase_inhibitor  \\\n",
       "sig_id                                                                         \n",
       "id_887911684               0                     0                         0   \n",
       "id_294d38ce4               0                     0                         0   \n",
       "id_b12cf3d9c               0                     0                         0   \n",
       "id_d8f5ca938               0                     0                         0   \n",
       "id_c4eaa645d               0                     0                         0   \n",
       "\n",
       "              dopamine_receptor_antagonist  dna_inhibitor  \n",
       "sig_id                                                     \n",
       "id_887911684                             0              0  \n",
       "id_294d38ce4                             0              0  \n",
       "id_b12cf3d9c                             0              0  \n",
       "id_d8f5ca938                             0              0  \n",
       "id_c4eaa645d                             0              0  "
      ]
     },
     "execution_count": 9,
     "metadata": {},
     "output_type": "execute_result"
    }
   ],
   "source": [
    "# Take a peek at Y_train\n",
    "Y_train.head()"
   ]
  },
  {
   "cell_type": "code",
   "execution_count": 10,
   "metadata": {
    "scrolled": false
   },
   "outputs": [],
   "source": [
    "# Create the order for the 5 labels\n",
    "\n",
    "order= [2,3,4,0,1]"
   ]
  },
  {
   "cell_type": "markdown",
   "metadata": {},
   "source": [
    "### Classifier Chain"
   ]
  },
  {
   "cell_type": "code",
   "execution_count": 11,
   "metadata": {},
   "outputs": [],
   "source": [
    "# Create estimator\n",
    "clf = MLPClassifier(random_state=123)"
   ]
  },
  {
   "cell_type": "code",
   "execution_count": 12,
   "metadata": {},
   "outputs": [
    {
     "data": {
      "text/plain": [
       "ClassifierChain(base_estimator=MLPClassifier(random_state=123),\n",
       "                order=[2, 3, 4, 0, 1], random_state=123)"
      ]
     },
     "execution_count": 12,
     "metadata": {},
     "output_type": "execute_result"
    }
   ],
   "source": [
    "# Create Classifier Chain Object\n",
    "chain = ClassifierChain(clf, order=order, random_state=123)\n",
    "chain"
   ]
  },
  {
   "cell_type": "markdown",
   "metadata": {},
   "source": [
    "### Model on Train"
   ]
  },
  {
   "cell_type": "code",
   "execution_count": 13,
   "metadata": {},
   "outputs": [
    {
     "data": {
      "text/plain": [
       "[2, 3, 4, 0, 1]"
      ]
     },
     "execution_count": 13,
     "metadata": {},
     "output_type": "execute_result"
    }
   ],
   "source": [
    "# Fit the chain on train\n",
    "chain.fit(X_train_cos, Y_train) # Took 2.0 mins\n",
    "\n",
    "# Print out the order\n",
    "chain.order_"
   ]
  },
  {
   "cell_type": "code",
   "execution_count": 14,
   "metadata": {},
   "outputs": [],
   "source": [
    "# Use chain to make a prediction\n",
    "\n",
    "Y_pred = chain.predict(X_train_cos)\n",
    "Y_proba = chain.predict_proba(X_train_cos)"
   ]
  },
  {
   "cell_type": "code",
   "execution_count": 15,
   "metadata": {},
   "outputs": [
    {
     "name": "stdout",
     "output_type": "stream",
     "text": [
      "79010\n"
     ]
    },
    {
     "data": {
      "text/plain": [
       "array([[0., 0., 0., 0., 0.],\n",
       "       [0., 0., 0., 0., 0.],\n",
       "       [0., 0., 0., 0., 0.],\n",
       "       ...,\n",
       "       [0., 0., 0., 0., 0.],\n",
       "       [0., 0., 0., 0., 0.],\n",
       "       [0., 0., 0., 0., 0.]])"
      ]
     },
     "execution_count": 15,
     "metadata": {},
     "output_type": "execute_result"
    }
   ],
   "source": [
    "# Take a look at Y_pred\n",
    "# Print the size of Y_pred\n",
    "\n",
    "print(Y_pred.size)\n",
    "Y_pred"
   ]
  },
  {
   "cell_type": "code",
   "execution_count": 16,
   "metadata": {},
   "outputs": [
    {
     "name": "stdout",
     "output_type": "stream",
     "text": [
      "79010\n"
     ]
    },
    {
     "data": {
      "text/plain": [
       "array([[1.20664410e-04, 3.67213568e-05, 4.40077611e-02, 7.53040934e-05,\n",
       "        3.94730253e-03],\n",
       "       [2.85779216e-05, 3.49705562e-05, 9.33335080e-04, 1.33202254e-02,\n",
       "        2.06955642e-03],\n",
       "       [6.40683407e-06, 1.03271232e-04, 4.82104750e-02, 9.63632918e-04,\n",
       "        3.22295132e-03],\n",
       "       ...,\n",
       "       [3.39517857e-04, 4.48546379e-05, 1.99760640e-01, 2.93465749e-03,\n",
       "        3.41742376e-04],\n",
       "       [1.78814470e-03, 3.24517350e-05, 3.44829733e-02, 1.18535904e-01,\n",
       "        7.74326172e-03],\n",
       "       [6.78940857e-05, 6.11574654e-05, 1.50048899e-04, 2.95036616e-04,\n",
       "        2.75934220e-03]])"
      ]
     },
     "execution_count": 16,
     "metadata": {},
     "output_type": "execute_result"
    }
   ],
   "source": [
    "# Take a look at Y_proba\n",
    "# Print the size of Y_proba\n",
    "\n",
    "print(Y_proba.size)\n",
    "Y_proba"
   ]
  },
  {
   "cell_type": "code",
   "execution_count": 17,
   "metadata": {},
   "outputs": [
    {
     "name": "stdout",
     "output_type": "stream",
     "text": [
      "79010\n"
     ]
    },
    {
     "data": {
      "text/plain": [
       "array([[0, 0, 0, 0, 0],\n",
       "       [0, 0, 0, 0, 0],\n",
       "       [0, 0, 0, 0, 0],\n",
       "       ...,\n",
       "       [0, 0, 0, 0, 0],\n",
       "       [0, 0, 0, 0, 0],\n",
       "       [0, 0, 0, 0, 0]])"
      ]
     },
     "execution_count": 17,
     "metadata": {},
     "output_type": "execute_result"
    }
   ],
   "source": [
    "# Take a look at Y_train\n",
    "# Print the size of Y_train\n",
    "\n",
    "print(Y_train.values.size)\n",
    "Y_train.values"
   ]
  },
  {
   "cell_type": "code",
   "execution_count": 18,
   "metadata": {},
   "outputs": [
    {
     "data": {
      "text/plain": [
       "0.04892840568704384"
      ]
     },
     "execution_count": 18,
     "metadata": {},
     "output_type": "execute_result"
    }
   ],
   "source": [
    "# Compute jaccard score\n",
    "jaccard_score = jaccard_score(Y_train, Y_pred, average='samples')\n",
    "jaccard_score"
   ]
  },
  {
   "cell_type": "code",
   "execution_count": 19,
   "metadata": {
    "scrolled": true
   },
   "outputs": [
    {
     "data": {
      "text/plain": [
       "0.0612450250619657"
      ]
     },
     "execution_count": 19,
     "metadata": {},
     "output_type": "execute_result"
    }
   ],
   "source": [
    "# Compute log loss\n",
    "log_loss = log_loss(Y_train, Y_proba)\n",
    "log_loss"
   ]
  },
  {
   "cell_type": "code",
   "execution_count": 20,
   "metadata": {},
   "outputs": [
    {
     "data": {
      "text/plain": [
       "array([[ True,  True,  True,  True,  True],\n",
       "       [ True,  True,  True,  True,  True],\n",
       "       [ True,  True,  True,  True,  True],\n",
       "       ...,\n",
       "       [ True,  True,  True,  True,  True],\n",
       "       [ True,  True,  True,  True,  True],\n",
       "       [ True,  True,  True,  True,  True]])"
      ]
     },
     "execution_count": 20,
     "metadata": {},
     "output_type": "execute_result"
    }
   ],
   "source": [
    "# Compare predicted Y_train ith Y_train\n",
    "(Y_train.values == Y_pred)"
   ]
  },
  {
   "cell_type": "code",
   "execution_count": 21,
   "metadata": {},
   "outputs": [
    {
     "data": {
      "text/plain": [
       "78287"
      ]
     },
     "execution_count": 21,
     "metadata": {},
     "output_type": "execute_result"
    }
   ],
   "source": [
    "# How many labels the model predicing right\n",
    "(Y_train.values == Y_pred).sum()"
   ]
  },
  {
   "cell_type": "code",
   "execution_count": 22,
   "metadata": {
    "scrolled": false
   },
   "outputs": [
    {
     "name": "stdout",
     "output_type": "stream",
     "text": [
      "The total count of targets in Y_train: 2003\n"
     ]
    },
    {
     "data": {
      "text/plain": [
       "nfkb_inhibitor                  598\n",
       "proteasome_inhibitor            526\n",
       "cyclooxygenase_inhibitor        304\n",
       "dopamine_receptor_antagonist    302\n",
       "dna_inhibitor                   273\n",
       "dtype: int64"
      ]
     },
     "execution_count": 22,
     "metadata": {},
     "output_type": "execute_result"
    }
   ],
   "source": [
    "# Summarize Y_train\n",
    "\n",
    "features_train = Y_train.sum(axis=0).sort_values(ascending=False)\n",
    "print('The total count of targets in Y_train:', features_train.sum())\n",
    "features_train.head()"
   ]
  },
  {
   "cell_type": "code",
   "execution_count": 23,
   "metadata": {
    "scrolled": false
   },
   "outputs": [
    {
     "name": "stdout",
     "output_type": "stream",
     "text": [
      "The total count of targets: 1320.0\n"
     ]
    },
    {
     "data": {
      "text/plain": [
       "nfkb_inhibitor                  569.0\n",
       "proteasome_inhibitor            531.0\n",
       "dopamine_receptor_antagonist     99.0\n",
       "dna_inhibitor                    93.0\n",
       "cyclooxygenase_inhibitor         28.0\n",
       "dtype: float64"
      ]
     },
     "execution_count": 23,
     "metadata": {},
     "output_type": "execute_result"
    }
   ],
   "source": [
    "# Summarize Y_pred\n",
    "\n",
    "features_chain = pd.DataFrame(Y_pred, columns=Y_train.columns).sum(axis=0).sort_values(ascending=False)\n",
    "print('The total count of targets:', features_chain.sum())\n",
    "features_chain.head()"
   ]
  },
  {
   "cell_type": "code",
   "execution_count": 24,
   "metadata": {},
   "outputs": [
    {
     "data": {
      "text/html": [
       "<div>\n",
       "<style scoped>\n",
       "    .dataframe tbody tr th:only-of-type {\n",
       "        vertical-align: middle;\n",
       "    }\n",
       "\n",
       "    .dataframe tbody tr th {\n",
       "        vertical-align: top;\n",
       "    }\n",
       "\n",
       "    .dataframe thead th {\n",
       "        text-align: right;\n",
       "    }\n",
       "</style>\n",
       "<table border=\"1\" class=\"dataframe\">\n",
       "  <thead>\n",
       "    <tr style=\"text-align: right;\">\n",
       "      <th></th>\n",
       "      <th>0</th>\n",
       "      <th>1</th>\n",
       "    </tr>\n",
       "  </thead>\n",
       "  <tbody>\n",
       "    <tr>\n",
       "      <th>nfkb_inhibitor</th>\n",
       "      <td>598</td>\n",
       "      <td>569.0</td>\n",
       "    </tr>\n",
       "    <tr>\n",
       "      <th>proteasome_inhibitor</th>\n",
       "      <td>526</td>\n",
       "      <td>531.0</td>\n",
       "    </tr>\n",
       "    <tr>\n",
       "      <th>cyclooxygenase_inhibitor</th>\n",
       "      <td>304</td>\n",
       "      <td>28.0</td>\n",
       "    </tr>\n",
       "    <tr>\n",
       "      <th>dopamine_receptor_antagonist</th>\n",
       "      <td>302</td>\n",
       "      <td>99.0</td>\n",
       "    </tr>\n",
       "    <tr>\n",
       "      <th>dna_inhibitor</th>\n",
       "      <td>273</td>\n",
       "      <td>93.0</td>\n",
       "    </tr>\n",
       "  </tbody>\n",
       "</table>\n",
       "</div>"
      ],
      "text/plain": [
       "                                0      1\n",
       "nfkb_inhibitor                598  569.0\n",
       "proteasome_inhibitor          526  531.0\n",
       "cyclooxygenase_inhibitor      304   28.0\n",
       "dopamine_receptor_antagonist  302   99.0\n",
       "dna_inhibitor                 273   93.0"
      ]
     },
     "execution_count": 24,
     "metadata": {},
     "output_type": "execute_result"
    }
   ],
   "source": [
    "# Concat features_train, features_baseline and features_chain\n",
    "\n",
    "features_sum = pd.concat([features_train, features_chain], axis=1)\n",
    "features_sum.head()"
   ]
  },
  {
   "cell_type": "markdown",
   "metadata": {},
   "source": [
    "### Model on Validate"
   ]
  },
  {
   "cell_type": "code",
   "execution_count": 25,
   "metadata": {},
   "outputs": [],
   "source": [
    "# Predict the labels of Y_validate\n",
    "Y_pred_v = chain.predict(X_validate_cos)\n",
    "\n",
    "# Predcit the probability of Y\n",
    "Y_proba_v = chain.predict_proba(X_validate_cos) "
   ]
  },
  {
   "cell_type": "code",
   "execution_count": 26,
   "metadata": {},
   "outputs": [
    {
     "name": "stdout",
     "output_type": "stream",
     "text": [
      "19755\n"
     ]
    },
    {
     "data": {
      "text/plain": [
       "array([[0., 0., 0., 0., 0.],\n",
       "       [0., 0., 0., 0., 0.],\n",
       "       [0., 0., 0., 0., 0.],\n",
       "       ...,\n",
       "       [0., 0., 0., 0., 0.],\n",
       "       [0., 0., 0., 0., 0.],\n",
       "       [0., 0., 0., 0., 0.]])"
      ]
     },
     "execution_count": 26,
     "metadata": {},
     "output_type": "execute_result"
    }
   ],
   "source": [
    "# Take a look at Y_pred_v\n",
    "# Print the size of Y_pred_v\n",
    "\n",
    "print(Y_pred_v.size)\n",
    "Y_pred_v"
   ]
  },
  {
   "cell_type": "code",
   "execution_count": 27,
   "metadata": {},
   "outputs": [
    {
     "name": "stdout",
     "output_type": "stream",
     "text": [
      "19755\n"
     ]
    },
    {
     "data": {
      "text/plain": [
       "array([[1.19849853e-02, 1.64321446e-04, 4.29146398e-03, 1.48855055e-03,\n",
       "        5.09377576e-02],\n",
       "       [1.08652435e-04, 4.16563757e-05, 1.38079430e-02, 1.74233826e-03,\n",
       "        7.88779200e-03],\n",
       "       [4.33824381e-06, 1.08219649e-03, 3.57879095e-06, 3.47904463e-10,\n",
       "        4.76668849e-05],\n",
       "       ...,\n",
       "       [1.34807974e-04, 1.17740245e-04, 7.57295927e-03, 1.07910187e-02,\n",
       "        6.50334737e-02],\n",
       "       [1.12219579e-04, 2.53831593e-04, 1.96021452e-02, 7.03434646e-03,\n",
       "        1.56103716e-02],\n",
       "       [2.66423573e-03, 8.73690303e-05, 4.64739891e-04, 1.37899568e-02,\n",
       "        1.14579976e-02]])"
      ]
     },
     "execution_count": 27,
     "metadata": {},
     "output_type": "execute_result"
    }
   ],
   "source": [
    "# Take a look at Y_proba_v\n",
    "# Print the size of Y_proba_v\n",
    "\n",
    "print(Y_proba_v.size)\n",
    "Y_proba_v"
   ]
  },
  {
   "cell_type": "code",
   "execution_count": 28,
   "metadata": {},
   "outputs": [
    {
     "name": "stdout",
     "output_type": "stream",
     "text": [
      "19755\n"
     ]
    },
    {
     "data": {
      "text/plain": [
       "array([[0, 0, 0, 0, 0],\n",
       "       [0, 0, 0, 0, 0],\n",
       "       [0, 0, 0, 0, 0],\n",
       "       ...,\n",
       "       [0, 0, 0, 0, 0],\n",
       "       [0, 0, 0, 0, 0],\n",
       "       [0, 0, 0, 0, 0]])"
      ]
     },
     "execution_count": 28,
     "metadata": {},
     "output_type": "execute_result"
    }
   ],
   "source": [
    "# Take a look at Y_validate\n",
    "# Print the size of Y_validate\n",
    "\n",
    "print(Y_validate.values.size)\n",
    "Y_validate.values"
   ]
  },
  {
   "cell_type": "code",
   "execution_count": 31,
   "metadata": {},
   "outputs": [
    {
     "data": {
      "text/plain": [
       "0.03416856492027335"
      ]
     },
     "execution_count": 31,
     "metadata": {},
     "output_type": "execute_result"
    }
   ],
   "source": [
    "# Compute jaccard score for validate\n",
    "\n",
    "jaccard_score_v = jaccard_score(Y_validate, Y_pred_v, average='samples')\n",
    "jaccard_score_v"
   ]
  },
  {
   "cell_type": "code",
   "execution_count": 32,
   "metadata": {},
   "outputs": [
    {
     "data": {
      "text/plain": [
       "0.15800981086902433"
      ]
     },
     "execution_count": 32,
     "metadata": {},
     "output_type": "execute_result"
    }
   ],
   "source": [
    "# Compute log loss for validate\n",
    "\n",
    "log_loss_v = log_loss(Y_validate, Y_proba_v)\n",
    "log_loss_v"
   ]
  },
  {
   "cell_type": "code",
   "execution_count": 33,
   "metadata": {},
   "outputs": [
    {
     "data": {
      "text/plain": [
       "array([[ True,  True,  True,  True,  True],\n",
       "       [ True,  True,  True,  True,  True],\n",
       "       [ True,  True,  True,  True,  True],\n",
       "       ...,\n",
       "       [ True,  True,  True,  True,  True],\n",
       "       [ True,  True,  True,  True,  True],\n",
       "       [ True,  True,  True,  True,  True]])"
      ]
     },
     "execution_count": 33,
     "metadata": {},
     "output_type": "execute_result"
    }
   ],
   "source": [
    "# Compare Y_validate and Y_pred_v\n",
    "(Y_validate.values == Y_pred_v)"
   ]
  },
  {
   "cell_type": "code",
   "execution_count": 34,
   "metadata": {
    "scrolled": true
   },
   "outputs": [
    {
     "data": {
      "text/plain": [
       "19467"
      ]
     },
     "execution_count": 34,
     "metadata": {},
     "output_type": "execute_result"
    }
   ],
   "source": [
    "# How many labels are predicted right\n",
    "(Y_validate.values == Y_pred_v).sum()"
   ]
  },
  {
   "cell_type": "code",
   "execution_count": 35,
   "metadata": {},
   "outputs": [
    {
     "name": "stdout",
     "output_type": "stream",
     "text": [
      "The total count of targets in Y_validate: 520\n"
     ]
    },
    {
     "data": {
      "text/plain": [
       "nfkb_inhibitor                  149\n",
       "proteasome_inhibitor            128\n",
       "cyclooxygenase_inhibitor         89\n",
       "dna_inhibitor                    82\n",
       "dopamine_receptor_antagonist     72\n",
       "dtype: int64"
      ]
     },
     "execution_count": 35,
     "metadata": {},
     "output_type": "execute_result"
    }
   ],
   "source": [
    "# Summarize Y_validate\n",
    "\n",
    "features_validate = Y_validate.sum(axis=0).sort_values(ascending=False)\n",
    "print('The total count of targets in Y_validate:', features_validate.sum())\n",
    "features_validate.head()"
   ]
  },
  {
   "cell_type": "code",
   "execution_count": 36,
   "metadata": {},
   "outputs": [
    {
     "name": "stdout",
     "output_type": "stream",
     "text": [
      "The total count of targets: 294.0\n"
     ]
    },
    {
     "data": {
      "text/plain": [
       "proteasome_inhibitor            133.0\n",
       "nfkb_inhibitor                  133.0\n",
       "dna_inhibitor                    18.0\n",
       "dopamine_receptor_antagonist      5.0\n",
       "cyclooxygenase_inhibitor          5.0\n",
       "dtype: float64"
      ]
     },
     "execution_count": 36,
     "metadata": {},
     "output_type": "execute_result"
    }
   ],
   "source": [
    "# Summarize Y_pred_v\n",
    "\n",
    "features_chain_v = pd.DataFrame(Y_pred_v, columns=Y_validate.columns).sum(axis=0).sort_values(ascending=False)\n",
    "print('The total count of targets:', features_chain_v.sum())\n",
    "features_chain_v.head()"
   ]
  },
  {
   "cell_type": "code",
   "execution_count": 37,
   "metadata": {},
   "outputs": [
    {
     "data": {
      "text/html": [
       "<div>\n",
       "<style scoped>\n",
       "    .dataframe tbody tr th:only-of-type {\n",
       "        vertical-align: middle;\n",
       "    }\n",
       "\n",
       "    .dataframe tbody tr th {\n",
       "        vertical-align: top;\n",
       "    }\n",
       "\n",
       "    .dataframe thead th {\n",
       "        text-align: right;\n",
       "    }\n",
       "</style>\n",
       "<table border=\"1\" class=\"dataframe\">\n",
       "  <thead>\n",
       "    <tr style=\"text-align: right;\">\n",
       "      <th></th>\n",
       "      <th>0</th>\n",
       "      <th>1</th>\n",
       "      <th>0</th>\n",
       "      <th>1</th>\n",
       "    </tr>\n",
       "  </thead>\n",
       "  <tbody>\n",
       "    <tr>\n",
       "      <th>nfkb_inhibitor</th>\n",
       "      <td>598</td>\n",
       "      <td>569.0</td>\n",
       "      <td>149</td>\n",
       "      <td>133.0</td>\n",
       "    </tr>\n",
       "    <tr>\n",
       "      <th>proteasome_inhibitor</th>\n",
       "      <td>526</td>\n",
       "      <td>531.0</td>\n",
       "      <td>128</td>\n",
       "      <td>133.0</td>\n",
       "    </tr>\n",
       "    <tr>\n",
       "      <th>cyclooxygenase_inhibitor</th>\n",
       "      <td>304</td>\n",
       "      <td>28.0</td>\n",
       "      <td>89</td>\n",
       "      <td>5.0</td>\n",
       "    </tr>\n",
       "    <tr>\n",
       "      <th>dopamine_receptor_antagonist</th>\n",
       "      <td>302</td>\n",
       "      <td>99.0</td>\n",
       "      <td>72</td>\n",
       "      <td>5.0</td>\n",
       "    </tr>\n",
       "    <tr>\n",
       "      <th>dna_inhibitor</th>\n",
       "      <td>273</td>\n",
       "      <td>93.0</td>\n",
       "      <td>82</td>\n",
       "      <td>18.0</td>\n",
       "    </tr>\n",
       "  </tbody>\n",
       "</table>\n",
       "</div>"
      ],
      "text/plain": [
       "                                0      1    0      1\n",
       "nfkb_inhibitor                598  569.0  149  133.0\n",
       "proteasome_inhibitor          526  531.0  128  133.0\n",
       "cyclooxygenase_inhibitor      304   28.0   89    5.0\n",
       "dopamine_receptor_antagonist  302   99.0   72    5.0\n",
       "dna_inhibitor                 273   93.0   82   18.0"
      ]
     },
     "execution_count": 37,
     "metadata": {},
     "output_type": "execute_result"
    }
   ],
   "source": [
    "# Add features_validate and features_chain_v to feature_sum\n",
    "\n",
    "features_sum = pd.concat([features_sum, features_validate, features_chain_v], axis=1)\n",
    "features_sum.head()"
   ]
  },
  {
   "cell_type": "markdown",
   "metadata": {},
   "source": [
    "### Model on Test"
   ]
  },
  {
   "cell_type": "code",
   "execution_count": 38,
   "metadata": {},
   "outputs": [],
   "source": [
    "# Predict the labels of Y_test\n",
    "Y_pred_t = chain.predict(X_test_cos)\n",
    "\n",
    "# Predcit the probability of Y_test\n",
    "Y_proba_t = chain.predict_proba(X_test_cos) "
   ]
  },
  {
   "cell_type": "code",
   "execution_count": 39,
   "metadata": {},
   "outputs": [
    {
     "name": "stdout",
     "output_type": "stream",
     "text": [
      "10975\n"
     ]
    },
    {
     "data": {
      "text/plain": [
       "array([[0., 0., 0., 0., 0.],\n",
       "       [0., 0., 0., 0., 0.],\n",
       "       [0., 0., 0., 0., 0.],\n",
       "       ...,\n",
       "       [0., 0., 0., 0., 0.],\n",
       "       [0., 0., 0., 0., 0.],\n",
       "       [0., 0., 0., 0., 0.]])"
      ]
     },
     "execution_count": 39,
     "metadata": {},
     "output_type": "execute_result"
    }
   ],
   "source": [
    "# Take a look at Y_pred_t\n",
    "\n",
    "print(Y_pred_t.size)\n",
    "Y_pred_t"
   ]
  },
  {
   "cell_type": "code",
   "execution_count": 40,
   "metadata": {},
   "outputs": [
    {
     "name": "stdout",
     "output_type": "stream",
     "text": [
      "10975\n"
     ]
    },
    {
     "data": {
      "text/plain": [
       "array([[4.00309489e-03, 6.53229596e-05, 1.24926873e-02, 6.16755707e-03,\n",
       "        1.57650939e-02],\n",
       "       [9.59797244e-06, 6.24568664e-06, 7.13755466e-06, 6.35337289e-07,\n",
       "        1.48307187e-05],\n",
       "       [7.11597563e-02, 2.02506188e-04, 7.48941918e-04, 7.71075251e-04,\n",
       "        5.00107194e-05],\n",
       "       ...,\n",
       "       [1.17767270e-04, 9.21378870e-05, 3.77296121e-05, 4.22801336e-08,\n",
       "        4.07402462e-08],\n",
       "       [3.67988834e-05, 2.32703150e-04, 8.98009860e-03, 3.07739159e-02,\n",
       "        2.29119645e-03],\n",
       "       [5.99814288e-04, 3.75208030e-04, 3.60636936e-02, 2.72446408e-02,\n",
       "        4.72938809e-02]])"
      ]
     },
     "execution_count": 40,
     "metadata": {},
     "output_type": "execute_result"
    }
   ],
   "source": [
    "# Take a look at Y_proba_t\n",
    "\n",
    "print(Y_proba_t.size)\n",
    "Y_proba_t"
   ]
  },
  {
   "cell_type": "code",
   "execution_count": 41,
   "metadata": {},
   "outputs": [
    {
     "name": "stdout",
     "output_type": "stream",
     "text": [
      "10975\n"
     ]
    },
    {
     "data": {
      "text/plain": [
       "array([[0, 0, 0, 0, 0],\n",
       "       [0, 0, 0, 0, 0],\n",
       "       [0, 0, 0, 0, 0],\n",
       "       ...,\n",
       "       [0, 0, 0, 0, 0],\n",
       "       [0, 0, 0, 1, 0],\n",
       "       [0, 0, 1, 0, 0]])"
      ]
     },
     "execution_count": 41,
     "metadata": {},
     "output_type": "execute_result"
    }
   ],
   "source": [
    "# Take a look at Y_test\n",
    "# Print the size of Y_test\n",
    "\n",
    "print(Y_test.values.size)\n",
    "Y_test.values"
   ]
  },
  {
   "cell_type": "code",
   "execution_count": 42,
   "metadata": {},
   "outputs": [
    {
     "data": {
      "text/plain": [
       "0.03416856492027335"
      ]
     },
     "execution_count": 42,
     "metadata": {},
     "output_type": "execute_result"
    }
   ],
   "source": [
    "# Compute jaccard score for test\n",
    "\n",
    "jaccard_score_t = jaccard_score(Y_test, Y_pred_t, average='samples')\n",
    "jaccard_score_t"
   ]
  },
  {
   "cell_type": "code",
   "execution_count": 43,
   "metadata": {},
   "outputs": [
    {
     "data": {
      "text/plain": [
       "0.18197595264134137"
      ]
     },
     "execution_count": 43,
     "metadata": {},
     "output_type": "execute_result"
    }
   ],
   "source": [
    "# Compute log loss for test\n",
    "\n",
    "log_loss_t = log_loss(Y_test, Y_proba_t)\n",
    "log_loss_t"
   ]
  },
  {
   "cell_type": "code",
   "execution_count": 44,
   "metadata": {},
   "outputs": [
    {
     "data": {
      "text/plain": [
       "array([[ True,  True,  True,  True,  True],\n",
       "       [ True,  True,  True,  True,  True],\n",
       "       [ True,  True,  True,  True,  True],\n",
       "       ...,\n",
       "       [ True,  True,  True,  True,  True],\n",
       "       [ True,  True,  True, False,  True],\n",
       "       [ True,  True, False,  True,  True]])"
      ]
     },
     "execution_count": 44,
     "metadata": {},
     "output_type": "execute_result"
    }
   ],
   "source": [
    "# Compare predicted test and Y_test\n",
    "(Y_test.values == Y_pred_t)"
   ]
  },
  {
   "cell_type": "code",
   "execution_count": 45,
   "metadata": {},
   "outputs": [
    {
     "data": {
      "text/plain": [
       "10818"
      ]
     },
     "execution_count": 45,
     "metadata": {},
     "output_type": "execute_result"
    }
   ],
   "source": [
    "# How many labels are predicted right\n",
    "(Y_test.values == Y_pred_t).sum()"
   ]
  },
  {
   "cell_type": "code",
   "execution_count": 46,
   "metadata": {},
   "outputs": [
    {
     "name": "stdout",
     "output_type": "stream",
     "text": [
      "The total count of targets in Y_test: 296\n"
     ]
    },
    {
     "data": {
      "text/plain": [
       "nfkb_inhibitor                  85\n",
       "proteasome_inhibitor            72\n",
       "dopamine_receptor_antagonist    50\n",
       "dna_inhibitor                   47\n",
       "cyclooxygenase_inhibitor        42\n",
       "dtype: int64"
      ]
     },
     "execution_count": 46,
     "metadata": {},
     "output_type": "execute_result"
    }
   ],
   "source": [
    "# Summarize Y_test\n",
    "\n",
    "features_test = Y_test.sum(axis=0).sort_values(ascending=False)\n",
    "print('The total count of targets in Y_test:', features_test.sum())\n",
    "features_test.head()"
   ]
  },
  {
   "cell_type": "code",
   "execution_count": 47,
   "metadata": {},
   "outputs": [
    {
     "name": "stdout",
     "output_type": "stream",
     "text": [
      "The total count of predicted targets: 153.0\n"
     ]
    },
    {
     "data": {
      "text/plain": [
       "proteasome_inhibitor            72.0\n",
       "nfkb_inhibitor                  72.0\n",
       "dna_inhibitor                    6.0\n",
       "dopamine_receptor_antagonist     2.0\n",
       "cyclooxygenase_inhibitor         1.0\n",
       "dtype: float64"
      ]
     },
     "execution_count": 47,
     "metadata": {},
     "output_type": "execute_result"
    }
   ],
   "source": [
    "# Summarize Y_pred_t\n",
    "\n",
    "features_chain_t = pd.DataFrame(Y_pred_t, columns=Y_test.columns).sum(axis=0).sort_values(ascending=False)\n",
    "print('The total count of predicted targets:', features_chain_t.sum())\n",
    "features_chain_t.head()"
   ]
  },
  {
   "cell_type": "code",
   "execution_count": 48,
   "metadata": {},
   "outputs": [
    {
     "data": {
      "text/html": [
       "<div>\n",
       "<style scoped>\n",
       "    .dataframe tbody tr th:only-of-type {\n",
       "        vertical-align: middle;\n",
       "    }\n",
       "\n",
       "    .dataframe tbody tr th {\n",
       "        vertical-align: top;\n",
       "    }\n",
       "\n",
       "    .dataframe thead th {\n",
       "        text-align: right;\n",
       "    }\n",
       "</style>\n",
       "<table border=\"1\" class=\"dataframe\">\n",
       "  <thead>\n",
       "    <tr style=\"text-align: right;\">\n",
       "      <th></th>\n",
       "      <th>0</th>\n",
       "      <th>1</th>\n",
       "      <th>0</th>\n",
       "      <th>1</th>\n",
       "      <th>0</th>\n",
       "      <th>1</th>\n",
       "    </tr>\n",
       "  </thead>\n",
       "  <tbody>\n",
       "    <tr>\n",
       "      <th>nfkb_inhibitor</th>\n",
       "      <td>598</td>\n",
       "      <td>569.0</td>\n",
       "      <td>149</td>\n",
       "      <td>133.0</td>\n",
       "      <td>85</td>\n",
       "      <td>72.0</td>\n",
       "    </tr>\n",
       "    <tr>\n",
       "      <th>proteasome_inhibitor</th>\n",
       "      <td>526</td>\n",
       "      <td>531.0</td>\n",
       "      <td>128</td>\n",
       "      <td>133.0</td>\n",
       "      <td>72</td>\n",
       "      <td>72.0</td>\n",
       "    </tr>\n",
       "    <tr>\n",
       "      <th>cyclooxygenase_inhibitor</th>\n",
       "      <td>304</td>\n",
       "      <td>28.0</td>\n",
       "      <td>89</td>\n",
       "      <td>5.0</td>\n",
       "      <td>42</td>\n",
       "      <td>1.0</td>\n",
       "    </tr>\n",
       "    <tr>\n",
       "      <th>dopamine_receptor_antagonist</th>\n",
       "      <td>302</td>\n",
       "      <td>99.0</td>\n",
       "      <td>72</td>\n",
       "      <td>5.0</td>\n",
       "      <td>50</td>\n",
       "      <td>2.0</td>\n",
       "    </tr>\n",
       "    <tr>\n",
       "      <th>dna_inhibitor</th>\n",
       "      <td>273</td>\n",
       "      <td>93.0</td>\n",
       "      <td>82</td>\n",
       "      <td>18.0</td>\n",
       "      <td>47</td>\n",
       "      <td>6.0</td>\n",
       "    </tr>\n",
       "  </tbody>\n",
       "</table>\n",
       "</div>"
      ],
      "text/plain": [
       "                                0      1    0      1   0     1\n",
       "nfkb_inhibitor                598  569.0  149  133.0  85  72.0\n",
       "proteasome_inhibitor          526  531.0  128  133.0  72  72.0\n",
       "cyclooxygenase_inhibitor      304   28.0   89    5.0  42   1.0\n",
       "dopamine_receptor_antagonist  302   99.0   72    5.0  50   2.0\n",
       "dna_inhibitor                 273   93.0   82   18.0  47   6.0"
      ]
     },
     "execution_count": 48,
     "metadata": {},
     "output_type": "execute_result"
    }
   ],
   "source": [
    "# Add features_test and _chain_t to features_sum\n",
    "\n",
    "features_sum = pd.concat([features_sum, features_test, features_chain_t], axis=1)\n",
    "features_sum.head()"
   ]
  },
  {
   "cell_type": "code",
   "execution_count": 49,
   "metadata": {},
   "outputs": [
    {
     "data": {
      "text/plain": [
       "ClassifierChain(base_estimator=MLPClassifier(random_state=123),\n",
       "                order=[2, 3, 4, 0, 1], random_state=123)"
      ]
     },
     "execution_count": 49,
     "metadata": {},
     "output_type": "execute_result"
    }
   ],
   "source": [
    "# Print chain object to double check\n",
    "chain"
   ]
  },
  {
   "cell_type": "code",
   "execution_count": null,
   "metadata": {},
   "outputs": [],
   "source": []
  }
 ],
 "metadata": {
  "kernelspec": {
   "display_name": "Python 3",
   "language": "python",
   "name": "python3"
  },
  "language_info": {
   "codemirror_mode": {
    "name": "ipython",
    "version": 3
   },
   "file_extension": ".py",
   "mimetype": "text/x-python",
   "name": "python",
   "nbconvert_exporter": "python",
   "pygments_lexer": "ipython3",
   "version": "3.7.6"
  }
 },
 "nbformat": 4,
 "nbformat_minor": 4
}
