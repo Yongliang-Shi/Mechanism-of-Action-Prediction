{
 "cells": [
  {
   "cell_type": "code",
   "execution_count": 1,
   "metadata": {},
   "outputs": [],
   "source": [
    "# Import the libraries\n",
    "\n",
    "import warnings\n",
    "warnings.filterwarnings(\"ignore\")\n",
    "\n",
    "import numpy as np\n",
    "import pandas as pd\n",
    "\n",
    "import matplotlib.pyplot as plt\n",
    "import seaborn as sns\n",
    "\n",
    "from sklearn.preprocessing import StandardScaler"
   ]
  },
  {
   "cell_type": "markdown",
   "metadata": {},
   "source": [
    "### Loading the datasets"
   ]
  },
  {
   "cell_type": "code",
   "execution_count": 2,
   "metadata": {},
   "outputs": [
    {
     "data": {
      "text/plain": [
       "((23814, 875), (23814, 206))"
      ]
     },
     "execution_count": 2,
     "metadata": {},
     "output_type": "execute_result"
    }
   ],
   "source": [
    "# Read csv files\n",
    "\n",
    "df_features = pd.read_csv('train_features.csv', index_col=0)\n",
    "df_targets = pd.read_csv('train_targets_scored.csv', index_col=0)\n",
    "\n",
    "# Print the shapes\n",
    "df_features.shape, df_targets.shape"
   ]
  },
  {
   "cell_type": "code",
   "execution_count": 3,
   "metadata": {},
   "outputs": [
    {
     "data": {
      "text/html": [
       "<div>\n",
       "<style scoped>\n",
       "    .dataframe tbody tr th:only-of-type {\n",
       "        vertical-align: middle;\n",
       "    }\n",
       "\n",
       "    .dataframe tbody tr th {\n",
       "        vertical-align: top;\n",
       "    }\n",
       "\n",
       "    .dataframe thead th {\n",
       "        text-align: right;\n",
       "    }\n",
       "</style>\n",
       "<table border=\"1\" class=\"dataframe\">\n",
       "  <thead>\n",
       "    <tr style=\"text-align: right;\">\n",
       "      <th></th>\n",
       "      <th>cp_type</th>\n",
       "      <th>cp_time</th>\n",
       "      <th>cp_dose</th>\n",
       "      <th>g-0</th>\n",
       "      <th>g-1</th>\n",
       "      <th>g-2</th>\n",
       "      <th>g-3</th>\n",
       "      <th>g-4</th>\n",
       "      <th>g-5</th>\n",
       "      <th>g-6</th>\n",
       "      <th>...</th>\n",
       "      <th>c-90</th>\n",
       "      <th>c-91</th>\n",
       "      <th>c-92</th>\n",
       "      <th>c-93</th>\n",
       "      <th>c-94</th>\n",
       "      <th>c-95</th>\n",
       "      <th>c-96</th>\n",
       "      <th>c-97</th>\n",
       "      <th>c-98</th>\n",
       "      <th>c-99</th>\n",
       "    </tr>\n",
       "    <tr>\n",
       "      <th>sig_id</th>\n",
       "      <th></th>\n",
       "      <th></th>\n",
       "      <th></th>\n",
       "      <th></th>\n",
       "      <th></th>\n",
       "      <th></th>\n",
       "      <th></th>\n",
       "      <th></th>\n",
       "      <th></th>\n",
       "      <th></th>\n",
       "      <th></th>\n",
       "      <th></th>\n",
       "      <th></th>\n",
       "      <th></th>\n",
       "      <th></th>\n",
       "      <th></th>\n",
       "      <th></th>\n",
       "      <th></th>\n",
       "      <th></th>\n",
       "      <th></th>\n",
       "      <th></th>\n",
       "    </tr>\n",
       "  </thead>\n",
       "  <tbody>\n",
       "    <tr>\n",
       "      <th>id_000644bb2</th>\n",
       "      <td>trt_cp</td>\n",
       "      <td>24</td>\n",
       "      <td>D1</td>\n",
       "      <td>1.0620</td>\n",
       "      <td>0.5577</td>\n",
       "      <td>-0.2479</td>\n",
       "      <td>-0.6208</td>\n",
       "      <td>-0.1944</td>\n",
       "      <td>-1.0120</td>\n",
       "      <td>-1.0220</td>\n",
       "      <td>...</td>\n",
       "      <td>0.2862</td>\n",
       "      <td>0.2584</td>\n",
       "      <td>0.8076</td>\n",
       "      <td>0.5523</td>\n",
       "      <td>-0.1912</td>\n",
       "      <td>0.6584</td>\n",
       "      <td>-0.3981</td>\n",
       "      <td>0.2139</td>\n",
       "      <td>0.3801</td>\n",
       "      <td>0.4176</td>\n",
       "    </tr>\n",
       "    <tr>\n",
       "      <th>id_000779bfc</th>\n",
       "      <td>trt_cp</td>\n",
       "      <td>72</td>\n",
       "      <td>D1</td>\n",
       "      <td>0.0743</td>\n",
       "      <td>0.4087</td>\n",
       "      <td>0.2991</td>\n",
       "      <td>0.0604</td>\n",
       "      <td>1.0190</td>\n",
       "      <td>0.5207</td>\n",
       "      <td>0.2341</td>\n",
       "      <td>...</td>\n",
       "      <td>-0.4265</td>\n",
       "      <td>0.7543</td>\n",
       "      <td>0.4708</td>\n",
       "      <td>0.0230</td>\n",
       "      <td>0.2957</td>\n",
       "      <td>0.4899</td>\n",
       "      <td>0.1522</td>\n",
       "      <td>0.1241</td>\n",
       "      <td>0.6077</td>\n",
       "      <td>0.7371</td>\n",
       "    </tr>\n",
       "    <tr>\n",
       "      <th>id_000a6266a</th>\n",
       "      <td>trt_cp</td>\n",
       "      <td>48</td>\n",
       "      <td>D1</td>\n",
       "      <td>0.6280</td>\n",
       "      <td>0.5817</td>\n",
       "      <td>1.5540</td>\n",
       "      <td>-0.0764</td>\n",
       "      <td>-0.0323</td>\n",
       "      <td>1.2390</td>\n",
       "      <td>0.1715</td>\n",
       "      <td>...</td>\n",
       "      <td>-0.7250</td>\n",
       "      <td>-0.6297</td>\n",
       "      <td>0.6103</td>\n",
       "      <td>0.0223</td>\n",
       "      <td>-1.3240</td>\n",
       "      <td>-0.3174</td>\n",
       "      <td>-0.6417</td>\n",
       "      <td>-0.2187</td>\n",
       "      <td>-1.4080</td>\n",
       "      <td>0.6931</td>\n",
       "    </tr>\n",
       "    <tr>\n",
       "      <th>id_0015fd391</th>\n",
       "      <td>trt_cp</td>\n",
       "      <td>48</td>\n",
       "      <td>D1</td>\n",
       "      <td>-0.5138</td>\n",
       "      <td>-0.2491</td>\n",
       "      <td>-0.2656</td>\n",
       "      <td>0.5288</td>\n",
       "      <td>4.0620</td>\n",
       "      <td>-0.8095</td>\n",
       "      <td>-1.9590</td>\n",
       "      <td>...</td>\n",
       "      <td>-2.0990</td>\n",
       "      <td>-0.6441</td>\n",
       "      <td>-5.6300</td>\n",
       "      <td>-1.3780</td>\n",
       "      <td>-0.8632</td>\n",
       "      <td>-1.2880</td>\n",
       "      <td>-1.6210</td>\n",
       "      <td>-0.8784</td>\n",
       "      <td>-0.3876</td>\n",
       "      <td>-0.8154</td>\n",
       "    </tr>\n",
       "    <tr>\n",
       "      <th>id_001626bd3</th>\n",
       "      <td>trt_cp</td>\n",
       "      <td>72</td>\n",
       "      <td>D2</td>\n",
       "      <td>-0.3254</td>\n",
       "      <td>-0.4009</td>\n",
       "      <td>0.9700</td>\n",
       "      <td>0.6919</td>\n",
       "      <td>1.4180</td>\n",
       "      <td>-0.8244</td>\n",
       "      <td>-0.2800</td>\n",
       "      <td>...</td>\n",
       "      <td>0.0042</td>\n",
       "      <td>0.0048</td>\n",
       "      <td>0.6670</td>\n",
       "      <td>1.0690</td>\n",
       "      <td>0.5523</td>\n",
       "      <td>-0.3031</td>\n",
       "      <td>0.1094</td>\n",
       "      <td>0.2885</td>\n",
       "      <td>-0.3786</td>\n",
       "      <td>0.7125</td>\n",
       "    </tr>\n",
       "  </tbody>\n",
       "</table>\n",
       "<p>5 rows × 875 columns</p>\n",
       "</div>"
      ],
      "text/plain": [
       "             cp_type  cp_time cp_dose     g-0     g-1     g-2     g-3     g-4  \\\n",
       "sig_id                                                                          \n",
       "id_000644bb2  trt_cp       24      D1  1.0620  0.5577 -0.2479 -0.6208 -0.1944   \n",
       "id_000779bfc  trt_cp       72      D1  0.0743  0.4087  0.2991  0.0604  1.0190   \n",
       "id_000a6266a  trt_cp       48      D1  0.6280  0.5817  1.5540 -0.0764 -0.0323   \n",
       "id_0015fd391  trt_cp       48      D1 -0.5138 -0.2491 -0.2656  0.5288  4.0620   \n",
       "id_001626bd3  trt_cp       72      D2 -0.3254 -0.4009  0.9700  0.6919  1.4180   \n",
       "\n",
       "                 g-5     g-6  ...    c-90    c-91    c-92    c-93    c-94  \\\n",
       "sig_id                        ...                                           \n",
       "id_000644bb2 -1.0120 -1.0220  ...  0.2862  0.2584  0.8076  0.5523 -0.1912   \n",
       "id_000779bfc  0.5207  0.2341  ... -0.4265  0.7543  0.4708  0.0230  0.2957   \n",
       "id_000a6266a  1.2390  0.1715  ... -0.7250 -0.6297  0.6103  0.0223 -1.3240   \n",
       "id_0015fd391 -0.8095 -1.9590  ... -2.0990 -0.6441 -5.6300 -1.3780 -0.8632   \n",
       "id_001626bd3 -0.8244 -0.2800  ...  0.0042  0.0048  0.6670  1.0690  0.5523   \n",
       "\n",
       "                c-95    c-96    c-97    c-98    c-99  \n",
       "sig_id                                                \n",
       "id_000644bb2  0.6584 -0.3981  0.2139  0.3801  0.4176  \n",
       "id_000779bfc  0.4899  0.1522  0.1241  0.6077  0.7371  \n",
       "id_000a6266a -0.3174 -0.6417 -0.2187 -1.4080  0.6931  \n",
       "id_0015fd391 -1.2880 -1.6210 -0.8784 -0.3876 -0.8154  \n",
       "id_001626bd3 -0.3031  0.1094  0.2885 -0.3786  0.7125  \n",
       "\n",
       "[5 rows x 875 columns]"
      ]
     },
     "execution_count": 3,
     "metadata": {},
     "output_type": "execute_result"
    }
   ],
   "source": [
    "# Take a peek at features\n",
    "df_features.head()"
   ]
  },
  {
   "cell_type": "markdown",
   "metadata": {},
   "source": [
    "**Plans**\n",
    "1. Remove controls in both features and targets to reduce the background noise. Since all the control has no labels, it is easy to predict. \n",
    "2. Store the index.\n",
    "3. Drop the categorical variables. \n",
    "4. Scale the continuous varibles by StandardScaler. \n",
    "5. Convert back to dataframe."
   ]
  },
  {
   "cell_type": "markdown",
   "metadata": {},
   "source": [
    "### Prepare the features for dimentionality reduction"
   ]
  },
  {
   "cell_type": "markdown",
   "metadata": {},
   "source": [
    "#### 1. Remove the controls"
   ]
  },
  {
   "cell_type": "code",
   "execution_count": 4,
   "metadata": {},
   "outputs": [
    {
     "data": {
      "text/plain": [
       "21948"
      ]
     },
     "execution_count": 4,
     "metadata": {},
     "output_type": "execute_result"
    }
   ],
   "source": [
    "# Create a mask for the treated\n",
    "mask_trt = (df_features.cp_type == 'trt_cp')\n",
    "\n",
    "# Cout the number of the treated\n",
    "mask_trt.sum()"
   ]
  },
  {
   "cell_type": "code",
   "execution_count": 5,
   "metadata": {},
   "outputs": [
    {
     "data": {
      "text/plain": [
       "(21948, 875)"
      ]
     },
     "execution_count": 5,
     "metadata": {},
     "output_type": "execute_result"
    }
   ],
   "source": [
    "# Remove the controls in features\n",
    "df_features_trt = df_features[mask_trt]\n",
    "\n",
    "# Print the shape of the new dataframe\n",
    "df_features_trt.shape"
   ]
  },
  {
   "cell_type": "code",
   "execution_count": 6,
   "metadata": {},
   "outputs": [
    {
     "data": {
      "text/plain": [
       "(21948, 206)"
      ]
     },
     "execution_count": 6,
     "metadata": {},
     "output_type": "execute_result"
    }
   ],
   "source": [
    "# Remove the controls in targets\n",
    "df_targets_trt = df_targets[mask_trt]\n",
    "\n",
    "# Print the shape of the new targets df\n",
    "df_targets_trt.shape"
   ]
  },
  {
   "cell_type": "code",
   "execution_count": 7,
   "metadata": {},
   "outputs": [
    {
     "data": {
      "text/plain": [
       "21948"
      ]
     },
     "execution_count": 7,
     "metadata": {},
     "output_type": "execute_result"
    }
   ],
   "source": [
    "# Check if the index in both dataframes match\n",
    "(df_features_trt.index == df_targets_trt.index).sum()"
   ]
  },
  {
   "cell_type": "markdown",
   "metadata": {},
   "source": [
    "#### 2. Store the index"
   ]
  },
  {
   "cell_type": "code",
   "execution_count": 8,
   "metadata": {},
   "outputs": [
    {
     "data": {
      "text/plain": [
       "21948"
      ]
     },
     "execution_count": 8,
     "metadata": {},
     "output_type": "execute_result"
    }
   ],
   "source": [
    "# Store the trt index as a list\n",
    "sig_id = df_features_trt.index.to_list()\n",
    "\n",
    "# Print the size fo the list\n",
    "len(sig_id) # Match 21948"
   ]
  },
  {
   "cell_type": "markdown",
   "metadata": {},
   "source": [
    "#### 3. Drop the categoricals"
   ]
  },
  {
   "cell_type": "code",
   "execution_count": 9,
   "metadata": {},
   "outputs": [
    {
     "data": {
      "text/plain": [
       "trt_cp    21948\n",
       "Name: cp_type, dtype: int64"
      ]
     },
     "execution_count": 9,
     "metadata": {},
     "output_type": "execute_result"
    }
   ],
   "source": [
    "# Count the unique values in df_features_trt\n",
    "df_features_trt.cp_type.value_counts() # Double check"
   ]
  },
  {
   "cell_type": "code",
   "execution_count": 10,
   "metadata": {},
   "outputs": [
    {
     "data": {
      "text/plain": [
       "(21948, 872)"
      ]
     },
     "execution_count": 10,
     "metadata": {},
     "output_type": "execute_result"
    }
   ],
   "source": [
    "# Drop the categricals\n",
    "df_features_trt.drop(columns=['cp_type', 'cp_time', 'cp_dose'], inplace=True)\n",
    "\n",
    "# Print the shape\n",
    "df_features_trt.shape"
   ]
  },
  {
   "cell_type": "markdown",
   "metadata": {},
   "source": [
    "#### 4. Scale the continuous"
   ]
  },
  {
   "cell_type": "code",
   "execution_count": 11,
   "metadata": {},
   "outputs": [
    {
     "data": {
      "text/plain": [
       "StandardScaler()"
      ]
     },
     "execution_count": 11,
     "metadata": {},
     "output_type": "execute_result"
    }
   ],
   "source": [
    "# Create the scaler\n",
    "\n",
    "scaler = StandardScaler()\n",
    "scaler"
   ]
  },
  {
   "cell_type": "code",
   "execution_count": 12,
   "metadata": {},
   "outputs": [
    {
     "name": "stdout",
     "output_type": "stream",
     "text": [
      "<class 'numpy.ndarray'>\n",
      "21948\n",
      "872\n"
     ]
    }
   ],
   "source": [
    "# Scale the rest of the features\n",
    "X_scaled = scaler.fit_transform(df_features_trt)\n",
    "\n",
    "# Print the data type of X_scaled\n",
    "print(type(X_scaled))\n",
    "\n",
    "# The length of the array should match the number of observations\n",
    "print(len(X_scaled)) # 21948, matched\n",
    "\n",
    "# The length of every member in the array shoulb math the number of the features\n",
    "print(len(X_scaled[0])) # 872, matched"
   ]
  },
  {
   "cell_type": "markdown",
   "metadata": {},
   "source": [
    "#### 5. Convert to dataframe"
   ]
  },
  {
   "cell_type": "code",
   "execution_count": 13,
   "metadata": {},
   "outputs": [
    {
     "data": {
      "text/plain": [
       "(21948, 872)"
      ]
     },
     "execution_count": 13,
     "metadata": {},
     "output_type": "execute_result"
    }
   ],
   "source": [
    "# Restore the index\n",
    "df_X_scaled = pd.DataFrame(X_scaled, index=sig_id)\n",
    "\n",
    "# Print the shape \n",
    "df_X_scaled.shape"
   ]
  },
  {
   "cell_type": "code",
   "execution_count": 14,
   "metadata": {},
   "outputs": [
    {
     "data": {
      "text/html": [
       "<div>\n",
       "<style scoped>\n",
       "    .dataframe tbody tr th:only-of-type {\n",
       "        vertical-align: middle;\n",
       "    }\n",
       "\n",
       "    .dataframe tbody tr th {\n",
       "        vertical-align: top;\n",
       "    }\n",
       "\n",
       "    .dataframe thead th {\n",
       "        text-align: right;\n",
       "    }\n",
       "</style>\n",
       "<table border=\"1\" class=\"dataframe\">\n",
       "  <thead>\n",
       "    <tr style=\"text-align: right;\">\n",
       "      <th></th>\n",
       "      <th>0</th>\n",
       "      <th>1</th>\n",
       "      <th>2</th>\n",
       "      <th>3</th>\n",
       "      <th>4</th>\n",
       "      <th>5</th>\n",
       "      <th>6</th>\n",
       "      <th>7</th>\n",
       "      <th>8</th>\n",
       "      <th>9</th>\n",
       "      <th>...</th>\n",
       "      <th>862</th>\n",
       "      <th>863</th>\n",
       "      <th>864</th>\n",
       "      <th>865</th>\n",
       "      <th>866</th>\n",
       "      <th>867</th>\n",
       "      <th>868</th>\n",
       "      <th>869</th>\n",
       "      <th>870</th>\n",
       "      <th>871</th>\n",
       "    </tr>\n",
       "  </thead>\n",
       "  <tbody>\n",
       "    <tr>\n",
       "      <th>id_000644bb2</th>\n",
       "      <td>0.549598</td>\n",
       "      <td>0.795008</td>\n",
       "      <td>-0.401914</td>\n",
       "      <td>-0.735073</td>\n",
       "      <td>-0.273020</td>\n",
       "      <td>-0.734098</td>\n",
       "      <td>-1.187307</td>\n",
       "      <td>0.151066</td>\n",
       "      <td>0.441443</td>\n",
       "      <td>-0.178297</td>\n",
       "      <td>...</td>\n",
       "      <td>0.391971</td>\n",
       "      <td>0.365039</td>\n",
       "      <td>0.660978</td>\n",
       "      <td>0.514686</td>\n",
       "      <td>0.171632</td>\n",
       "      <td>0.631496</td>\n",
       "      <td>0.055513</td>\n",
       "      <td>0.363935</td>\n",
       "      <td>0.484324</td>\n",
       "      <td>0.531958</td>\n",
       "    </tr>\n",
       "    <tr>\n",
       "      <th>id_000779bfc</th>\n",
       "      <td>-0.142510</td>\n",
       "      <td>0.609207</td>\n",
       "      <td>0.126195</td>\n",
       "      <td>-0.021846</td>\n",
       "      <td>0.912782</td>\n",
       "      <td>0.561238</td>\n",
       "      <td>0.254855</td>\n",
       "      <td>0.476366</td>\n",
       "      <td>-0.091567</td>\n",
       "      <td>0.677683</td>\n",
       "      <td>...</td>\n",
       "      <td>0.046710</td>\n",
       "      <td>0.600043</td>\n",
       "      <td>0.497959</td>\n",
       "      <td>0.271068</td>\n",
       "      <td>0.390410</td>\n",
       "      <td>0.531001</td>\n",
       "      <td>0.314322</td>\n",
       "      <td>0.312714</td>\n",
       "      <td>0.604833</td>\n",
       "      <td>0.753503</td>\n",
       "    </tr>\n",
       "    <tr>\n",
       "      <th>id_000a6266a</th>\n",
       "      <td>0.245482</td>\n",
       "      <td>0.824935</td>\n",
       "      <td>1.337754</td>\n",
       "      <td>-0.165078</td>\n",
       "      <td>-0.114606</td>\n",
       "      <td>1.168297</td>\n",
       "      <td>0.182982</td>\n",
       "      <td>0.369311</td>\n",
       "      <td>0.136858</td>\n",
       "      <td>1.022054</td>\n",
       "      <td>...</td>\n",
       "      <td>-0.097895</td>\n",
       "      <td>-0.055827</td>\n",
       "      <td>0.565480</td>\n",
       "      <td>0.270746</td>\n",
       "      <td>-0.337366</td>\n",
       "      <td>0.049518</td>\n",
       "      <td>-0.059054</td>\n",
       "      <td>0.117185</td>\n",
       "      <td>-0.462432</td>\n",
       "      <td>0.722993</td>\n",
       "    </tr>\n",
       "    <tr>\n",
       "      <th>id_0015fd391</th>\n",
       "      <td>-0.554608</td>\n",
       "      <td>-0.211058</td>\n",
       "      <td>-0.419002</td>\n",
       "      <td>0.468577</td>\n",
       "      <td>3.886571</td>\n",
       "      <td>-0.562958</td>\n",
       "      <td>-2.263102</td>\n",
       "      <td>0.337379</td>\n",
       "      <td>0.059864</td>\n",
       "      <td>-1.057065</td>\n",
       "      <td>...</td>\n",
       "      <td>-0.763516</td>\n",
       "      <td>-0.062651</td>\n",
       "      <td>-2.454968</td>\n",
       "      <td>-0.373763</td>\n",
       "      <td>-0.130316</td>\n",
       "      <td>-0.529359</td>\n",
       "      <td>-0.519624</td>\n",
       "      <td>-0.259100</td>\n",
       "      <td>0.077845</td>\n",
       "      <td>-0.323019</td>\n",
       "    </tr>\n",
       "    <tr>\n",
       "      <th>id_001626bd3</th>\n",
       "      <td>-0.422591</td>\n",
       "      <td>-0.400350</td>\n",
       "      <td>0.773924</td>\n",
       "      <td>0.639345</td>\n",
       "      <td>1.302707</td>\n",
       "      <td>-0.575551</td>\n",
       "      <td>-0.335397</td>\n",
       "      <td>0.047969</td>\n",
       "      <td>-0.354989</td>\n",
       "      <td>0.688850</td>\n",
       "      <td>...</td>\n",
       "      <td>0.255359</td>\n",
       "      <td>0.244859</td>\n",
       "      <td>0.592924</td>\n",
       "      <td>0.752505</td>\n",
       "      <td>0.505707</td>\n",
       "      <td>0.058046</td>\n",
       "      <td>0.294193</td>\n",
       "      <td>0.406486</td>\n",
       "      <td>0.082611</td>\n",
       "      <td>0.736445</td>\n",
       "    </tr>\n",
       "  </tbody>\n",
       "</table>\n",
       "<p>5 rows × 872 columns</p>\n",
       "</div>"
      ],
      "text/plain": [
       "                   0         1         2         3         4         5    \\\n",
       "id_000644bb2  0.549598  0.795008 -0.401914 -0.735073 -0.273020 -0.734098   \n",
       "id_000779bfc -0.142510  0.609207  0.126195 -0.021846  0.912782  0.561238   \n",
       "id_000a6266a  0.245482  0.824935  1.337754 -0.165078 -0.114606  1.168297   \n",
       "id_0015fd391 -0.554608 -0.211058 -0.419002  0.468577  3.886571 -0.562958   \n",
       "id_001626bd3 -0.422591 -0.400350  0.773924  0.639345  1.302707 -0.575551   \n",
       "\n",
       "                   6         7         8         9    ...       862       863  \\\n",
       "id_000644bb2 -1.187307  0.151066  0.441443 -0.178297  ...  0.391971  0.365039   \n",
       "id_000779bfc  0.254855  0.476366 -0.091567  0.677683  ...  0.046710  0.600043   \n",
       "id_000a6266a  0.182982  0.369311  0.136858  1.022054  ... -0.097895 -0.055827   \n",
       "id_0015fd391 -2.263102  0.337379  0.059864 -1.057065  ... -0.763516 -0.062651   \n",
       "id_001626bd3 -0.335397  0.047969 -0.354989  0.688850  ...  0.255359  0.244859   \n",
       "\n",
       "                   864       865       866       867       868       869  \\\n",
       "id_000644bb2  0.660978  0.514686  0.171632  0.631496  0.055513  0.363935   \n",
       "id_000779bfc  0.497959  0.271068  0.390410  0.531001  0.314322  0.312714   \n",
       "id_000a6266a  0.565480  0.270746 -0.337366  0.049518 -0.059054  0.117185   \n",
       "id_0015fd391 -2.454968 -0.373763 -0.130316 -0.529359 -0.519624 -0.259100   \n",
       "id_001626bd3  0.592924  0.752505  0.505707  0.058046  0.294193  0.406486   \n",
       "\n",
       "                   870       871  \n",
       "id_000644bb2  0.484324  0.531958  \n",
       "id_000779bfc  0.604833  0.753503  \n",
       "id_000a6266a -0.462432  0.722993  \n",
       "id_0015fd391  0.077845 -0.323019  \n",
       "id_001626bd3  0.082611  0.736445  \n",
       "\n",
       "[5 rows x 872 columns]"
      ]
     },
     "execution_count": 14,
     "metadata": {},
     "output_type": "execute_result"
    }
   ],
   "source": [
    "# Take a peek at the scaled features\n",
    "df_X_scaled.head()"
   ]
  },
  {
   "cell_type": "code",
   "execution_count": 15,
   "metadata": {},
   "outputs": [
    {
     "data": {
      "text/plain": [
       "0   -2.879761e-17\n",
       "1   -1.084526e-17\n",
       "2   -3.841873e-18\n",
       "3    7.466235e-18\n",
       "4   -1.919166e-17\n",
       "dtype: float64"
      ]
     },
     "execution_count": 15,
     "metadata": {},
     "output_type": "execute_result"
    }
   ],
   "source": [
    "# Check the mean of for features\n",
    "df_X_scaled.mean(axis=0)[:5] # Should be zero for all the features"
   ]
  },
  {
   "cell_type": "code",
   "execution_count": 16,
   "metadata": {},
   "outputs": [
    {
     "data": {
      "text/plain": [
       "0    1.000046\n",
       "1    1.000046\n",
       "2    1.000046\n",
       "3    1.000046\n",
       "4    1.000046\n",
       "dtype: float64"
      ]
     },
     "execution_count": 16,
     "metadata": {},
     "output_type": "execute_result"
    }
   ],
   "source": [
    "# Checkt the variance of the scaled dataset\n",
    "df_X_scaled.var(axis=0)[:5] # Checked: should be 1 from begining to the end"
   ]
  }
 ],
 "metadata": {
  "kernelspec": {
   "display_name": "Python 3",
   "language": "python",
   "name": "python3"
  },
  "language_info": {
   "codemirror_mode": {
    "name": "ipython",
    "version": 3
   },
   "file_extension": ".py",
   "mimetype": "text/x-python",
   "name": "python",
   "nbconvert_exporter": "python",
   "pygments_lexer": "ipython3",
   "version": "3.7.6"
  }
 },
 "nbformat": 4,
 "nbformat_minor": 4
}
