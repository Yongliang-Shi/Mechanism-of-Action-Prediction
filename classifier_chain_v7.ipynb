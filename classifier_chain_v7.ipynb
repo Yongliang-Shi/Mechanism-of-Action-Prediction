{
 "cells": [
  {
   "cell_type": "code",
   "execution_count": 30,
   "metadata": {},
   "outputs": [],
   "source": [
    "import warnings\n",
    "warnings.filterwarnings(\"ignore\")\n",
    "\n",
    "import pandas as pd\n",
    "import numpy as np\n",
    "import matplotlib.pyplot as plt\n",
    "import seaborn as sns\n",
    "\n",
    "from sklearn.neural_network import MLPClassifier\n",
    "from sklearn.multioutput import ClassifierChain\n",
    "\n",
    "from sklearn.metrics import classification_report, confusion_matrix, jaccard_score, log_loss"
   ]
  },
  {
   "cell_type": "markdown",
   "metadata": {},
   "source": [
    "### Preprocess"
   ]
  },
  {
   "cell_type": "code",
   "execution_count": 2,
   "metadata": {},
   "outputs": [
    {
     "data": {
      "text/plain": [
       "((15802, 50), (15802, 206), (3951, 50), (3951, 206), (2195, 50), (2195, 206))"
      ]
     },
     "execution_count": 2,
     "metadata": {},
     "output_type": "execute_result"
    }
   ],
   "source": [
    "# Load train, validate and test\n",
    "\n",
    "X_train_rbf = pd.read_csv('X_train_rbf.csv', index_col=0)\n",
    "Y_train = pd.read_csv('Y_train.csv', index_col=0)\n",
    "\n",
    "X_validate_rbf = pd.read_csv('X_validate_rbf.csv', index_col=0)\n",
    "Y_validate = pd.read_csv('Y_validate.csv', index_col=0)\n",
    "\n",
    "X_test_rbf = pd.read_csv('X_test_rbf.csv', index_col=0)\n",
    "Y_test = pd.read_csv('Y_test.csv', index_col=0)\n",
    "\n",
    "# Print their shapes\n",
    "X_train_rbf.shape, Y_train.shape, X_validate_rbf.shape, Y_validate.shape, X_test_rbf.shape, Y_test.shape"
   ]
  },
  {
   "cell_type": "code",
   "execution_count": 3,
   "metadata": {},
   "outputs": [],
   "source": [
    "# Take the top 5 labels from Y_train\n",
    "\n",
    "Y_train = Y_train.loc[:, ['nfkb_inhibitor', 'proteasome_inhibitor', 'cyclooxygenase_inhibitor', \n",
    "                               'dopamine_receptor_antagonist', 'dna_inhibitor']]\n",
    "\n",
    "Y_validate = Y_validate.loc[:, ['nfkb_inhibitor', 'proteasome_inhibitor', 'cyclooxygenase_inhibitor', \n",
    "                               'dopamine_receptor_antagonist', 'dna_inhibitor']]\n",
    "\n",
    "Y_test = Y_test.loc[:, ['nfkb_inhibitor', 'proteasome_inhibitor', 'cyclooxygenase_inhibitor', \n",
    "                               'dopamine_receptor_antagonist', 'dna_inhibitor']]"
   ]
  },
  {
   "cell_type": "code",
   "execution_count": 4,
   "metadata": {},
   "outputs": [
    {
     "data": {
      "text/plain": [
       "((15802, 5), (3951, 5), (2195, 5))"
      ]
     },
     "execution_count": 4,
     "metadata": {},
     "output_type": "execute_result"
    }
   ],
   "source": [
    "# Print the shapes\n",
    "Y_train.shape, Y_validate.shape, Y_test.shape"
   ]
  },
  {
   "cell_type": "code",
   "execution_count": 5,
   "metadata": {},
   "outputs": [
    {
     "data": {
      "text/plain": [
       "15802"
      ]
     },
     "execution_count": 5,
     "metadata": {},
     "output_type": "execute_result"
    }
   ],
   "source": [
    "# Check if index of Y matches index of X\n",
    "(X_train_rbf.index == Y_train.index).sum() # Match"
   ]
  },
  {
   "cell_type": "code",
   "execution_count": 6,
   "metadata": {},
   "outputs": [
    {
     "data": {
      "text/plain": [
       "3951"
      ]
     },
     "execution_count": 6,
     "metadata": {},
     "output_type": "execute_result"
    }
   ],
   "source": [
    "# Check if index of Y matches index of X\n",
    "(X_validate_rbf.index == Y_validate.index).sum() # Match"
   ]
  },
  {
   "cell_type": "code",
   "execution_count": 7,
   "metadata": {},
   "outputs": [
    {
     "data": {
      "text/plain": [
       "2195"
      ]
     },
     "execution_count": 7,
     "metadata": {},
     "output_type": "execute_result"
    }
   ],
   "source": [
    "# Check if index of Y matches index of X\n",
    "(X_test_rbf.index == Y_test.index).sum() # Match"
   ]
  },
  {
   "cell_type": "code",
   "execution_count": 8,
   "metadata": {},
   "outputs": [
    {
     "data": {
      "text/html": [
       "<div>\n",
       "<style scoped>\n",
       "    .dataframe tbody tr th:only-of-type {\n",
       "        vertical-align: middle;\n",
       "    }\n",
       "\n",
       "    .dataframe tbody tr th {\n",
       "        vertical-align: top;\n",
       "    }\n",
       "\n",
       "    .dataframe thead th {\n",
       "        text-align: right;\n",
       "    }\n",
       "</style>\n",
       "<table border=\"1\" class=\"dataframe\">\n",
       "  <thead>\n",
       "    <tr style=\"text-align: right;\">\n",
       "      <th></th>\n",
       "      <th>0</th>\n",
       "      <th>1</th>\n",
       "      <th>2</th>\n",
       "      <th>3</th>\n",
       "      <th>4</th>\n",
       "      <th>5</th>\n",
       "      <th>6</th>\n",
       "      <th>7</th>\n",
       "      <th>8</th>\n",
       "      <th>9</th>\n",
       "      <th>...</th>\n",
       "      <th>40</th>\n",
       "      <th>41</th>\n",
       "      <th>42</th>\n",
       "      <th>43</th>\n",
       "      <th>44</th>\n",
       "      <th>45</th>\n",
       "      <th>46</th>\n",
       "      <th>47</th>\n",
       "      <th>48</th>\n",
       "      <th>49</th>\n",
       "    </tr>\n",
       "  </thead>\n",
       "  <tbody>\n",
       "    <tr>\n",
       "      <th>id_887911684</th>\n",
       "      <td>-0.113804</td>\n",
       "      <td>0.073874</td>\n",
       "      <td>-0.045844</td>\n",
       "      <td>-0.040177</td>\n",
       "      <td>0.001239</td>\n",
       "      <td>0.028486</td>\n",
       "      <td>0.008133</td>\n",
       "      <td>0.189038</td>\n",
       "      <td>0.009369</td>\n",
       "      <td>-0.035972</td>\n",
       "      <td>...</td>\n",
       "      <td>0.021074</td>\n",
       "      <td>0.019273</td>\n",
       "      <td>0.040316</td>\n",
       "      <td>-0.044190</td>\n",
       "      <td>0.035163</td>\n",
       "      <td>-0.068163</td>\n",
       "      <td>0.031149</td>\n",
       "      <td>-0.005280</td>\n",
       "      <td>-0.018714</td>\n",
       "      <td>0.040590</td>\n",
       "    </tr>\n",
       "    <tr>\n",
       "      <th>id_294d38ce4</th>\n",
       "      <td>-0.081761</td>\n",
       "      <td>0.238309</td>\n",
       "      <td>0.273610</td>\n",
       "      <td>0.066148</td>\n",
       "      <td>0.035802</td>\n",
       "      <td>0.028016</td>\n",
       "      <td>0.053274</td>\n",
       "      <td>0.117625</td>\n",
       "      <td>0.037382</td>\n",
       "      <td>-0.037918</td>\n",
       "      <td>...</td>\n",
       "      <td>0.010674</td>\n",
       "      <td>-0.008108</td>\n",
       "      <td>0.014344</td>\n",
       "      <td>-0.045436</td>\n",
       "      <td>-0.047832</td>\n",
       "      <td>-0.014416</td>\n",
       "      <td>-0.014711</td>\n",
       "      <td>-0.018614</td>\n",
       "      <td>-0.024334</td>\n",
       "      <td>-0.018353</td>\n",
       "    </tr>\n",
       "    <tr>\n",
       "      <th>id_b12cf3d9c</th>\n",
       "      <td>-0.042848</td>\n",
       "      <td>0.095801</td>\n",
       "      <td>-0.151614</td>\n",
       "      <td>0.068988</td>\n",
       "      <td>-0.043790</td>\n",
       "      <td>0.014354</td>\n",
       "      <td>-0.053366</td>\n",
       "      <td>-0.053073</td>\n",
       "      <td>-0.046212</td>\n",
       "      <td>0.059299</td>\n",
       "      <td>...</td>\n",
       "      <td>0.006034</td>\n",
       "      <td>-0.001349</td>\n",
       "      <td>0.000459</td>\n",
       "      <td>0.006673</td>\n",
       "      <td>0.086122</td>\n",
       "      <td>0.047384</td>\n",
       "      <td>0.031068</td>\n",
       "      <td>-0.020613</td>\n",
       "      <td>0.052809</td>\n",
       "      <td>0.019886</td>\n",
       "    </tr>\n",
       "    <tr>\n",
       "      <th>id_d8f5ca938</th>\n",
       "      <td>-0.095446</td>\n",
       "      <td>-0.102518</td>\n",
       "      <td>0.033974</td>\n",
       "      <td>0.220547</td>\n",
       "      <td>0.048482</td>\n",
       "      <td>-0.078481</td>\n",
       "      <td>0.082272</td>\n",
       "      <td>-0.107104</td>\n",
       "      <td>0.021217</td>\n",
       "      <td>-0.071515</td>\n",
       "      <td>...</td>\n",
       "      <td>-0.026697</td>\n",
       "      <td>-0.005765</td>\n",
       "      <td>-0.018127</td>\n",
       "      <td>-0.011354</td>\n",
       "      <td>0.033982</td>\n",
       "      <td>0.016215</td>\n",
       "      <td>-0.022585</td>\n",
       "      <td>0.028705</td>\n",
       "      <td>0.034875</td>\n",
       "      <td>0.014630</td>\n",
       "    </tr>\n",
       "    <tr>\n",
       "      <th>id_c4eaa645d</th>\n",
       "      <td>0.034598</td>\n",
       "      <td>0.148927</td>\n",
       "      <td>0.002449</td>\n",
       "      <td>-0.061712</td>\n",
       "      <td>-0.151287</td>\n",
       "      <td>-0.147584</td>\n",
       "      <td>0.114287</td>\n",
       "      <td>0.100925</td>\n",
       "      <td>-0.138400</td>\n",
       "      <td>-0.179451</td>\n",
       "      <td>...</td>\n",
       "      <td>0.025211</td>\n",
       "      <td>0.027269</td>\n",
       "      <td>-0.002506</td>\n",
       "      <td>0.001640</td>\n",
       "      <td>0.002665</td>\n",
       "      <td>-0.007431</td>\n",
       "      <td>-0.037124</td>\n",
       "      <td>-0.053390</td>\n",
       "      <td>0.005366</td>\n",
       "      <td>0.024452</td>\n",
       "    </tr>\n",
       "  </tbody>\n",
       "</table>\n",
       "<p>5 rows × 50 columns</p>\n",
       "</div>"
      ],
      "text/plain": [
       "                     0         1         2         3         4         5  \\\n",
       "id_887911684 -0.113804  0.073874 -0.045844 -0.040177  0.001239  0.028486   \n",
       "id_294d38ce4 -0.081761  0.238309  0.273610  0.066148  0.035802  0.028016   \n",
       "id_b12cf3d9c -0.042848  0.095801 -0.151614  0.068988 -0.043790  0.014354   \n",
       "id_d8f5ca938 -0.095446 -0.102518  0.033974  0.220547  0.048482 -0.078481   \n",
       "id_c4eaa645d  0.034598  0.148927  0.002449 -0.061712 -0.151287 -0.147584   \n",
       "\n",
       "                     6         7         8         9  ...        40        41  \\\n",
       "id_887911684  0.008133  0.189038  0.009369 -0.035972  ...  0.021074  0.019273   \n",
       "id_294d38ce4  0.053274  0.117625  0.037382 -0.037918  ...  0.010674 -0.008108   \n",
       "id_b12cf3d9c -0.053366 -0.053073 -0.046212  0.059299  ...  0.006034 -0.001349   \n",
       "id_d8f5ca938  0.082272 -0.107104  0.021217 -0.071515  ... -0.026697 -0.005765   \n",
       "id_c4eaa645d  0.114287  0.100925 -0.138400 -0.179451  ...  0.025211  0.027269   \n",
       "\n",
       "                    42        43        44        45        46        47  \\\n",
       "id_887911684  0.040316 -0.044190  0.035163 -0.068163  0.031149 -0.005280   \n",
       "id_294d38ce4  0.014344 -0.045436 -0.047832 -0.014416 -0.014711 -0.018614   \n",
       "id_b12cf3d9c  0.000459  0.006673  0.086122  0.047384  0.031068 -0.020613   \n",
       "id_d8f5ca938 -0.018127 -0.011354  0.033982  0.016215 -0.022585  0.028705   \n",
       "id_c4eaa645d -0.002506  0.001640  0.002665 -0.007431 -0.037124 -0.053390   \n",
       "\n",
       "                    48        49  \n",
       "id_887911684 -0.018714  0.040590  \n",
       "id_294d38ce4 -0.024334 -0.018353  \n",
       "id_b12cf3d9c  0.052809  0.019886  \n",
       "id_d8f5ca938  0.034875  0.014630  \n",
       "id_c4eaa645d  0.005366  0.024452  \n",
       "\n",
       "[5 rows x 50 columns]"
      ]
     },
     "execution_count": 8,
     "metadata": {},
     "output_type": "execute_result"
    }
   ],
   "source": [
    "# Take a peek at X_train_cos\n",
    "X_train_rbf.head()"
   ]
  },
  {
   "cell_type": "code",
   "execution_count": 9,
   "metadata": {},
   "outputs": [
    {
     "data": {
      "text/html": [
       "<div>\n",
       "<style scoped>\n",
       "    .dataframe tbody tr th:only-of-type {\n",
       "        vertical-align: middle;\n",
       "    }\n",
       "\n",
       "    .dataframe tbody tr th {\n",
       "        vertical-align: top;\n",
       "    }\n",
       "\n",
       "    .dataframe thead th {\n",
       "        text-align: right;\n",
       "    }\n",
       "</style>\n",
       "<table border=\"1\" class=\"dataframe\">\n",
       "  <thead>\n",
       "    <tr style=\"text-align: right;\">\n",
       "      <th></th>\n",
       "      <th>nfkb_inhibitor</th>\n",
       "      <th>proteasome_inhibitor</th>\n",
       "      <th>cyclooxygenase_inhibitor</th>\n",
       "      <th>dopamine_receptor_antagonist</th>\n",
       "      <th>dna_inhibitor</th>\n",
       "    </tr>\n",
       "    <tr>\n",
       "      <th>sig_id</th>\n",
       "      <th></th>\n",
       "      <th></th>\n",
       "      <th></th>\n",
       "      <th></th>\n",
       "      <th></th>\n",
       "    </tr>\n",
       "  </thead>\n",
       "  <tbody>\n",
       "    <tr>\n",
       "      <th>id_887911684</th>\n",
       "      <td>0</td>\n",
       "      <td>0</td>\n",
       "      <td>0</td>\n",
       "      <td>0</td>\n",
       "      <td>0</td>\n",
       "    </tr>\n",
       "    <tr>\n",
       "      <th>id_294d38ce4</th>\n",
       "      <td>0</td>\n",
       "      <td>0</td>\n",
       "      <td>0</td>\n",
       "      <td>0</td>\n",
       "      <td>0</td>\n",
       "    </tr>\n",
       "    <tr>\n",
       "      <th>id_b12cf3d9c</th>\n",
       "      <td>0</td>\n",
       "      <td>0</td>\n",
       "      <td>0</td>\n",
       "      <td>0</td>\n",
       "      <td>0</td>\n",
       "    </tr>\n",
       "    <tr>\n",
       "      <th>id_d8f5ca938</th>\n",
       "      <td>0</td>\n",
       "      <td>0</td>\n",
       "      <td>0</td>\n",
       "      <td>0</td>\n",
       "      <td>0</td>\n",
       "    </tr>\n",
       "    <tr>\n",
       "      <th>id_c4eaa645d</th>\n",
       "      <td>0</td>\n",
       "      <td>0</td>\n",
       "      <td>0</td>\n",
       "      <td>0</td>\n",
       "      <td>0</td>\n",
       "    </tr>\n",
       "  </tbody>\n",
       "</table>\n",
       "</div>"
      ],
      "text/plain": [
       "              nfkb_inhibitor  proteasome_inhibitor  cyclooxygenase_inhibitor  \\\n",
       "sig_id                                                                         \n",
       "id_887911684               0                     0                         0   \n",
       "id_294d38ce4               0                     0                         0   \n",
       "id_b12cf3d9c               0                     0                         0   \n",
       "id_d8f5ca938               0                     0                         0   \n",
       "id_c4eaa645d               0                     0                         0   \n",
       "\n",
       "              dopamine_receptor_antagonist  dna_inhibitor  \n",
       "sig_id                                                     \n",
       "id_887911684                             0              0  \n",
       "id_294d38ce4                             0              0  \n",
       "id_b12cf3d9c                             0              0  \n",
       "id_d8f5ca938                             0              0  \n",
       "id_c4eaa645d                             0              0  "
      ]
     },
     "execution_count": 9,
     "metadata": {},
     "output_type": "execute_result"
    }
   ],
   "source": [
    "# Take a peek at Y_train\n",
    "Y_train.head()"
   ]
  },
  {
   "cell_type": "code",
   "execution_count": 10,
   "metadata": {
    "scrolled": false
   },
   "outputs": [],
   "source": [
    "# Create the order for the 5 labels\n",
    "\n",
    "order= [2,3,4,0,1]"
   ]
  },
  {
   "cell_type": "markdown",
   "metadata": {},
   "source": [
    "### Classifier Chain"
   ]
  },
  {
   "cell_type": "code",
   "execution_count": 11,
   "metadata": {},
   "outputs": [],
   "source": [
    "# Create estimator\n",
    "clf = MLPClassifier(random_state=123)"
   ]
  },
  {
   "cell_type": "code",
   "execution_count": 12,
   "metadata": {},
   "outputs": [
    {
     "data": {
      "text/plain": [
       "ClassifierChain(base_estimator=MLPClassifier(random_state=123),\n",
       "                order=[2, 3, 4, 0, 1], random_state=123)"
      ]
     },
     "execution_count": 12,
     "metadata": {},
     "output_type": "execute_result"
    }
   ],
   "source": [
    "# Create Classifier Chain Object\n",
    "chain = ClassifierChain(clf, order=order, random_state=123)\n",
    "chain"
   ]
  },
  {
   "cell_type": "markdown",
   "metadata": {},
   "source": [
    "### Model on Train"
   ]
  },
  {
   "cell_type": "code",
   "execution_count": 13,
   "metadata": {},
   "outputs": [
    {
     "data": {
      "text/plain": [
       "[2, 3, 4, 0, 1]"
      ]
     },
     "execution_count": 13,
     "metadata": {},
     "output_type": "execute_result"
    }
   ],
   "source": [
    "# Fit the chain on train\n",
    "chain.fit(X_train_rbf, Y_train)\n",
    "\n",
    "# Print out the order\n",
    "chain.order_"
   ]
  },
  {
   "cell_type": "code",
   "execution_count": 14,
   "metadata": {},
   "outputs": [],
   "source": [
    "# Use chain to make a prediction\n",
    "\n",
    "Y_pred = chain.predict(X_train_rbf)\n",
    "Y_proba = chain.predict_proba(X_train_rbf)"
   ]
  },
  {
   "cell_type": "code",
   "execution_count": 15,
   "metadata": {},
   "outputs": [
    {
     "name": "stdout",
     "output_type": "stream",
     "text": [
      "79010\n"
     ]
    },
    {
     "data": {
      "text/plain": [
       "array([[0., 0., 0., 0., 0.],\n",
       "       [0., 0., 0., 0., 0.],\n",
       "       [0., 0., 0., 0., 0.],\n",
       "       ...,\n",
       "       [0., 0., 0., 0., 0.],\n",
       "       [0., 0., 0., 0., 0.],\n",
       "       [0., 0., 0., 0., 0.]])"
      ]
     },
     "execution_count": 15,
     "metadata": {},
     "output_type": "execute_result"
    }
   ],
   "source": [
    "# Take a look at Y_pred\n",
    "# Print the size of Y_pred\n",
    "\n",
    "print(Y_pred.size)\n",
    "Y_pred"
   ]
  },
  {
   "cell_type": "code",
   "execution_count": 16,
   "metadata": {},
   "outputs": [
    {
     "name": "stdout",
     "output_type": "stream",
     "text": [
      "79010\n"
     ]
    },
    {
     "data": {
      "text/plain": [
       "array([[3.10423218e-03, 2.06716155e-05, 3.42682072e-02, 8.01847782e-03,\n",
       "        5.00111578e-03],\n",
       "       [8.25290740e-04, 4.45080977e-05, 1.19255223e-02, 1.58991892e-02,\n",
       "        1.07058778e-03],\n",
       "       [8.21365076e-04, 3.24737466e-05, 2.34425551e-02, 1.14306672e-02,\n",
       "        2.58725835e-03],\n",
       "       ...,\n",
       "       [3.55303065e-04, 8.40092305e-05, 1.00718807e-02, 9.88236342e-03,\n",
       "        6.77548013e-03],\n",
       "       [2.98231174e-03, 5.87781465e-05, 2.07179584e-02, 3.18585511e-02,\n",
       "        7.33179668e-03],\n",
       "       [3.04410638e-04, 1.20570437e-04, 4.09771175e-03, 5.81717230e-03,\n",
       "        1.53891030e-02]])"
      ]
     },
     "execution_count": 16,
     "metadata": {},
     "output_type": "execute_result"
    }
   ],
   "source": [
    "# Take a look at Y_proba\n",
    "# Print the size of Y_proba\n",
    "\n",
    "print(Y_proba.size)\n",
    "Y_proba"
   ]
  },
  {
   "cell_type": "code",
   "execution_count": 17,
   "metadata": {},
   "outputs": [
    {
     "name": "stdout",
     "output_type": "stream",
     "text": [
      "79010\n"
     ]
    },
    {
     "data": {
      "text/plain": [
       "array([[0, 0, 0, 0, 0],\n",
       "       [0, 0, 0, 0, 0],\n",
       "       [0, 0, 0, 0, 0],\n",
       "       ...,\n",
       "       [0, 0, 0, 0, 0],\n",
       "       [0, 0, 0, 0, 0],\n",
       "       [0, 0, 0, 0, 0]])"
      ]
     },
     "execution_count": 17,
     "metadata": {},
     "output_type": "execute_result"
    }
   ],
   "source": [
    "# Take a look at Y_train\n",
    "# Print the size of Y_train\n",
    "\n",
    "print(Y_train.values.size)\n",
    "Y_train.values"
   ]
  },
  {
   "cell_type": "code",
   "execution_count": 18,
   "metadata": {},
   "outputs": [
    {
     "data": {
      "text/plain": [
       "0.030681770240054"
      ]
     },
     "execution_count": 18,
     "metadata": {},
     "output_type": "execute_result"
    }
   ],
   "source": [
    "# Compute jaccard score\n",
    "jaccard_score = jaccard_score(Y_train, Y_pred, average='samples')\n",
    "jaccard_score"
   ]
  },
  {
   "cell_type": "code",
   "execution_count": 19,
   "metadata": {
    "scrolled": true
   },
   "outputs": [
    {
     "data": {
      "text/plain": [
       "0.10958224017602107"
      ]
     },
     "execution_count": 19,
     "metadata": {},
     "output_type": "execute_result"
    }
   ],
   "source": [
    "# Compute log loss\n",
    "log_loss = log_loss(Y_train, Y_proba)\n",
    "log_loss"
   ]
  },
  {
   "cell_type": "code",
   "execution_count": 20,
   "metadata": {},
   "outputs": [
    {
     "data": {
      "text/plain": [
       "array([[ True,  True,  True,  True,  True],\n",
       "       [ True,  True,  True,  True,  True],\n",
       "       [ True,  True,  True,  True,  True],\n",
       "       ...,\n",
       "       [ True,  True,  True,  True,  True],\n",
       "       [ True,  True,  True,  True,  True],\n",
       "       [ True,  True,  True,  True,  True]])"
      ]
     },
     "execution_count": 20,
     "metadata": {},
     "output_type": "execute_result"
    }
   ],
   "source": [
    "# Compare predicted Y_train ith Y_train\n",
    "(Y_train.values == Y_pred)"
   ]
  },
  {
   "cell_type": "code",
   "execution_count": 21,
   "metadata": {},
   "outputs": [
    {
     "data": {
      "text/plain": [
       "77820"
      ]
     },
     "execution_count": 21,
     "metadata": {},
     "output_type": "execute_result"
    }
   ],
   "source": [
    "# How many labels the model predicing right\n",
    "(Y_train.values == Y_pred).sum()"
   ]
  },
  {
   "cell_type": "code",
   "execution_count": 22,
   "metadata": {
    "scrolled": false
   },
   "outputs": [
    {
     "name": "stdout",
     "output_type": "stream",
     "text": [
      "The total count of targets in Y_train: 2003\n"
     ]
    },
    {
     "data": {
      "text/plain": [
       "nfkb_inhibitor                  598\n",
       "proteasome_inhibitor            526\n",
       "cyclooxygenase_inhibitor        304\n",
       "dopamine_receptor_antagonist    302\n",
       "dna_inhibitor                   273\n",
       "dtype: int64"
      ]
     },
     "execution_count": 22,
     "metadata": {},
     "output_type": "execute_result"
    }
   ],
   "source": [
    "# Summarize Y_train\n",
    "\n",
    "features_train = Y_train.sum(axis=0).sort_values(ascending=False)\n",
    "print('The total count of targets in Y_train:', features_train.sum())\n",
    "features_train.head()"
   ]
  },
  {
   "cell_type": "code",
   "execution_count": 23,
   "metadata": {
    "scrolled": false
   },
   "outputs": [
    {
     "name": "stdout",
     "output_type": "stream",
     "text": [
      "The total count of targets: 1069.0\n"
     ]
    },
    {
     "data": {
      "text/plain": [
       "nfkb_inhibitor                  521.0\n",
       "proteasome_inhibitor            517.0\n",
       "dna_inhibitor                    31.0\n",
       "dopamine_receptor_antagonist      0.0\n",
       "cyclooxygenase_inhibitor          0.0\n",
       "dtype: float64"
      ]
     },
     "execution_count": 23,
     "metadata": {},
     "output_type": "execute_result"
    }
   ],
   "source": [
    "# Summarize Y_pred\n",
    "\n",
    "features_chain = pd.DataFrame(Y_pred, columns=Y_train.columns).sum(axis=0).sort_values(ascending=False)\n",
    "print('The total count of targets:', features_chain.sum())\n",
    "features_chain.head()"
   ]
  },
  {
   "cell_type": "code",
   "execution_count": 24,
   "metadata": {},
   "outputs": [
    {
     "data": {
      "text/html": [
       "<div>\n",
       "<style scoped>\n",
       "    .dataframe tbody tr th:only-of-type {\n",
       "        vertical-align: middle;\n",
       "    }\n",
       "\n",
       "    .dataframe tbody tr th {\n",
       "        vertical-align: top;\n",
       "    }\n",
       "\n",
       "    .dataframe thead th {\n",
       "        text-align: right;\n",
       "    }\n",
       "</style>\n",
       "<table border=\"1\" class=\"dataframe\">\n",
       "  <thead>\n",
       "    <tr style=\"text-align: right;\">\n",
       "      <th></th>\n",
       "      <th>0</th>\n",
       "      <th>1</th>\n",
       "    </tr>\n",
       "  </thead>\n",
       "  <tbody>\n",
       "    <tr>\n",
       "      <th>nfkb_inhibitor</th>\n",
       "      <td>598</td>\n",
       "      <td>521.0</td>\n",
       "    </tr>\n",
       "    <tr>\n",
       "      <th>proteasome_inhibitor</th>\n",
       "      <td>526</td>\n",
       "      <td>517.0</td>\n",
       "    </tr>\n",
       "    <tr>\n",
       "      <th>cyclooxygenase_inhibitor</th>\n",
       "      <td>304</td>\n",
       "      <td>0.0</td>\n",
       "    </tr>\n",
       "    <tr>\n",
       "      <th>dopamine_receptor_antagonist</th>\n",
       "      <td>302</td>\n",
       "      <td>0.0</td>\n",
       "    </tr>\n",
       "    <tr>\n",
       "      <th>dna_inhibitor</th>\n",
       "      <td>273</td>\n",
       "      <td>31.0</td>\n",
       "    </tr>\n",
       "  </tbody>\n",
       "</table>\n",
       "</div>"
      ],
      "text/plain": [
       "                                0      1\n",
       "nfkb_inhibitor                598  521.0\n",
       "proteasome_inhibitor          526  517.0\n",
       "cyclooxygenase_inhibitor      304    0.0\n",
       "dopamine_receptor_antagonist  302    0.0\n",
       "dna_inhibitor                 273   31.0"
      ]
     },
     "execution_count": 24,
     "metadata": {},
     "output_type": "execute_result"
    }
   ],
   "source": [
    "# Concat features_train, features_baseline and features_chain\n",
    "\n",
    "features_sum = pd.concat([features_train, features_chain], axis=1)\n",
    "features_sum.head()"
   ]
  },
  {
   "cell_type": "markdown",
   "metadata": {},
   "source": [
    "### Model on Validate"
   ]
  },
  {
   "cell_type": "code",
   "execution_count": 25,
   "metadata": {},
   "outputs": [],
   "source": [
    "# Predict the labels of Y_validate\n",
    "Y_pred_v = chain.predict(X_validate_rbf)\n",
    "\n",
    "# Predcit the probability of Y\n",
    "Y_proba_v = chain.predict_proba(X_validate_rbf) "
   ]
  },
  {
   "cell_type": "code",
   "execution_count": 26,
   "metadata": {},
   "outputs": [
    {
     "name": "stdout",
     "output_type": "stream",
     "text": [
      "19755\n"
     ]
    },
    {
     "data": {
      "text/plain": [
       "array([[0., 0., 0., 0., 0.],\n",
       "       [0., 0., 0., 0., 0.],\n",
       "       [0., 0., 0., 0., 0.],\n",
       "       ...,\n",
       "       [0., 0., 0., 0., 0.],\n",
       "       [0., 0., 0., 0., 0.],\n",
       "       [0., 0., 0., 0., 0.]])"
      ]
     },
     "execution_count": 26,
     "metadata": {},
     "output_type": "execute_result"
    }
   ],
   "source": [
    "# Take a look at Y_pred_v\n",
    "# Print the size of Y_pred_v\n",
    "\n",
    "print(Y_pred_v.size)\n",
    "Y_pred_v"
   ]
  },
  {
   "cell_type": "code",
   "execution_count": 27,
   "metadata": {},
   "outputs": [
    {
     "name": "stdout",
     "output_type": "stream",
     "text": [
      "19755\n"
     ]
    },
    {
     "data": {
      "text/plain": [
       "array([[5.55575731e-03, 5.02536296e-05, 2.39367134e-02, 1.91649295e-02,\n",
       "        6.09324199e-02],\n",
       "       [1.71962554e-03, 1.17785301e-04, 9.09422930e-03, 1.79701807e-02,\n",
       "        8.45634335e-03],\n",
       "       [3.68213845e-07, 2.58065784e-04, 1.28452817e-03, 1.75486940e-03,\n",
       "        1.91010852e-02],\n",
       "       ...,\n",
       "       [1.11196120e-03, 4.34534513e-05, 4.61921881e-02, 1.82623665e-02,\n",
       "        5.02494939e-02],\n",
       "       [8.56855386e-05, 1.13963591e-04, 4.00267790e-02, 2.77107718e-02,\n",
       "        2.19957498e-02],\n",
       "       [1.24549245e-02, 1.89616780e-05, 1.09938171e-02, 2.65851276e-02,\n",
       "        3.70644185e-02]])"
      ]
     },
     "execution_count": 27,
     "metadata": {},
     "output_type": "execute_result"
    }
   ],
   "source": [
    "# Take a look at Y_proba_v\n",
    "# Print the size of Y_proba_v\n",
    "\n",
    "print(Y_proba_v.size)\n",
    "Y_proba_v"
   ]
  },
  {
   "cell_type": "code",
   "execution_count": 28,
   "metadata": {},
   "outputs": [
    {
     "name": "stdout",
     "output_type": "stream",
     "text": [
      "19755\n"
     ]
    },
    {
     "data": {
      "text/plain": [
       "array([[0, 0, 0, 0, 0],\n",
       "       [0, 0, 0, 0, 0],\n",
       "       [0, 0, 0, 0, 0],\n",
       "       ...,\n",
       "       [0, 0, 0, 0, 0],\n",
       "       [0, 0, 0, 0, 0],\n",
       "       [0, 0, 0, 0, 0]])"
      ]
     },
     "execution_count": 28,
     "metadata": {},
     "output_type": "execute_result"
    }
   ],
   "source": [
    "# Take a look at Y_validate\n",
    "# Print the size of Y_validate\n",
    "\n",
    "print(Y_validate.values.size)\n",
    "Y_validate.values"
   ]
  },
  {
   "cell_type": "code",
   "execution_count": 31,
   "metadata": {},
   "outputs": [
    {
     "data": {
      "text/plain": [
       "0.029064371888973255"
      ]
     },
     "execution_count": 31,
     "metadata": {},
     "output_type": "execute_result"
    }
   ],
   "source": [
    "# Compute jaccard score for validate\n",
    "\n",
    "jaccard_score_v = jaccard_score(Y_validate, Y_pred_v, average='samples')\n",
    "jaccard_score_v"
   ]
  },
  {
   "cell_type": "code",
   "execution_count": 32,
   "metadata": {},
   "outputs": [
    {
     "data": {
      "text/plain": [
       "0.14312491122491783"
      ]
     },
     "execution_count": 32,
     "metadata": {},
     "output_type": "execute_result"
    }
   ],
   "source": [
    "# Compute log loss for validate\n",
    "\n",
    "log_loss_v = log_loss(Y_validate, Y_proba_v)\n",
    "log_loss_v"
   ]
  },
  {
   "cell_type": "code",
   "execution_count": 33,
   "metadata": {},
   "outputs": [
    {
     "data": {
      "text/plain": [
       "array([[ True,  True,  True,  True,  True],\n",
       "       [ True,  True,  True,  True,  True],\n",
       "       [ True,  True,  True,  True,  True],\n",
       "       ...,\n",
       "       [ True,  True,  True,  True,  True],\n",
       "       [ True,  True,  True,  True,  True],\n",
       "       [ True,  True,  True,  True,  True]])"
      ]
     },
     "execution_count": 33,
     "metadata": {},
     "output_type": "execute_result"
    }
   ],
   "source": [
    "# Compare Y_validate and Y_pred_v\n",
    "(Y_validate.values == Y_pred_v)"
   ]
  },
  {
   "cell_type": "code",
   "execution_count": 34,
   "metadata": {
    "scrolled": true
   },
   "outputs": [
    {
     "data": {
      "text/plain": [
       "19437"
      ]
     },
     "execution_count": 34,
     "metadata": {},
     "output_type": "execute_result"
    }
   ],
   "source": [
    "# How many labels are predicted right\n",
    "(Y_validate.values == Y_pred_v).sum()"
   ]
  },
  {
   "cell_type": "code",
   "execution_count": 35,
   "metadata": {},
   "outputs": [
    {
     "name": "stdout",
     "output_type": "stream",
     "text": [
      "The total count of targets in Y_validate: 520\n"
     ]
    },
    {
     "data": {
      "text/plain": [
       "nfkb_inhibitor                  149\n",
       "proteasome_inhibitor            128\n",
       "cyclooxygenase_inhibitor         89\n",
       "dna_inhibitor                    82\n",
       "dopamine_receptor_antagonist     72\n",
       "dtype: int64"
      ]
     },
     "execution_count": 35,
     "metadata": {},
     "output_type": "execute_result"
    }
   ],
   "source": [
    "# Summarize Y_validate\n",
    "\n",
    "features_validate = Y_validate.sum(axis=0).sort_values(ascending=False)\n",
    "print('The total count of targets in Y_validate:', features_validate.sum())\n",
    "features_validate.head()"
   ]
  },
  {
   "cell_type": "code",
   "execution_count": 36,
   "metadata": {},
   "outputs": [
    {
     "name": "stdout",
     "output_type": "stream",
     "text": [
      "The total count of targets: 250.0\n"
     ]
    },
    {
     "data": {
      "text/plain": [
       "proteasome_inhibitor            122.0\n",
       "nfkb_inhibitor                  122.0\n",
       "dna_inhibitor                     6.0\n",
       "dopamine_receptor_antagonist      0.0\n",
       "cyclooxygenase_inhibitor          0.0\n",
       "dtype: float64"
      ]
     },
     "execution_count": 36,
     "metadata": {},
     "output_type": "execute_result"
    }
   ],
   "source": [
    "# Summarize Y_pred_v\n",
    "\n",
    "features_chain_v = pd.DataFrame(Y_pred_v, columns=Y_validate.columns).sum(axis=0).sort_values(ascending=False)\n",
    "print('The total count of targets:', features_chain_v.sum())\n",
    "features_chain_v.head()"
   ]
  },
  {
   "cell_type": "code",
   "execution_count": 37,
   "metadata": {},
   "outputs": [
    {
     "data": {
      "text/html": [
       "<div>\n",
       "<style scoped>\n",
       "    .dataframe tbody tr th:only-of-type {\n",
       "        vertical-align: middle;\n",
       "    }\n",
       "\n",
       "    .dataframe tbody tr th {\n",
       "        vertical-align: top;\n",
       "    }\n",
       "\n",
       "    .dataframe thead th {\n",
       "        text-align: right;\n",
       "    }\n",
       "</style>\n",
       "<table border=\"1\" class=\"dataframe\">\n",
       "  <thead>\n",
       "    <tr style=\"text-align: right;\">\n",
       "      <th></th>\n",
       "      <th>0</th>\n",
       "      <th>1</th>\n",
       "      <th>0</th>\n",
       "      <th>1</th>\n",
       "    </tr>\n",
       "  </thead>\n",
       "  <tbody>\n",
       "    <tr>\n",
       "      <th>nfkb_inhibitor</th>\n",
       "      <td>598</td>\n",
       "      <td>521.0</td>\n",
       "      <td>149</td>\n",
       "      <td>122.0</td>\n",
       "    </tr>\n",
       "    <tr>\n",
       "      <th>proteasome_inhibitor</th>\n",
       "      <td>526</td>\n",
       "      <td>517.0</td>\n",
       "      <td>128</td>\n",
       "      <td>122.0</td>\n",
       "    </tr>\n",
       "    <tr>\n",
       "      <th>cyclooxygenase_inhibitor</th>\n",
       "      <td>304</td>\n",
       "      <td>0.0</td>\n",
       "      <td>89</td>\n",
       "      <td>0.0</td>\n",
       "    </tr>\n",
       "    <tr>\n",
       "      <th>dopamine_receptor_antagonist</th>\n",
       "      <td>302</td>\n",
       "      <td>0.0</td>\n",
       "      <td>72</td>\n",
       "      <td>0.0</td>\n",
       "    </tr>\n",
       "    <tr>\n",
       "      <th>dna_inhibitor</th>\n",
       "      <td>273</td>\n",
       "      <td>31.0</td>\n",
       "      <td>82</td>\n",
       "      <td>6.0</td>\n",
       "    </tr>\n",
       "  </tbody>\n",
       "</table>\n",
       "</div>"
      ],
      "text/plain": [
       "                                0      1    0      1\n",
       "nfkb_inhibitor                598  521.0  149  122.0\n",
       "proteasome_inhibitor          526  517.0  128  122.0\n",
       "cyclooxygenase_inhibitor      304    0.0   89    0.0\n",
       "dopamine_receptor_antagonist  302    0.0   72    0.0\n",
       "dna_inhibitor                 273   31.0   82    6.0"
      ]
     },
     "execution_count": 37,
     "metadata": {},
     "output_type": "execute_result"
    }
   ],
   "source": [
    "# Add features_validate and features_chain_v to feature_sum\n",
    "\n",
    "features_sum = pd.concat([features_sum, features_validate, features_chain_v], axis=1)\n",
    "features_sum.head()"
   ]
  },
  {
   "cell_type": "markdown",
   "metadata": {},
   "source": [
    "### Model on Test"
   ]
  },
  {
   "cell_type": "code",
   "execution_count": 38,
   "metadata": {},
   "outputs": [],
   "source": [
    "# Predict the labels of Y_test\n",
    "Y_pred_t = chain.predict(X_test_rbf)\n",
    "\n",
    "# Predcit the probability of Y_test\n",
    "Y_proba_t = chain.predict_proba(X_test_rbf) "
   ]
  },
  {
   "cell_type": "code",
   "execution_count": 39,
   "metadata": {},
   "outputs": [
    {
     "name": "stdout",
     "output_type": "stream",
     "text": [
      "10975\n"
     ]
    },
    {
     "data": {
      "text/plain": [
       "array([[0., 0., 0., 0., 0.],\n",
       "       [0., 0., 0., 0., 0.],\n",
       "       [0., 0., 0., 0., 0.],\n",
       "       ...,\n",
       "       [0., 0., 0., 0., 0.],\n",
       "       [0., 0., 0., 0., 0.],\n",
       "       [0., 0., 0., 0., 0.]])"
      ]
     },
     "execution_count": 39,
     "metadata": {},
     "output_type": "execute_result"
    }
   ],
   "source": [
    "# Take a look at Y_pred_t\n",
    "\n",
    "print(Y_pred_t.size)\n",
    "Y_pred_t"
   ]
  },
  {
   "cell_type": "code",
   "execution_count": 40,
   "metadata": {},
   "outputs": [
    {
     "name": "stdout",
     "output_type": "stream",
     "text": [
      "10975\n"
     ]
    },
    {
     "data": {
      "text/plain": [
       "array([[3.72349672e-03, 4.61308313e-05, 3.10618244e-02, 4.24709296e-02,\n",
       "        1.05834322e-02],\n",
       "       [1.95090493e-03, 1.86721371e-05, 2.27973907e-03, 1.11638443e-03,\n",
       "        1.27249305e-03],\n",
       "       [1.91492935e-03, 4.14481409e-05, 5.42273041e-03, 3.45301006e-02,\n",
       "        3.05837362e-04],\n",
       "       ...,\n",
       "       [2.24030066e-06, 1.90255078e-04, 9.43527542e-04, 1.92874108e-03,\n",
       "        7.52260980e-04],\n",
       "       [5.21590841e-03, 5.08147232e-04, 7.37691580e-03, 6.75223475e-03,\n",
       "        1.11485151e-02],\n",
       "       [4.99436507e-04, 8.80194854e-05, 1.65065971e-02, 1.07451699e-02,\n",
       "        7.15922512e-03]])"
      ]
     },
     "execution_count": 40,
     "metadata": {},
     "output_type": "execute_result"
    }
   ],
   "source": [
    "# Take a look at Y_proba_t\n",
    "\n",
    "print(Y_proba_t.size)\n",
    "Y_proba_t"
   ]
  },
  {
   "cell_type": "code",
   "execution_count": 41,
   "metadata": {},
   "outputs": [
    {
     "name": "stdout",
     "output_type": "stream",
     "text": [
      "10975\n"
     ]
    },
    {
     "data": {
      "text/plain": [
       "array([[0, 0, 0, 0, 0],\n",
       "       [0, 0, 0, 0, 0],\n",
       "       [0, 0, 0, 0, 0],\n",
       "       ...,\n",
       "       [0, 0, 0, 0, 0],\n",
       "       [0, 0, 0, 1, 0],\n",
       "       [0, 0, 1, 0, 0]])"
      ]
     },
     "execution_count": 41,
     "metadata": {},
     "output_type": "execute_result"
    }
   ],
   "source": [
    "# Take a look at Y_test\n",
    "# Print the size of Y_test\n",
    "\n",
    "print(Y_test.values.size)\n",
    "Y_test.values"
   ]
  },
  {
   "cell_type": "code",
   "execution_count": 42,
   "metadata": {},
   "outputs": [
    {
     "data": {
      "text/plain": [
       "0.028701594533029614"
      ]
     },
     "execution_count": 42,
     "metadata": {},
     "output_type": "execute_result"
    }
   ],
   "source": [
    "# Compute jaccard score for test\n",
    "\n",
    "jaccard_score_t = jaccard_score(Y_test, Y_pred_t, average='samples')\n",
    "jaccard_score_t"
   ]
  },
  {
   "cell_type": "code",
   "execution_count": 43,
   "metadata": {},
   "outputs": [
    {
     "data": {
      "text/plain": [
       "0.1481303926836591"
      ]
     },
     "execution_count": 43,
     "metadata": {},
     "output_type": "execute_result"
    }
   ],
   "source": [
    "# Compute log loss for test\n",
    "\n",
    "log_loss_t = log_loss(Y_test, Y_proba_t)\n",
    "log_loss_t"
   ]
  },
  {
   "cell_type": "code",
   "execution_count": 44,
   "metadata": {},
   "outputs": [
    {
     "data": {
      "text/plain": [
       "array([[ True,  True,  True,  True,  True],\n",
       "       [ True,  True,  True,  True,  True],\n",
       "       [ True,  True,  True,  True,  True],\n",
       "       ...,\n",
       "       [ True,  True,  True,  True,  True],\n",
       "       [ True,  True,  True, False,  True],\n",
       "       [ True,  True, False,  True,  True]])"
      ]
     },
     "execution_count": 44,
     "metadata": {},
     "output_type": "execute_result"
    }
   ],
   "source": [
    "# Compare predicted test and Y_test\n",
    "(Y_test.values == Y_pred_t)"
   ]
  },
  {
   "cell_type": "code",
   "execution_count": 45,
   "metadata": {},
   "outputs": [
    {
     "data": {
      "text/plain": [
       "10790"
      ]
     },
     "execution_count": 45,
     "metadata": {},
     "output_type": "execute_result"
    }
   ],
   "source": [
    "# How many labels are predicted right\n",
    "(Y_test.values == Y_pred_t).sum()"
   ]
  },
  {
   "cell_type": "code",
   "execution_count": 46,
   "metadata": {},
   "outputs": [
    {
     "name": "stdout",
     "output_type": "stream",
     "text": [
      "The total count of targets in Y_test: 296\n"
     ]
    },
    {
     "data": {
      "text/plain": [
       "nfkb_inhibitor                  85\n",
       "proteasome_inhibitor            72\n",
       "dopamine_receptor_antagonist    50\n",
       "dna_inhibitor                   47\n",
       "cyclooxygenase_inhibitor        42\n",
       "dtype: int64"
      ]
     },
     "execution_count": 46,
     "metadata": {},
     "output_type": "execute_result"
    }
   ],
   "source": [
    "# Summarize Y_test\n",
    "\n",
    "features_test = Y_test.sum(axis=0).sort_values(ascending=False)\n",
    "print('The total count of targets in Y_test:', features_test.sum())\n",
    "features_test.head()"
   ]
  },
  {
   "cell_type": "code",
   "execution_count": 47,
   "metadata": {},
   "outputs": [
    {
     "name": "stdout",
     "output_type": "stream",
     "text": [
      "The total count of predicted targets: 139.0\n"
     ]
    },
    {
     "data": {
      "text/plain": [
       "proteasome_inhibitor            69.0\n",
       "nfkb_inhibitor                  69.0\n",
       "dna_inhibitor                    1.0\n",
       "dopamine_receptor_antagonist     0.0\n",
       "cyclooxygenase_inhibitor         0.0\n",
       "dtype: float64"
      ]
     },
     "execution_count": 47,
     "metadata": {},
     "output_type": "execute_result"
    }
   ],
   "source": [
    "# Summarize Y_pred_t\n",
    "\n",
    "features_chain_t = pd.DataFrame(Y_pred_t, columns=Y_test.columns).sum(axis=0).sort_values(ascending=False)\n",
    "print('The total count of predicted targets:', features_chain_t.sum())\n",
    "features_chain_t.head()"
   ]
  },
  {
   "cell_type": "code",
   "execution_count": 48,
   "metadata": {},
   "outputs": [
    {
     "data": {
      "text/html": [
       "<div>\n",
       "<style scoped>\n",
       "    .dataframe tbody tr th:only-of-type {\n",
       "        vertical-align: middle;\n",
       "    }\n",
       "\n",
       "    .dataframe tbody tr th {\n",
       "        vertical-align: top;\n",
       "    }\n",
       "\n",
       "    .dataframe thead th {\n",
       "        text-align: right;\n",
       "    }\n",
       "</style>\n",
       "<table border=\"1\" class=\"dataframe\">\n",
       "  <thead>\n",
       "    <tr style=\"text-align: right;\">\n",
       "      <th></th>\n",
       "      <th>0</th>\n",
       "      <th>1</th>\n",
       "      <th>0</th>\n",
       "      <th>1</th>\n",
       "      <th>0</th>\n",
       "      <th>1</th>\n",
       "    </tr>\n",
       "  </thead>\n",
       "  <tbody>\n",
       "    <tr>\n",
       "      <th>nfkb_inhibitor</th>\n",
       "      <td>598</td>\n",
       "      <td>521.0</td>\n",
       "      <td>149</td>\n",
       "      <td>122.0</td>\n",
       "      <td>85</td>\n",
       "      <td>69.0</td>\n",
       "    </tr>\n",
       "    <tr>\n",
       "      <th>proteasome_inhibitor</th>\n",
       "      <td>526</td>\n",
       "      <td>517.0</td>\n",
       "      <td>128</td>\n",
       "      <td>122.0</td>\n",
       "      <td>72</td>\n",
       "      <td>69.0</td>\n",
       "    </tr>\n",
       "    <tr>\n",
       "      <th>cyclooxygenase_inhibitor</th>\n",
       "      <td>304</td>\n",
       "      <td>0.0</td>\n",
       "      <td>89</td>\n",
       "      <td>0.0</td>\n",
       "      <td>42</td>\n",
       "      <td>0.0</td>\n",
       "    </tr>\n",
       "    <tr>\n",
       "      <th>dopamine_receptor_antagonist</th>\n",
       "      <td>302</td>\n",
       "      <td>0.0</td>\n",
       "      <td>72</td>\n",
       "      <td>0.0</td>\n",
       "      <td>50</td>\n",
       "      <td>0.0</td>\n",
       "    </tr>\n",
       "    <tr>\n",
       "      <th>dna_inhibitor</th>\n",
       "      <td>273</td>\n",
       "      <td>31.0</td>\n",
       "      <td>82</td>\n",
       "      <td>6.0</td>\n",
       "      <td>47</td>\n",
       "      <td>1.0</td>\n",
       "    </tr>\n",
       "  </tbody>\n",
       "</table>\n",
       "</div>"
      ],
      "text/plain": [
       "                                0      1    0      1   0     1\n",
       "nfkb_inhibitor                598  521.0  149  122.0  85  69.0\n",
       "proteasome_inhibitor          526  517.0  128  122.0  72  69.0\n",
       "cyclooxygenase_inhibitor      304    0.0   89    0.0  42   0.0\n",
       "dopamine_receptor_antagonist  302    0.0   72    0.0  50   0.0\n",
       "dna_inhibitor                 273   31.0   82    6.0  47   1.0"
      ]
     },
     "execution_count": 48,
     "metadata": {},
     "output_type": "execute_result"
    }
   ],
   "source": [
    "# Add features_test and _chain_t to features_sum\n",
    "\n",
    "features_sum = pd.concat([features_sum, features_test, features_chain_t], axis=1)\n",
    "features_sum.head()"
   ]
  },
  {
   "cell_type": "code",
   "execution_count": 49,
   "metadata": {},
   "outputs": [
    {
     "data": {
      "text/plain": [
       "ClassifierChain(base_estimator=MLPClassifier(random_state=123),\n",
       "                order=[2, 3, 4, 0, 1], random_state=123)"
      ]
     },
     "execution_count": 49,
     "metadata": {},
     "output_type": "execute_result"
    }
   ],
   "source": [
    "# Print chain object to double check\n",
    "chain"
   ]
  },
  {
   "cell_type": "code",
   "execution_count": null,
   "metadata": {},
   "outputs": [],
   "source": []
  }
 ],
 "metadata": {
  "kernelspec": {
   "display_name": "Python 3",
   "language": "python",
   "name": "python3"
  },
  "language_info": {
   "codemirror_mode": {
    "name": "ipython",
    "version": 3
   },
   "file_extension": ".py",
   "mimetype": "text/x-python",
   "name": "python",
   "nbconvert_exporter": "python",
   "pygments_lexer": "ipython3",
   "version": "3.7.6"
  }
 },
 "nbformat": 4,
 "nbformat_minor": 4
}
