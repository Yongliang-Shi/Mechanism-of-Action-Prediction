{
 "cells": [
  {
   "cell_type": "code",
   "execution_count": 96,
   "metadata": {},
   "outputs": [],
   "source": [
    "import warnings\n",
    "warnings.filterwarnings(\"ignore\")\n",
    "\n",
    "import pandas as pd\n",
    "import numpy as np\n",
    "import matplotlib.pyplot as plt\n",
    "import seaborn as sns\n",
    "\n",
    "from sklearn.model_selection import train_test_split, KFold\n",
    "from sklearn.preprocessing import StandardScaler, MinMaxScaler\n",
    "\n",
    "from sklearn.multiclass import OneVsRestClassifier\n",
    "from sklearn.neural_network import MLPClassifier\n",
    "from sklearn.multioutput import ClassifierChain\n",
    "\n",
    "from sklearn.metrics import classification_report, confusion_matrix, jaccard_score, log_loss\n",
    "\n",
    "import prepare, model"
   ]
  },
  {
   "cell_type": "markdown",
   "metadata": {},
   "source": [
    "### Preprocess"
   ]
  },
  {
   "cell_type": "code",
   "execution_count": 2,
   "metadata": {},
   "outputs": [],
   "source": [
    "# Load train, target and test datasets\n",
    "\n",
    "X_train = pd.read_csv('train_features.csv', index_col=0)\n",
    "Y_train = pd.read_csv('train_targets_scored.csv', index_col=0)\n",
    "X_test = pd.read_csv('test_features.csv', index_col=0)"
   ]
  },
  {
   "cell_type": "code",
   "execution_count": 145,
   "metadata": {},
   "outputs": [
    {
     "data": {
      "text/plain": [
       "((23814, 875), (23814, 206), (3982, 875))"
      ]
     },
     "execution_count": 145,
     "metadata": {},
     "output_type": "execute_result"
    }
   ],
   "source": [
    "# Print their shapes\n",
    "X_train.shape, Y_train.shape, X_test.shape # Correct"
   ]
  },
  {
   "cell_type": "code",
   "execution_count": 146,
   "metadata": {},
   "outputs": [
    {
     "data": {
      "text/plain": [
       "(MinMaxScaler(), (17145, 876), (4287, 876), (2382, 876))"
      ]
     },
     "execution_count": 146,
     "metadata": {},
     "output_type": "execute_result"
    }
   ],
   "source": [
    "# Preprocess X_train to X_train_scaled, X_validate_scaled and X_test_scaled\n",
    "# encoding, splitting, and scaling\n",
    "\n",
    "scaler, X_train_scaled, X_validate_scaled, X_test_scaled = prepare.prep_moa_v2(X_train)\n",
    "\n",
    "# Print the shapes\n",
    "scaler, X_train_scaled.shape, X_validate_scaled.shape, X_test_scaled.shape"
   ]
  },
  {
   "cell_type": "code",
   "execution_count": 147,
   "metadata": {},
   "outputs": [],
   "source": [
    "# Preprocess Y_train to Y_train_scaled, Y_validate_scaled and Y_test_scaled\n",
    "# Y has not been scaled but just for matching X's names\n",
    "\n",
    "Y_train_scaled = Y_train.loc[X_train_scaled.index, :]\n",
    "Y_validate_scaled = Y_train.loc[X_validate_scaled.index, :]\n",
    "Y_test_scaled = Y_train.loc[X_test_scaled.index, :]"
   ]
  },
  {
   "cell_type": "code",
   "execution_count": 148,
   "metadata": {},
   "outputs": [
    {
     "data": {
      "text/plain": [
       "17145"
      ]
     },
     "execution_count": 148,
     "metadata": {},
     "output_type": "execute_result"
    }
   ],
   "source": [
    "# Check if index of Y matches index of X\n",
    "(X_train_scaled.index == Y_train_scaled.index).sum() # Match"
   ]
  },
  {
   "cell_type": "code",
   "execution_count": 149,
   "metadata": {},
   "outputs": [
    {
     "data": {
      "text/plain": [
       "4287"
      ]
     },
     "execution_count": 149,
     "metadata": {},
     "output_type": "execute_result"
    }
   ],
   "source": [
    "# Check if index of Y matches index of X\n",
    "(X_validate_scaled.index == Y_validate_scaled.index).sum() # Match"
   ]
  },
  {
   "cell_type": "code",
   "execution_count": 150,
   "metadata": {},
   "outputs": [
    {
     "data": {
      "text/plain": [
       "2382"
      ]
     },
     "execution_count": 150,
     "metadata": {},
     "output_type": "execute_result"
    }
   ],
   "source": [
    "# Check if index of Y matches index of X\n",
    "(X_test_scaled.index == Y_test_scaled.index).sum() # Match"
   ]
  },
  {
   "cell_type": "code",
   "execution_count": 151,
   "metadata": {},
   "outputs": [
    {
     "data": {
      "text/plain": [
       "[136, 163, 71, 79, 177]"
      ]
     },
     "execution_count": 151,
     "metadata": {},
     "output_type": "execute_result"
    }
   ],
   "source": [
    "# Create a optimal order\n",
    "# Integer column index and text colum index\n",
    "\n",
    "col_index = pd.DataFrame(Y_train.columns, columns=['target'])\n",
    "\n",
    "# Count the MoA annotations\n",
    "\n",
    "count_targets = pd.DataFrame(Y_train.sum(axis=0)).reset_index()\n",
    "count_targets.rename(columns={'index':'target_1', 0: 'counts'}, inplace=True)\n",
    "\n",
    "# Concat two dfs together\n",
    "col_index_counts = pd.concat([col_index, count_targets], axis=1)\n",
    "\n",
    "order = col_index_counts.sort_values(by='counts', ascending=False).index\n",
    "\n",
    "# Conver order to a list\n",
    "order = order.to_list()\n",
    "\n",
    "order[:5]"
   ]
  },
  {
   "cell_type": "markdown",
   "metadata": {},
   "source": [
    "### Baseline Model"
   ]
  },
  {
   "cell_type": "code",
   "execution_count": 18,
   "metadata": {},
   "outputs": [],
   "source": [
    "# Create estimator\n",
    "clf = MLPClassifier(random_state=123)"
   ]
  },
  {
   "cell_type": "code",
   "execution_count": 19,
   "metadata": {},
   "outputs": [],
   "source": [
    "# Create OneVsRest Ojbect\n",
    "ovr = OneVsRestClassifier(clf)"
   ]
  },
  {
   "cell_type": "code",
   "execution_count": 20,
   "metadata": {},
   "outputs": [
    {
     "data": {
      "text/plain": [
       "OneVsRestClassifier(estimator=MLPClassifier(random_state=123))"
      ]
     },
     "execution_count": 20,
     "metadata": {},
     "output_type": "execute_result"
    }
   ],
   "source": [
    "# Fit on Train\n",
    "ovr.fit(X_train_scaled, Y_train_scaled) # Took 2 hours and 10 mins"
   ]
  },
  {
   "cell_type": "code",
   "execution_count": 152,
   "metadata": {},
   "outputs": [
    {
     "name": "stdout",
     "output_type": "stream",
     "text": [
      "[MLPClassifier(random_state=123), MLPClassifier(random_state=123)]\n",
      "206\n",
      "True\n"
     ]
    }
   ],
   "source": [
    "# Print first 2 estimators in ovr\n",
    "print(ovr.estimators_[:2])\n",
    "\n",
    "# Print n_classes_\n",
    "print(ovr.n_classes_)\n",
    "\n",
    "# Print the type of classification\n",
    "print(ovr.multilabel_)"
   ]
  },
  {
   "cell_type": "code",
   "execution_count": 24,
   "metadata": {},
   "outputs": [],
   "source": [
    "# Predcit the labels of Y\n",
    "Y_pred_baseline = ovr.predict(X_train_scaled)\n",
    "\n",
    "# Predcit the probability of Y\n",
    "Y_proba_baseline = ovr.predict_proba(X_train_scaled)"
   ]
  },
  {
   "cell_type": "code",
   "execution_count": 92,
   "metadata": {},
   "outputs": [
    {
     "data": {
      "text/plain": [
       "0.5153105861767279"
      ]
     },
     "execution_count": 92,
     "metadata": {},
     "output_type": "execute_result"
    }
   ],
   "source": [
    "# ??? Return the mean accuracy on the given data and labels\n",
    "ovr.score(X_train_scaled, Y_train_scaled)"
   ]
  },
  {
   "cell_type": "code",
   "execution_count": 153,
   "metadata": {},
   "outputs": [
    {
     "name": "stdout",
     "output_type": "stream",
     "text": [
      "3531870\n"
     ]
    },
    {
     "data": {
      "text/plain": [
       "array([[0, 0, 0, ..., 0, 0, 0],\n",
       "       [0, 0, 0, ..., 0, 0, 0],\n",
       "       [0, 0, 0, ..., 0, 0, 0],\n",
       "       ...,\n",
       "       [0, 0, 0, ..., 0, 0, 0],\n",
       "       [0, 0, 0, ..., 0, 0, 0],\n",
       "       [0, 0, 0, ..., 0, 0, 0]])"
      ]
     },
     "execution_count": 153,
     "metadata": {},
     "output_type": "execute_result"
    }
   ],
   "source": [
    "# Take a look at Y_pred\n",
    "# Print the size of Y_pred\n",
    "\n",
    "print(Y_pred_baseline.size)\n",
    "Y_pred_baseline"
   ]
  },
  {
   "cell_type": "code",
   "execution_count": 154,
   "metadata": {},
   "outputs": [
    {
     "name": "stdout",
     "output_type": "stream",
     "text": [
      "3531870\n"
     ]
    },
    {
     "data": {
      "text/plain": [
       "array([[0, 0, 0, ..., 0, 0, 0],\n",
       "       [0, 0, 0, ..., 0, 0, 0],\n",
       "       [0, 0, 0, ..., 0, 0, 0],\n",
       "       ...,\n",
       "       [0, 0, 0, ..., 0, 0, 0],\n",
       "       [0, 0, 0, ..., 0, 0, 0],\n",
       "       [0, 0, 0, ..., 0, 0, 0]], dtype=int64)"
      ]
     },
     "execution_count": 154,
     "metadata": {},
     "output_type": "execute_result"
    }
   ],
   "source": [
    "# Take a look at Y_train\n",
    "# Print the size of Y_train\n",
    "\n",
    "print(Y_train_scaled.values.size)\n",
    "Y_train_scaled.values"
   ]
  },
  {
   "cell_type": "code",
   "execution_count": 155,
   "metadata": {},
   "outputs": [
    {
     "data": {
      "text/plain": [
       "0.13193600799900013"
      ]
     },
     "execution_count": 155,
     "metadata": {},
     "output_type": "execute_result"
    }
   ],
   "source": [
    "# Compute jaccard score\n",
    "baseline_jaccard_score = jaccard_score(Y_train_scaled, Y_pred_baseline, average='samples')\n",
    "\n",
    "# Print jaccard score\n",
    "baseline_jaccard_score"
   ]
  },
  {
   "cell_type": "code",
   "execution_count": 156,
   "metadata": {
    "scrolled": true
   },
   "outputs": [
    {
     "data": {
      "text/plain": [
       "2.409867604707532"
      ]
     },
     "execution_count": 156,
     "metadata": {},
     "output_type": "execute_result"
    }
   ],
   "source": [
    "# Compute log loss\n",
    "\n",
    "baseline_log_loss = log_loss(Y_train_scaled, Y_proba_baseline)\n",
    "baseline_log_loss"
   ]
  },
  {
   "cell_type": "code",
   "execution_count": 157,
   "metadata": {
    "scrolled": true
   },
   "outputs": [
    {
     "data": {
      "text/plain": [
       "array([[ True,  True,  True, ...,  True,  True,  True],\n",
       "       [ True,  True,  True, ...,  True,  True,  True],\n",
       "       [ True,  True,  True, ...,  True,  True,  True],\n",
       "       ...,\n",
       "       [ True,  True,  True, ...,  True,  True,  True],\n",
       "       [ True,  True,  True, ...,  True,  True,  True],\n",
       "       [ True,  True,  True, ...,  True,  True,  True]])"
      ]
     },
     "execution_count": 157,
     "metadata": {},
     "output_type": "execute_result"
    }
   ],
   "source": [
    "# Compare baseline prediction with Y_train\n",
    "Y_train_scaled.values == Y_pred_baseline"
   ]
  },
  {
   "cell_type": "code",
   "execution_count": 158,
   "metadata": {},
   "outputs": [
    {
     "data": {
      "text/plain": [
       "3522776"
      ]
     },
     "execution_count": 158,
     "metadata": {},
     "output_type": "execute_result"
    }
   ],
   "source": [
    "# How many labels are predicted right\n",
    "(Y_train_scaled.values == Y_pred_baseline).sum() # 3531870 - 3522776 = 9094"
   ]
  },
  {
   "cell_type": "code",
   "execution_count": 186,
   "metadata": {},
   "outputs": [
    {
     "name": "stdout",
     "output_type": "stream",
     "text": [
      "The total counts of targets: 12157\n"
     ]
    },
    {
     "data": {
      "text/plain": [
       "nfkb_inhibitor                  597\n",
       "proteasome_inhibitor            517\n",
       "cyclooxygenase_inhibitor        315\n",
       "dopamine_receptor_antagonist    302\n",
       "dna_inhibitor                   291\n",
       "dtype: int64"
      ]
     },
     "execution_count": 186,
     "metadata": {},
     "output_type": "execute_result"
    }
   ],
   "source": [
    "# Summarize Y_train\n",
    "\n",
    "print('The total counts of targets:', Y_train_scaled.sum(axis=0).sum())\n",
    "features_train = Y_train_scaled.sum(axis=0).sort_values(ascending=False)\n",
    "features_train.head()"
   ]
  },
  {
   "cell_type": "code",
   "execution_count": 187,
   "metadata": {
    "scrolled": false
   },
   "outputs": [
    {
     "name": "stdout",
     "output_type": "stream",
     "text": [
      "The total count of targets: 3407\n"
     ]
    },
    {
     "data": {
      "text/plain": [
       "nfkb_inhibitor          520\n",
       "proteasome_inhibitor    517\n",
       "tubulin_inhibitor       214\n",
       "cdk_inhibitor           203\n",
       "pdgfr_inhibitor         200\n",
       "dtype: int64"
      ]
     },
     "execution_count": 187,
     "metadata": {},
     "output_type": "execute_result"
    }
   ],
   "source": [
    "# Summarize Y_pred_baseline\n",
    "\n",
    "features_baseline = pd.DataFrame(Y_pred_baseline, \n",
    "                                 columns=Y_train_scaled.columns).sum(axis=0).sort_values(ascending=False)\n",
    "print('The total count of targets:', features_baseline.sum())\n",
    "features_baseline.head()"
   ]
  },
  {
   "cell_type": "markdown",
   "metadata": {},
   "source": [
    "### Classifier Chain\n",
    "### Model on Train"
   ]
  },
  {
   "cell_type": "code",
   "execution_count": 32,
   "metadata": {},
   "outputs": [],
   "source": [
    "# Create Classifier Chain object\n",
    "chain = ClassifierChain(clf, order=order, random_state=123)"
   ]
  },
  {
   "cell_type": "code",
   "execution_count": 33,
   "metadata": {},
   "outputs": [
    {
     "data": {
      "text/plain": [
       "ClassifierChain(base_estimator=MLPClassifier(random_state=123),\n",
       "                order=[136, 163, 71, 79, 177, 77, 99, 10, 63, 80, 199, 4, 149,\n",
       "                       109, 54, 89, 119, 9, 182, 96, 151, 105, 176, 169, 43, 3,\n",
       "                       202, 94, 83, 153, ...],\n",
       "                random_state=123)"
      ]
     },
     "execution_count": 33,
     "metadata": {},
     "output_type": "execute_result"
    }
   ],
   "source": [
    "# Fit on Train\n",
    "chain.fit(X_train_scaled, Y_train_scaled) # Took 3 hours 40 min"
   ]
  },
  {
   "cell_type": "code",
   "execution_count": 34,
   "metadata": {},
   "outputs": [
    {
     "data": {
      "text/plain": [
       "[136, 163, 71, 79, 177]"
      ]
     },
     "execution_count": 34,
     "metadata": {},
     "output_type": "execute_result"
    }
   ],
   "source": [
    "# Print the first 5 elements in the order\n",
    "chain.order_[:5]"
   ]
  },
  {
   "cell_type": "code",
   "execution_count": 36,
   "metadata": {},
   "outputs": [],
   "source": [
    "# Predcit the labels of Y\n",
    "Y_pred = chain.predict(X_train_scaled)\n",
    "\n",
    "# Predcit the probability of Y\n",
    "Y_proba = chain.predict_proba(X_train_scaled) # About 5 mins"
   ]
  },
  {
   "cell_type": "code",
   "execution_count": 88,
   "metadata": {},
   "outputs": [
    {
     "data": {
      "text/plain": [
       "0.5192767570720327"
      ]
     },
     "execution_count": 88,
     "metadata": {},
     "output_type": "execute_result"
    }
   ],
   "source": [
    "# Calculate score\n",
    "chain.score(X_train_scaled, Y_train_scaled)"
   ]
  },
  {
   "cell_type": "code",
   "execution_count": 86,
   "metadata": {},
   "outputs": [
    {
     "name": "stdout",
     "output_type": "stream",
     "text": [
      "3531870\n"
     ]
    },
    {
     "data": {
      "text/plain": [
       "array([[0., 0., 0., ..., 0., 0., 0.],\n",
       "       [0., 0., 0., ..., 0., 0., 0.],\n",
       "       [0., 0., 0., ..., 0., 0., 0.],\n",
       "       ...,\n",
       "       [0., 0., 0., ..., 0., 0., 0.],\n",
       "       [0., 0., 0., ..., 0., 0., 0.],\n",
       "       [0., 0., 0., ..., 0., 0., 0.]])"
      ]
     },
     "execution_count": 86,
     "metadata": {},
     "output_type": "execute_result"
    }
   ],
   "source": [
    "# Take a look at Y_pred\n",
    "# Print the size of Y_pred\n",
    "\n",
    "print(Y_pred.size)\n",
    "Y_pred"
   ]
  },
  {
   "cell_type": "code",
   "execution_count": 80,
   "metadata": {},
   "outputs": [
    {
     "name": "stdout",
     "output_type": "stream",
     "text": [
      "3531870\n"
     ]
    },
    {
     "data": {
      "text/plain": [
       "array([[0, 0, 0, ..., 0, 0, 0],\n",
       "       [0, 0, 0, ..., 0, 0, 0],\n",
       "       [0, 0, 0, ..., 0, 0, 0],\n",
       "       ...,\n",
       "       [0, 0, 0, ..., 0, 0, 0],\n",
       "       [0, 0, 0, ..., 0, 0, 0],\n",
       "       [0, 0, 0, ..., 0, 0, 0]], dtype=int64)"
      ]
     },
     "execution_count": 80,
     "metadata": {},
     "output_type": "execute_result"
    }
   ],
   "source": [
    "# Take a look at Y_train\n",
    "# Print the size of Y_train\n",
    "\n",
    "print(Y_train_scaled.values.size)\n",
    "Y_train_scaled.values"
   ]
  },
  {
   "cell_type": "code",
   "execution_count": 87,
   "metadata": {},
   "outputs": [
    {
     "data": {
      "text/plain": [
       "0.13342984904664695"
      ]
     },
     "execution_count": 87,
     "metadata": {},
     "output_type": "execute_result"
    }
   ],
   "source": [
    "# Compute jaccard score\n",
    "jaccard_score = jaccard_score(Y_train_scaled, Y_pred, average='samples')\n",
    "jaccard_score"
   ]
  },
  {
   "cell_type": "code",
   "execution_count": 40,
   "metadata": {
    "scrolled": true
   },
   "outputs": [
    {
     "data": {
      "text/plain": [
       "2.324064384932827"
      ]
     },
     "execution_count": 40,
     "metadata": {},
     "output_type": "execute_result"
    }
   ],
   "source": [
    "# Compute log loss\n",
    "log_loss = log_loss(Y_train_scaled, Y_proba)\n",
    "log_loss"
   ]
  },
  {
   "cell_type": "code",
   "execution_count": 101,
   "metadata": {},
   "outputs": [
    {
     "data": {
      "text/plain": [
       "array([[ True,  True,  True, ...,  True,  True,  True],\n",
       "       [ True,  True,  True, ...,  True,  True,  True],\n",
       "       [ True,  True,  True, ...,  True,  True,  True],\n",
       "       ...,\n",
       "       [ True,  True,  True, ...,  True,  True,  True],\n",
       "       [ True,  True,  True, ...,  True,  True,  True],\n",
       "       [ True,  True,  True, ...,  True,  True,  True]])"
      ]
     },
     "execution_count": 101,
     "metadata": {},
     "output_type": "execute_result"
    }
   ],
   "source": [
    "# Compare predicted Y_train ith Y_train\n",
    "(Y_train_scaled.values == Y_pred)"
   ]
  },
  {
   "cell_type": "code",
   "execution_count": 102,
   "metadata": {},
   "outputs": [
    {
     "data": {
      "text/plain": [
       "3522689"
      ]
     },
     "execution_count": 102,
     "metadata": {},
     "output_type": "execute_result"
    }
   ],
   "source": [
    "# How many labels the model predicing right\n",
    "(Y_train_scaled.values == Y_pred).sum()"
   ]
  },
  {
   "cell_type": "code",
   "execution_count": 188,
   "metadata": {
    "scrolled": false
   },
   "outputs": [
    {
     "name": "stdout",
     "output_type": "stream",
     "text": [
      "The total count of targets in Y_train: 12157\n"
     ]
    },
    {
     "data": {
      "text/plain": [
       "nfkb_inhibitor                  597\n",
       "proteasome_inhibitor            517\n",
       "cyclooxygenase_inhibitor        315\n",
       "dopamine_receptor_antagonist    302\n",
       "dna_inhibitor                   291\n",
       "dtype: int64"
      ]
     },
     "execution_count": 188,
     "metadata": {},
     "output_type": "execute_result"
    }
   ],
   "source": [
    "# Summarize Y_train\n",
    "\n",
    "print('The total count of targets in Y_train:', Y_train_scaled.sum(axis=0).sum())\n",
    "features_train.head()"
   ]
  },
  {
   "cell_type": "code",
   "execution_count": 189,
   "metadata": {
    "scrolled": false
   },
   "outputs": [
    {
     "name": "stdout",
     "output_type": "stream",
     "text": [
      "The total count of targets: 3342.0\n"
     ]
    },
    {
     "data": {
      "text/plain": [
       "nfkb_inhibitor          520.0\n",
       "proteasome_inhibitor    517.0\n",
       "cdk_inhibitor           211.0\n",
       "raf_inhibitor           200.0\n",
       "tubulin_inhibitor       193.0\n",
       "dtype: float64"
      ]
     },
     "execution_count": 189,
     "metadata": {},
     "output_type": "execute_result"
    }
   ],
   "source": [
    "# Summarize Y_pred\n",
    "\n",
    "features_chain = pd.DataFrame(Y_pred, columns=Y_train_scaled.columns).sum(axis=0).sort_values(ascending=False)\n",
    "print('The total count of targets:', features_chain.sum())\n",
    "features_chain.head()"
   ]
  },
  {
   "cell_type": "code",
   "execution_count": 190,
   "metadata": {},
   "outputs": [
    {
     "data": {
      "text/html": [
       "<div>\n",
       "<style scoped>\n",
       "    .dataframe tbody tr th:only-of-type {\n",
       "        vertical-align: middle;\n",
       "    }\n",
       "\n",
       "    .dataframe tbody tr th {\n",
       "        vertical-align: top;\n",
       "    }\n",
       "\n",
       "    .dataframe thead th {\n",
       "        text-align: right;\n",
       "    }\n",
       "</style>\n",
       "<table border=\"1\" class=\"dataframe\">\n",
       "  <thead>\n",
       "    <tr style=\"text-align: right;\">\n",
       "      <th></th>\n",
       "      <th>0</th>\n",
       "      <th>1</th>\n",
       "      <th>2</th>\n",
       "    </tr>\n",
       "  </thead>\n",
       "  <tbody>\n",
       "    <tr>\n",
       "      <th>nfkb_inhibitor</th>\n",
       "      <td>597</td>\n",
       "      <td>520</td>\n",
       "      <td>520.0</td>\n",
       "    </tr>\n",
       "    <tr>\n",
       "      <th>proteasome_inhibitor</th>\n",
       "      <td>517</td>\n",
       "      <td>517</td>\n",
       "      <td>517.0</td>\n",
       "    </tr>\n",
       "    <tr>\n",
       "      <th>cyclooxygenase_inhibitor</th>\n",
       "      <td>315</td>\n",
       "      <td>0</td>\n",
       "      <td>0.0</td>\n",
       "    </tr>\n",
       "    <tr>\n",
       "      <th>dopamine_receptor_antagonist</th>\n",
       "      <td>302</td>\n",
       "      <td>0</td>\n",
       "      <td>0.0</td>\n",
       "    </tr>\n",
       "    <tr>\n",
       "      <th>dna_inhibitor</th>\n",
       "      <td>291</td>\n",
       "      <td>8</td>\n",
       "      <td>16.0</td>\n",
       "    </tr>\n",
       "  </tbody>\n",
       "</table>\n",
       "</div>"
      ],
      "text/plain": [
       "                                0    1      2\n",
       "nfkb_inhibitor                597  520  520.0\n",
       "proteasome_inhibitor          517  517  517.0\n",
       "cyclooxygenase_inhibitor      315    0    0.0\n",
       "dopamine_receptor_antagonist  302    0    0.0\n",
       "dna_inhibitor                 291    8   16.0"
      ]
     },
     "execution_count": 190,
     "metadata": {},
     "output_type": "execute_result"
    }
   ],
   "source": [
    "# Concat features_train, features_baseline and features_chain\n",
    "\n",
    "features_sum = pd.concat([features_train, features_baseline, features_chain], axis=1)\n",
    "features_sum.head()"
   ]
  },
  {
   "cell_type": "markdown",
   "metadata": {},
   "source": [
    "### Model on Validate"
   ]
  },
  {
   "cell_type": "code",
   "execution_count": 41,
   "metadata": {},
   "outputs": [],
   "source": [
    "# Predict the labels of Y_validate\n",
    "Y_pred_v = chain.predict(X_validate_scaled)\n",
    "\n",
    "# Predcit the probability of Y\n",
    "Y_proba_v = chain.predict_proba(X_validate_scaled) # About 5 mins"
   ]
  },
  {
   "cell_type": "code",
   "execution_count": 90,
   "metadata": {},
   "outputs": [
    {
     "data": {
      "text/plain": [
       "0.4996501049685094"
      ]
     },
     "execution_count": 90,
     "metadata": {},
     "output_type": "execute_result"
    }
   ],
   "source": [
    "# Calculate score\n",
    "chain.score(X_validate_scaled, Y_validate_scaled)"
   ]
  },
  {
   "cell_type": "code",
   "execution_count": 78,
   "metadata": {},
   "outputs": [
    {
     "name": "stdout",
     "output_type": "stream",
     "text": [
      "883122\n"
     ]
    },
    {
     "data": {
      "text/plain": [
       "array([[0., 0., 0., ..., 0., 0., 0.],\n",
       "       [0., 0., 0., ..., 0., 0., 0.],\n",
       "       [0., 0., 0., ..., 0., 0., 0.],\n",
       "       ...,\n",
       "       [0., 0., 0., ..., 0., 0., 0.],\n",
       "       [0., 0., 0., ..., 0., 0., 0.],\n",
       "       [0., 0., 0., ..., 0., 0., 0.]])"
      ]
     },
     "execution_count": 78,
     "metadata": {},
     "output_type": "execute_result"
    }
   ],
   "source": [
    "# Take a look at Y_pred_v\n",
    "# Print the size of Y_pred_v\n",
    "\n",
    "print(Y_pred_v.size)\n",
    "Y_pred_v"
   ]
  },
  {
   "cell_type": "code",
   "execution_count": 76,
   "metadata": {},
   "outputs": [
    {
     "name": "stdout",
     "output_type": "stream",
     "text": [
      "883122\n"
     ]
    },
    {
     "data": {
      "text/plain": [
       "array([[0, 0, 0, ..., 0, 0, 0],\n",
       "       [0, 0, 0, ..., 0, 0, 0],\n",
       "       [0, 0, 0, ..., 0, 0, 0],\n",
       "       ...,\n",
       "       [0, 0, 0, ..., 0, 0, 0],\n",
       "       [0, 0, 0, ..., 0, 0, 0],\n",
       "       [0, 0, 0, ..., 0, 0, 0]], dtype=int64)"
      ]
     },
     "execution_count": 76,
     "metadata": {},
     "output_type": "execute_result"
    }
   ],
   "source": [
    "# Take a look at Y_validate\n",
    "# Print the size of Y_validate\n",
    "\n",
    "print(Y_validate_scaled.values.size)\n",
    "Y_validate_scaled.values"
   ]
  },
  {
   "cell_type": "code",
   "execution_count": 63,
   "metadata": {},
   "outputs": [
    {
     "data": {
      "text/plain": [
       "0.11785853132949003"
      ]
     },
     "execution_count": 63,
     "metadata": {},
     "output_type": "execute_result"
    }
   ],
   "source": [
    "# Compute jaccard score for validate\n",
    "\n",
    "jaccard_score_v = jaccard_score(Y_validate_scaled, Y_pred_v, average='samples')\n",
    "jaccard_score_v"
   ]
  },
  {
   "cell_type": "code",
   "execution_count": 64,
   "metadata": {},
   "outputs": [
    {
     "data": {
      "text/plain": [
       "2.7553418258852296"
      ]
     },
     "execution_count": 64,
     "metadata": {},
     "output_type": "execute_result"
    }
   ],
   "source": [
    "# Compute log loss for validate\n",
    "\n",
    "log_loss_v = log_loss(Y_validate_scaled, Y_proba_v)\n",
    "log_loss_v"
   ]
  },
  {
   "cell_type": "code",
   "execution_count": 99,
   "metadata": {},
   "outputs": [
    {
     "data": {
      "text/plain": [
       "array([[ True,  True,  True, ...,  True,  True,  True],\n",
       "       [ True,  True,  True, ...,  True,  True,  True],\n",
       "       [ True,  True,  True, ...,  True,  True,  True],\n",
       "       ...,\n",
       "       [ True,  True,  True, ...,  True,  True,  True],\n",
       "       [ True,  True,  True, ...,  True,  True,  True],\n",
       "       [ True,  True,  True, ...,  True,  True,  True]])"
      ]
     },
     "execution_count": 99,
     "metadata": {},
     "output_type": "execute_result"
    }
   ],
   "source": [
    "# Compare Y_validate and Y_pred_v\n",
    "(Y_validate_scaled.values == Y_pred_v)"
   ]
  },
  {
   "cell_type": "code",
   "execution_count": 100,
   "metadata": {
    "scrolled": true
   },
   "outputs": [
    {
     "data": {
      "text/plain": [
       "880686"
      ]
     },
     "execution_count": 100,
     "metadata": {},
     "output_type": "execute_result"
    }
   ],
   "source": [
    "# How many labels are predicted right\n",
    "(Y_validate_scaled.values == Y_pred_v).sum()"
   ]
  },
  {
   "cell_type": "code",
   "execution_count": 191,
   "metadata": {},
   "outputs": [
    {
     "name": "stdout",
     "output_type": "stream",
     "text": [
      "The total count of targets in Y_validate: 3049\n"
     ]
    },
    {
     "data": {
      "text/plain": [
       "nfkb_inhibitor                   153\n",
       "proteasome_inhibitor             137\n",
       "serotonin_receptor_antagonist     85\n",
       "cyclooxygenase_inhibitor          83\n",
       "dopamine_receptor_antagonist      82\n",
       "dtype: int64"
      ]
     },
     "execution_count": 191,
     "metadata": {},
     "output_type": "execute_result"
    }
   ],
   "source": [
    "# Summarize Y_validate\n",
    "\n",
    "features_validate = Y_validate_scaled.sum(axis=0).sort_values(ascending=False)\n",
    "print('The total count of targets in Y_validate:', features_validate.sum())\n",
    "features_validate.head()"
   ]
  },
  {
   "cell_type": "code",
   "execution_count": 192,
   "metadata": {},
   "outputs": [
    {
     "name": "stdout",
     "output_type": "stream",
     "text": [
      "The total count of targets: 805.0\n"
     ]
    },
    {
     "data": {
      "text/plain": [
       "nfkb_inhibitor                     140.0\n",
       "proteasome_inhibitor               139.0\n",
       "glucocorticoid_receptor_agonist     54.0\n",
       "cdk_inhibitor                       52.0\n",
       "egfr_inhibitor                      47.0\n",
       "dtype: float64"
      ]
     },
     "execution_count": 192,
     "metadata": {},
     "output_type": "execute_result"
    }
   ],
   "source": [
    "# Summarize Y_pred_v\n",
    "\n",
    "features_chain_v = pd.DataFrame(Y_pred_v, columns=Y_validate_scaled.columns).sum(axis=0).sort_values(ascending=False)\n",
    "print('The total count of targets:', features_chain_v.sum())\n",
    "features_chain_v.head()"
   ]
  },
  {
   "cell_type": "code",
   "execution_count": 193,
   "metadata": {},
   "outputs": [
    {
     "data": {
      "text/html": [
       "<div>\n",
       "<style scoped>\n",
       "    .dataframe tbody tr th:only-of-type {\n",
       "        vertical-align: middle;\n",
       "    }\n",
       "\n",
       "    .dataframe tbody tr th {\n",
       "        vertical-align: top;\n",
       "    }\n",
       "\n",
       "    .dataframe thead th {\n",
       "        text-align: right;\n",
       "    }\n",
       "</style>\n",
       "<table border=\"1\" class=\"dataframe\">\n",
       "  <thead>\n",
       "    <tr style=\"text-align: right;\">\n",
       "      <th></th>\n",
       "      <th>0</th>\n",
       "      <th>1</th>\n",
       "      <th>2</th>\n",
       "      <th>0</th>\n",
       "      <th>1</th>\n",
       "    </tr>\n",
       "  </thead>\n",
       "  <tbody>\n",
       "    <tr>\n",
       "      <th>nfkb_inhibitor</th>\n",
       "      <td>597</td>\n",
       "      <td>520</td>\n",
       "      <td>520.0</td>\n",
       "      <td>153</td>\n",
       "      <td>140.0</td>\n",
       "    </tr>\n",
       "    <tr>\n",
       "      <th>proteasome_inhibitor</th>\n",
       "      <td>517</td>\n",
       "      <td>517</td>\n",
       "      <td>517.0</td>\n",
       "      <td>137</td>\n",
       "      <td>139.0</td>\n",
       "    </tr>\n",
       "    <tr>\n",
       "      <th>cyclooxygenase_inhibitor</th>\n",
       "      <td>315</td>\n",
       "      <td>0</td>\n",
       "      <td>0.0</td>\n",
       "      <td>83</td>\n",
       "      <td>0.0</td>\n",
       "    </tr>\n",
       "    <tr>\n",
       "      <th>dopamine_receptor_antagonist</th>\n",
       "      <td>302</td>\n",
       "      <td>0</td>\n",
       "      <td>0.0</td>\n",
       "      <td>82</td>\n",
       "      <td>0.0</td>\n",
       "    </tr>\n",
       "    <tr>\n",
       "      <th>dna_inhibitor</th>\n",
       "      <td>291</td>\n",
       "      <td>8</td>\n",
       "      <td>16.0</td>\n",
       "      <td>75</td>\n",
       "      <td>4.0</td>\n",
       "    </tr>\n",
       "  </tbody>\n",
       "</table>\n",
       "</div>"
      ],
      "text/plain": [
       "                                0    1      2    0      1\n",
       "nfkb_inhibitor                597  520  520.0  153  140.0\n",
       "proteasome_inhibitor          517  517  517.0  137  139.0\n",
       "cyclooxygenase_inhibitor      315    0    0.0   83    0.0\n",
       "dopamine_receptor_antagonist  302    0    0.0   82    0.0\n",
       "dna_inhibitor                 291    8   16.0   75    4.0"
      ]
     },
     "execution_count": 193,
     "metadata": {},
     "output_type": "execute_result"
    }
   ],
   "source": [
    "# Add features_validate and features_chain_v to feature_sum\n",
    "\n",
    "features_sum = pd.concat([features_sum, features_validate, features_chain_v], axis=1)\n",
    "features_sum.head()"
   ]
  },
  {
   "cell_type": "markdown",
   "metadata": {},
   "source": [
    "### Model on Test"
   ]
  },
  {
   "cell_type": "code",
   "execution_count": 58,
   "metadata": {},
   "outputs": [],
   "source": [
    "# Predict the labels of Y_test\n",
    "Y_pred_t = chain.predict(X_test_scaled)\n",
    "\n",
    "# Predcit the probability of Y_test\n",
    "Y_proba_t = chain.predict_proba(X_test_scaled) # About 5 mins"
   ]
  },
  {
   "cell_type": "code",
   "execution_count": 105,
   "metadata": {},
   "outputs": [
    {
     "data": {
      "text/plain": [
       "0.5037783375314862"
      ]
     },
     "execution_count": 105,
     "metadata": {},
     "output_type": "execute_result"
    }
   ],
   "source": [
    "# Calculate score\n",
    "chain.score(X_test_scaled, Y_test_scaled)"
   ]
  },
  {
   "cell_type": "code",
   "execution_count": 179,
   "metadata": {},
   "outputs": [
    {
     "name": "stdout",
     "output_type": "stream",
     "text": [
      "490692\n"
     ]
    },
    {
     "data": {
      "text/plain": [
       "array([[0., 0., 0., ..., 0., 0., 0.],\n",
       "       [0., 0., 0., ..., 0., 0., 0.],\n",
       "       [0., 0., 0., ..., 0., 0., 0.],\n",
       "       ...,\n",
       "       [0., 0., 0., ..., 0., 0., 0.],\n",
       "       [0., 0., 0., ..., 0., 0., 0.],\n",
       "       [0., 0., 0., ..., 0., 0., 0.]])"
      ]
     },
     "execution_count": 179,
     "metadata": {},
     "output_type": "execute_result"
    }
   ],
   "source": [
    "# Take a look at Y_pred_t\n",
    "\n",
    "print(Y_pred_t.size)\n",
    "Y_pred_t"
   ]
  },
  {
   "cell_type": "code",
   "execution_count": 73,
   "metadata": {},
   "outputs": [
    {
     "name": "stdout",
     "output_type": "stream",
     "text": [
      "490692\n"
     ]
    },
    {
     "data": {
      "text/plain": [
       "array([[0, 0, 0, ..., 0, 0, 0],\n",
       "       [0, 0, 0, ..., 0, 0, 0],\n",
       "       [0, 0, 0, ..., 0, 0, 0],\n",
       "       ...,\n",
       "       [0, 0, 0, ..., 0, 0, 0],\n",
       "       [0, 0, 0, ..., 0, 0, 0],\n",
       "       [0, 0, 0, ..., 0, 0, 0]], dtype=int64)"
      ]
     },
     "execution_count": 73,
     "metadata": {},
     "output_type": "execute_result"
    }
   ],
   "source": [
    "# Take a look at Y_test\n",
    "# Print the size of Y_test\n",
    "\n",
    "print(Y_test_scaled.values.size)\n",
    "Y_test_scaled.values"
   ]
  },
  {
   "cell_type": "code",
   "execution_count": 61,
   "metadata": {},
   "outputs": [
    {
     "data": {
      "text/plain": [
       "0.10612930310663309"
      ]
     },
     "execution_count": 61,
     "metadata": {},
     "output_type": "execute_result"
    }
   ],
   "source": [
    "# Compute jaccard score for test\n",
    "\n",
    "jaccard_score_t = jaccard_score(Y_test_scaled, Y_pred_t, average='samples')\n",
    "jaccard_score_t"
   ]
  },
  {
   "cell_type": "code",
   "execution_count": 62,
   "metadata": {},
   "outputs": [
    {
     "data": {
      "text/plain": [
       "2.6754036024829264"
      ]
     },
     "execution_count": 62,
     "metadata": {},
     "output_type": "execute_result"
    }
   ],
   "source": [
    "# Compute log loss for test\n",
    "\n",
    "log_loss_t = log_loss(Y_test_scaled, Y_proba_t)\n",
    "log_loss_t"
   ]
  },
  {
   "cell_type": "code",
   "execution_count": 103,
   "metadata": {},
   "outputs": [
    {
     "data": {
      "text/plain": [
       "array([[ True,  True,  True, ...,  True,  True,  True],\n",
       "       [ True,  True,  True, ...,  True,  True,  True],\n",
       "       [ True,  True,  True, ...,  True,  True,  True],\n",
       "       ...,\n",
       "       [ True,  True,  True, ...,  True,  True,  True],\n",
       "       [ True,  True,  True, ...,  True,  True,  True],\n",
       "       [ True,  True,  True, ...,  True,  True,  True]])"
      ]
     },
     "execution_count": 103,
     "metadata": {},
     "output_type": "execute_result"
    }
   ],
   "source": [
    "# Compare predicted test and Y_test\n",
    "(Y_test_scaled.values == Y_pred_t)"
   ]
  },
  {
   "cell_type": "code",
   "execution_count": 104,
   "metadata": {},
   "outputs": [
    {
     "data": {
      "text/plain": [
       "489367"
      ]
     },
     "execution_count": 104,
     "metadata": {},
     "output_type": "execute_result"
    }
   ],
   "source": [
    "# How many labels are predicted right\n",
    "(Y_test_scaled.values == Y_pred_t).sum()"
   ]
  },
  {
   "cell_type": "code",
   "execution_count": 182,
   "metadata": {},
   "outputs": [
    {
     "name": "stdout",
     "output_type": "stream",
     "text": [
      "The total count of targets in Y_test: 1638\n"
     ]
    },
    {
     "data": {
      "text/plain": [
       "nfkb_inhibitor                    82\n",
       "proteasome_inhibitor              72\n",
       "dopamine_receptor_antagonist      40\n",
       "adrenergic_receptor_antagonist    40\n",
       "serotonin_receptor_antagonist     39\n",
       "dtype: int64"
      ]
     },
     "execution_count": 182,
     "metadata": {},
     "output_type": "execute_result"
    }
   ],
   "source": [
    "# Summarize Y_test\n",
    "\n",
    "features_test = Y_test_scaled.sum(axis=0).sort_values(ascending=False)\n",
    "print('The total count of targets in Y_test:', features_test.sum())\n",
    "features_test.head()"
   ]
  },
  {
   "cell_type": "code",
   "execution_count": 181,
   "metadata": {},
   "outputs": [
    {
     "name": "stdout",
     "output_type": "stream",
     "text": [
      "The total count of predicted targets: 393.0\n"
     ]
    },
    {
     "data": {
      "text/plain": [
       "proteasome_inhibitor    73.0\n",
       "nfkb_inhibitor          73.0\n",
       "hmgcr_inhibitor         30.0\n",
       "raf_inhibitor           30.0\n",
       "egfr_inhibitor          22.0\n",
       "dtype: float64"
      ]
     },
     "execution_count": 181,
     "metadata": {},
     "output_type": "execute_result"
    }
   ],
   "source": [
    "# Summarize Y_pred_t\n",
    "\n",
    "features_chain_t = pd.DataFrame(Y_pred_t, columns=Y_test_scaled.columns).sum(axis=0).sort_values(ascending=False)\n",
    "print('The total count of predicted targets:', features_chain_t.sum())\n",
    "features_chain_t.head()"
   ]
  },
  {
   "cell_type": "code",
   "execution_count": 194,
   "metadata": {},
   "outputs": [
    {
     "data": {
      "text/html": [
       "<div>\n",
       "<style scoped>\n",
       "    .dataframe tbody tr th:only-of-type {\n",
       "        vertical-align: middle;\n",
       "    }\n",
       "\n",
       "    .dataframe tbody tr th {\n",
       "        vertical-align: top;\n",
       "    }\n",
       "\n",
       "    .dataframe thead th {\n",
       "        text-align: right;\n",
       "    }\n",
       "</style>\n",
       "<table border=\"1\" class=\"dataframe\">\n",
       "  <thead>\n",
       "    <tr style=\"text-align: right;\">\n",
       "      <th></th>\n",
       "      <th>0</th>\n",
       "      <th>1</th>\n",
       "      <th>2</th>\n",
       "      <th>0</th>\n",
       "      <th>1</th>\n",
       "      <th>0</th>\n",
       "      <th>1</th>\n",
       "    </tr>\n",
       "  </thead>\n",
       "  <tbody>\n",
       "    <tr>\n",
       "      <th>nfkb_inhibitor</th>\n",
       "      <td>597</td>\n",
       "      <td>520</td>\n",
       "      <td>520.0</td>\n",
       "      <td>153</td>\n",
       "      <td>140.0</td>\n",
       "      <td>82</td>\n",
       "      <td>73.0</td>\n",
       "    </tr>\n",
       "    <tr>\n",
       "      <th>proteasome_inhibitor</th>\n",
       "      <td>517</td>\n",
       "      <td>517</td>\n",
       "      <td>517.0</td>\n",
       "      <td>137</td>\n",
       "      <td>139.0</td>\n",
       "      <td>72</td>\n",
       "      <td>73.0</td>\n",
       "    </tr>\n",
       "    <tr>\n",
       "      <th>cyclooxygenase_inhibitor</th>\n",
       "      <td>315</td>\n",
       "      <td>0</td>\n",
       "      <td>0.0</td>\n",
       "      <td>83</td>\n",
       "      <td>0.0</td>\n",
       "      <td>37</td>\n",
       "      <td>0.0</td>\n",
       "    </tr>\n",
       "    <tr>\n",
       "      <th>dopamine_receptor_antagonist</th>\n",
       "      <td>302</td>\n",
       "      <td>0</td>\n",
       "      <td>0.0</td>\n",
       "      <td>82</td>\n",
       "      <td>0.0</td>\n",
       "      <td>40</td>\n",
       "      <td>0.0</td>\n",
       "    </tr>\n",
       "    <tr>\n",
       "      <th>dna_inhibitor</th>\n",
       "      <td>291</td>\n",
       "      <td>8</td>\n",
       "      <td>16.0</td>\n",
       "      <td>75</td>\n",
       "      <td>4.0</td>\n",
       "      <td>36</td>\n",
       "      <td>1.0</td>\n",
       "    </tr>\n",
       "  </tbody>\n",
       "</table>\n",
       "</div>"
      ],
      "text/plain": [
       "                                0    1      2    0      1   0     1\n",
       "nfkb_inhibitor                597  520  520.0  153  140.0  82  73.0\n",
       "proteasome_inhibitor          517  517  517.0  137  139.0  72  73.0\n",
       "cyclooxygenase_inhibitor      315    0    0.0   83    0.0  37   0.0\n",
       "dopamine_receptor_antagonist  302    0    0.0   82    0.0  40   0.0\n",
       "dna_inhibitor                 291    8   16.0   75    4.0  36   1.0"
      ]
     },
     "execution_count": 194,
     "metadata": {},
     "output_type": "execute_result"
    }
   ],
   "source": [
    "# Add features_test and _chain_t to features_sum\n",
    "\n",
    "features_sum = pd.concat([features_sum, features_test, features_chain_t], axis=1)\n",
    "features_sum.head()"
   ]
  },
  {
   "cell_type": "code",
   "execution_count": 196,
   "metadata": {},
   "outputs": [
    {
     "data": {
      "text/html": [
       "<div>\n",
       "<style scoped>\n",
       "    .dataframe tbody tr th:only-of-type {\n",
       "        vertical-align: middle;\n",
       "    }\n",
       "\n",
       "    .dataframe tbody tr th {\n",
       "        vertical-align: top;\n",
       "    }\n",
       "\n",
       "    .dataframe thead th {\n",
       "        text-align: right;\n",
       "    }\n",
       "</style>\n",
       "<table border=\"1\" class=\"dataframe\">\n",
       "  <thead>\n",
       "    <tr style=\"text-align: right;\">\n",
       "      <th></th>\n",
       "      <th>test</th>\n",
       "      <th>chain_t</th>\n",
       "      <th>chain_t</th>\n",
       "      <th>test</th>\n",
       "      <th>chain_t</th>\n",
       "      <th>test</th>\n",
       "      <th>chain_t</th>\n",
       "    </tr>\n",
       "  </thead>\n",
       "  <tbody>\n",
       "    <tr>\n",
       "      <th>nfkb_inhibitor</th>\n",
       "      <td>597</td>\n",
       "      <td>520</td>\n",
       "      <td>520.0</td>\n",
       "      <td>153</td>\n",
       "      <td>140.0</td>\n",
       "      <td>82</td>\n",
       "      <td>73.0</td>\n",
       "    </tr>\n",
       "    <tr>\n",
       "      <th>proteasome_inhibitor</th>\n",
       "      <td>517</td>\n",
       "      <td>517</td>\n",
       "      <td>517.0</td>\n",
       "      <td>137</td>\n",
       "      <td>139.0</td>\n",
       "      <td>72</td>\n",
       "      <td>73.0</td>\n",
       "    </tr>\n",
       "    <tr>\n",
       "      <th>cyclooxygenase_inhibitor</th>\n",
       "      <td>315</td>\n",
       "      <td>0</td>\n",
       "      <td>0.0</td>\n",
       "      <td>83</td>\n",
       "      <td>0.0</td>\n",
       "      <td>37</td>\n",
       "      <td>0.0</td>\n",
       "    </tr>\n",
       "    <tr>\n",
       "      <th>dopamine_receptor_antagonist</th>\n",
       "      <td>302</td>\n",
       "      <td>0</td>\n",
       "      <td>0.0</td>\n",
       "      <td>82</td>\n",
       "      <td>0.0</td>\n",
       "      <td>40</td>\n",
       "      <td>0.0</td>\n",
       "    </tr>\n",
       "    <tr>\n",
       "      <th>dna_inhibitor</th>\n",
       "      <td>291</td>\n",
       "      <td>8</td>\n",
       "      <td>16.0</td>\n",
       "      <td>75</td>\n",
       "      <td>4.0</td>\n",
       "      <td>36</td>\n",
       "      <td>1.0</td>\n",
       "    </tr>\n",
       "  </tbody>\n",
       "</table>\n",
       "</div>"
      ],
      "text/plain": [
       "                              test  chain_t  chain_t  test  chain_t  test  \\\n",
       "nfkb_inhibitor                 597      520    520.0   153    140.0    82   \n",
       "proteasome_inhibitor           517      517    517.0   137    139.0    72   \n",
       "cyclooxygenase_inhibitor       315        0      0.0    83      0.0    37   \n",
       "dopamine_receptor_antagonist   302        0      0.0    82      0.0    40   \n",
       "dna_inhibitor                  291        8     16.0    75      4.0    36   \n",
       "\n",
       "                              chain_t  \n",
       "nfkb_inhibitor                   73.0  \n",
       "proteasome_inhibitor             73.0  \n",
       "cyclooxygenase_inhibitor          0.0  \n",
       "dopamine_receptor_antagonist      0.0  \n",
       "dna_inhibitor                     1.0  "
      ]
     },
     "execution_count": 196,
     "metadata": {},
     "output_type": "execute_result"
    }
   ],
   "source": [
    "# Rename features_sum()\n",
    "\n",
    "features_sum.rename(columns={0: 'train', 1: 'baseline', 2: 'chain_t',\n",
    "                             0: 'validate', 1: 'chain_v',\n",
    "                             0: 'test', 1: 'chain_t'}, inplace=True)\n",
    "features_sum.head()"
   ]
  },
  {
   "cell_type": "code",
   "execution_count": 199,
   "metadata": {},
   "outputs": [],
   "source": [
    "# # Conver to csv\n",
    "# features_sum.to_csv('error_analysis_v1.csv')"
   ]
  }
 ],
 "metadata": {
  "kernelspec": {
   "display_name": "Python 3",
   "language": "python",
   "name": "python3"
  },
  "language_info": {
   "codemirror_mode": {
    "name": "ipython",
    "version": 3
   },
   "file_extension": ".py",
   "mimetype": "text/x-python",
   "name": "python",
   "nbconvert_exporter": "python",
   "pygments_lexer": "ipython3",
   "version": "3.7.6"
  }
 },
 "nbformat": 4,
 "nbformat_minor": 4
}
